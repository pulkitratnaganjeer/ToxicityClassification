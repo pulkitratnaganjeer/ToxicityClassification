{
 "cells": [
  {
   "cell_type": "markdown",
   "id": "50ac6850",
   "metadata": {},
   "source": [
    "# 1. Import Libraries\n",
    "\n",
    "* Import the required libraries."
   ]
  },
  {
   "cell_type": "code",
   "execution_count": 1,
   "id": "ce0aaaf8",
   "metadata": {},
   "outputs": [],
   "source": [
    "#pip install Unidecode"
   ]
  },
  {
   "cell_type": "code",
   "execution_count": 2,
   "id": "4e5d0f14",
   "metadata": {},
   "outputs": [],
   "source": [
    "#pip install --user -U nltk"
   ]
  },
  {
   "cell_type": "code",
   "execution_count": 3,
   "id": "dc0892c1",
   "metadata": {},
   "outputs": [],
   "source": [
    "#pip install beautifulsoup4"
   ]
  },
  {
   "cell_type": "code",
   "execution_count": 4,
   "id": "e13c186c",
   "metadata": {},
   "outputs": [],
   "source": [
    "import re\n",
    "import os\n",
    "import math\n",
    "import nltk\n",
    "import pickle\n",
    "import warnings\n",
    "import unidecode\n",
    "import numpy as np\n",
    "import pandas as pd\n",
    "\n",
    "from tqdm.notebook import tqdm\n",
    "from bs4 import BeautifulSoup"
   ]
  },
  {
   "cell_type": "code",
   "execution_count": 5,
   "id": "6e85f7bb",
   "metadata": {},
   "outputs": [],
   "source": [
    "pd.options.display.max_columns = None # To display all the columns of a Dataframe.\n",
    "warnings.filterwarnings('ignore') # Ignore any warnings and do not show them in the cell output."
   ]
  },
  {
   "cell_type": "markdown",
   "id": "37dcb3e7",
   "metadata": {},
   "source": [
    "----"
   ]
  },
  {
   "cell_type": "markdown",
   "id": "93cbfa6f",
   "metadata": {},
   "source": [
    "# 2. Data Pre-processing\n",
    "\n",
    "* We will perform the data-preprocessing of the comment text by performing various operations as listed below:<br>\n",
    "&emsp; 1. Remove HTML Tags.<br>\n",
    "&emsp; 2. Remove accented characters.<br>\n",
    "* We will create utility functions to perform each of the data-preprocessing operation."
   ]
  },
  {
   "cell_type": "markdown",
   "id": "0d62e03e",
   "metadata": {},
   "source": [
    "## 2.1. Remove HTML Tags\n",
    "\n",
    "* HTML Tags does not add much value towards understanding and analyzing texts."
   ]
  },
  {
   "cell_type": "code",
   "execution_count": 6,
   "id": "c5e78271",
   "metadata": {},
   "outputs": [],
   "source": [
    "def removeHTMLTags(text):\n",
    "    '''\n",
    "    Function to remove the HTML Tags from a given text.\n",
    "    \n",
    "    Parameter:\n",
    "    ---------\n",
    "    text: str\n",
    "        Text from which the HTML tags has to be removed.\n",
    "    '''\n",
    "    \n",
    "    # Reference: 'Remove html tags using BeautifulSoup' - https://www.geeksforgeeks.org/remove-all-style-scripts-and-html-tags-using-beautifulsoup/\n",
    "    \n",
    "    # Create a BeautifulSoup object to parse the given html text content\n",
    "    soup = BeautifulSoup(text, 'html.parser')\n",
    "    \n",
    "    # Remove the <style> and <script> tags from the html content because they contains the styling sheet and javascript\n",
    "    # file references and won't give any meaningful context.\n",
    "    for data in soup(['style', 'script']):\n",
    "        \n",
    "        # Remove tag\n",
    "        data.decompose()\n",
    "        \n",
    "    # Return the html tag free content\n",
    "    return ' '.join(soup.stripped_strings)"
   ]
  },
  {
   "cell_type": "markdown",
   "id": "cef7eec5",
   "metadata": {},
   "source": [
    "#### Example - Removal of html tags"
   ]
  },
  {
   "cell_type": "code",
   "execution_count": 7,
   "id": "990a5850",
   "metadata": {},
   "outputs": [
    {
     "data": {
      "text/plain": [
       "'Case Study Jigsaw Unintended Bias Toxicity Classification'"
      ]
     },
     "execution_count": 7,
     "metadata": {},
     "output_type": "execute_result"
    }
   ],
   "source": [
    "# Let's consider an html content\n",
    "html = '''\n",
    "        <html>\n",
    "            <head>\n",
    "                <title>Case Study</title>\n",
    "                <style>.class { font-color: blue; }</style>\n",
    "                <script>function(){ console.log('This is a JavaScript Code'); }</script>\n",
    "            </head>\n",
    "            <body>\n",
    "                <h1>Jigsaw Unintended Bias</h1>\n",
    "                <h2>Toxicity Classification<h2>\n",
    "            </body>\n",
    "        </html>\n",
    "        '''\n",
    "\n",
    "# Call the function 'removeHTMLTags()' to remove the html tags from the html content\n",
    "removeHTMLTags(html)"
   ]
  },
  {
   "cell_type": "markdown",
   "id": "25f22bff",
   "metadata": {},
   "source": [
    "----"
   ]
  },
  {
   "cell_type": "markdown",
   "id": "eceb1797",
   "metadata": {},
   "source": [
    "## 2.2. Remove Accented Characters\n",
    "\n",
    "* We may receive some accented characters/letters in comments. E.g., résumé, tête-à-tête, etc.\n",
    "* The most common accents are the acute (é), grave (è), circumflex (â, î or ô), tilde (ñ), umlaut and dieresis (ü or ï – the same symbol is used for two different purposes), and cedilla (ç). Accent marks (also referred to as diacritics or diacriticals) usually appear above a character. [Reference](https://www.fonts.com/content/learning/fontology/level-3/signs-and-symbols/accents)\n",
    "* We need to ensure that we convert and standardize such characters to ASCII characters."
   ]
  },
  {
   "cell_type": "code",
   "execution_count": 8,
   "id": "23c28308",
   "metadata": {},
   "outputs": [],
   "source": [
    "def removeAccentedChars(text):\n",
    "    '''\n",
    "    Function to remove the accented characters from a given text.\n",
    "    \n",
    "    Parameter:\n",
    "    ---------\n",
    "    text: str\n",
    "        Text from which the accented character has to be removed.\n",
    "    '''\n",
    "    \n",
    "    # Reference: \"remove accented characters python\" - https://www.geeksforgeeks.org/how-to-remove-string-accents-using-python-3/\n",
    "    \n",
    "    # Remove accents\n",
    "    return unidecode.unidecode(text)"
   ]
  },
  {
   "cell_type": "markdown",
   "id": "1741d950",
   "metadata": {},
   "source": [
    "#### Example - Removal of accented characters"
   ]
  },
  {
   "cell_type": "code",
   "execution_count": 9,
   "id": "93e9db7d",
   "metadata": {},
   "outputs": [
    {
     "data": {
      "text/plain": [
       "'Some Accented text: orcpzsiayd stavanger helldeg'"
      ]
     },
     "execution_count": 9,
     "metadata": {},
     "output_type": "execute_result"
    }
   ],
   "source": [
    "# String containing accented characters\n",
    "accentedStr = 'Sómě Áccěntěd těxt: orčpžsíáýd stävänger hell°'\n",
    "\n",
    "# Call the function 'removeAccentedChars()' to remove the accented characters from the text.\n",
    "removeAccentedChars(accentedStr)"
   ]
  },
  {
   "cell_type": "markdown",
   "id": "a90038aa",
   "metadata": {},
   "source": [
    "----"
   ]
  },
  {
   "cell_type": "markdown",
   "id": "3396e4e4",
   "metadata": {},
   "source": [
    "## 2.3. Convert to Lowercase\n",
    "\n",
    "* Convert the comment text to lower case before doing further preprocessing.\n",
    "* Texts in lowercase help in the process of preprocessing and in later stages in NLP.\n",
    "* Converting the text to lowercase is pretty easy."
   ]
  },
  {
   "cell_type": "code",
   "execution_count": 10,
   "id": "69db30ed",
   "metadata": {},
   "outputs": [],
   "source": [
    "def lowercase(text):\n",
    "    '''\n",
    "    Function to convert a given text to its lowercase.\n",
    "    \n",
    "    Parameter:\n",
    "    ---------\n",
    "    text: str\n",
    "        Text that has to be converted to lowercase.\n",
    "    '''\n",
    "    \n",
    "    return text.lower()"
   ]
  },
  {
   "cell_type": "markdown",
   "id": "00e32978",
   "metadata": {},
   "source": [
    "#### Example - Converting a text to lowercase"
   ]
  },
  {
   "cell_type": "code",
   "execution_count": 11,
   "id": "627fd2c6",
   "metadata": {},
   "outputs": [
    {
     "data": {
      "text/plain": [
       "'converting a text to its lowercase is very simple.'"
      ]
     },
     "execution_count": 11,
     "metadata": {},
     "output_type": "execute_result"
    }
   ],
   "source": [
    "# String containing few words with uppercase letters.\n",
    "upStr = 'Converting a TEXT to its Lowercase is very simple.'\n",
    "\n",
    "# Call the function 'lowercase()' to convert the text to its lowercase.\n",
    "lowercase(upStr)"
   ]
  },
  {
   "cell_type": "markdown",
   "id": "8933d1d3",
   "metadata": {},
   "source": [
    "----"
   ]
  },
  {
   "cell_type": "markdown",
   "id": "c4b0871f",
   "metadata": {},
   "source": [
    "## 2.4. Remove IP Address, Hyperlinks and Number\n",
    "\n",
    "* Remove any IP Address, Hyperlinks and numbers from the comment text as they won't add any value to perform the toxicity classification."
   ]
  },
  {
   "cell_type": "code",
   "execution_count": 12,
   "id": "b80e3a33",
   "metadata": {},
   "outputs": [],
   "source": [
    "def removeIPLinkNum(text, ipAddress=True, hyperlink=False, numbers=True):\n",
    "    '''\n",
    "    Function to remove IP Address and Number from the given text.\n",
    "    \n",
    "    Parameter:\n",
    "    ---------\n",
    "    text: str\n",
    "        Text from which IP Address and number(s) have to be removed.\n",
    "    '''\n",
    "    \n",
    "    # Replace IP Address with empty string.\n",
    "    # Reference: 'Remove IP Address Python' - https://www.geeksforgeeks.org/extract-ip-address-from-file-using-python/#:~:text=The%20regular%20expression%20for%20valid,%5C.)%7B\n",
    "    if ipAddress == True:\n",
    "        \n",
    "        text = re.sub(r'((25[0-5]|2[0-4][0-9]|[01]?[0-9][0-9]?)\\.){3}(25[0-5]|2[0-4][0-9]|[01]?[0-9][0-9]?)', '', text)\n",
    "    \n",
    "    # Remove hyperlinks\n",
    "    # Reference: 'Regex for hperlinks Python' - https://www.geeksforgeeks.org/python-check-url-string/\n",
    "    if hyperlink == True:\n",
    "        \n",
    "        text = re.sub(r\"(?i)\\b((?:https?://|www\\d{0,3}[.]|[a-z0-9.\\-]+[.][a-z]{2,4}/)(?:[^\\s()<>]+|\\(([^\\s()<>]+|(\\([^\\s()<>]+\\)))*\\))+(?:\\(([^\\s()<>]+|(\\([^\\s()<>]+\\)))*\\)|[^\\s`!()\\[\\]{};:'\\\".,<>?«»“”‘’]))\", \"\", text)\n",
    "    \n",
    "    # Remove numbers.\n",
    "    if numbers == True:\n",
    "        \n",
    "        text = re.sub(r'[0-9]', '', text)\n",
    "    \n",
    "    # Remove the extra space if any.\n",
    "    text = re.sub(r'[ ][ ]+', ' ', text)\n",
    "    \n",
    "    return text"
   ]
  },
  {
   "cell_type": "markdown",
   "id": "05245dc0",
   "metadata": {},
   "source": [
    "#### Example - Removal of IP Address, Hyperlinks and numbers"
   ]
  },
  {
   "cell_type": "code",
   "execution_count": 13,
   "id": "83702ff8",
   "metadata": {},
   "outputs": [
    {
     "name": "stdout",
     "output_type": "stream",
     "text": [
      "CPU times: user 911 µs, sys: 772 µs, total: 1.68 ms\n",
      "Wall time: 1.69 ms\n"
     ]
    },
    {
     "data": {
      "text/plain": [
       "'Ping to connect to the site and get the numbers between and '"
      ]
     },
     "execution_count": 13,
     "metadata": {},
     "output_type": "execute_result"
    }
   ],
   "source": [
    "%%time\n",
    "# Text containing few IP Addresses, Hyperlinks and numbers.\n",
    "ipLinkNum = 'Ping 192.128.10.10 to connect to the site https://www.infinity.com/ and get the numbers between 1 and 1000'\n",
    "\n",
    "# Call the 'removeIPLinkNum()' to remove the IP Address, Hyperlinks and numbers from the text.\n",
    "removeIPLinkNum(ipLinkNum, hyperlink=True)"
   ]
  },
  {
   "cell_type": "markdown",
   "id": "4978d795",
   "metadata": {},
   "source": [
    "----"
   ]
  },
  {
   "cell_type": "markdown",
   "id": "0d99ce8e",
   "metadata": {},
   "source": [
    "## 2.5. Replace Emoticons with the corresponding words\n",
    "\n",
    "* Replace the emoticons with the corresponding words like \":-(\" by \"sad\". "
   ]
  },
  {
   "cell_type": "code",
   "execution_count": 14,
   "id": "0ccc8e75",
   "metadata": {},
   "outputs": [],
   "source": [
    "# Dictionary containing the emoticons and their corresponding words.\n",
    "# Reference: https://pc.net/emoticons/\n",
    "emoticonsDict = {\n",
    "    '(.V.)': 'alien',\n",
    "    'O:-)': 'angel',\n",
    "    'X-(': 'angry',\n",
    "    '~:0': 'baby',\n",
    "    ':-D': 'big grin',\n",
    "    ':-#': 'braces',\n",
    "    '=^.^=': 'cat',\n",
    "    '*<:o)': 'clown',\n",
    "    'O.o': 'confused',\n",
    "    'B-)': 'cool',\n",
    "    ':_(': 'crying',\n",
    "    '\\:D/': 'dancing',\n",
    "    '*-*': 'dazed',\n",
    "    ':o3': 'dog',\n",
    "    '#-o': 'doh',\n",
    "    ':*)': 'drunk',\n",
    "    '//_^': 'emo',\n",
    "    '>:)': 'evil grin',\n",
    "    '<><': 'fish',\n",
    "    ':(': 'frown',\n",
    "    ':-(': 'frown',\n",
    "    ':-(': 'frowning',\n",
    "    '=P': 'frustrated',\n",
    "    ':-P': 'frustrated',\n",
    "    '8-)': 'glasses',\n",
    "    '$_$': 'greedy',\n",
    "    ':->': 'grin',\n",
    "    ':-)': 'happy',\n",
    "    ':)': 'happy',\n",
    "    '=)': 'happy',\n",
    "    '#': 'hashtag',\n",
    "    '<3': 'heart',\n",
    "    '{}': 'hug',\n",
    "    ':-|': 'indifferent',\n",
    "    'X-p': 'joking',\n",
    "    ':*': 'kiss',\n",
    "    ':-*': 'kiss',\n",
    "    ':-)*': 'kiss',\n",
    "    '(-}{-)': 'kissing',\n",
    "    'XD': 'laughing',\n",
    "    '=D': 'laughing out loud',\n",
    "    ')-:': 'left-handed sad face',\n",
    "    '(-:': 'Left-handed smiley face',\n",
    "    '<3': 'love',\n",
    "    '=/': 'mad',\n",
    "    ':-)(-:': 'married',\n",
    "    '@': 'mention',\n",
    "    '<:3)~': 'mouse',\n",
    "    '~,~': 'napping',\n",
    "    ':-B': 'nerd',\n",
    "    '^_^': 'overjoyed',\n",
    "    '<l:0': 'partying',\n",
    "    ':-/': 'perplexed',\n",
    "    '=8)': 'Pig',\n",
    "    '@~)~~~~': 'rose',\n",
    "    ':-(': 'sad',\n",
    "    ':(': 'sad',\n",
    "    '=(': 'sad',\n",
    "    ':S': 'sarcastic',\n",
    "    ':-@': 'screaming',\n",
    "    '=O': 'shocked',\n",
    "    ':-o': 'shocked',\n",
    "    ':-Q': 'smoking',\n",
    "    ':>': 'smug',\n",
    "    ':P': 'sticking tongue out',\n",
    "    ':o': 'surprised',\n",
    "    ':-J': 'tongue in cheek',\n",
    "    ':-&': 'tongue tied',\n",
    "    '=-O': 'uh-oh',\n",
    "    ':-E': 'vampire',\n",
    "    '=D': 'very happy',\n",
    "    ';-)': 'winking',\n",
    "    ';)': 'winking',\n",
    "    '|-O': 'yawn',\n",
    "    '8-#': 'zombie'\n",
    "}"
   ]
  },
  {
   "cell_type": "code",
   "execution_count": 15,
   "id": "d2accc20",
   "metadata": {},
   "outputs": [],
   "source": [
    "# Replace Emoticons with correponding words\n",
    "def replaceEmoticons(text):\n",
    "    \n",
    "    for emoticon in emoticonsDict:\n",
    "        \n",
    "        word = \"_\".join(emoticonsDict[emoticon].split())\n",
    "        \n",
    "        text = text.replace(emoticon, ' ' + word + ' ')\n",
    "        \n",
    "        # Remove the extra space if any.\n",
    "        text = re.sub(r'[ ][ ]+', ' ', text)\n",
    "    \n",
    "    return text"
   ]
  },
  {
   "cell_type": "markdown",
   "id": "600d0cda",
   "metadata": {},
   "source": [
    "#### Example - Replace emoticons with words"
   ]
  },
  {
   "cell_type": "code",
   "execution_count": 16,
   "id": "c8e0575f",
   "metadata": {},
   "outputs": [
    {
     "name": "stdout",
     "output_type": "stream",
     "text": [
      "CPU times: user 152 µs, sys: 0 ns, total: 152 µs\n",
      "Wall time: 156 µs\n"
     ]
    },
    {
     "data": {
      "text/plain": [
       "'In Joy, people are happy and in despair, people are sad '"
      ]
     },
     "execution_count": 16,
     "metadata": {},
     "output_type": "execute_result"
    }
   ],
   "source": [
    "%%time\n",
    "# Define a text with certain emoticons\n",
    "text = 'In Joy, people are :-) and in despair, people are :-('\n",
    "\n",
    "# Call the 'replaceEmoticons()' to replace emoticons by their corresponding words.\n",
    "replaceEmoticons(text)"
   ]
  },
  {
   "cell_type": "markdown",
   "id": "9408ec58",
   "metadata": {},
   "source": [
    "----"
   ]
  },
  {
   "cell_type": "markdown",
   "id": "15f8f101",
   "metadata": {},
   "source": [
    "## 2.6. Remove Special Characters\n",
    "\n",
    "* Remove special characters except the below four characters:\n",
    "## <font color=\"blue\">**'** **.** **?** **!**</font>"
   ]
  },
  {
   "cell_type": "code",
   "execution_count": 17,
   "id": "97ce0769",
   "metadata": {},
   "outputs": [],
   "source": [
    "def removeSpecialChars(text, removeAll=False):\n",
    "    '''\n",
    "    Function to remove the special characters from the given text.\n",
    "    \n",
    "    Parameter:\n",
    "    ---------\n",
    "    text: str\n",
    "        Text from which the special characters have to be removed.\n",
    "    removeAll: boolean\n",
    "        Flag to check whether to remove all special characters or all except ' . ? !\n",
    "    '''\n",
    "    \n",
    "    if removeAll == True:\n",
    "        \n",
    "        text = re.sub(r'[^A-Za-z ]+', '', text) # Remove all special characters.\n",
    "        \n",
    "    else:\n",
    "        \n",
    "        text = re.sub(r'[^A-Za-z\\'.?! ]+', '', text) # Remove all special characters except ' . ? !\n",
    "        \n",
    "    # Remove the extra space if any.\n",
    "    text = re.sub(r'[ ][ ]+', ' ', text)\n",
    "    \n",
    "    return text"
   ]
  },
  {
   "cell_type": "markdown",
   "id": "211a9c4d",
   "metadata": {},
   "source": [
    "#### Example - Removal of special characters"
   ]
  },
  {
   "cell_type": "code",
   "execution_count": 18,
   "id": "792cba6a",
   "metadata": {},
   "outputs": [
    {
     "name": "stdout",
     "output_type": "stream",
     "text": [
      "CPU times: user 98 µs, sys: 83 µs, total: 181 µs\n",
      "Wall time: 186 µs\n"
     ]
    },
    {
     "data": {
      "text/plain": [
       "\"This is ! a ' sentence with some special characters. Is'nt it?\""
      ]
     },
     "execution_count": 18,
     "metadata": {},
     "output_type": "execute_result"
    }
   ],
   "source": [
    "%%time\n",
    "# Define a text with some special characters in it\n",
    "text = 'This # is ! a \\' sentence % with & some speci@al characters. Is\\'nt it?'\n",
    "\n",
    "# Call the 'removeSpecialChars()' to remove the special characters from a text.\n",
    "removeSpecialChars(text)"
   ]
  },
  {
   "cell_type": "markdown",
   "id": "1b4b0bf5",
   "metadata": {},
   "source": [
    "----"
   ]
  },
  {
   "cell_type": "markdown",
   "id": "37e8585d",
   "metadata": {},
   "source": [
    "## 2.7. Replace Sentence end markers with special tokens\n",
    "\n",
    "* Replacing the sentence end markers with special tokens.\n",
    "* This is done to not lose information about these marks at the stage of transformation of the text into a word embedding.\n",
    "* This can be omitted while using BERT.\n",
    "* The following end markers will be replaced:<br>\n",
    "&emsp; i. ! $\\longrightarrow$ exclmrk.<br>\n",
    "&emsp; ii. ? $\\longrightarrow$ qstmrk.<br>\n",
    "&emsp; iii. . $\\longrightarrow$ eosmkr.<br>"
   ]
  },
  {
   "cell_type": "code",
   "execution_count": 19,
   "id": "ea3bdced",
   "metadata": {},
   "outputs": [],
   "source": [
    "def replaceSpecialTokens(text, isBERTUsed=False):\n",
    "    '''\n",
    "    Function to replace special tokens with words in a given text.\n",
    "    \n",
    "    Parameter:\n",
    "    ---------\n",
    "    text: str\n",
    "        Text in which certain special tokens need to be replaced.\n",
    "    isBERTUsed: boolean\n",
    "        Boolean flag to indicate if BERT is used in the modelling, then do not apply this pre-processing.\n",
    "    '''\n",
    "    \n",
    "    if (isBERTUsed == False):\n",
    "    \n",
    "        text = re.sub(r'[!]', ' exclmrk ', text) # Replace ! with exclmrk.\n",
    "        text = re.sub(r'[?]', ' qstmrk ', text) # Replace ? with qstmrk.\n",
    "        text = re.sub(r'[.]', ' eosmkr ', text) # Replace . with eosmkr.\n",
    "\n",
    "        # Remove the extra space if any.\n",
    "        text = re.sub(r'[ ][ ]+', ' ', text)\n",
    "    \n",
    "    return text"
   ]
  },
  {
   "cell_type": "markdown",
   "id": "78c9b985",
   "metadata": {},
   "source": [
    "#### Example - Replacing special tokens"
   ]
  },
  {
   "cell_type": "code",
   "execution_count": 20,
   "id": "b957f1b6",
   "metadata": {},
   "outputs": [
    {
     "name": "stdout",
     "output_type": "stream",
     "text": [
      "CPU times: user 117 µs, sys: 99 µs, total: 216 µs\n",
      "Wall time: 222 µs\n"
     ]
    },
    {
     "data": {
      "text/plain": [
       "\"This is amazing exclmrk Is'nt it qstmrk We should do more such stuffs eosmkr \""
      ]
     },
     "execution_count": 20,
     "metadata": {},
     "output_type": "execute_result"
    }
   ],
   "source": [
    "%%time\n",
    "# Define a text containing special tokens\n",
    "text = 'This is amazing! Is\\'nt it? We should do more such stuffs.'\n",
    "\n",
    "# Call the 'replaceSpecialTokens' to replace special tokens with words.\n",
    "replaceSpecialTokens(text)"
   ]
  },
  {
   "cell_type": "markdown",
   "id": "46bab13b",
   "metadata": {},
   "source": [
    "----"
   ]
  },
  {
   "cell_type": "markdown",
   "id": "b6ef2056",
   "metadata": {},
   "source": [
    "## 2.8. Decontraction\n",
    "\n",
    "* A contraction, or short form, is an abbreviated form of a word of words, from which one or more letters have been left out and replaced by an apostrophe. [Reference](https://typely.com/blogs/entry/15-how-to-use-english-contractions-correctly-with-word-list-and-examples/). They're are very common in english sentences.\n",
    "* For example:<br>\n",
    "&emsp; i. I am $\\longrightarrow$ I'm.<br>\n",
    "&emsp; ii. He is $\\longrightarrow$ He's.<br>\n",
    "&emsp; iii. It is $\\longrightarrow$ It's.<br>\n",
    "&emsp; iv. We will $\\longrightarrow$ We'll.<br>\n",
    "* We need to de-contract (opposite of contraction) the words to its original form, to help with text standardization.\n",
    "\n",
    "\n",
    "* Here we will use a dictionary (contraction map) containing the contracted form in its keys and their corresponding expanded form in its values."
   ]
  },
  {
   "cell_type": "code",
   "execution_count": 21,
   "id": "01a69c72",
   "metadata": {},
   "outputs": [],
   "source": [
    "# Reference- https://github.com/dipanjanS/practical-machine-learning-with-python/blob/master/bonus%20content/nlp%20proven%20approach/contractions.py\n",
    "contractionMap = {\n",
    "    'ain\\'t': 'is not',\n",
    "    'aren\\'t': 'are not',\n",
    "    'can\\'t': 'cannot',\n",
    "    'can\\'t\\'ve': 'cannot have',\n",
    "    '\\'cause': 'because',\n",
    "    'could\\'ve': 'could have',\n",
    "    'couldn\\'t': 'could not',\n",
    "    'couldn\\'t\\'ve': 'could not have',\n",
    "    'didn\\'t': 'did not',\n",
    "    'doesn\\'t': 'does not',\n",
    "    'don\\'t': 'do not',\n",
    "    'hadn\\'t': 'had not',\n",
    "    'hadn\\'t\\'ve': 'had not have',\n",
    "    'hasn\\'t': 'has not',\n",
    "    'haven\\'t': 'have not',\n",
    "    'he\\'d': 'he would',\n",
    "    'he\\'d\\'ve': 'he would have',\n",
    "    'he\\'ll': 'he will',\n",
    "    'he\\'ll\\'ve': 'he he will have',\n",
    "    'he\\'s': 'he is',\n",
    "    'how\\'d': 'how did',\n",
    "    'how\\'d\\'y': 'how do you',\n",
    "    'how\\'ll': 'how will',\n",
    "    'how\\'s': 'how is',\n",
    "    'I\\'d': 'I would',\n",
    "    'I\\'d\\'ve': 'I would have',\n",
    "    'I\\'ll': 'I will',\n",
    "    'I\\'ll\\'ve': 'I will have',\n",
    "    'I\\'m': 'I am',\n",
    "    'I\\'ve': 'I have',\n",
    "    'i\\'d': 'i would',\n",
    "    'i\\'d\\'ve': 'i would have',\n",
    "    'i\\'ll': 'i will',\n",
    "    'i\\'ll\\'ve': 'i will have',\n",
    "    'i\\'m': 'i am',\n",
    "    'i\\'ve': 'i have',\n",
    "    'isn\\'t': 'is not',\n",
    "    'it\\'d': 'it would',\n",
    "    'it\\'d\\'ve': 'it would have',\n",
    "    'it\\'ll': 'it will',\n",
    "    'it\\'ll\\'ve': 'it will have',\n",
    "    'it\\'s': 'it is',\n",
    "    'let\\'s': 'let us',\n",
    "    'ma\\'am': 'madam',\n",
    "    'mayn\\'t': 'may not',\n",
    "    'might\\'ve': 'might have',\n",
    "    'mightn\\'t': 'might not',\n",
    "    'mightn\\'t\\'ve': 'might not have',\n",
    "    'must\\'ve': 'must have',\n",
    "    'mustn\\'t': 'must not',\n",
    "    'mustn\\'t\\'ve': 'must not have',\n",
    "    'needn\\'t': 'need not',\n",
    "    'needn\\'t\\'ve': 'need not have',\n",
    "    'o\\'clock': 'of the clock',\n",
    "    'oughtn\\'t': 'ought not',\n",
    "    'oughtn\\'t\\'ve': 'ought not have',\n",
    "    'shan\\'t': 'shall not',\n",
    "    'sha\\'n\\'t': 'shall not',\n",
    "    'shan\\'t\\'ve': 'shall not have',\n",
    "    'she\\'d': 'she would',\n",
    "    'she\\'d\\'ve': 'she would have',\n",
    "    'she\\'ll': 'she will',\n",
    "    'she\\'ll\\'ve': 'she will have',\n",
    "    'she\\'s': 'she is',\n",
    "    'should\\'ve': 'should have',\n",
    "    'shouldn\\'t': 'should not',\n",
    "    'shouldn\\'t\\'ve': 'should not have',\n",
    "    'so\\'ve': 'so have',\n",
    "    'so\\'s': 'so as',\n",
    "    'that\\'d': 'that would',\n",
    "    'that\\'d\\'ve': 'that would have',\n",
    "    'that\\'s': 'that is',\n",
    "    'there\\'d': 'there would',\n",
    "    'there\\'d\\'ve': 'there would have',\n",
    "    'there\\'s': 'there is',\n",
    "    'they\\'d': 'they would',\n",
    "    'they\\'d\\'ve': 'they would have',\n",
    "    'they\\'ll': 'they will',\n",
    "    'they\\'ll\\'ve': 'they will have',\n",
    "    'they\\'re': 'they are',\n",
    "    'they\\'ve': 'they have',\n",
    "    'to\\'ve': 'to have',\n",
    "    'wasn\\'t': 'was not',\n",
    "    'we\\'d': 'we would',\n",
    "    'we\\'d\\'ve': 'we would have',\n",
    "    'we\\'ll': 'we will',\n",
    "    'we\\'ll\\'ve': 'we will have',\n",
    "    'we\\'re': 'we are',\n",
    "    'we\\'ve': 'we have',\n",
    "    'weren\\'t': 'were not',\n",
    "    'what\\'ll': 'what will',\n",
    "    'what\\'ll\\'ve': 'what will have',\n",
    "    'what\\'re': 'what are',\n",
    "    'what\\'s': 'what is',\n",
    "    'what\\'ve': 'what have',\n",
    "    'when\\'s': 'when is',\n",
    "    'when\\'ve': 'when have',\n",
    "    'where\\'d': 'where did',\n",
    "    'where\\'s': 'where is',\n",
    "    'where\\'ve': 'where have',\n",
    "    'who\\'ll': 'who will',\n",
    "    'who\\'ll\\'ve': 'who will have',\n",
    "    'who\\'s': 'who is',\n",
    "    'who\\'ve': 'who have',\n",
    "    'why\\'s': 'why is',\n",
    "    'why\\'ve': 'why have',\n",
    "    'will\\'ve': 'will have',\n",
    "    'won\\'t': 'will not',\n",
    "    'won\\'t\\'ve': 'will not have',\n",
    "    'would\\'ve': 'would have',\n",
    "    'wouldn\\'t': 'would not',\n",
    "    'wouldn\\'t\\'ve': 'would not have',\n",
    "    'y\\'all': 'you all',\n",
    "    'y\\'all\\'d': 'you all would',\n",
    "    'y\\'all\\'d\\'ve': 'you all would have',\n",
    "    'y\\'all\\'re': 'you all are',\n",
    "    'y\\'all\\'ve': 'you all have',\n",
    "    'you\\'d': 'you would',\n",
    "    'you\\'d\\'ve': 'you would have',\n",
    "    'you\\'ll': 'you will',\n",
    "    'you\\'ll\\'ve': 'you will have',\n",
    "    'you\\'re': 'you are',\n",
    "    'you\\'ve': 'you have'\n",
    "}"
   ]
  },
  {
   "cell_type": "code",
   "execution_count": 22,
   "id": "55e7bb1a",
   "metadata": {},
   "outputs": [],
   "source": [
    "def decontract(text, isBERTUsed=False):\n",
    "    '''\n",
    "    Function to decontract a given text.\n",
    "    \n",
    "    Parameter:\n",
    "    ---------\n",
    "    text: str\n",
    "        Text to be decontracted.\n",
    "    isBERTUsed: boolean\n",
    "        Boolean flag to indicate if BERT is used in the modelling, then do not apply this pre-processing.\n",
    "    '''\n",
    "    \n",
    "    if isBERTUsed==False:\n",
    "    \n",
    "        # Iterate through all the contraction keys and replace the keys with their corresponding values (expanded form)\n",
    "        for word in contractionMap.keys():\n",
    "\n",
    "            text = lowercase(text) # Convert to lowercase.\n",
    "            text = re.sub(word, contractionMap[word], text) # Replace the contracted word with its decontracted form.\n",
    "        \n",
    "    return text"
   ]
  },
  {
   "cell_type": "markdown",
   "id": "61394493",
   "metadata": {},
   "source": [
    "#### Example - Decontracting a text"
   ]
  },
  {
   "cell_type": "code",
   "execution_count": 23,
   "id": "b80fe2a8",
   "metadata": {},
   "outputs": [
    {
     "name": "stdout",
     "output_type": "stream",
     "text": [
      "CPU times: user 4.54 ms, sys: 447 µs, total: 4.99 ms\n",
      "Wall time: 5 ms\n"
     ]
    },
    {
     "data": {
      "text/plain": [
       "'you have got the potential they will not believe.'"
      ]
     },
     "execution_count": 23,
     "metadata": {},
     "output_type": "execute_result"
    }
   ],
   "source": [
    "%%time\n",
    "# Text containing few contracted words.\n",
    "contractText = \"You've got the potential they won't believe.\"\n",
    "\n",
    "# Call the 'decontract()' function to decontract a given text. \n",
    "decontract(contractText)"
   ]
  },
  {
   "cell_type": "markdown",
   "id": "8603ef4f",
   "metadata": {},
   "source": [
    "----"
   ]
  },
  {
   "cell_type": "markdown",
   "id": "3f717ac2",
   "metadata": {},
   "source": [
    "## 2.9. Common Function\n",
    "\n",
    "* Include all the above data-preprocessing functions inside a single function that can be used to perform the preprocessing on the data."
   ]
  },
  {
   "cell_type": "code",
   "execution_count": 24,
   "id": "5c7d1c22",
   "metadata": {},
   "outputs": [],
   "source": [
    "def preprocess(text, html=True, accent=True, lower=True, ipLinkNum=True, emoticon=True, specialChar=True, \n",
    "               specialToken=True, decontraction=True, isBERTUsed=False, removeAllSpecialChar=False, hyperlink=False):\n",
    "    '''\n",
    "    Function to perform all the data-preprocessing on a given text.\n",
    "    \n",
    "    Parameters:\n",
    "    ----------\n",
    "    text: str\n",
    "        Text on which the pre-processing has to be performed.\n",
    "    html: boolean\n",
    "        Flag to check whether to remove html tags from the text or not.\n",
    "    accent: boolean\n",
    "        Flag to check whether to remove the accented characters from the text or not.\n",
    "    lower: boolean\n",
    "        Flag to check whether to perform lowercase on the text or not.\n",
    "    ipLinkNum: boolean\n",
    "        Flag to check whether to remove the IP Address, Hyperlink(s) and number(s) from the text or not.\n",
    "    emoticon: boolean\n",
    "        Flag to check whether to replace the emoticons with their corresponding words in the text or not.\n",
    "    specialChar: boolean\n",
    "        Flag to check whether to remove the special characters from the text or not.\n",
    "    specialToken: boolean\n",
    "        Flag to check whether to replace the special tokens with their corresponding words in the text or not.\n",
    "    decontraction: boolean\n",
    "        Flag to check whether to do decontraction in the given text or not.\n",
    "    isBERTUsed: boolean\n",
    "        Boolean flag to indicate if BERT is used in the modelling, then do not apply this pre-processing.\n",
    "    removeAllSpecialChar: boolean\n",
    "        Flag to check whether to remove all special characters or all except ' . ? !\n",
    "    hyperlink: boolean\n",
    "        Flag to check whether to remove the hyperlink from the text or not.\n",
    "    '''\n",
    "    \n",
    "    if html == True:\n",
    "        \n",
    "        # Call the function 'removeHTMLTags()' to remove the html tags from the html content\n",
    "        text = removeHTMLTags(text)\n",
    "        \n",
    "    if accent == True:\n",
    "        \n",
    "        # Call the function 'removeAccentedChars()' to remove the accented characters from the text.\n",
    "        text = removeAccentedChars(text)\n",
    "        \n",
    "    if lower == True:\n",
    "        \n",
    "        # Call the function 'lowercase()' to convert the text to its lowercase.\n",
    "        text = lowercase(text)\n",
    "        \n",
    "    if ipLinkNum == True: \n",
    "        \n",
    "        # Call the 'removeIPLinkNum()' to remove the IP Address, Hyperlinks and numbers from the text.\n",
    "        text = removeIPLinkNum(text, hyperlink=hyperlink)\n",
    "        \n",
    "    if emoticon == True:\n",
    "        \n",
    "        # Call the 'replaceEmoticons()' to replace emoticons by their corresponding words.\n",
    "        text = replaceEmoticons(text)\n",
    "        \n",
    "    if specialChar == True:\n",
    "        \n",
    "        # Call the 'removeSpecialChars()' to remove the special characters from a text.\n",
    "        text = removeSpecialChars(text, removeAllSpecialChar)\n",
    "        \n",
    "    if specialToken == True:\n",
    "        \n",
    "        # Call the 'replaceSpecialTokens' to replace special tokens with words.\n",
    "        text = replaceSpecialTokens(text, isBERTUsed)\n",
    "        \n",
    "    if decontraction == True:\n",
    "        \n",
    "        # Call the 'decontract()' function to decontract a given text. \n",
    "        text = decontract(text, isBERTUsed)\n",
    "        \n",
    "    return text"
   ]
  },
  {
   "cell_type": "markdown",
   "id": "5061d72e",
   "metadata": {},
   "source": [
    "#### Example - All data-preprocessing"
   ]
  },
  {
   "cell_type": "code",
   "execution_count": 25,
   "id": "23f0aae6",
   "metadata": {},
   "outputs": [
    {
     "name": "stdout",
     "output_type": "stream",
     "text": [
      "CPU times: user 538 µs, sys: 448 µs, total: 986 µs\n",
      "Wall time: 996 µs\n"
     ]
    },
    {
     "data": {
      "text/plain": [
       "'the content is downloaded from which could have also been downloaded from the ip address eosmkr the content has some html content as well some span content eosmkr few accent characters orcpzsiayd stavanger hell eosmkr the content was downloaded in eosmkr is not that a recent activity qstmrk happy exclmrk mention '"
      ]
     },
     "execution_count": 25,
     "metadata": {},
     "output_type": "execute_result"
    }
   ],
   "source": [
    "%%time\n",
    "\n",
    "# Define a text\n",
    "text = 'The content is downloaded from http://www.wikipedia.com , which could\\'ve also been downloaded from the IP Address\\\n",
    "        192.128.10.10. The content has some html content as well (<span>Some span content</span>). Few accent characters:\\\n",
    "        orčpžsíáýd stävänger hell. The content was downloaded in 2022. Isn\\'t that a recent activity? :-) &*!@&'\n",
    "\n",
    "# Call the 'preprocess()' function to pre-process the text.\n",
    "preprocess(text, hyperlink=True)"
   ]
  },
  {
   "cell_type": "markdown",
   "id": "2178fafc",
   "metadata": {},
   "source": [
    "----"
   ]
  },
  {
   "cell_type": "markdown",
   "id": "d68532f0",
   "metadata": {},
   "source": [
    "## 2.10. Apply the data pre-processing on the comment text\n",
    "\n",
    "* Now, we will apply the data-preprocessing on the comment text of the training dataset."
   ]
  },
  {
   "cell_type": "code",
   "execution_count": 27,
   "id": "a58fece2",
   "metadata": {},
   "outputs": [
    {
     "name": "stdout",
     "output_type": "stream",
     "text": [
      "CPU times: user 20.1 s, sys: 1.62 s, total: 21.8 s\n",
      "Wall time: 21.8 s\n"
     ]
    }
   ],
   "source": [
    "%%time\n",
    "if os.path.isfile('Data/preprocessed_train.csv'):\n",
    "    \n",
    "    data = pd.read_csv('Data/preprocessed_train.csv')\n",
    "\n",
    "else:\n",
    "    \n",
    "    data = pd.read_csv('Data/train.csv')\n",
    "    \n",
    "    # Preprocess the comment text and store the processed text in a new feature 'preprocessed_text1'\n",
    "    data['preprocessed_text1'] = data['comment_text'].apply(preprocess)\n",
    "    \n",
    "    data.to_csv('Data/preprocessed_train.csv', index=false)"
   ]
  },
  {
   "cell_type": "markdown",
   "id": "76291655",
   "metadata": {},
   "source": [
    "----"
   ]
  },
  {
   "cell_type": "markdown",
   "id": "6a1b5e02",
   "metadata": {},
   "source": [
    "# 3. Feature Engineering\n",
    "\n",
    "* There could be some new features generated from the comment text like no. of words, no, unique words, no. of obscene words, etc.\n",
    "* Based on correlation of no. of words and no. of unique words features, it was found that they are highly correlated to each other.\n",
    "* Hence, we will create a new feature to capture the number of words in the comment text."
   ]
  },
  {
   "cell_type": "code",
   "execution_count": 28,
   "id": "3221dde4",
   "metadata": {},
   "outputs": [
    {
     "name": "stdout",
     "output_type": "stream",
     "text": [
      "CPU times: user 5.55 s, sys: 18.9 ms, total: 5.57 s\n",
      "Wall time: 5.57 s\n"
     ]
    }
   ],
   "source": [
    "%%time\n",
    "# Create two new features 'word_count'\n",
    "data['word_count'] = data['comment_text'].apply(lambda x: len(x.split()))"
   ]
  },
  {
   "cell_type": "code",
   "execution_count": 36,
   "id": "94fb1c31",
   "metadata": {},
   "outputs": [],
   "source": [
    "%%time\n",
    "# Save the pre-processed data\n",
    "data.to_csv('Data/preprocessed_train.csv', index=False)"
   ]
  },
  {
   "cell_type": "code",
   "execution_count": 29,
   "id": "55f5d78b",
   "metadata": {},
   "outputs": [
    {
     "data": {
      "text/html": [
       "<div>\n",
       "<style scoped>\n",
       "    .dataframe tbody tr th:only-of-type {\n",
       "        vertical-align: middle;\n",
       "    }\n",
       "\n",
       "    .dataframe tbody tr th {\n",
       "        vertical-align: top;\n",
       "    }\n",
       "\n",
       "    .dataframe thead th {\n",
       "        text-align: right;\n",
       "    }\n",
       "</style>\n",
       "<table border=\"1\" class=\"dataframe\">\n",
       "  <thead>\n",
       "    <tr style=\"text-align: right;\">\n",
       "      <th></th>\n",
       "      <th>comment_text</th>\n",
       "      <th>preprocessed_text1</th>\n",
       "      <th>word_count</th>\n",
       "    </tr>\n",
       "  </thead>\n",
       "  <tbody>\n",
       "    <tr>\n",
       "      <th>0</th>\n",
       "      <td>This is so cool. It's like, 'would you want yo...</td>\n",
       "      <td>this is so cool eosmkr it is like 'would you w...</td>\n",
       "      <td>19</td>\n",
       "    </tr>\n",
       "    <tr>\n",
       "      <th>1</th>\n",
       "      <td>Thank you!! This would make my life a lot less...</td>\n",
       "      <td>thank you exclmrk exclmrk this would make my l...</td>\n",
       "      <td>22</td>\n",
       "    </tr>\n",
       "    <tr>\n",
       "      <th>2</th>\n",
       "      <td>This is such an urgent design problem; kudos t...</td>\n",
       "      <td>this is such an urgent design problem kudos to...</td>\n",
       "      <td>16</td>\n",
       "    </tr>\n",
       "    <tr>\n",
       "      <th>3</th>\n",
       "      <td>Is this something I'll be able to install on m...</td>\n",
       "      <td>is this something i will be able to install on...</td>\n",
       "      <td>17</td>\n",
       "    </tr>\n",
       "    <tr>\n",
       "      <th>4</th>\n",
       "      <td>haha you guys are a bunch of losers.</td>\n",
       "      <td>haha you guys are a bunch of losers eosmkr</td>\n",
       "      <td>8</td>\n",
       "    </tr>\n",
       "    <tr>\n",
       "      <th>...</th>\n",
       "      <td>...</td>\n",
       "      <td>...</td>\n",
       "      <td>...</td>\n",
       "    </tr>\n",
       "    <tr>\n",
       "      <th>1804869</th>\n",
       "      <td>Maybe the tax on \"things\" would be collected w...</td>\n",
       "      <td>maybe the tax on things would be collected whe...</td>\n",
       "      <td>37</td>\n",
       "    </tr>\n",
       "    <tr>\n",
       "      <th>1804870</th>\n",
       "      <td>What do you call people who STILL think the di...</td>\n",
       "      <td>what do you call people who still think the di...</td>\n",
       "      <td>15</td>\n",
       "    </tr>\n",
       "    <tr>\n",
       "      <th>1804871</th>\n",
       "      <td>thank you ,,,right or wrong,,, i am following ...</td>\n",
       "      <td>thank you right or wrong i am following your a...</td>\n",
       "      <td>10</td>\n",
       "    </tr>\n",
       "    <tr>\n",
       "      <th>1804872</th>\n",
       "      <td>Anyone who is quoted as having the following e...</td>\n",
       "      <td>anyone who is quoted as having the following e...</td>\n",
       "      <td>58</td>\n",
       "    </tr>\n",
       "    <tr>\n",
       "      <th>1804873</th>\n",
       "      <td>Students defined as EBD are legally just as di...</td>\n",
       "      <td>students defined as ebd are legally just as di...</td>\n",
       "      <td>127</td>\n",
       "    </tr>\n",
       "  </tbody>\n",
       "</table>\n",
       "<p>1804874 rows × 3 columns</p>\n",
       "</div>"
      ],
      "text/plain": [
       "                                              comment_text  \\\n",
       "0        This is so cool. It's like, 'would you want yo...   \n",
       "1        Thank you!! This would make my life a lot less...   \n",
       "2        This is such an urgent design problem; kudos t...   \n",
       "3        Is this something I'll be able to install on m...   \n",
       "4                     haha you guys are a bunch of losers.   \n",
       "...                                                    ...   \n",
       "1804869  Maybe the tax on \"things\" would be collected w...   \n",
       "1804870  What do you call people who STILL think the di...   \n",
       "1804871  thank you ,,,right or wrong,,, i am following ...   \n",
       "1804872  Anyone who is quoted as having the following e...   \n",
       "1804873  Students defined as EBD are legally just as di...   \n",
       "\n",
       "                                        preprocessed_text1  word_count  \n",
       "0        this is so cool eosmkr it is like 'would you w...          19  \n",
       "1        thank you exclmrk exclmrk this would make my l...          22  \n",
       "2        this is such an urgent design problem kudos to...          16  \n",
       "3        is this something i will be able to install on...          17  \n",
       "4              haha you guys are a bunch of losers eosmkr            8  \n",
       "...                                                    ...         ...  \n",
       "1804869  maybe the tax on things would be collected whe...          37  \n",
       "1804870  what do you call people who still think the di...          15  \n",
       "1804871  thank you right or wrong i am following your a...          10  \n",
       "1804872  anyone who is quoted as having the following e...          58  \n",
       "1804873  students defined as ebd are legally just as di...         127  \n",
       "\n",
       "[1804874 rows x 3 columns]"
      ]
     },
     "execution_count": 29,
     "metadata": {},
     "output_type": "execute_result"
    }
   ],
   "source": [
    "# Display the original comment text, pre-processed comment text and word count features.\n",
    "data[['comment_text', 'preprocessed_text1', 'word_count']]"
   ]
  },
  {
   "cell_type": "markdown",
   "id": "6d52d3a8",
   "metadata": {},
   "source": [
    "----"
   ]
  },
  {
   "cell_type": "markdown",
   "id": "663ef12e",
   "metadata": {},
   "source": [
    "----"
   ]
  },
  {
   "cell_type": "code",
   "execution_count": null,
   "id": "4a0fd586",
   "metadata": {},
   "outputs": [],
   "source": []
  }
 ],
 "metadata": {
  "kernelspec": {
   "display_name": "Python 3",
   "language": "python",
   "name": "python3"
  },
  "language_info": {
   "codemirror_mode": {
    "name": "ipython",
    "version": 3
   },
   "file_extension": ".py",
   "mimetype": "text/x-python",
   "name": "python",
   "nbconvert_exporter": "python",
   "pygments_lexer": "ipython3",
   "version": "3.7.12"
  }
 },
 "nbformat": 4,
 "nbformat_minor": 5
}
