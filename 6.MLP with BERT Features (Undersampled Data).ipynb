{
 "cells": [
  {
   "cell_type": "markdown",
   "id": "1bc134cf",
   "metadata": {
    "id": "1bc134cf"
   },
   "source": [
    "# 1. Import Libraries\n",
    "\n",
    "* Import the required libraries."
   ]
  },
  {
   "cell_type": "code",
   "execution_count": 1,
   "id": "28697ee8",
   "metadata": {
    "colab": {
     "base_uri": "https://localhost:8080/"
    },
    "id": "28697ee8",
    "outputId": "8f73ca3e-d48b-4cd8-b096-639f63ea5e24"
   },
   "outputs": [
    {
     "name": "stdout",
     "output_type": "stream",
     "text": [
      "Collecting transformers\n",
      "  Downloading transformers-4.17.0-py3-none-any.whl (3.8 MB)\n",
      "\u001b[K     |████████████████████████████████| 3.8 MB 9.6 MB/s \n",
      "\u001b[?25hRequirement already satisfied: importlib-metadata in /usr/local/lib/python3.7/dist-packages (from transformers) (4.11.3)\n",
      "Requirement already satisfied: filelock in /usr/local/lib/python3.7/dist-packages (from transformers) (3.6.0)\n",
      "Collecting huggingface-hub<1.0,>=0.1.0\n",
      "  Downloading huggingface_hub-0.4.0-py3-none-any.whl (67 kB)\n",
      "\u001b[K     |████████████████████████████████| 67 kB 6.7 MB/s \n",
      "\u001b[?25hRequirement already satisfied: packaging>=20.0 in /usr/local/lib/python3.7/dist-packages (from transformers) (21.3)\n",
      "Collecting sacremoses\n",
      "  Downloading sacremoses-0.0.49-py3-none-any.whl (895 kB)\n",
      "\u001b[K     |████████████████████████████████| 895 kB 68.0 MB/s \n",
      "\u001b[?25hRequirement already satisfied: numpy>=1.17 in /usr/local/lib/python3.7/dist-packages (from transformers) (1.21.5)\n",
      "Requirement already satisfied: regex!=2019.12.17 in /usr/local/lib/python3.7/dist-packages (from transformers) (2019.12.20)\n",
      "Collecting tokenizers!=0.11.3,>=0.11.1\n",
      "  Downloading tokenizers-0.11.6-cp37-cp37m-manylinux_2_12_x86_64.manylinux2010_x86_64.whl (6.5 MB)\n",
      "\u001b[K     |████████████████████████████████| 6.5 MB 58.4 MB/s \n",
      "\u001b[?25hRequirement already satisfied: tqdm>=4.27 in /usr/local/lib/python3.7/dist-packages (from transformers) (4.63.0)\n",
      "Requirement already satisfied: requests in /usr/local/lib/python3.7/dist-packages (from transformers) (2.23.0)\n",
      "Collecting pyyaml>=5.1\n",
      "  Downloading PyYAML-6.0-cp37-cp37m-manylinux_2_5_x86_64.manylinux1_x86_64.manylinux_2_12_x86_64.manylinux2010_x86_64.whl (596 kB)\n",
      "\u001b[K     |████████████████████████████████| 596 kB 66.3 MB/s \n",
      "\u001b[?25hRequirement already satisfied: typing-extensions>=3.7.4.3 in /usr/local/lib/python3.7/dist-packages (from huggingface-hub<1.0,>=0.1.0->transformers) (3.10.0.2)\n",
      "Requirement already satisfied: pyparsing!=3.0.5,>=2.0.2 in /usr/local/lib/python3.7/dist-packages (from packaging>=20.0->transformers) (3.0.7)\n",
      "Requirement already satisfied: zipp>=0.5 in /usr/local/lib/python3.7/dist-packages (from importlib-metadata->transformers) (3.7.0)\n",
      "Requirement already satisfied: idna<3,>=2.5 in /usr/local/lib/python3.7/dist-packages (from requests->transformers) (2.10)\n",
      "Requirement already satisfied: urllib3!=1.25.0,!=1.25.1,<1.26,>=1.21.1 in /usr/local/lib/python3.7/dist-packages (from requests->transformers) (1.24.3)\n",
      "Requirement already satisfied: certifi>=2017.4.17 in /usr/local/lib/python3.7/dist-packages (from requests->transformers) (2021.10.8)\n",
      "Requirement already satisfied: chardet<4,>=3.0.2 in /usr/local/lib/python3.7/dist-packages (from requests->transformers) (3.0.4)\n",
      "Requirement already satisfied: joblib in /usr/local/lib/python3.7/dist-packages (from sacremoses->transformers) (1.1.0)\n",
      "Requirement already satisfied: six in /usr/local/lib/python3.7/dist-packages (from sacremoses->transformers) (1.15.0)\n",
      "Requirement already satisfied: click in /usr/local/lib/python3.7/dist-packages (from sacremoses->transformers) (7.1.2)\n",
      "Installing collected packages: pyyaml, tokenizers, sacremoses, huggingface-hub, transformers\n",
      "  Attempting uninstall: pyyaml\n",
      "    Found existing installation: PyYAML 3.13\n",
      "    Uninstalling PyYAML-3.13:\n",
      "      Successfully uninstalled PyYAML-3.13\n",
      "Successfully installed huggingface-hub-0.4.0 pyyaml-6.0 sacremoses-0.0.49 tokenizers-0.11.6 transformers-4.17.0\n"
     ]
    }
   ],
   "source": [
    "pip install transformers"
   ]
  },
  {
   "cell_type": "code",
   "execution_count": 2,
   "id": "REDBwVadQltI",
   "metadata": {
    "colab": {
     "base_uri": "https://localhost:8080/"
    },
    "id": "REDBwVadQltI",
    "outputId": "ba9c01d0-2552-4118-e55e-002d05d0ddca"
   },
   "outputs": [
    {
     "name": "stdout",
     "output_type": "stream",
     "text": [
      "Collecting unidecode\n",
      "  Downloading Unidecode-1.3.4-py3-none-any.whl (235 kB)\n",
      "\u001b[K     |████████████████████████████████| 235 kB 7.2 MB/s \n",
      "\u001b[?25hInstalling collected packages: unidecode\n",
      "Successfully installed unidecode-1.3.4\n"
     ]
    }
   ],
   "source": [
    "pip install unidecode"
   ]
  },
  {
   "cell_type": "code",
   "execution_count": 5,
   "id": "6cbd8432",
   "metadata": {
    "id": "6cbd8432"
   },
   "outputs": [],
   "source": [
    "import re\n",
    "import os\n",
    "import math\n",
    "import pickle\n",
    "import warnings\n",
    "import numpy as np\n",
    "import pandas as pd\n",
    "import seaborn as sns\n",
    "import tensorflow as tf\n",
    "import matplotlib.pyplot as plt\n",
    "\n",
    "from zipfile import ZipFile\n",
    "from tqdm.notebook import tqdm\n",
    "from custom_utility import performance_metrics, preprocess_text, tokenize\n",
    "from sklearn.model_selection import train_test_split\n",
    "from tensorflow.keras import Model, backend, preprocessing\n",
    "from tensorflow.keras.utils import plot_model\n",
    "from tensorflow.keras.optimizers import Adam\n",
    "from tensorflow.keras.losses import binary_crossentropy\n",
    "from tensorflow.keras.callbacks import EarlyStopping, ModelCheckpoint, ReduceLROnPlateau, LearningRateScheduler\n",
    "from tensorflow.keras.layers import Input, Embedding, SpatialDropout1D, Bidirectional, LSTM, GRU, GlobalMaxPool1D, \\\n",
    "                                    GlobalAveragePooling1D, Add, Concatenate, Dense, Activation, TimeDistributed, \\\n",
    "                                    Attention, Dropout, BatchNormalization\n",
    "from transformers import BertTokenizer, BertConfig, TFBertModel, DistilBertConfig, DistilBertTokenizer, \\\n",
    "                        TFDistilBertModel, logging"
   ]
  },
  {
   "cell_type": "code",
   "execution_count": 6,
   "id": "a7e4fe7f",
   "metadata": {
    "id": "a7e4fe7f"
   },
   "outputs": [],
   "source": [
    "from google.colab import drive"
   ]
  },
  {
   "cell_type": "code",
   "execution_count": 7,
   "id": "8894086b",
   "metadata": {
    "id": "8894086b"
   },
   "outputs": [],
   "source": [
    "pd.options.display.max_columns = None # To display all the columns of a Dataframe.\n",
    "warnings.filterwarnings('ignore') # Ignore any warnings and do not show them in the cell output.\n",
    "logging.set_verbosity_error() # Set the verbosity to the `ERROR` level to skip any warnings in HuggingFace Bert Models."
   ]
  },
  {
   "cell_type": "code",
   "execution_count": 8,
   "id": "11c564a3",
   "metadata": {
    "colab": {
     "base_uri": "https://localhost:8080/"
    },
    "id": "11c564a3",
    "outputId": "df4882ff-0c49-46ea-9747-3dde0ec6dec1"
   },
   "outputs": [
    {
     "name": "stdout",
     "output_type": "stream",
     "text": [
      "Mounted at /content/gdrive\n"
     ]
    }
   ],
   "source": [
    "# Mount GDrive\n",
    "drive.mount('/content/gdrive')"
   ]
  },
  {
   "cell_type": "markdown",
   "id": "d1cbfcc4",
   "metadata": {
    "id": "d1cbfcc4"
   },
   "source": [
    "----"
   ]
  },
  {
   "cell_type": "markdown",
   "id": "431d0ddc",
   "metadata": {
    "id": "431d0ddc"
   },
   "source": [
    "# 2. Import the Dataset\n",
    "\n",
    "* Load the train dataset.\n",
    "* Perform some operations before splitting the data."
   ]
  },
  {
   "cell_type": "code",
   "execution_count": null,
   "id": "c7a0f206",
   "metadata": {
    "id": "c7a0f206",
    "outputId": "3c22d4c3-d682-404b-d3e8-c9bec38678ff"
   },
   "outputs": [
    {
     "name": "stdout",
     "output_type": "stream",
     "text": [
      "CPU times: user 13.4 s, sys: 1.61 s, total: 15 s\n",
      "Wall time: 15.5 s\n"
     ]
    }
   ],
   "source": [
    "%%time\n",
    "data = pd.read_csv('Data/train.csv')"
   ]
  },
  {
   "cell_type": "code",
   "execution_count": null,
   "id": "9ff24d79",
   "metadata": {
    "id": "9ff24d79",
    "outputId": "8295e4cf-af42-4ea5-e245-7c51f9f11997"
   },
   "outputs": [
    {
     "data": {
      "text/html": [
       "<div>\n",
       "<style scoped>\n",
       "    .dataframe tbody tr th:only-of-type {\n",
       "        vertical-align: middle;\n",
       "    }\n",
       "\n",
       "    .dataframe tbody tr th {\n",
       "        vertical-align: top;\n",
       "    }\n",
       "\n",
       "    .dataframe thead th {\n",
       "        text-align: right;\n",
       "    }\n",
       "</style>\n",
       "<table border=\"1\" class=\"dataframe\">\n",
       "  <thead>\n",
       "    <tr style=\"text-align: right;\">\n",
       "      <th></th>\n",
       "      <th>id</th>\n",
       "      <th>target</th>\n",
       "      <th>comment_text</th>\n",
       "      <th>severe_toxicity</th>\n",
       "      <th>obscene</th>\n",
       "      <th>identity_attack</th>\n",
       "      <th>insult</th>\n",
       "      <th>threat</th>\n",
       "      <th>asian</th>\n",
       "      <th>atheist</th>\n",
       "      <th>bisexual</th>\n",
       "      <th>black</th>\n",
       "      <th>buddhist</th>\n",
       "      <th>christian</th>\n",
       "      <th>female</th>\n",
       "      <th>heterosexual</th>\n",
       "      <th>hindu</th>\n",
       "      <th>homosexual_gay_or_lesbian</th>\n",
       "      <th>intellectual_or_learning_disability</th>\n",
       "      <th>jewish</th>\n",
       "      <th>latino</th>\n",
       "      <th>male</th>\n",
       "      <th>muslim</th>\n",
       "      <th>other_disability</th>\n",
       "      <th>other_gender</th>\n",
       "      <th>other_race_or_ethnicity</th>\n",
       "      <th>other_religion</th>\n",
       "      <th>other_sexual_orientation</th>\n",
       "      <th>physical_disability</th>\n",
       "      <th>psychiatric_or_mental_illness</th>\n",
       "      <th>transgender</th>\n",
       "      <th>white</th>\n",
       "      <th>created_date</th>\n",
       "      <th>publication_id</th>\n",
       "      <th>parent_id</th>\n",
       "      <th>article_id</th>\n",
       "      <th>rating</th>\n",
       "      <th>funny</th>\n",
       "      <th>wow</th>\n",
       "      <th>sad</th>\n",
       "      <th>likes</th>\n",
       "      <th>disagree</th>\n",
       "      <th>sexual_explicit</th>\n",
       "      <th>identity_annotator_count</th>\n",
       "      <th>toxicity_annotator_count</th>\n",
       "    </tr>\n",
       "  </thead>\n",
       "  <tbody>\n",
       "    <tr>\n",
       "      <th>0</th>\n",
       "      <td>59848</td>\n",
       "      <td>0.000000</td>\n",
       "      <td>This is so cool. It's like, 'would you want yo...</td>\n",
       "      <td>0.000000</td>\n",
       "      <td>0.0</td>\n",
       "      <td>0.000000</td>\n",
       "      <td>0.00000</td>\n",
       "      <td>0.0</td>\n",
       "      <td>NaN</td>\n",
       "      <td>NaN</td>\n",
       "      <td>NaN</td>\n",
       "      <td>NaN</td>\n",
       "      <td>NaN</td>\n",
       "      <td>NaN</td>\n",
       "      <td>NaN</td>\n",
       "      <td>NaN</td>\n",
       "      <td>NaN</td>\n",
       "      <td>NaN</td>\n",
       "      <td>NaN</td>\n",
       "      <td>NaN</td>\n",
       "      <td>NaN</td>\n",
       "      <td>NaN</td>\n",
       "      <td>NaN</td>\n",
       "      <td>NaN</td>\n",
       "      <td>NaN</td>\n",
       "      <td>NaN</td>\n",
       "      <td>NaN</td>\n",
       "      <td>NaN</td>\n",
       "      <td>NaN</td>\n",
       "      <td>NaN</td>\n",
       "      <td>NaN</td>\n",
       "      <td>NaN</td>\n",
       "      <td>2015-09-29 10:50:41.987077+00</td>\n",
       "      <td>2</td>\n",
       "      <td>NaN</td>\n",
       "      <td>2006</td>\n",
       "      <td>rejected</td>\n",
       "      <td>0</td>\n",
       "      <td>0</td>\n",
       "      <td>0</td>\n",
       "      <td>0</td>\n",
       "      <td>0</td>\n",
       "      <td>0.0</td>\n",
       "      <td>0</td>\n",
       "      <td>4</td>\n",
       "    </tr>\n",
       "    <tr>\n",
       "      <th>1</th>\n",
       "      <td>59849</td>\n",
       "      <td>0.000000</td>\n",
       "      <td>Thank you!! This would make my life a lot less...</td>\n",
       "      <td>0.000000</td>\n",
       "      <td>0.0</td>\n",
       "      <td>0.000000</td>\n",
       "      <td>0.00000</td>\n",
       "      <td>0.0</td>\n",
       "      <td>NaN</td>\n",
       "      <td>NaN</td>\n",
       "      <td>NaN</td>\n",
       "      <td>NaN</td>\n",
       "      <td>NaN</td>\n",
       "      <td>NaN</td>\n",
       "      <td>NaN</td>\n",
       "      <td>NaN</td>\n",
       "      <td>NaN</td>\n",
       "      <td>NaN</td>\n",
       "      <td>NaN</td>\n",
       "      <td>NaN</td>\n",
       "      <td>NaN</td>\n",
       "      <td>NaN</td>\n",
       "      <td>NaN</td>\n",
       "      <td>NaN</td>\n",
       "      <td>NaN</td>\n",
       "      <td>NaN</td>\n",
       "      <td>NaN</td>\n",
       "      <td>NaN</td>\n",
       "      <td>NaN</td>\n",
       "      <td>NaN</td>\n",
       "      <td>NaN</td>\n",
       "      <td>NaN</td>\n",
       "      <td>2015-09-29 10:50:42.870083+00</td>\n",
       "      <td>2</td>\n",
       "      <td>NaN</td>\n",
       "      <td>2006</td>\n",
       "      <td>rejected</td>\n",
       "      <td>0</td>\n",
       "      <td>0</td>\n",
       "      <td>0</td>\n",
       "      <td>0</td>\n",
       "      <td>0</td>\n",
       "      <td>0.0</td>\n",
       "      <td>0</td>\n",
       "      <td>4</td>\n",
       "    </tr>\n",
       "    <tr>\n",
       "      <th>2</th>\n",
       "      <td>59852</td>\n",
       "      <td>0.000000</td>\n",
       "      <td>This is such an urgent design problem; kudos t...</td>\n",
       "      <td>0.000000</td>\n",
       "      <td>0.0</td>\n",
       "      <td>0.000000</td>\n",
       "      <td>0.00000</td>\n",
       "      <td>0.0</td>\n",
       "      <td>NaN</td>\n",
       "      <td>NaN</td>\n",
       "      <td>NaN</td>\n",
       "      <td>NaN</td>\n",
       "      <td>NaN</td>\n",
       "      <td>NaN</td>\n",
       "      <td>NaN</td>\n",
       "      <td>NaN</td>\n",
       "      <td>NaN</td>\n",
       "      <td>NaN</td>\n",
       "      <td>NaN</td>\n",
       "      <td>NaN</td>\n",
       "      <td>NaN</td>\n",
       "      <td>NaN</td>\n",
       "      <td>NaN</td>\n",
       "      <td>NaN</td>\n",
       "      <td>NaN</td>\n",
       "      <td>NaN</td>\n",
       "      <td>NaN</td>\n",
       "      <td>NaN</td>\n",
       "      <td>NaN</td>\n",
       "      <td>NaN</td>\n",
       "      <td>NaN</td>\n",
       "      <td>NaN</td>\n",
       "      <td>2015-09-29 10:50:45.222647+00</td>\n",
       "      <td>2</td>\n",
       "      <td>NaN</td>\n",
       "      <td>2006</td>\n",
       "      <td>rejected</td>\n",
       "      <td>0</td>\n",
       "      <td>0</td>\n",
       "      <td>0</td>\n",
       "      <td>0</td>\n",
       "      <td>0</td>\n",
       "      <td>0.0</td>\n",
       "      <td>0</td>\n",
       "      <td>4</td>\n",
       "    </tr>\n",
       "    <tr>\n",
       "      <th>3</th>\n",
       "      <td>59855</td>\n",
       "      <td>0.000000</td>\n",
       "      <td>Is this something I'll be able to install on m...</td>\n",
       "      <td>0.000000</td>\n",
       "      <td>0.0</td>\n",
       "      <td>0.000000</td>\n",
       "      <td>0.00000</td>\n",
       "      <td>0.0</td>\n",
       "      <td>NaN</td>\n",
       "      <td>NaN</td>\n",
       "      <td>NaN</td>\n",
       "      <td>NaN</td>\n",
       "      <td>NaN</td>\n",
       "      <td>NaN</td>\n",
       "      <td>NaN</td>\n",
       "      <td>NaN</td>\n",
       "      <td>NaN</td>\n",
       "      <td>NaN</td>\n",
       "      <td>NaN</td>\n",
       "      <td>NaN</td>\n",
       "      <td>NaN</td>\n",
       "      <td>NaN</td>\n",
       "      <td>NaN</td>\n",
       "      <td>NaN</td>\n",
       "      <td>NaN</td>\n",
       "      <td>NaN</td>\n",
       "      <td>NaN</td>\n",
       "      <td>NaN</td>\n",
       "      <td>NaN</td>\n",
       "      <td>NaN</td>\n",
       "      <td>NaN</td>\n",
       "      <td>NaN</td>\n",
       "      <td>2015-09-29 10:50:47.601894+00</td>\n",
       "      <td>2</td>\n",
       "      <td>NaN</td>\n",
       "      <td>2006</td>\n",
       "      <td>rejected</td>\n",
       "      <td>0</td>\n",
       "      <td>0</td>\n",
       "      <td>0</td>\n",
       "      <td>0</td>\n",
       "      <td>0</td>\n",
       "      <td>0.0</td>\n",
       "      <td>0</td>\n",
       "      <td>4</td>\n",
       "    </tr>\n",
       "    <tr>\n",
       "      <th>4</th>\n",
       "      <td>59856</td>\n",
       "      <td>0.893617</td>\n",
       "      <td>haha you guys are a bunch of losers.</td>\n",
       "      <td>0.021277</td>\n",
       "      <td>0.0</td>\n",
       "      <td>0.021277</td>\n",
       "      <td>0.87234</td>\n",
       "      <td>0.0</td>\n",
       "      <td>0.0</td>\n",
       "      <td>0.0</td>\n",
       "      <td>0.0</td>\n",
       "      <td>0.0</td>\n",
       "      <td>0.0</td>\n",
       "      <td>0.0</td>\n",
       "      <td>0.0</td>\n",
       "      <td>0.0</td>\n",
       "      <td>0.0</td>\n",
       "      <td>0.0</td>\n",
       "      <td>0.25</td>\n",
       "      <td>0.0</td>\n",
       "      <td>0.0</td>\n",
       "      <td>0.0</td>\n",
       "      <td>0.0</td>\n",
       "      <td>0.0</td>\n",
       "      <td>0.0</td>\n",
       "      <td>0.0</td>\n",
       "      <td>0.0</td>\n",
       "      <td>0.0</td>\n",
       "      <td>0.0</td>\n",
       "      <td>0.0</td>\n",
       "      <td>0.0</td>\n",
       "      <td>0.0</td>\n",
       "      <td>2015-09-29 10:50:48.488476+00</td>\n",
       "      <td>2</td>\n",
       "      <td>NaN</td>\n",
       "      <td>2006</td>\n",
       "      <td>rejected</td>\n",
       "      <td>0</td>\n",
       "      <td>0</td>\n",
       "      <td>0</td>\n",
       "      <td>1</td>\n",
       "      <td>0</td>\n",
       "      <td>0.0</td>\n",
       "      <td>4</td>\n",
       "      <td>47</td>\n",
       "    </tr>\n",
       "  </tbody>\n",
       "</table>\n",
       "</div>"
      ],
      "text/plain": [
       "      id    target                                       comment_text  \\\n",
       "0  59848  0.000000  This is so cool. It's like, 'would you want yo...   \n",
       "1  59849  0.000000  Thank you!! This would make my life a lot less...   \n",
       "2  59852  0.000000  This is such an urgent design problem; kudos t...   \n",
       "3  59855  0.000000  Is this something I'll be able to install on m...   \n",
       "4  59856  0.893617               haha you guys are a bunch of losers.   \n",
       "\n",
       "   severe_toxicity  obscene  identity_attack   insult  threat  asian  atheist  \\\n",
       "0         0.000000      0.0         0.000000  0.00000     0.0    NaN      NaN   \n",
       "1         0.000000      0.0         0.000000  0.00000     0.0    NaN      NaN   \n",
       "2         0.000000      0.0         0.000000  0.00000     0.0    NaN      NaN   \n",
       "3         0.000000      0.0         0.000000  0.00000     0.0    NaN      NaN   \n",
       "4         0.021277      0.0         0.021277  0.87234     0.0    0.0      0.0   \n",
       "\n",
       "   bisexual  black  buddhist  christian  female  heterosexual  hindu  \\\n",
       "0       NaN    NaN       NaN        NaN     NaN           NaN    NaN   \n",
       "1       NaN    NaN       NaN        NaN     NaN           NaN    NaN   \n",
       "2       NaN    NaN       NaN        NaN     NaN           NaN    NaN   \n",
       "3       NaN    NaN       NaN        NaN     NaN           NaN    NaN   \n",
       "4       0.0    0.0       0.0        0.0     0.0           0.0    0.0   \n",
       "\n",
       "   homosexual_gay_or_lesbian  intellectual_or_learning_disability  jewish  \\\n",
       "0                        NaN                                  NaN     NaN   \n",
       "1                        NaN                                  NaN     NaN   \n",
       "2                        NaN                                  NaN     NaN   \n",
       "3                        NaN                                  NaN     NaN   \n",
       "4                        0.0                                 0.25     0.0   \n",
       "\n",
       "   latino  male  muslim  other_disability  other_gender  \\\n",
       "0     NaN   NaN     NaN               NaN           NaN   \n",
       "1     NaN   NaN     NaN               NaN           NaN   \n",
       "2     NaN   NaN     NaN               NaN           NaN   \n",
       "3     NaN   NaN     NaN               NaN           NaN   \n",
       "4     0.0   0.0     0.0               0.0           0.0   \n",
       "\n",
       "   other_race_or_ethnicity  other_religion  other_sexual_orientation  \\\n",
       "0                      NaN             NaN                       NaN   \n",
       "1                      NaN             NaN                       NaN   \n",
       "2                      NaN             NaN                       NaN   \n",
       "3                      NaN             NaN                       NaN   \n",
       "4                      0.0             0.0                       0.0   \n",
       "\n",
       "   physical_disability  psychiatric_or_mental_illness  transgender  white  \\\n",
       "0                  NaN                            NaN          NaN    NaN   \n",
       "1                  NaN                            NaN          NaN    NaN   \n",
       "2                  NaN                            NaN          NaN    NaN   \n",
       "3                  NaN                            NaN          NaN    NaN   \n",
       "4                  0.0                            0.0          0.0    0.0   \n",
       "\n",
       "                    created_date  publication_id  parent_id  article_id  \\\n",
       "0  2015-09-29 10:50:41.987077+00               2        NaN        2006   \n",
       "1  2015-09-29 10:50:42.870083+00               2        NaN        2006   \n",
       "2  2015-09-29 10:50:45.222647+00               2        NaN        2006   \n",
       "3  2015-09-29 10:50:47.601894+00               2        NaN        2006   \n",
       "4  2015-09-29 10:50:48.488476+00               2        NaN        2006   \n",
       "\n",
       "     rating  funny  wow  sad  likes  disagree  sexual_explicit  \\\n",
       "0  rejected      0    0    0      0         0              0.0   \n",
       "1  rejected      0    0    0      0         0              0.0   \n",
       "2  rejected      0    0    0      0         0              0.0   \n",
       "3  rejected      0    0    0      0         0              0.0   \n",
       "4  rejected      0    0    0      1         0              0.0   \n",
       "\n",
       "   identity_annotator_count  toxicity_annotator_count  \n",
       "0                         0                         4  \n",
       "1                         0                         4  \n",
       "2                         0                         4  \n",
       "3                         0                         4  \n",
       "4                         4                        47  "
      ]
     },
     "execution_count": 7,
     "metadata": {},
     "output_type": "execute_result"
    }
   ],
   "source": [
    "# Display the top 5 records.\n",
    "data.head()"
   ]
  },
  {
   "cell_type": "code",
   "execution_count": null,
   "id": "5526e971",
   "metadata": {
    "id": "5526e971",
    "outputId": "192affe3-f435-40cc-c44d-a48b5ab9d786"
   },
   "outputs": [
    {
     "name": "stdout",
     "output_type": "stream",
     "text": [
      "Shape of the Dataset:  (1804874, 45)\n"
     ]
    }
   ],
   "source": [
    "print('Shape of the Dataset: ', data.shape)"
   ]
  },
  {
   "cell_type": "code",
   "execution_count": null,
   "id": "c25d78ea",
   "metadata": {
    "id": "c25d78ea",
    "outputId": "9b47a1d5-be83-4a63-aa74-0eab73f743ed"
   },
   "outputs": [
    {
     "name": "stdout",
     "output_type": "stream",
     "text": [
      "CPU times: user 213 ms, sys: 4.95 ms, total: 218 ms\n",
      "Wall time: 220 ms\n"
     ]
    }
   ],
   "source": [
    "%%time\n",
    "# Ensure the comment texts are strings.\n",
    "data['comment_text'] = data['comment_text'].astype(str)"
   ]
  },
  {
   "cell_type": "code",
   "execution_count": null,
   "id": "78c101e9",
   "metadata": {
    "id": "78c101e9"
   },
   "outputs": [],
   "source": [
    "# Define the list of the identity subgroup columns.\n",
    "identitySubgroups = ['male', 'female', 'homosexual_gay_or_lesbian', 'christian', 'jewish', 'muslim', 'black', 'white', \n",
    "                     'psychiatric_or_mental_illness']\n",
    "\n",
    "# Define the list of toxicity subgroups or auxiliary columns.\n",
    "auxColumns = ['severe_toxicity', 'obscene', 'threat', 'insult', 'identity_attack', 'sexual_explicit']"
   ]
  },
  {
   "cell_type": "markdown",
   "id": "ef90d2ca",
   "metadata": {
    "id": "ef90d2ca"
   },
   "source": [
    "----"
   ]
  },
  {
   "cell_type": "markdown",
   "id": "6663809e",
   "metadata": {
    "id": "6663809e"
   },
   "source": [
    "## 2.1. Undersampling (Downsampling)\n",
    "\n",
    "* Total no. of datapoints in the dataset is 1804874.\n",
    "* Based on the experimentation, it was found that the BERT Text Embedding for these many data points was taking too much time (approx. 3 days in GCP).\n",
    "* Because of computation limitation, we can try to undersample the datapoints.\n",
    "* As the Dataset is highly imbalanced with more number of non-toxic datapoints, we would remove 50% of the datapoints which have all toxicity subgroup scores as 0 and the target (class label) is also 0. \n",
    "* Hence, we will remove some subset of the datapoints which have all toxicity subgroups' score of 0 and target (class label) as 0 (non-toxic)."
   ]
  },
  {
   "cell_type": "code",
   "execution_count": null,
   "id": "f9259a65",
   "metadata": {
    "id": "f9259a65",
    "outputId": "a0067ad2-b8c2-45c3-dbe4-c12b4d040752"
   },
   "outputs": [
    {
     "name": "stdout",
     "output_type": "stream",
     "text": [
      "Toxicity Subgroup Features (Auxiliary Subgroups):\n",
      " ['severe_toxicity', 'obscene', 'threat', 'insult', 'identity_attack', 'sexual_explicit']\n"
     ]
    }
   ],
   "source": [
    "print('Toxicity Subgroup Features (Auxiliary Subgroups):\\n', auxColumns)"
   ]
  },
  {
   "cell_type": "code",
   "execution_count": null,
   "id": "32aced94",
   "metadata": {
    "id": "32aced94"
   },
   "outputs": [],
   "source": [
    "# Convert the target feature to binary values: 1 when the toxicity score >= 0.5 and 0 otherwise.\n",
    "data['target'] = data['target'].apply(lambda x: 1 if x >= 0.5 else 0)"
   ]
  },
  {
   "cell_type": "code",
   "execution_count": null,
   "id": "eafb1d6a",
   "metadata": {
    "id": "eafb1d6a"
   },
   "outputs": [],
   "source": [
    "undersamplingCondition = (data[auxColumns[0]]==0) & (data[auxColumns[1]]==0) & (data[auxColumns[2]]==0) & \\\n",
    "                            (data[auxColumns[3]]==0) & (data[auxColumns[4]]==0) & (data[auxColumns[5]]==0) & \\\n",
    "                            (data['target']==0)"
   ]
  },
  {
   "cell_type": "code",
   "execution_count": null,
   "id": "e033be8a",
   "metadata": {
    "id": "e033be8a",
    "outputId": "c769a37a-7a4b-4baf-add9-3889283f5316"
   },
   "outputs": [
    {
     "data": {
      "text/html": [
       "<div>\n",
       "<style scoped>\n",
       "    .dataframe tbody tr th:only-of-type {\n",
       "        vertical-align: middle;\n",
       "    }\n",
       "\n",
       "    .dataframe tbody tr th {\n",
       "        vertical-align: top;\n",
       "    }\n",
       "\n",
       "    .dataframe thead th {\n",
       "        text-align: right;\n",
       "    }\n",
       "</style>\n",
       "<table border=\"1\" class=\"dataframe\">\n",
       "  <thead>\n",
       "    <tr style=\"text-align: right;\">\n",
       "      <th></th>\n",
       "      <th>severe_toxicity</th>\n",
       "      <th>obscene</th>\n",
       "      <th>threat</th>\n",
       "      <th>insult</th>\n",
       "      <th>identity_attack</th>\n",
       "      <th>sexual_explicit</th>\n",
       "      <th>target</th>\n",
       "    </tr>\n",
       "  </thead>\n",
       "  <tbody>\n",
       "    <tr>\n",
       "      <th>0</th>\n",
       "      <td>0.0</td>\n",
       "      <td>0.0</td>\n",
       "      <td>0.0</td>\n",
       "      <td>0.0</td>\n",
       "      <td>0.0</td>\n",
       "      <td>0.0</td>\n",
       "      <td>0</td>\n",
       "    </tr>\n",
       "    <tr>\n",
       "      <th>1</th>\n",
       "      <td>0.0</td>\n",
       "      <td>0.0</td>\n",
       "      <td>0.0</td>\n",
       "      <td>0.0</td>\n",
       "      <td>0.0</td>\n",
       "      <td>0.0</td>\n",
       "      <td>0</td>\n",
       "    </tr>\n",
       "    <tr>\n",
       "      <th>2</th>\n",
       "      <td>0.0</td>\n",
       "      <td>0.0</td>\n",
       "      <td>0.0</td>\n",
       "      <td>0.0</td>\n",
       "      <td>0.0</td>\n",
       "      <td>0.0</td>\n",
       "      <td>0</td>\n",
       "    </tr>\n",
       "    <tr>\n",
       "      <th>3</th>\n",
       "      <td>0.0</td>\n",
       "      <td>0.0</td>\n",
       "      <td>0.0</td>\n",
       "      <td>0.0</td>\n",
       "      <td>0.0</td>\n",
       "      <td>0.0</td>\n",
       "      <td>0</td>\n",
       "    </tr>\n",
       "    <tr>\n",
       "      <th>7</th>\n",
       "      <td>0.0</td>\n",
       "      <td>0.0</td>\n",
       "      <td>0.0</td>\n",
       "      <td>0.0</td>\n",
       "      <td>0.0</td>\n",
       "      <td>0.0</td>\n",
       "      <td>0</td>\n",
       "    </tr>\n",
       "    <tr>\n",
       "      <th>...</th>\n",
       "      <td>...</td>\n",
       "      <td>...</td>\n",
       "      <td>...</td>\n",
       "      <td>...</td>\n",
       "      <td>...</td>\n",
       "      <td>...</td>\n",
       "      <td>...</td>\n",
       "    </tr>\n",
       "    <tr>\n",
       "      <th>1804868</th>\n",
       "      <td>0.0</td>\n",
       "      <td>0.0</td>\n",
       "      <td>0.0</td>\n",
       "      <td>0.0</td>\n",
       "      <td>0.0</td>\n",
       "      <td>0.0</td>\n",
       "      <td>0</td>\n",
       "    </tr>\n",
       "    <tr>\n",
       "      <th>1804869</th>\n",
       "      <td>0.0</td>\n",
       "      <td>0.0</td>\n",
       "      <td>0.0</td>\n",
       "      <td>0.0</td>\n",
       "      <td>0.0</td>\n",
       "      <td>0.0</td>\n",
       "      <td>0</td>\n",
       "    </tr>\n",
       "    <tr>\n",
       "      <th>1804870</th>\n",
       "      <td>0.0</td>\n",
       "      <td>0.0</td>\n",
       "      <td>0.0</td>\n",
       "      <td>0.0</td>\n",
       "      <td>0.0</td>\n",
       "      <td>0.0</td>\n",
       "      <td>0</td>\n",
       "    </tr>\n",
       "    <tr>\n",
       "      <th>1804871</th>\n",
       "      <td>0.0</td>\n",
       "      <td>0.0</td>\n",
       "      <td>0.0</td>\n",
       "      <td>0.0</td>\n",
       "      <td>0.0</td>\n",
       "      <td>0.0</td>\n",
       "      <td>0</td>\n",
       "    </tr>\n",
       "    <tr>\n",
       "      <th>1804873</th>\n",
       "      <td>0.0</td>\n",
       "      <td>0.0</td>\n",
       "      <td>0.0</td>\n",
       "      <td>0.0</td>\n",
       "      <td>0.0</td>\n",
       "      <td>0.0</td>\n",
       "      <td>0</td>\n",
       "    </tr>\n",
       "  </tbody>\n",
       "</table>\n",
       "<p>1263739 rows × 7 columns</p>\n",
       "</div>"
      ],
      "text/plain": [
       "         severe_toxicity  obscene  threat  insult  identity_attack  \\\n",
       "0                    0.0      0.0     0.0     0.0              0.0   \n",
       "1                    0.0      0.0     0.0     0.0              0.0   \n",
       "2                    0.0      0.0     0.0     0.0              0.0   \n",
       "3                    0.0      0.0     0.0     0.0              0.0   \n",
       "7                    0.0      0.0     0.0     0.0              0.0   \n",
       "...                  ...      ...     ...     ...              ...   \n",
       "1804868              0.0      0.0     0.0     0.0              0.0   \n",
       "1804869              0.0      0.0     0.0     0.0              0.0   \n",
       "1804870              0.0      0.0     0.0     0.0              0.0   \n",
       "1804871              0.0      0.0     0.0     0.0              0.0   \n",
       "1804873              0.0      0.0     0.0     0.0              0.0   \n",
       "\n",
       "         sexual_explicit  target  \n",
       "0                    0.0       0  \n",
       "1                    0.0       0  \n",
       "2                    0.0       0  \n",
       "3                    0.0       0  \n",
       "7                    0.0       0  \n",
       "...                  ...     ...  \n",
       "1804868              0.0       0  \n",
       "1804869              0.0       0  \n",
       "1804870              0.0       0  \n",
       "1804871              0.0       0  \n",
       "1804873              0.0       0  \n",
       "\n",
       "[1263739 rows x 7 columns]"
      ]
     },
     "execution_count": 61,
     "metadata": {},
     "output_type": "execute_result"
    }
   ],
   "source": [
    "# Display the dataset with the undersampling condition\n",
    "data[undersamplingCondition][auxColumns + ['target']]"
   ]
  },
  {
   "cell_type": "markdown",
   "id": "ca18812a",
   "metadata": {
    "id": "ca18812a"
   },
   "source": [
    "* We can see that all the features values in the above subset of data, are having a value of 0.\n",
    "* We would select 45% portion from the above subset randomly and would use the subset of positive class labels as it is."
   ]
  },
  {
   "cell_type": "code",
   "execution_count": null,
   "id": "059f935c",
   "metadata": {
    "id": "059f935c"
   },
   "outputs": [],
   "source": [
    "# Select 45% of the datapoints from the above dataset having all toxicity subgroups and class labels as 0.\n",
    "dataNegative = data[undersamplingCondition].sample(frac=0.45, random_state=41)"
   ]
  },
  {
   "cell_type": "code",
   "execution_count": null,
   "id": "3bd563ce",
   "metadata": {
    "id": "3bd563ce",
    "outputId": "208ecc7b-0a58-49a1-98cb-6dcfcf897107"
   },
   "outputs": [
    {
     "name": "stdout",
     "output_type": "stream",
     "text": [
      "Shape of the datapoints having all toxicity subgroups and class labels as 0:  (568683, 45)\n"
     ]
    }
   ],
   "source": [
    "print('Shape of the datapoints having all toxicity subgroups and class labels as 0: ', dataNegative.shape)"
   ]
  },
  {
   "cell_type": "code",
   "execution_count": null,
   "id": "76c06b4e",
   "metadata": {
    "id": "76c06b4e",
    "outputId": "d0ac8f47-5808-4fe3-c602-0d4c40a24800"
   },
   "outputs": [
    {
     "data": {
      "text/html": [
       "<div>\n",
       "<style scoped>\n",
       "    .dataframe tbody tr th:only-of-type {\n",
       "        vertical-align: middle;\n",
       "    }\n",
       "\n",
       "    .dataframe tbody tr th {\n",
       "        vertical-align: top;\n",
       "    }\n",
       "\n",
       "    .dataframe thead th {\n",
       "        text-align: right;\n",
       "    }\n",
       "</style>\n",
       "<table border=\"1\" class=\"dataframe\">\n",
       "  <thead>\n",
       "    <tr style=\"text-align: right;\">\n",
       "      <th></th>\n",
       "      <th>id</th>\n",
       "      <th>target</th>\n",
       "      <th>comment_text</th>\n",
       "      <th>severe_toxicity</th>\n",
       "      <th>obscene</th>\n",
       "      <th>identity_attack</th>\n",
       "      <th>insult</th>\n",
       "      <th>threat</th>\n",
       "      <th>asian</th>\n",
       "      <th>atheist</th>\n",
       "      <th>bisexual</th>\n",
       "      <th>black</th>\n",
       "      <th>buddhist</th>\n",
       "      <th>christian</th>\n",
       "      <th>female</th>\n",
       "      <th>heterosexual</th>\n",
       "      <th>hindu</th>\n",
       "      <th>homosexual_gay_or_lesbian</th>\n",
       "      <th>intellectual_or_learning_disability</th>\n",
       "      <th>jewish</th>\n",
       "      <th>latino</th>\n",
       "      <th>male</th>\n",
       "      <th>muslim</th>\n",
       "      <th>other_disability</th>\n",
       "      <th>other_gender</th>\n",
       "      <th>other_race_or_ethnicity</th>\n",
       "      <th>other_religion</th>\n",
       "      <th>other_sexual_orientation</th>\n",
       "      <th>physical_disability</th>\n",
       "      <th>psychiatric_or_mental_illness</th>\n",
       "      <th>transgender</th>\n",
       "      <th>white</th>\n",
       "      <th>created_date</th>\n",
       "      <th>publication_id</th>\n",
       "      <th>parent_id</th>\n",
       "      <th>article_id</th>\n",
       "      <th>rating</th>\n",
       "      <th>funny</th>\n",
       "      <th>wow</th>\n",
       "      <th>sad</th>\n",
       "      <th>likes</th>\n",
       "      <th>disagree</th>\n",
       "      <th>sexual_explicit</th>\n",
       "      <th>identity_annotator_count</th>\n",
       "      <th>toxicity_annotator_count</th>\n",
       "    </tr>\n",
       "  </thead>\n",
       "  <tbody>\n",
       "    <tr>\n",
       "      <th>120763</th>\n",
       "      <td>389724</td>\n",
       "      <td>0</td>\n",
       "      <td>You asked when the last Christian terror attac...</td>\n",
       "      <td>0.0</td>\n",
       "      <td>0.0</td>\n",
       "      <td>0.0</td>\n",
       "      <td>0.0</td>\n",
       "      <td>0.0</td>\n",
       "      <td>0.0</td>\n",
       "      <td>0.0</td>\n",
       "      <td>0.0</td>\n",
       "      <td>0.0</td>\n",
       "      <td>0.0</td>\n",
       "      <td>1.0</td>\n",
       "      <td>0.0</td>\n",
       "      <td>0.0</td>\n",
       "      <td>0.0</td>\n",
       "      <td>0.0</td>\n",
       "      <td>0.0</td>\n",
       "      <td>0.0</td>\n",
       "      <td>0.0</td>\n",
       "      <td>0.0</td>\n",
       "      <td>0.0</td>\n",
       "      <td>0.0</td>\n",
       "      <td>0.0</td>\n",
       "      <td>0.0</td>\n",
       "      <td>0.0</td>\n",
       "      <td>0.0</td>\n",
       "      <td>0.0</td>\n",
       "      <td>0.0</td>\n",
       "      <td>0.0</td>\n",
       "      <td>0.0</td>\n",
       "      <td>2016-07-16 01:51:11.770897+00</td>\n",
       "      <td>21</td>\n",
       "      <td>389603.0</td>\n",
       "      <td>141486</td>\n",
       "      <td>approved</td>\n",
       "      <td>0</td>\n",
       "      <td>0</td>\n",
       "      <td>0</td>\n",
       "      <td>0</td>\n",
       "      <td>0</td>\n",
       "      <td>0.0</td>\n",
       "      <td>4</td>\n",
       "      <td>4</td>\n",
       "    </tr>\n",
       "    <tr>\n",
       "      <th>61501</th>\n",
       "      <td>317522</td>\n",
       "      <td>0</td>\n",
       "      <td>The LIO is privately owned.</td>\n",
       "      <td>0.0</td>\n",
       "      <td>0.0</td>\n",
       "      <td>0.0</td>\n",
       "      <td>0.0</td>\n",
       "      <td>0.0</td>\n",
       "      <td>NaN</td>\n",
       "      <td>NaN</td>\n",
       "      <td>NaN</td>\n",
       "      <td>NaN</td>\n",
       "      <td>NaN</td>\n",
       "      <td>NaN</td>\n",
       "      <td>NaN</td>\n",
       "      <td>NaN</td>\n",
       "      <td>NaN</td>\n",
       "      <td>NaN</td>\n",
       "      <td>NaN</td>\n",
       "      <td>NaN</td>\n",
       "      <td>NaN</td>\n",
       "      <td>NaN</td>\n",
       "      <td>NaN</td>\n",
       "      <td>NaN</td>\n",
       "      <td>NaN</td>\n",
       "      <td>NaN</td>\n",
       "      <td>NaN</td>\n",
       "      <td>NaN</td>\n",
       "      <td>NaN</td>\n",
       "      <td>NaN</td>\n",
       "      <td>NaN</td>\n",
       "      <td>NaN</td>\n",
       "      <td>2016-05-17 22:16:31.211496+00</td>\n",
       "      <td>21</td>\n",
       "      <td>317506.0</td>\n",
       "      <td>97612</td>\n",
       "      <td>approved</td>\n",
       "      <td>0</td>\n",
       "      <td>0</td>\n",
       "      <td>0</td>\n",
       "      <td>0</td>\n",
       "      <td>0</td>\n",
       "      <td>0.0</td>\n",
       "      <td>0</td>\n",
       "      <td>4</td>\n",
       "    </tr>\n",
       "    <tr>\n",
       "      <th>1550616</th>\n",
       "      <td>6019491</td>\n",
       "      <td>0</td>\n",
       "      <td>If you just read a little you wouldn't have po...</td>\n",
       "      <td>0.0</td>\n",
       "      <td>0.0</td>\n",
       "      <td>0.0</td>\n",
       "      <td>0.0</td>\n",
       "      <td>0.0</td>\n",
       "      <td>NaN</td>\n",
       "      <td>NaN</td>\n",
       "      <td>NaN</td>\n",
       "      <td>NaN</td>\n",
       "      <td>NaN</td>\n",
       "      <td>NaN</td>\n",
       "      <td>NaN</td>\n",
       "      <td>NaN</td>\n",
       "      <td>NaN</td>\n",
       "      <td>NaN</td>\n",
       "      <td>NaN</td>\n",
       "      <td>NaN</td>\n",
       "      <td>NaN</td>\n",
       "      <td>NaN</td>\n",
       "      <td>NaN</td>\n",
       "      <td>NaN</td>\n",
       "      <td>NaN</td>\n",
       "      <td>NaN</td>\n",
       "      <td>NaN</td>\n",
       "      <td>NaN</td>\n",
       "      <td>NaN</td>\n",
       "      <td>NaN</td>\n",
       "      <td>NaN</td>\n",
       "      <td>NaN</td>\n",
       "      <td>2017-09-25 16:48:00.802985+00</td>\n",
       "      <td>102</td>\n",
       "      <td>6018940.0</td>\n",
       "      <td>381653</td>\n",
       "      <td>approved</td>\n",
       "      <td>0</td>\n",
       "      <td>0</td>\n",
       "      <td>0</td>\n",
       "      <td>3</td>\n",
       "      <td>2</td>\n",
       "      <td>0.0</td>\n",
       "      <td>0</td>\n",
       "      <td>4</td>\n",
       "    </tr>\n",
       "    <tr>\n",
       "      <th>785425</th>\n",
       "      <td>5082068</td>\n",
       "      <td>0</td>\n",
       "      <td>The author makes reference to a Denise Dresser...</td>\n",
       "      <td>0.0</td>\n",
       "      <td>0.0</td>\n",
       "      <td>0.0</td>\n",
       "      <td>0.0</td>\n",
       "      <td>0.0</td>\n",
       "      <td>NaN</td>\n",
       "      <td>NaN</td>\n",
       "      <td>NaN</td>\n",
       "      <td>NaN</td>\n",
       "      <td>NaN</td>\n",
       "      <td>NaN</td>\n",
       "      <td>NaN</td>\n",
       "      <td>NaN</td>\n",
       "      <td>NaN</td>\n",
       "      <td>NaN</td>\n",
       "      <td>NaN</td>\n",
       "      <td>NaN</td>\n",
       "      <td>NaN</td>\n",
       "      <td>NaN</td>\n",
       "      <td>NaN</td>\n",
       "      <td>NaN</td>\n",
       "      <td>NaN</td>\n",
       "      <td>NaN</td>\n",
       "      <td>NaN</td>\n",
       "      <td>NaN</td>\n",
       "      <td>NaN</td>\n",
       "      <td>NaN</td>\n",
       "      <td>NaN</td>\n",
       "      <td>NaN</td>\n",
       "      <td>2017-04-01 19:42:54.650225+00</td>\n",
       "      <td>54</td>\n",
       "      <td>NaN</td>\n",
       "      <td>323868</td>\n",
       "      <td>rejected</td>\n",
       "      <td>0</td>\n",
       "      <td>0</td>\n",
       "      <td>0</td>\n",
       "      <td>0</td>\n",
       "      <td>0</td>\n",
       "      <td>0.0</td>\n",
       "      <td>0</td>\n",
       "      <td>4</td>\n",
       "    </tr>\n",
       "    <tr>\n",
       "      <th>1447059</th>\n",
       "      <td>5889018</td>\n",
       "      <td>0</td>\n",
       "      <td>That was east on 242, near Sisters</td>\n",
       "      <td>0.0</td>\n",
       "      <td>0.0</td>\n",
       "      <td>0.0</td>\n",
       "      <td>0.0</td>\n",
       "      <td>0.0</td>\n",
       "      <td>NaN</td>\n",
       "      <td>NaN</td>\n",
       "      <td>NaN</td>\n",
       "      <td>NaN</td>\n",
       "      <td>NaN</td>\n",
       "      <td>NaN</td>\n",
       "      <td>NaN</td>\n",
       "      <td>NaN</td>\n",
       "      <td>NaN</td>\n",
       "      <td>NaN</td>\n",
       "      <td>NaN</td>\n",
       "      <td>NaN</td>\n",
       "      <td>NaN</td>\n",
       "      <td>NaN</td>\n",
       "      <td>NaN</td>\n",
       "      <td>NaN</td>\n",
       "      <td>NaN</td>\n",
       "      <td>NaN</td>\n",
       "      <td>NaN</td>\n",
       "      <td>NaN</td>\n",
       "      <td>NaN</td>\n",
       "      <td>NaN</td>\n",
       "      <td>NaN</td>\n",
       "      <td>NaN</td>\n",
       "      <td>2017-09-03 03:20:32.593011+00</td>\n",
       "      <td>13</td>\n",
       "      <td>NaN</td>\n",
       "      <td>373602</td>\n",
       "      <td>approved</td>\n",
       "      <td>0</td>\n",
       "      <td>0</td>\n",
       "      <td>0</td>\n",
       "      <td>1</td>\n",
       "      <td>0</td>\n",
       "      <td>0.0</td>\n",
       "      <td>0</td>\n",
       "      <td>4</td>\n",
       "    </tr>\n",
       "  </tbody>\n",
       "</table>\n",
       "</div>"
      ],
      "text/plain": [
       "              id  target                                       comment_text  \\\n",
       "120763    389724       0  You asked when the last Christian terror attac...   \n",
       "61501     317522       0                        The LIO is privately owned.   \n",
       "1550616  6019491       0  If you just read a little you wouldn't have po...   \n",
       "785425   5082068       0  The author makes reference to a Denise Dresser...   \n",
       "1447059  5889018       0                 That was east on 242, near Sisters   \n",
       "\n",
       "         severe_toxicity  obscene  identity_attack  insult  threat  asian  \\\n",
       "120763               0.0      0.0              0.0     0.0     0.0    0.0   \n",
       "61501                0.0      0.0              0.0     0.0     0.0    NaN   \n",
       "1550616              0.0      0.0              0.0     0.0     0.0    NaN   \n",
       "785425               0.0      0.0              0.0     0.0     0.0    NaN   \n",
       "1447059              0.0      0.0              0.0     0.0     0.0    NaN   \n",
       "\n",
       "         atheist  bisexual  black  buddhist  christian  female  heterosexual  \\\n",
       "120763       0.0       0.0    0.0       0.0        1.0     0.0           0.0   \n",
       "61501        NaN       NaN    NaN       NaN        NaN     NaN           NaN   \n",
       "1550616      NaN       NaN    NaN       NaN        NaN     NaN           NaN   \n",
       "785425       NaN       NaN    NaN       NaN        NaN     NaN           NaN   \n",
       "1447059      NaN       NaN    NaN       NaN        NaN     NaN           NaN   \n",
       "\n",
       "         hindu  homosexual_gay_or_lesbian  \\\n",
       "120763     0.0                        0.0   \n",
       "61501      NaN                        NaN   \n",
       "1550616    NaN                        NaN   \n",
       "785425     NaN                        NaN   \n",
       "1447059    NaN                        NaN   \n",
       "\n",
       "         intellectual_or_learning_disability  jewish  latino  male  muslim  \\\n",
       "120763                                   0.0     0.0     0.0   0.0     0.0   \n",
       "61501                                    NaN     NaN     NaN   NaN     NaN   \n",
       "1550616                                  NaN     NaN     NaN   NaN     NaN   \n",
       "785425                                   NaN     NaN     NaN   NaN     NaN   \n",
       "1447059                                  NaN     NaN     NaN   NaN     NaN   \n",
       "\n",
       "         other_disability  other_gender  other_race_or_ethnicity  \\\n",
       "120763                0.0           0.0                      0.0   \n",
       "61501                 NaN           NaN                      NaN   \n",
       "1550616               NaN           NaN                      NaN   \n",
       "785425                NaN           NaN                      NaN   \n",
       "1447059               NaN           NaN                      NaN   \n",
       "\n",
       "         other_religion  other_sexual_orientation  physical_disability  \\\n",
       "120763              0.0                       0.0                  0.0   \n",
       "61501               NaN                       NaN                  NaN   \n",
       "1550616             NaN                       NaN                  NaN   \n",
       "785425              NaN                       NaN                  NaN   \n",
       "1447059             NaN                       NaN                  NaN   \n",
       "\n",
       "         psychiatric_or_mental_illness  transgender  white  \\\n",
       "120763                             0.0          0.0    0.0   \n",
       "61501                              NaN          NaN    NaN   \n",
       "1550616                            NaN          NaN    NaN   \n",
       "785425                             NaN          NaN    NaN   \n",
       "1447059                            NaN          NaN    NaN   \n",
       "\n",
       "                          created_date  publication_id  parent_id  article_id  \\\n",
       "120763   2016-07-16 01:51:11.770897+00              21   389603.0      141486   \n",
       "61501    2016-05-17 22:16:31.211496+00              21   317506.0       97612   \n",
       "1550616  2017-09-25 16:48:00.802985+00             102  6018940.0      381653   \n",
       "785425   2017-04-01 19:42:54.650225+00              54        NaN      323868   \n",
       "1447059  2017-09-03 03:20:32.593011+00              13        NaN      373602   \n",
       "\n",
       "           rating  funny  wow  sad  likes  disagree  sexual_explicit  \\\n",
       "120763   approved      0    0    0      0         0              0.0   \n",
       "61501    approved      0    0    0      0         0              0.0   \n",
       "1550616  approved      0    0    0      3         2              0.0   \n",
       "785425   rejected      0    0    0      0         0              0.0   \n",
       "1447059  approved      0    0    0      1         0              0.0   \n",
       "\n",
       "         identity_annotator_count  toxicity_annotator_count  \n",
       "120763                          4                         4  \n",
       "61501                           0                         4  \n",
       "1550616                         0                         4  \n",
       "785425                          0                         4  \n",
       "1447059                         0                         4  "
      ]
     },
     "execution_count": 19,
     "metadata": {},
     "output_type": "execute_result"
    }
   ],
   "source": [
    "# Display top 5 records.\n",
    "dataNegative.head()"
   ]
  },
  {
   "cell_type": "code",
   "execution_count": null,
   "id": "8162d404",
   "metadata": {
    "id": "8162d404",
    "outputId": "2877cffd-5323-40a1-f379-7c85d90c9126"
   },
   "outputs": [
    {
     "data": {
      "text/html": [
       "<div>\n",
       "<style scoped>\n",
       "    .dataframe tbody tr th:only-of-type {\n",
       "        vertical-align: middle;\n",
       "    }\n",
       "\n",
       "    .dataframe tbody tr th {\n",
       "        vertical-align: top;\n",
       "    }\n",
       "\n",
       "    .dataframe thead th {\n",
       "        text-align: right;\n",
       "    }\n",
       "</style>\n",
       "<table border=\"1\" class=\"dataframe\">\n",
       "  <thead>\n",
       "    <tr style=\"text-align: right;\">\n",
       "      <th></th>\n",
       "      <th>severe_toxicity</th>\n",
       "      <th>obscene</th>\n",
       "      <th>threat</th>\n",
       "      <th>insult</th>\n",
       "      <th>identity_attack</th>\n",
       "      <th>sexual_explicit</th>\n",
       "      <th>target</th>\n",
       "    </tr>\n",
       "  </thead>\n",
       "  <tbody>\n",
       "    <tr>\n",
       "      <th>4</th>\n",
       "      <td>0.021277</td>\n",
       "      <td>0.000000</td>\n",
       "      <td>0.0</td>\n",
       "      <td>0.872340</td>\n",
       "      <td>0.021277</td>\n",
       "      <td>0.000000</td>\n",
       "      <td>1</td>\n",
       "    </tr>\n",
       "    <tr>\n",
       "      <th>5</th>\n",
       "      <td>0.047619</td>\n",
       "      <td>0.638095</td>\n",
       "      <td>0.0</td>\n",
       "      <td>0.333333</td>\n",
       "      <td>0.000000</td>\n",
       "      <td>0.009524</td>\n",
       "      <td>1</td>\n",
       "    </tr>\n",
       "    <tr>\n",
       "      <th>6</th>\n",
       "      <td>0.050847</td>\n",
       "      <td>0.305085</td>\n",
       "      <td>0.0</td>\n",
       "      <td>0.254237</td>\n",
       "      <td>0.000000</td>\n",
       "      <td>0.220339</td>\n",
       "      <td>0</td>\n",
       "    </tr>\n",
       "    <tr>\n",
       "      <th>11</th>\n",
       "      <td>0.000000</td>\n",
       "      <td>0.293333</td>\n",
       "      <td>0.0</td>\n",
       "      <td>0.320000</td>\n",
       "      <td>0.000000</td>\n",
       "      <td>0.040000</td>\n",
       "      <td>0</td>\n",
       "    </tr>\n",
       "    <tr>\n",
       "      <th>13</th>\n",
       "      <td>0.000000</td>\n",
       "      <td>0.100000</td>\n",
       "      <td>0.1</td>\n",
       "      <td>0.600000</td>\n",
       "      <td>0.000000</td>\n",
       "      <td>0.000000</td>\n",
       "      <td>1</td>\n",
       "    </tr>\n",
       "    <tr>\n",
       "      <th>...</th>\n",
       "      <td>...</td>\n",
       "      <td>...</td>\n",
       "      <td>...</td>\n",
       "      <td>...</td>\n",
       "      <td>...</td>\n",
       "      <td>...</td>\n",
       "      <td>...</td>\n",
       "    </tr>\n",
       "    <tr>\n",
       "      <th>1804863</th>\n",
       "      <td>0.000000</td>\n",
       "      <td>0.000000</td>\n",
       "      <td>0.0</td>\n",
       "      <td>0.200000</td>\n",
       "      <td>0.000000</td>\n",
       "      <td>0.000000</td>\n",
       "      <td>0</td>\n",
       "    </tr>\n",
       "    <tr>\n",
       "      <th>1804865</th>\n",
       "      <td>0.000000</td>\n",
       "      <td>0.000000</td>\n",
       "      <td>0.0</td>\n",
       "      <td>0.166667</td>\n",
       "      <td>0.166667</td>\n",
       "      <td>0.000000</td>\n",
       "      <td>0</td>\n",
       "    </tr>\n",
       "    <tr>\n",
       "      <th>1804866</th>\n",
       "      <td>0.000000</td>\n",
       "      <td>0.000000</td>\n",
       "      <td>0.0</td>\n",
       "      <td>0.100000</td>\n",
       "      <td>0.000000</td>\n",
       "      <td>0.200000</td>\n",
       "      <td>0</td>\n",
       "    </tr>\n",
       "    <tr>\n",
       "      <th>1804867</th>\n",
       "      <td>0.000000</td>\n",
       "      <td>0.000000</td>\n",
       "      <td>0.0</td>\n",
       "      <td>0.200000</td>\n",
       "      <td>0.000000</td>\n",
       "      <td>0.000000</td>\n",
       "      <td>0</td>\n",
       "    </tr>\n",
       "    <tr>\n",
       "      <th>1804872</th>\n",
       "      <td>0.030303</td>\n",
       "      <td>0.030303</td>\n",
       "      <td>0.0</td>\n",
       "      <td>0.621212</td>\n",
       "      <td>0.045455</td>\n",
       "      <td>0.000000</td>\n",
       "      <td>1</td>\n",
       "    </tr>\n",
       "  </tbody>\n",
       "</table>\n",
       "<p>541135 rows × 7 columns</p>\n",
       "</div>"
      ],
      "text/plain": [
       "         severe_toxicity   obscene  threat    insult  identity_attack  \\\n",
       "4               0.021277  0.000000     0.0  0.872340         0.021277   \n",
       "5               0.047619  0.638095     0.0  0.333333         0.000000   \n",
       "6               0.050847  0.305085     0.0  0.254237         0.000000   \n",
       "11              0.000000  0.293333     0.0  0.320000         0.000000   \n",
       "13              0.000000  0.100000     0.1  0.600000         0.000000   \n",
       "...                  ...       ...     ...       ...              ...   \n",
       "1804863         0.000000  0.000000     0.0  0.200000         0.000000   \n",
       "1804865         0.000000  0.000000     0.0  0.166667         0.166667   \n",
       "1804866         0.000000  0.000000     0.0  0.100000         0.000000   \n",
       "1804867         0.000000  0.000000     0.0  0.200000         0.000000   \n",
       "1804872         0.030303  0.030303     0.0  0.621212         0.045455   \n",
       "\n",
       "         sexual_explicit  target  \n",
       "4               0.000000       1  \n",
       "5               0.009524       1  \n",
       "6               0.220339       0  \n",
       "11              0.040000       0  \n",
       "13              0.000000       1  \n",
       "...                  ...     ...  \n",
       "1804863         0.000000       0  \n",
       "1804865         0.000000       0  \n",
       "1804866         0.200000       0  \n",
       "1804867         0.000000       0  \n",
       "1804872         0.000000       1  \n",
       "\n",
       "[541135 rows x 7 columns]"
      ]
     },
     "execution_count": 20,
     "metadata": {},
     "output_type": "execute_result"
    }
   ],
   "source": [
    "# Display the dataset without the undersampling condition\n",
    "data[~undersamplingCondition][auxColumns + ['target']]"
   ]
  },
  {
   "cell_type": "markdown",
   "id": "ad7546a9",
   "metadata": {
    "id": "ad7546a9"
   },
   "source": [
    "* We will take all the datapoints from the above dataset, which is having atleast one toxicity subgroups or target class label as non-zero."
   ]
  },
  {
   "cell_type": "code",
   "execution_count": null,
   "id": "d7c01e91",
   "metadata": {
    "id": "d7c01e91"
   },
   "outputs": [],
   "source": [
    "dataPositive = data[~undersamplingCondition]"
   ]
  },
  {
   "cell_type": "code",
   "execution_count": null,
   "id": "8151b20e",
   "metadata": {
    "id": "8151b20e",
    "outputId": "c332d1da-c720-4ada-e041-6d1a7bd4b2fe"
   },
   "outputs": [
    {
     "name": "stdout",
     "output_type": "stream",
     "text": [
      "Shape of the datapoints having atleast one toxicity subgroups and class labels as non-zero:  (541135, 45)\n"
     ]
    }
   ],
   "source": [
    "print('Shape of the datapoints having atleast one toxicity subgroups and class labels as non-zero: ', dataPositive.shape)"
   ]
  },
  {
   "cell_type": "code",
   "execution_count": null,
   "id": "b033a6ed",
   "metadata": {
    "id": "b033a6ed",
    "outputId": "c52821ca-ad21-4b0f-8e8c-c5493aaecbda"
   },
   "outputs": [
    {
     "data": {
      "text/html": [
       "<div>\n",
       "<style scoped>\n",
       "    .dataframe tbody tr th:only-of-type {\n",
       "        vertical-align: middle;\n",
       "    }\n",
       "\n",
       "    .dataframe tbody tr th {\n",
       "        vertical-align: top;\n",
       "    }\n",
       "\n",
       "    .dataframe thead th {\n",
       "        text-align: right;\n",
       "    }\n",
       "</style>\n",
       "<table border=\"1\" class=\"dataframe\">\n",
       "  <thead>\n",
       "    <tr style=\"text-align: right;\">\n",
       "      <th></th>\n",
       "      <th>id</th>\n",
       "      <th>target</th>\n",
       "      <th>comment_text</th>\n",
       "      <th>severe_toxicity</th>\n",
       "      <th>obscene</th>\n",
       "      <th>identity_attack</th>\n",
       "      <th>insult</th>\n",
       "      <th>threat</th>\n",
       "      <th>asian</th>\n",
       "      <th>atheist</th>\n",
       "      <th>bisexual</th>\n",
       "      <th>black</th>\n",
       "      <th>buddhist</th>\n",
       "      <th>christian</th>\n",
       "      <th>female</th>\n",
       "      <th>heterosexual</th>\n",
       "      <th>hindu</th>\n",
       "      <th>homosexual_gay_or_lesbian</th>\n",
       "      <th>intellectual_or_learning_disability</th>\n",
       "      <th>jewish</th>\n",
       "      <th>latino</th>\n",
       "      <th>male</th>\n",
       "      <th>muslim</th>\n",
       "      <th>other_disability</th>\n",
       "      <th>other_gender</th>\n",
       "      <th>other_race_or_ethnicity</th>\n",
       "      <th>other_religion</th>\n",
       "      <th>other_sexual_orientation</th>\n",
       "      <th>physical_disability</th>\n",
       "      <th>psychiatric_or_mental_illness</th>\n",
       "      <th>transgender</th>\n",
       "      <th>white</th>\n",
       "      <th>created_date</th>\n",
       "      <th>publication_id</th>\n",
       "      <th>parent_id</th>\n",
       "      <th>article_id</th>\n",
       "      <th>rating</th>\n",
       "      <th>funny</th>\n",
       "      <th>wow</th>\n",
       "      <th>sad</th>\n",
       "      <th>likes</th>\n",
       "      <th>disagree</th>\n",
       "      <th>sexual_explicit</th>\n",
       "      <th>identity_annotator_count</th>\n",
       "      <th>toxicity_annotator_count</th>\n",
       "    </tr>\n",
       "  </thead>\n",
       "  <tbody>\n",
       "    <tr>\n",
       "      <th>4</th>\n",
       "      <td>59856</td>\n",
       "      <td>1</td>\n",
       "      <td>haha you guys are a bunch of losers.</td>\n",
       "      <td>0.021277</td>\n",
       "      <td>0.000000</td>\n",
       "      <td>0.021277</td>\n",
       "      <td>0.872340</td>\n",
       "      <td>0.0</td>\n",
       "      <td>0.0</td>\n",
       "      <td>0.0</td>\n",
       "      <td>0.0</td>\n",
       "      <td>0.0</td>\n",
       "      <td>0.0</td>\n",
       "      <td>0.0</td>\n",
       "      <td>0.0</td>\n",
       "      <td>0.0</td>\n",
       "      <td>0.0</td>\n",
       "      <td>0.0</td>\n",
       "      <td>0.25</td>\n",
       "      <td>0.0</td>\n",
       "      <td>0.0</td>\n",
       "      <td>0.0</td>\n",
       "      <td>0.0</td>\n",
       "      <td>0.0</td>\n",
       "      <td>0.0</td>\n",
       "      <td>0.0</td>\n",
       "      <td>0.0</td>\n",
       "      <td>0.0</td>\n",
       "      <td>0.0</td>\n",
       "      <td>0.0</td>\n",
       "      <td>0.0</td>\n",
       "      <td>0.0</td>\n",
       "      <td>2015-09-29 10:50:48.488476+00</td>\n",
       "      <td>2</td>\n",
       "      <td>NaN</td>\n",
       "      <td>2006</td>\n",
       "      <td>rejected</td>\n",
       "      <td>0</td>\n",
       "      <td>0</td>\n",
       "      <td>0</td>\n",
       "      <td>1</td>\n",
       "      <td>0</td>\n",
       "      <td>0.000000</td>\n",
       "      <td>4</td>\n",
       "      <td>47</td>\n",
       "    </tr>\n",
       "    <tr>\n",
       "      <th>5</th>\n",
       "      <td>59859</td>\n",
       "      <td>1</td>\n",
       "      <td>ur a sh*tty comment.</td>\n",
       "      <td>0.047619</td>\n",
       "      <td>0.638095</td>\n",
       "      <td>0.000000</td>\n",
       "      <td>0.333333</td>\n",
       "      <td>0.0</td>\n",
       "      <td>NaN</td>\n",
       "      <td>NaN</td>\n",
       "      <td>NaN</td>\n",
       "      <td>NaN</td>\n",
       "      <td>NaN</td>\n",
       "      <td>NaN</td>\n",
       "      <td>NaN</td>\n",
       "      <td>NaN</td>\n",
       "      <td>NaN</td>\n",
       "      <td>NaN</td>\n",
       "      <td>NaN</td>\n",
       "      <td>NaN</td>\n",
       "      <td>NaN</td>\n",
       "      <td>NaN</td>\n",
       "      <td>NaN</td>\n",
       "      <td>NaN</td>\n",
       "      <td>NaN</td>\n",
       "      <td>NaN</td>\n",
       "      <td>NaN</td>\n",
       "      <td>NaN</td>\n",
       "      <td>NaN</td>\n",
       "      <td>NaN</td>\n",
       "      <td>NaN</td>\n",
       "      <td>NaN</td>\n",
       "      <td>2015-09-29 10:50:50.865549+00</td>\n",
       "      <td>2</td>\n",
       "      <td>NaN</td>\n",
       "      <td>2006</td>\n",
       "      <td>rejected</td>\n",
       "      <td>0</td>\n",
       "      <td>0</td>\n",
       "      <td>0</td>\n",
       "      <td>0</td>\n",
       "      <td>0</td>\n",
       "      <td>0.009524</td>\n",
       "      <td>0</td>\n",
       "      <td>105</td>\n",
       "    </tr>\n",
       "    <tr>\n",
       "      <th>6</th>\n",
       "      <td>59861</td>\n",
       "      <td>0</td>\n",
       "      <td>hahahahahahahahhha suck it.</td>\n",
       "      <td>0.050847</td>\n",
       "      <td>0.305085</td>\n",
       "      <td>0.000000</td>\n",
       "      <td>0.254237</td>\n",
       "      <td>0.0</td>\n",
       "      <td>NaN</td>\n",
       "      <td>NaN</td>\n",
       "      <td>NaN</td>\n",
       "      <td>NaN</td>\n",
       "      <td>NaN</td>\n",
       "      <td>NaN</td>\n",
       "      <td>NaN</td>\n",
       "      <td>NaN</td>\n",
       "      <td>NaN</td>\n",
       "      <td>NaN</td>\n",
       "      <td>NaN</td>\n",
       "      <td>NaN</td>\n",
       "      <td>NaN</td>\n",
       "      <td>NaN</td>\n",
       "      <td>NaN</td>\n",
       "      <td>NaN</td>\n",
       "      <td>NaN</td>\n",
       "      <td>NaN</td>\n",
       "      <td>NaN</td>\n",
       "      <td>NaN</td>\n",
       "      <td>NaN</td>\n",
       "      <td>NaN</td>\n",
       "      <td>NaN</td>\n",
       "      <td>NaN</td>\n",
       "      <td>2015-09-29 10:50:52.451277+00</td>\n",
       "      <td>2</td>\n",
       "      <td>NaN</td>\n",
       "      <td>2006</td>\n",
       "      <td>rejected</td>\n",
       "      <td>0</td>\n",
       "      <td>0</td>\n",
       "      <td>0</td>\n",
       "      <td>0</td>\n",
       "      <td>0</td>\n",
       "      <td>0.220339</td>\n",
       "      <td>0</td>\n",
       "      <td>59</td>\n",
       "    </tr>\n",
       "    <tr>\n",
       "      <th>11</th>\n",
       "      <td>239579</td>\n",
       "      <td>0</td>\n",
       "      <td>This is a great story. Man. I wonder if the pe...</td>\n",
       "      <td>0.000000</td>\n",
       "      <td>0.293333</td>\n",
       "      <td>0.000000</td>\n",
       "      <td>0.320000</td>\n",
       "      <td>0.0</td>\n",
       "      <td>0.0</td>\n",
       "      <td>0.0</td>\n",
       "      <td>0.0</td>\n",
       "      <td>0.0</td>\n",
       "      <td>0.0</td>\n",
       "      <td>0.0</td>\n",
       "      <td>0.0</td>\n",
       "      <td>0.0</td>\n",
       "      <td>0.0</td>\n",
       "      <td>0.0</td>\n",
       "      <td>0.00</td>\n",
       "      <td>0.0</td>\n",
       "      <td>0.0</td>\n",
       "      <td>0.6</td>\n",
       "      <td>0.0</td>\n",
       "      <td>0.0</td>\n",
       "      <td>0.0</td>\n",
       "      <td>0.0</td>\n",
       "      <td>0.0</td>\n",
       "      <td>0.0</td>\n",
       "      <td>0.0</td>\n",
       "      <td>0.0</td>\n",
       "      <td>0.0</td>\n",
       "      <td>0.0</td>\n",
       "      <td>2016-01-13 18:43:00.710664+00</td>\n",
       "      <td>6</td>\n",
       "      <td>239524.0</td>\n",
       "      <td>26650</td>\n",
       "      <td>approved</td>\n",
       "      <td>0</td>\n",
       "      <td>0</td>\n",
       "      <td>0</td>\n",
       "      <td>1</td>\n",
       "      <td>0</td>\n",
       "      <td>0.040000</td>\n",
       "      <td>10</td>\n",
       "      <td>75</td>\n",
       "    </tr>\n",
       "    <tr>\n",
       "      <th>13</th>\n",
       "      <td>239583</td>\n",
       "      <td>1</td>\n",
       "      <td>It's ridiculous that these guys are being call...</td>\n",
       "      <td>0.000000</td>\n",
       "      <td>0.100000</td>\n",
       "      <td>0.000000</td>\n",
       "      <td>0.600000</td>\n",
       "      <td>0.1</td>\n",
       "      <td>NaN</td>\n",
       "      <td>NaN</td>\n",
       "      <td>NaN</td>\n",
       "      <td>NaN</td>\n",
       "      <td>NaN</td>\n",
       "      <td>NaN</td>\n",
       "      <td>NaN</td>\n",
       "      <td>NaN</td>\n",
       "      <td>NaN</td>\n",
       "      <td>NaN</td>\n",
       "      <td>NaN</td>\n",
       "      <td>NaN</td>\n",
       "      <td>NaN</td>\n",
       "      <td>NaN</td>\n",
       "      <td>NaN</td>\n",
       "      <td>NaN</td>\n",
       "      <td>NaN</td>\n",
       "      <td>NaN</td>\n",
       "      <td>NaN</td>\n",
       "      <td>NaN</td>\n",
       "      <td>NaN</td>\n",
       "      <td>NaN</td>\n",
       "      <td>NaN</td>\n",
       "      <td>NaN</td>\n",
       "      <td>2016-01-13 19:02:22.655293+00</td>\n",
       "      <td>6</td>\n",
       "      <td>NaN</td>\n",
       "      <td>26670</td>\n",
       "      <td>approved</td>\n",
       "      <td>0</td>\n",
       "      <td>0</td>\n",
       "      <td>0</td>\n",
       "      <td>3</td>\n",
       "      <td>0</td>\n",
       "      <td>0.000000</td>\n",
       "      <td>0</td>\n",
       "      <td>10</td>\n",
       "    </tr>\n",
       "  </tbody>\n",
       "</table>\n",
       "</div>"
      ],
      "text/plain": [
       "        id  target                                       comment_text  \\\n",
       "4    59856       1               haha you guys are a bunch of losers.   \n",
       "5    59859       1                               ur a sh*tty comment.   \n",
       "6    59861       0                        hahahahahahahahhha suck it.   \n",
       "11  239579       0  This is a great story. Man. I wonder if the pe...   \n",
       "13  239583       1  It's ridiculous that these guys are being call...   \n",
       "\n",
       "    severe_toxicity   obscene  identity_attack    insult  threat  asian  \\\n",
       "4          0.021277  0.000000         0.021277  0.872340     0.0    0.0   \n",
       "5          0.047619  0.638095         0.000000  0.333333     0.0    NaN   \n",
       "6          0.050847  0.305085         0.000000  0.254237     0.0    NaN   \n",
       "11         0.000000  0.293333         0.000000  0.320000     0.0    0.0   \n",
       "13         0.000000  0.100000         0.000000  0.600000     0.1    NaN   \n",
       "\n",
       "    atheist  bisexual  black  buddhist  christian  female  heterosexual  \\\n",
       "4       0.0       0.0    0.0       0.0        0.0     0.0           0.0   \n",
       "5       NaN       NaN    NaN       NaN        NaN     NaN           NaN   \n",
       "6       NaN       NaN    NaN       NaN        NaN     NaN           NaN   \n",
       "11      0.0       0.0    0.0       0.0        0.0     0.0           0.0   \n",
       "13      NaN       NaN    NaN       NaN        NaN     NaN           NaN   \n",
       "\n",
       "    hindu  homosexual_gay_or_lesbian  intellectual_or_learning_disability  \\\n",
       "4     0.0                        0.0                                 0.25   \n",
       "5     NaN                        NaN                                  NaN   \n",
       "6     NaN                        NaN                                  NaN   \n",
       "11    0.0                        0.0                                 0.00   \n",
       "13    NaN                        NaN                                  NaN   \n",
       "\n",
       "    jewish  latino  male  muslim  other_disability  other_gender  \\\n",
       "4      0.0     0.0   0.0     0.0               0.0           0.0   \n",
       "5      NaN     NaN   NaN     NaN               NaN           NaN   \n",
       "6      NaN     NaN   NaN     NaN               NaN           NaN   \n",
       "11     0.0     0.0   0.6     0.0               0.0           0.0   \n",
       "13     NaN     NaN   NaN     NaN               NaN           NaN   \n",
       "\n",
       "    other_race_or_ethnicity  other_religion  other_sexual_orientation  \\\n",
       "4                       0.0             0.0                       0.0   \n",
       "5                       NaN             NaN                       NaN   \n",
       "6                       NaN             NaN                       NaN   \n",
       "11                      0.0             0.0                       0.0   \n",
       "13                      NaN             NaN                       NaN   \n",
       "\n",
       "    physical_disability  psychiatric_or_mental_illness  transgender  white  \\\n",
       "4                   0.0                            0.0          0.0    0.0   \n",
       "5                   NaN                            NaN          NaN    NaN   \n",
       "6                   NaN                            NaN          NaN    NaN   \n",
       "11                  0.0                            0.0          0.0    0.0   \n",
       "13                  NaN                            NaN          NaN    NaN   \n",
       "\n",
       "                     created_date  publication_id  parent_id  article_id  \\\n",
       "4   2015-09-29 10:50:48.488476+00               2        NaN        2006   \n",
       "5   2015-09-29 10:50:50.865549+00               2        NaN        2006   \n",
       "6   2015-09-29 10:50:52.451277+00               2        NaN        2006   \n",
       "11  2016-01-13 18:43:00.710664+00               6   239524.0       26650   \n",
       "13  2016-01-13 19:02:22.655293+00               6        NaN       26670   \n",
       "\n",
       "      rating  funny  wow  sad  likes  disagree  sexual_explicit  \\\n",
       "4   rejected      0    0    0      1         0         0.000000   \n",
       "5   rejected      0    0    0      0         0         0.009524   \n",
       "6   rejected      0    0    0      0         0         0.220339   \n",
       "11  approved      0    0    0      1         0         0.040000   \n",
       "13  approved      0    0    0      3         0         0.000000   \n",
       "\n",
       "    identity_annotator_count  toxicity_annotator_count  \n",
       "4                          4                        47  \n",
       "5                          0                       105  \n",
       "6                          0                        59  \n",
       "11                        10                        75  \n",
       "13                         0                        10  "
      ]
     },
     "execution_count": 23,
     "metadata": {},
     "output_type": "execute_result"
    }
   ],
   "source": [
    "# Display top 5 records.\n",
    "dataPositive.head()"
   ]
  },
  {
   "cell_type": "code",
   "execution_count": null,
   "id": "ba71827b",
   "metadata": {
    "id": "ba71827b"
   },
   "outputs": [],
   "source": [
    "# Concatenate these two datasets to get the final dataset.\n",
    "dataFinal = pd.concat([dataPositive, dataNegative])"
   ]
  },
  {
   "cell_type": "code",
   "execution_count": null,
   "id": "e6e48d0a",
   "metadata": {
    "id": "e6e48d0a",
    "outputId": "0105dd67-ae5f-40b3-c8b7-14dcf7fc8f63"
   },
   "outputs": [
    {
     "name": "stdout",
     "output_type": "stream",
     "text": [
      "Shape of the final dataset after removal of random 45% of the datapoints having toxicity subgroups and target as 0:\n",
      " (1109818, 45)\n"
     ]
    }
   ],
   "source": [
    "print('Shape of the final dataset after removal of random 45% of the datapoints having toxicity subgroups and target as 0:\\n',\n",
    "      dataFinal.shape)"
   ]
  },
  {
   "cell_type": "code",
   "execution_count": null,
   "id": "156cd00c",
   "metadata": {
    "id": "156cd00c",
    "outputId": "432355c4-8429-456b-f70e-a05c40ad43d9"
   },
   "outputs": [
    {
     "data": {
      "text/html": [
       "<div>\n",
       "<style scoped>\n",
       "    .dataframe tbody tr th:only-of-type {\n",
       "        vertical-align: middle;\n",
       "    }\n",
       "\n",
       "    .dataframe tbody tr th {\n",
       "        vertical-align: top;\n",
       "    }\n",
       "\n",
       "    .dataframe thead th {\n",
       "        text-align: right;\n",
       "    }\n",
       "</style>\n",
       "<table border=\"1\" class=\"dataframe\">\n",
       "  <thead>\n",
       "    <tr style=\"text-align: right;\">\n",
       "      <th></th>\n",
       "      <th>id</th>\n",
       "      <th>target</th>\n",
       "      <th>comment_text</th>\n",
       "      <th>severe_toxicity</th>\n",
       "      <th>obscene</th>\n",
       "      <th>identity_attack</th>\n",
       "      <th>insult</th>\n",
       "      <th>threat</th>\n",
       "      <th>asian</th>\n",
       "      <th>atheist</th>\n",
       "      <th>bisexual</th>\n",
       "      <th>black</th>\n",
       "      <th>buddhist</th>\n",
       "      <th>christian</th>\n",
       "      <th>female</th>\n",
       "      <th>heterosexual</th>\n",
       "      <th>hindu</th>\n",
       "      <th>homosexual_gay_or_lesbian</th>\n",
       "      <th>intellectual_or_learning_disability</th>\n",
       "      <th>jewish</th>\n",
       "      <th>latino</th>\n",
       "      <th>male</th>\n",
       "      <th>muslim</th>\n",
       "      <th>other_disability</th>\n",
       "      <th>other_gender</th>\n",
       "      <th>other_race_or_ethnicity</th>\n",
       "      <th>other_religion</th>\n",
       "      <th>other_sexual_orientation</th>\n",
       "      <th>physical_disability</th>\n",
       "      <th>psychiatric_or_mental_illness</th>\n",
       "      <th>transgender</th>\n",
       "      <th>white</th>\n",
       "      <th>created_date</th>\n",
       "      <th>publication_id</th>\n",
       "      <th>parent_id</th>\n",
       "      <th>article_id</th>\n",
       "      <th>rating</th>\n",
       "      <th>funny</th>\n",
       "      <th>wow</th>\n",
       "      <th>sad</th>\n",
       "      <th>likes</th>\n",
       "      <th>disagree</th>\n",
       "      <th>sexual_explicit</th>\n",
       "      <th>identity_annotator_count</th>\n",
       "      <th>toxicity_annotator_count</th>\n",
       "    </tr>\n",
       "  </thead>\n",
       "  <tbody>\n",
       "    <tr>\n",
       "      <th>4</th>\n",
       "      <td>59856</td>\n",
       "      <td>1</td>\n",
       "      <td>haha you guys are a bunch of losers.</td>\n",
       "      <td>0.021277</td>\n",
       "      <td>0.000000</td>\n",
       "      <td>0.021277</td>\n",
       "      <td>0.872340</td>\n",
       "      <td>0.0</td>\n",
       "      <td>0.0</td>\n",
       "      <td>0.0</td>\n",
       "      <td>0.0</td>\n",
       "      <td>0.0</td>\n",
       "      <td>0.0</td>\n",
       "      <td>0.0</td>\n",
       "      <td>0.0</td>\n",
       "      <td>0.0</td>\n",
       "      <td>0.0</td>\n",
       "      <td>0.0</td>\n",
       "      <td>0.25</td>\n",
       "      <td>0.0</td>\n",
       "      <td>0.0</td>\n",
       "      <td>0.0</td>\n",
       "      <td>0.0</td>\n",
       "      <td>0.0</td>\n",
       "      <td>0.0</td>\n",
       "      <td>0.0</td>\n",
       "      <td>0.0</td>\n",
       "      <td>0.0</td>\n",
       "      <td>0.0</td>\n",
       "      <td>0.0</td>\n",
       "      <td>0.0</td>\n",
       "      <td>0.0</td>\n",
       "      <td>2015-09-29 10:50:48.488476+00</td>\n",
       "      <td>2</td>\n",
       "      <td>NaN</td>\n",
       "      <td>2006</td>\n",
       "      <td>rejected</td>\n",
       "      <td>0</td>\n",
       "      <td>0</td>\n",
       "      <td>0</td>\n",
       "      <td>1</td>\n",
       "      <td>0</td>\n",
       "      <td>0.000000</td>\n",
       "      <td>4</td>\n",
       "      <td>47</td>\n",
       "    </tr>\n",
       "    <tr>\n",
       "      <th>5</th>\n",
       "      <td>59859</td>\n",
       "      <td>1</td>\n",
       "      <td>ur a sh*tty comment.</td>\n",
       "      <td>0.047619</td>\n",
       "      <td>0.638095</td>\n",
       "      <td>0.000000</td>\n",
       "      <td>0.333333</td>\n",
       "      <td>0.0</td>\n",
       "      <td>NaN</td>\n",
       "      <td>NaN</td>\n",
       "      <td>NaN</td>\n",
       "      <td>NaN</td>\n",
       "      <td>NaN</td>\n",
       "      <td>NaN</td>\n",
       "      <td>NaN</td>\n",
       "      <td>NaN</td>\n",
       "      <td>NaN</td>\n",
       "      <td>NaN</td>\n",
       "      <td>NaN</td>\n",
       "      <td>NaN</td>\n",
       "      <td>NaN</td>\n",
       "      <td>NaN</td>\n",
       "      <td>NaN</td>\n",
       "      <td>NaN</td>\n",
       "      <td>NaN</td>\n",
       "      <td>NaN</td>\n",
       "      <td>NaN</td>\n",
       "      <td>NaN</td>\n",
       "      <td>NaN</td>\n",
       "      <td>NaN</td>\n",
       "      <td>NaN</td>\n",
       "      <td>NaN</td>\n",
       "      <td>2015-09-29 10:50:50.865549+00</td>\n",
       "      <td>2</td>\n",
       "      <td>NaN</td>\n",
       "      <td>2006</td>\n",
       "      <td>rejected</td>\n",
       "      <td>0</td>\n",
       "      <td>0</td>\n",
       "      <td>0</td>\n",
       "      <td>0</td>\n",
       "      <td>0</td>\n",
       "      <td>0.009524</td>\n",
       "      <td>0</td>\n",
       "      <td>105</td>\n",
       "    </tr>\n",
       "    <tr>\n",
       "      <th>6</th>\n",
       "      <td>59861</td>\n",
       "      <td>0</td>\n",
       "      <td>hahahahahahahahhha suck it.</td>\n",
       "      <td>0.050847</td>\n",
       "      <td>0.305085</td>\n",
       "      <td>0.000000</td>\n",
       "      <td>0.254237</td>\n",
       "      <td>0.0</td>\n",
       "      <td>NaN</td>\n",
       "      <td>NaN</td>\n",
       "      <td>NaN</td>\n",
       "      <td>NaN</td>\n",
       "      <td>NaN</td>\n",
       "      <td>NaN</td>\n",
       "      <td>NaN</td>\n",
       "      <td>NaN</td>\n",
       "      <td>NaN</td>\n",
       "      <td>NaN</td>\n",
       "      <td>NaN</td>\n",
       "      <td>NaN</td>\n",
       "      <td>NaN</td>\n",
       "      <td>NaN</td>\n",
       "      <td>NaN</td>\n",
       "      <td>NaN</td>\n",
       "      <td>NaN</td>\n",
       "      <td>NaN</td>\n",
       "      <td>NaN</td>\n",
       "      <td>NaN</td>\n",
       "      <td>NaN</td>\n",
       "      <td>NaN</td>\n",
       "      <td>NaN</td>\n",
       "      <td>NaN</td>\n",
       "      <td>2015-09-29 10:50:52.451277+00</td>\n",
       "      <td>2</td>\n",
       "      <td>NaN</td>\n",
       "      <td>2006</td>\n",
       "      <td>rejected</td>\n",
       "      <td>0</td>\n",
       "      <td>0</td>\n",
       "      <td>0</td>\n",
       "      <td>0</td>\n",
       "      <td>0</td>\n",
       "      <td>0.220339</td>\n",
       "      <td>0</td>\n",
       "      <td>59</td>\n",
       "    </tr>\n",
       "    <tr>\n",
       "      <th>11</th>\n",
       "      <td>239579</td>\n",
       "      <td>0</td>\n",
       "      <td>This is a great story. Man. I wonder if the pe...</td>\n",
       "      <td>0.000000</td>\n",
       "      <td>0.293333</td>\n",
       "      <td>0.000000</td>\n",
       "      <td>0.320000</td>\n",
       "      <td>0.0</td>\n",
       "      <td>0.0</td>\n",
       "      <td>0.0</td>\n",
       "      <td>0.0</td>\n",
       "      <td>0.0</td>\n",
       "      <td>0.0</td>\n",
       "      <td>0.0</td>\n",
       "      <td>0.0</td>\n",
       "      <td>0.0</td>\n",
       "      <td>0.0</td>\n",
       "      <td>0.0</td>\n",
       "      <td>0.00</td>\n",
       "      <td>0.0</td>\n",
       "      <td>0.0</td>\n",
       "      <td>0.6</td>\n",
       "      <td>0.0</td>\n",
       "      <td>0.0</td>\n",
       "      <td>0.0</td>\n",
       "      <td>0.0</td>\n",
       "      <td>0.0</td>\n",
       "      <td>0.0</td>\n",
       "      <td>0.0</td>\n",
       "      <td>0.0</td>\n",
       "      <td>0.0</td>\n",
       "      <td>0.0</td>\n",
       "      <td>2016-01-13 18:43:00.710664+00</td>\n",
       "      <td>6</td>\n",
       "      <td>239524.0</td>\n",
       "      <td>26650</td>\n",
       "      <td>approved</td>\n",
       "      <td>0</td>\n",
       "      <td>0</td>\n",
       "      <td>0</td>\n",
       "      <td>1</td>\n",
       "      <td>0</td>\n",
       "      <td>0.040000</td>\n",
       "      <td>10</td>\n",
       "      <td>75</td>\n",
       "    </tr>\n",
       "    <tr>\n",
       "      <th>13</th>\n",
       "      <td>239583</td>\n",
       "      <td>1</td>\n",
       "      <td>It's ridiculous that these guys are being call...</td>\n",
       "      <td>0.000000</td>\n",
       "      <td>0.100000</td>\n",
       "      <td>0.000000</td>\n",
       "      <td>0.600000</td>\n",
       "      <td>0.1</td>\n",
       "      <td>NaN</td>\n",
       "      <td>NaN</td>\n",
       "      <td>NaN</td>\n",
       "      <td>NaN</td>\n",
       "      <td>NaN</td>\n",
       "      <td>NaN</td>\n",
       "      <td>NaN</td>\n",
       "      <td>NaN</td>\n",
       "      <td>NaN</td>\n",
       "      <td>NaN</td>\n",
       "      <td>NaN</td>\n",
       "      <td>NaN</td>\n",
       "      <td>NaN</td>\n",
       "      <td>NaN</td>\n",
       "      <td>NaN</td>\n",
       "      <td>NaN</td>\n",
       "      <td>NaN</td>\n",
       "      <td>NaN</td>\n",
       "      <td>NaN</td>\n",
       "      <td>NaN</td>\n",
       "      <td>NaN</td>\n",
       "      <td>NaN</td>\n",
       "      <td>NaN</td>\n",
       "      <td>NaN</td>\n",
       "      <td>2016-01-13 19:02:22.655293+00</td>\n",
       "      <td>6</td>\n",
       "      <td>NaN</td>\n",
       "      <td>26670</td>\n",
       "      <td>approved</td>\n",
       "      <td>0</td>\n",
       "      <td>0</td>\n",
       "      <td>0</td>\n",
       "      <td>3</td>\n",
       "      <td>0</td>\n",
       "      <td>0.000000</td>\n",
       "      <td>0</td>\n",
       "      <td>10</td>\n",
       "    </tr>\n",
       "  </tbody>\n",
       "</table>\n",
       "</div>"
      ],
      "text/plain": [
       "        id  target                                       comment_text  \\\n",
       "4    59856       1               haha you guys are a bunch of losers.   \n",
       "5    59859       1                               ur a sh*tty comment.   \n",
       "6    59861       0                        hahahahahahahahhha suck it.   \n",
       "11  239579       0  This is a great story. Man. I wonder if the pe...   \n",
       "13  239583       1  It's ridiculous that these guys are being call...   \n",
       "\n",
       "    severe_toxicity   obscene  identity_attack    insult  threat  asian  \\\n",
       "4          0.021277  0.000000         0.021277  0.872340     0.0    0.0   \n",
       "5          0.047619  0.638095         0.000000  0.333333     0.0    NaN   \n",
       "6          0.050847  0.305085         0.000000  0.254237     0.0    NaN   \n",
       "11         0.000000  0.293333         0.000000  0.320000     0.0    0.0   \n",
       "13         0.000000  0.100000         0.000000  0.600000     0.1    NaN   \n",
       "\n",
       "    atheist  bisexual  black  buddhist  christian  female  heterosexual  \\\n",
       "4       0.0       0.0    0.0       0.0        0.0     0.0           0.0   \n",
       "5       NaN       NaN    NaN       NaN        NaN     NaN           NaN   \n",
       "6       NaN       NaN    NaN       NaN        NaN     NaN           NaN   \n",
       "11      0.0       0.0    0.0       0.0        0.0     0.0           0.0   \n",
       "13      NaN       NaN    NaN       NaN        NaN     NaN           NaN   \n",
       "\n",
       "    hindu  homosexual_gay_or_lesbian  intellectual_or_learning_disability  \\\n",
       "4     0.0                        0.0                                 0.25   \n",
       "5     NaN                        NaN                                  NaN   \n",
       "6     NaN                        NaN                                  NaN   \n",
       "11    0.0                        0.0                                 0.00   \n",
       "13    NaN                        NaN                                  NaN   \n",
       "\n",
       "    jewish  latino  male  muslim  other_disability  other_gender  \\\n",
       "4      0.0     0.0   0.0     0.0               0.0           0.0   \n",
       "5      NaN     NaN   NaN     NaN               NaN           NaN   \n",
       "6      NaN     NaN   NaN     NaN               NaN           NaN   \n",
       "11     0.0     0.0   0.6     0.0               0.0           0.0   \n",
       "13     NaN     NaN   NaN     NaN               NaN           NaN   \n",
       "\n",
       "    other_race_or_ethnicity  other_religion  other_sexual_orientation  \\\n",
       "4                       0.0             0.0                       0.0   \n",
       "5                       NaN             NaN                       NaN   \n",
       "6                       NaN             NaN                       NaN   \n",
       "11                      0.0             0.0                       0.0   \n",
       "13                      NaN             NaN                       NaN   \n",
       "\n",
       "    physical_disability  psychiatric_or_mental_illness  transgender  white  \\\n",
       "4                   0.0                            0.0          0.0    0.0   \n",
       "5                   NaN                            NaN          NaN    NaN   \n",
       "6                   NaN                            NaN          NaN    NaN   \n",
       "11                  0.0                            0.0          0.0    0.0   \n",
       "13                  NaN                            NaN          NaN    NaN   \n",
       "\n",
       "                     created_date  publication_id  parent_id  article_id  \\\n",
       "4   2015-09-29 10:50:48.488476+00               2        NaN        2006   \n",
       "5   2015-09-29 10:50:50.865549+00               2        NaN        2006   \n",
       "6   2015-09-29 10:50:52.451277+00               2        NaN        2006   \n",
       "11  2016-01-13 18:43:00.710664+00               6   239524.0       26650   \n",
       "13  2016-01-13 19:02:22.655293+00               6        NaN       26670   \n",
       "\n",
       "      rating  funny  wow  sad  likes  disagree  sexual_explicit  \\\n",
       "4   rejected      0    0    0      1         0         0.000000   \n",
       "5   rejected      0    0    0      0         0         0.009524   \n",
       "6   rejected      0    0    0      0         0         0.220339   \n",
       "11  approved      0    0    0      1         0         0.040000   \n",
       "13  approved      0    0    0      3         0         0.000000   \n",
       "\n",
       "    identity_annotator_count  toxicity_annotator_count  \n",
       "4                          4                        47  \n",
       "5                          0                       105  \n",
       "6                          0                        59  \n",
       "11                        10                        75  \n",
       "13                         0                        10  "
      ]
     },
     "execution_count": 26,
     "metadata": {},
     "output_type": "execute_result"
    }
   ],
   "source": [
    "# Display top 5 records.\n",
    "dataFinal.head()"
   ]
  },
  {
   "cell_type": "markdown",
   "id": "3f700d45",
   "metadata": {
    "id": "3f700d45"
   },
   "source": [
    "----"
   ]
  },
  {
   "cell_type": "markdown",
   "id": "bf730716",
   "metadata": {
    "id": "bf730716"
   },
   "source": [
    "## 2.2. Add weightage to each datapoints\n",
    "\n",
    "* All the data points are assigned a weight of 0.25 initially.\n",
    "* If a data point belongs to BPSN group, an additional weight of 0.25 is assigned.\n",
    "* If a data point belongs to any one of the identity subgroups (9 identity groups), then an additional weight of 0.25 is assigned.\n",
    "* These weights will be used during the loss calculation by multiplying the loss by the weight of the data point."
   ]
  },
  {
   "cell_type": "code",
   "execution_count": null,
   "id": "4dec52f1",
   "metadata": {
    "id": "4dec52f1"
   },
   "outputs": [],
   "source": [
    "# Reference: '2nd Place Solution' - https://www.kaggle.com/c/jigsaw-unintended-bias-in-toxicity-classification/discussion/100661\n",
    "\n",
    "# Series to contain the boolean values indicating the presence of Subgroups\n",
    "subgroupBool = (dataFinal[identitySubgroups].fillna(0) >= 0.5).sum(axis=1) > 0\n",
    "\n",
    "# Series to contain the boolean values indicating the presence of toxicity\n",
    "positiveBool = dataFinal['target'] >= 0.5"
   ]
  },
  {
   "cell_type": "code",
   "execution_count": null,
   "id": "bb61152a",
   "metadata": {
    "id": "bb61152a",
    "outputId": "65e02a93-bc43-4043-94d4-e944c5d30d21"
   },
   "outputs": [
    {
     "name": "stdout",
     "output_type": "stream",
     "text": [
      "Loss Weight:  3.067274141816981\n",
      "CPU times: user 25.3 ms, sys: 297 µs, total: 25.6 ms\n",
      "Wall time: 24.2 ms\n"
     ]
    }
   ],
   "source": [
    "%%time\n",
    "\n",
    "# Overall: Intialize the weights with 0.25 (common for all data points).\n",
    "weights = np.ones(len(dataFinal)) / 4\n",
    "\n",
    "# BPSN: # Add an additional weightage of 0.25 in case of BPSN.\n",
    "weights[((~subgroupBool) & (positiveBool)) | ((subgroupBool) & (~positiveBool))] += 0.25\n",
    "\n",
    "# Subgroup: Add an additional weightage of 0.25 if the data point belongs to any one of the identity subgroup.\n",
    "weights[(subgroupBool)] += 0.25\n",
    "\n",
    "# loss Weight\n",
    "lossWeight = 1 / weights.mean()\n",
    "\n",
    "print('Loss Weight: ', lossWeight)"
   ]
  },
  {
   "cell_type": "markdown",
   "id": "9384da74",
   "metadata": {
    "id": "9384da74"
   },
   "source": [
    "## 2.3. Data Preparation\n",
    "\n",
    "* Here, we will do the following:<br>\n",
    "&emsp; i. Convert the target class to have binary values: 1 if toxicity >= 0.5 and 0 otherwise.<br>\n",
    "&emsp; ii. Convert the Identity Subgroup Attributes to boolean flags indicating true if the score >= 0.5 and false otherwise. These boolean values will be used in evaluating the model based on the custom metrics.<br>\n",
    "&emsp; iii. Generate the Class Label having binary class value and weight of each datapoint.<br>"
   ]
  },
  {
   "cell_type": "code",
   "execution_count": null,
   "id": "f177387f",
   "metadata": {
    "colab": {
     "referenced_widgets": [
      "4c4cf51d28df48bcb2ac0dc83e04f448",
      "b96cead6744a49618abbe21d5887a0c6",
      "cda9a3f503c64b54a48128f2d20d7d59"
     ]
    },
    "id": "f177387f",
    "outputId": "0783de53-2192-4dff-ae77-d483f5578277"
   },
   "outputs": [
    {
     "data": {
      "application/vnd.jupyter.widget-view+json": {
       "model_id": "cda9a3f503c64b54a48128f2d20d7d59",
       "version_major": 2,
       "version_minor": 0
      },
      "text/plain": [
       "  0%|          | 0/9 [00:00<?, ?it/s]"
      ]
     },
     "metadata": {},
     "output_type": "display_data"
    },
    {
     "name": "stdout",
     "output_type": "stream",
     "text": [
      "Class Label Data:\n",
      "\n",
      "CPU times: user 2.36 s, sys: 538 ms, total: 2.9 s\n",
      "Wall time: 2.89 s\n"
     ]
    },
    {
     "data": {
      "text/plain": [
       "array([[1.  , 0.5 ],\n",
       "       [1.  , 0.5 ],\n",
       "       [0.  , 0.25],\n",
       "       ...,\n",
       "       [0.  , 0.75],\n",
       "       [0.  , 0.75],\n",
       "       [0.  , 0.25]])"
      ]
     },
     "execution_count": 29,
     "metadata": {},
     "output_type": "execute_result"
    }
   ],
   "source": [
    "%%time\n",
    "# Convert the target feature to binary values: 1 when the toxicity score >= 0.5 and 0 otherwise.\n",
    "dataFinal['target'] = dataFinal['target'].apply(lambda x: 1 if x >= 0.5 else 0)\n",
    "\n",
    "# Convert the value of the above identity subgroups as true when their value >= 0.5 and false otherwise.\n",
    "# This will be required while calculating the performance metrics\n",
    "for subgroup in tqdm(identitySubgroups):\n",
    "    \n",
    "    dataFinal[subgroup] = dataFinal[subgroup].apply(lambda x: True if x >= 0.5 else False)\n",
    "    \n",
    "# Prepare the Class Label data containing binary class label and the weightage of each datapoint.\n",
    "yData = np.vstack([dataFinal['target'], weights]).T\n",
    "\n",
    "print('Class Label Data:\\n')\n",
    "yData"
   ]
  },
  {
   "cell_type": "markdown",
   "id": "41c092d0",
   "metadata": {
    "id": "41c092d0"
   },
   "source": [
    "----"
   ]
  },
  {
   "cell_type": "markdown",
   "id": "8f785ea2",
   "metadata": {
    "id": "8f785ea2"
   },
   "source": [
    "# 3. Sequence Lenth\n",
    "\n",
    "* Determine the maximum sequence length that be considered by checking the percentil values of the length of words in all the comment texts."
   ]
  },
  {
   "cell_type": "code",
   "execution_count": null,
   "id": "34735376",
   "metadata": {
    "id": "34735376",
    "outputId": "feb4f7af-64af-422a-defe-548e8aff493a"
   },
   "outputs": [
    {
     "name": "stdout",
     "output_type": "stream",
     "text": [
      "CPU times: user 3.96 s, sys: 1.19 ms, total: 3.96 s\n",
      "Wall time: 3.96 s\n"
     ]
    }
   ],
   "source": [
    "%%time\n",
    "# Store the length of the comment texts in a list\n",
    "listWordCnt = dataFinal['comment_text'].apply(lambda x: len(x.split()))"
   ]
  },
  {
   "cell_type": "code",
   "execution_count": null,
   "id": "32f6a890",
   "metadata": {
    "id": "32f6a890"
   },
   "outputs": [],
   "source": [
    "def showPercentiles(listPercentiles, listWordCount):\n",
    "    '''\n",
    "    Function to display the percentile values of the number of words in the comments texts.\n",
    "    \n",
    "    Parameters:\n",
    "    ----------\n",
    "    listPercentiles: list\n",
    "        List of percentile values that has to be calculated and displayed.\n",
    "    listWordCount: list\n",
    "        List of length of sentences in a given language.\n",
    "    '''\n",
    "    \n",
    "    for p in listPercentiles:\n",
    "        \n",
    "        print('{}th percentile of the Comment Texts have \\'{}\\' words'.format(round(p, 1),\n",
    "                                                                             round(np.percentile(listWordCount, p))))"
   ]
  },
  {
   "cell_type": "markdown",
   "id": "8c0c0d96",
   "metadata": {
    "id": "8c0c0d96"
   },
   "source": [
    "## 3.1. Sequence Length of Comment Texts\n",
    "\n",
    "* Inorder to set the sequence length for the comment texts, let's check the percentile values of the maximum words in the comment texts."
   ]
  },
  {
   "cell_type": "code",
   "execution_count": null,
   "id": "44c79a6d",
   "metadata": {
    "id": "44c79a6d",
    "outputId": "763261ff-a4be-4e53-b747-4c68d4796bea"
   },
   "outputs": [
    {
     "name": "stdout",
     "output_type": "stream",
     "text": [
      "0th percentile of the Comment Texts have '1' words\n",
      "10th percentile of the Comment Texts have '9' words\n",
      "20th percentile of the Comment Texts have '14' words\n",
      "30th percentile of the Comment Texts have '20' words\n",
      "40th percentile of the Comment Texts have '28' words\n",
      "50th percentile of the Comment Texts have '36' words\n",
      "60th percentile of the Comment Texts have '48' words\n",
      "70th percentile of the Comment Texts have '63' words\n",
      "80th percentile of the Comment Texts have '87' words\n",
      "90th percentile of the Comment Texts have '130' words\n",
      "100th percentile of the Comment Texts have '317' words\n"
     ]
    }
   ],
   "source": [
    "# Display the 0-100th percentiles for Comment Text's length\n",
    "showPercentiles(np.arange(0, 101, 10), listWordCnt)"
   ]
  },
  {
   "cell_type": "code",
   "execution_count": null,
   "id": "7c9d7afa",
   "metadata": {
    "id": "7c9d7afa",
    "outputId": "d1991a46-e89f-45f3-ceef-f30c70ad6c3a"
   },
   "outputs": [
    {
     "name": "stdout",
     "output_type": "stream",
     "text": [
      "91th percentile of the Comment Texts have '136' words\n",
      "92th percentile of the Comment Texts have '142' words\n",
      "93th percentile of the Comment Texts have '149' words\n",
      "94th percentile of the Comment Texts have '155' words\n",
      "95th percentile of the Comment Texts have '160' words\n",
      "96th percentile of the Comment Texts have '164' words\n",
      "97th percentile of the Comment Texts have '168' words\n",
      "98th percentile of the Comment Texts have '173' words\n",
      "99th percentile of the Comment Texts have '179' words\n",
      "100th percentile of the Comment Texts have '317' words\n"
     ]
    }
   ],
   "source": [
    "# Display the 91-100th percentiles for Comment Text's length\n",
    "showPercentiles(np.arange(91, 101, 1), listWordCnt)"
   ]
  },
  {
   "cell_type": "code",
   "execution_count": null,
   "id": "9751f075",
   "metadata": {
    "id": "9751f075",
    "outputId": "cece6506-9027-44be-b00d-ad7ede05032f"
   },
   "outputs": [
    {
     "name": "stdout",
     "output_type": "stream",
     "text": [
      "99.1th percentile of the Comment Texts have '179' words\n",
      "99.2th percentile of the Comment Texts have '180' words\n",
      "99.3th percentile of the Comment Texts have '181' words\n",
      "99.4th percentile of the Comment Texts have '182' words\n",
      "99.5th percentile of the Comment Texts have '183' words\n",
      "99.6th percentile of the Comment Texts have '185' words\n",
      "99.7th percentile of the Comment Texts have '186' words\n",
      "99.8th percentile of the Comment Texts have '189' words\n",
      "99.9th percentile of the Comment Texts have '192' words\n",
      "100.0th percentile of the Comment Texts have '317' words\n"
     ]
    }
   ],
   "source": [
    "# Display the 99.1-100th percentiles for Comment Text's length\n",
    "showPercentiles(np.arange(99.1, 100.1, 0.1), listWordCnt)"
   ]
  },
  {
   "cell_type": "markdown",
   "id": "0eaa2d50",
   "metadata": {
    "id": "0eaa2d50"
   },
   "source": [
    "#### Observation from the percentiles of comment texts' length\n",
    "\n",
    "* We can observe that 99.9% of the comment texts have a maximum length of 192 words.\n",
    "* We will take a maximum sequence length of 300 because we will tokenize the texts using BERT Tokenizer and it splits some words into sub-tokens.\n",
    "* For example, it would encode a website url 'http://www.google.com' (sequence length = 1) to 'http : / / www. google. com' (sequence length = 7).\n",
    "* Hence to avoid any loss of information, we would take the maximum sequence length as 300."
   ]
  },
  {
   "cell_type": "code",
   "execution_count": null,
   "id": "de5fc2b0",
   "metadata": {
    "id": "de5fc2b0",
    "outputId": "8045f2e6-f226-4ef1-b508-871f04cb5d28"
   },
   "outputs": [
    {
     "name": "stdout",
     "output_type": "stream",
     "text": [
      "Maximum Sequence Length:  300\n"
     ]
    }
   ],
   "source": [
    "# Define the maximum sequence length\n",
    "maxSeqLength = math.ceil(np.percentile(listWordCnt, 99.9)) + 108\n",
    "\n",
    "print('Maximum Sequence Length: ', maxSeqLength)"
   ]
  },
  {
   "cell_type": "markdown",
   "id": "c79ed7e7",
   "metadata": {
    "id": "c79ed7e7"
   },
   "source": [
    "----"
   ]
  },
  {
   "cell_type": "markdown",
   "id": "73a2874f",
   "metadata": {
    "id": "73a2874f"
   },
   "source": [
    "# 4. Split the Dataset into Train, Cross Validation and Test\n",
    "\n",
    "* Split the data into Train, Cross Validation and Test Dataset in the ratio of 72.25% : 15% : 12.75%."
   ]
  },
  {
   "cell_type": "code",
   "execution_count": null,
   "id": "b7f94f67",
   "metadata": {
    "id": "b7f94f67",
    "outputId": "0e50131b-a804-44b7-ac0c-5f187810dc81"
   },
   "outputs": [
    {
     "name": "stdout",
     "output_type": "stream",
     "text": [
      "CPU times: user 1.79 s, sys: 172 ms, total: 1.96 s\n",
      "Wall time: 1.96 s\n"
     ]
    }
   ],
   "source": [
    "%%time\n",
    "\n",
    "# Split into Train and CV Dataset.\n",
    "trainData, cvData, yTrain, yCV = train_test_split(dataFinal, yData, test_size=0.15, stratify=dataFinal['target'],\n",
    "                                                                  random_state=42)\n",
    "\n",
    "# Split into Train and Test Dataset.\n",
    "trainData, testData, yTrain, yTest = train_test_split(trainData, yTrain, test_size=0.15, \n",
    "                                                                      stratify=trainData['target'], random_state=42)"
   ]
  },
  {
   "cell_type": "code",
   "execution_count": null,
   "id": "5553d4b8",
   "metadata": {
    "id": "5553d4b8",
    "outputId": "b4f842aa-89cb-4d78-bdb3-ff6665330c1c"
   },
   "outputs": [
    {
     "name": "stdout",
     "output_type": "stream",
     "text": [
      "Shape of the Train Dataset:  (801843, 45)\n",
      "Shape of the CV Dataset:  (166473, 45)\n",
      "Shape of the Test Dataset:  (141502, 45)\n"
     ]
    }
   ],
   "source": [
    "print('Shape of the Train Dataset: ', trainData.shape)\n",
    "print('Shape of the CV Dataset: ', cvData.shape)\n",
    "print('Shape of the Test Dataset: ', testData.shape)"
   ]
  },
  {
   "cell_type": "code",
   "execution_count": null,
   "id": "b61899db",
   "metadata": {
    "id": "b61899db",
    "outputId": "8bd81fe3-840d-48b0-f5df-ff791f9a6954"
   },
   "outputs": [
    {
     "name": "stdout",
     "output_type": "stream",
     "text": [
      "Shape of the Train Class Labels:  (801843, 2)\n",
      "Shape of the CV Class Labels:  (166473, 2)\n",
      "Shape of the Test Class Labels:  (141502, 2)\n"
     ]
    }
   ],
   "source": [
    "print('Shape of the Train Class Labels: ', yTrain.shape)\n",
    "print('Shape of the CV Class Labels: ', yCV.shape)\n",
    "print('Shape of the Test Class Labels: ', yTest.shape)"
   ]
  },
  {
   "cell_type": "markdown",
   "id": "3567e1ec",
   "metadata": {
    "id": "3567e1ec"
   },
   "source": [
    "----"
   ]
  },
  {
   "cell_type": "markdown",
   "id": "d50bb18a",
   "metadata": {
    "id": "d50bb18a"
   },
   "source": [
    "# 5. Creating BERT Model for Text Embedding\n",
    "\n",
    "* We will use BERT Model to do text embedding for the comment texts.\n",
    "* Based on the experiments, it has been found that the concatenation of last four hidden outputs give the best results. Hence, we would concate the last four hidden outputs to get the text embedding vectors.\n",
    "\n",
    "## 5.1. BERT for Tokenization\n",
    "\n",
    "* First, we will tokenize the comment text using DistilBert Tokenizer.\n",
    "* After tokenization, we would convert the tokenized data to embedding vector using DistilBert Model."
   ]
  },
  {
   "cell_type": "code",
   "execution_count": 9,
   "id": "78cd4ded",
   "metadata": {
    "id": "78cd4ded"
   },
   "outputs": [],
   "source": [
    "def distilBertTokenize(bertTokenizerObj, texts, seqLen):\n",
    "    '''\n",
    "    Function to use the DistilBert Tokenizer and return the token ids and attention mask ids.\n",
    "    \n",
    "    Parameters:\n",
    "    ----------\n",
    "    bertTokenizerObj: BertTokenizer\n",
    "        BERT Tokenizer to tokenize the input text.\n",
    "    texts: str or Series\n",
    "        Text(s) to be tokenized using BERT Tokenizer.\n",
    "    seqLen: int\n",
    "        Maximum sequence length\n",
    "    '''\n",
    "    \n",
    "    # Define the output variables to be returned by the function\n",
    "    # List to store the token ids for the tokenized input text(s)\n",
    "    tokenIds = list()\n",
    "    \n",
    "    # List to store the attention masks.\n",
    "    # Mask to avoid performing attention on padding token indices. Mask values selected in [0, 1].\n",
    "    # 1 for tokens that are not masked and 0 for tokens that are masked.\n",
    "    attentionMasks = list()\n",
    "    \n",
    "    # Check the input text. If it is a str, convert it to a series. This is to support the function for single text \n",
    "    # in real-time evaluation.\n",
    "    if isinstance(texts, str):\n",
    "        \n",
    "        texts = pd.Series(texts)\n",
    "        \n",
    "    # Iterate through each of the given input texts and tokenize using BERT Tokenizer to get input ids, token type ids \n",
    "    # and attention masks.\n",
    "    for text in tqdm(texts):\n",
    "        \n",
    "        # Tokenize the text using given BERT Tokenizer\n",
    "        tokens = bertTokenizerObj.encode_plus(text, max_length=seqLen, truncation=True, padding=True, \n",
    "                                              pad_to_multiple_of=seqLen)\n",
    "        \n",
    "        # Add the input id (token id), token type id and attention mask to the respective lists.\n",
    "        tokenIds.append(tf.constant(tokens['input_ids']))\n",
    "        attentionMasks.append(tf.constant(tokens['attention_mask']))\n",
    "        \n",
    "    # Return the token ids, token type ids and attention masks\n",
    "    return tf.convert_to_tensor(tokenIds), tf.convert_to_tensor(attentionMasks)"
   ]
  },
  {
   "cell_type": "markdown",
   "id": "8be799e4",
   "metadata": {
    "id": "8be799e4"
   },
   "source": [
    "### Example of using BERT Tokenizer\n",
    "\n",
    "* Let's use the function 'distilBertTokenize()' to tokenize top 2 comments and return the input ids, token type ids and attention masks"
   ]
  },
  {
   "cell_type": "code",
   "execution_count": null,
   "id": "3a18e912",
   "metadata": {
    "colab": {
     "referenced_widgets": [
      "89183f8676374112a76afb76f0756e41"
     ]
    },
    "id": "3a18e912",
    "outputId": "a4a5c7d1-7fa6-4e57-f8f3-3331ea893e6d"
   },
   "outputs": [
    {
     "data": {
      "application/vnd.jupyter.widget-view+json": {
       "model_id": "89183f8676374112a76afb76f0756e41",
       "version_major": 2,
       "version_minor": 0
      },
      "text/plain": [
       "  0%|          | 0/2 [00:00<?, ?it/s]"
      ]
     },
     "metadata": {},
     "output_type": "display_data"
    },
    {
     "name": "stdout",
     "output_type": "stream",
     "text": [
      "CPU times: user 150 ms, sys: 2.03 ms, total: 152 ms\n",
      "Wall time: 1.47 s\n"
     ]
    }
   ],
   "source": [
    "%%time\n",
    "# Name of the BERT Model to be used.\n",
    "distilbert = 'distilbert-base-uncased'\n",
    "\n",
    "# Create a BERT Tokenizer Object\n",
    "distilbertTokenizer = DistilBertTokenizer.from_pretrained(distilbert)\n",
    "\n",
    "# Call the 'distilBertTokenize()' function to tokenize the comment texts to token ids, token type ids and attention masks.\n",
    "tokenIds, attentionMasks = distilBertTokenize(bertTokenizerObj=distilbertTokenizer, texts=dataFinal['comment_text'][:2],\n",
    "                                              seqLen=maxSeqLength)"
   ]
  },
  {
   "cell_type": "code",
   "execution_count": null,
   "id": "1dc08d4c",
   "metadata": {
    "id": "1dc08d4c",
    "outputId": "9b747da0-83c5-4234-bab1-ab4d9098816a"
   },
   "outputs": [
    {
     "name": "stdout",
     "output_type": "stream",
     "text": [
      "Display the token ids and attention masks for the top 2 comments in the dataset:\n",
      "\n",
      "Input Ids (Token Ids):  tf.Tensor(\n",
      "[[  101  5292  3270  2017  4364  2024  1037  9129  1997 23160  1012   102\n",
      "      0     0     0     0     0     0     0     0     0     0     0     0\n",
      "      0     0     0     0     0     0     0     0     0     0     0     0\n",
      "      0     0     0     0     0     0     0     0     0     0     0     0\n",
      "      0     0     0     0     0     0     0     0     0     0     0     0\n",
      "      0     0     0     0     0     0     0     0     0     0     0     0\n",
      "      0     0     0     0     0     0     0     0     0     0     0     0\n",
      "      0     0     0     0     0     0     0     0     0     0     0     0\n",
      "      0     0     0     0     0     0     0     0     0     0     0     0\n",
      "      0     0     0     0     0     0     0     0     0     0     0     0\n",
      "      0     0     0     0     0     0     0     0     0     0     0     0\n",
      "      0     0     0     0     0     0     0     0     0     0     0     0\n",
      "      0     0     0     0     0     0     0     0     0     0     0     0\n",
      "      0     0     0     0     0     0     0     0     0     0     0     0\n",
      "      0     0     0     0     0     0     0     0     0     0     0     0\n",
      "      0     0     0     0     0     0     0     0     0     0     0     0\n",
      "      0     0     0     0     0     0     0     0     0     0     0     0\n",
      "      0     0     0     0     0     0     0     0     0     0     0     0\n",
      "      0     0     0     0     0     0     0     0     0     0     0     0\n",
      "      0     0     0     0     0     0     0     0     0     0     0     0\n",
      "      0     0     0     0     0     0     0     0     0     0     0     0\n",
      "      0     0     0     0     0     0     0     0     0     0     0     0\n",
      "      0     0     0     0     0     0     0     0     0     0     0     0\n",
      "      0     0     0     0     0     0     0     0     0     0     0     0\n",
      "      0     0     0     0     0     0     0     0     0     0     0     0]\n",
      " [  101 24471  1037 14021  1008 23746  2100  7615  1012   102     0     0\n",
      "      0     0     0     0     0     0     0     0     0     0     0     0\n",
      "      0     0     0     0     0     0     0     0     0     0     0     0\n",
      "      0     0     0     0     0     0     0     0     0     0     0     0\n",
      "      0     0     0     0     0     0     0     0     0     0     0     0\n",
      "      0     0     0     0     0     0     0     0     0     0     0     0\n",
      "      0     0     0     0     0     0     0     0     0     0     0     0\n",
      "      0     0     0     0     0     0     0     0     0     0     0     0\n",
      "      0     0     0     0     0     0     0     0     0     0     0     0\n",
      "      0     0     0     0     0     0     0     0     0     0     0     0\n",
      "      0     0     0     0     0     0     0     0     0     0     0     0\n",
      "      0     0     0     0     0     0     0     0     0     0     0     0\n",
      "      0     0     0     0     0     0     0     0     0     0     0     0\n",
      "      0     0     0     0     0     0     0     0     0     0     0     0\n",
      "      0     0     0     0     0     0     0     0     0     0     0     0\n",
      "      0     0     0     0     0     0     0     0     0     0     0     0\n",
      "      0     0     0     0     0     0     0     0     0     0     0     0\n",
      "      0     0     0     0     0     0     0     0     0     0     0     0\n",
      "      0     0     0     0     0     0     0     0     0     0     0     0\n",
      "      0     0     0     0     0     0     0     0     0     0     0     0\n",
      "      0     0     0     0     0     0     0     0     0     0     0     0\n",
      "      0     0     0     0     0     0     0     0     0     0     0     0\n",
      "      0     0     0     0     0     0     0     0     0     0     0     0\n",
      "      0     0     0     0     0     0     0     0     0     0     0     0\n",
      "      0     0     0     0     0     0     0     0     0     0     0     0]], shape=(2, 300), dtype=int32)\n",
      "----------------------------------------------------------------------------------------------------\n",
      "Attention Masks:  tf.Tensor(\n",
      "[[1 1 1 1 1 1 1 1 1 1 1 1 0 0 0 0 0 0 0 0 0 0 0 0 0 0 0 0 0 0 0 0 0 0 0 0\n",
      "  0 0 0 0 0 0 0 0 0 0 0 0 0 0 0 0 0 0 0 0 0 0 0 0 0 0 0 0 0 0 0 0 0 0 0 0\n",
      "  0 0 0 0 0 0 0 0 0 0 0 0 0 0 0 0 0 0 0 0 0 0 0 0 0 0 0 0 0 0 0 0 0 0 0 0\n",
      "  0 0 0 0 0 0 0 0 0 0 0 0 0 0 0 0 0 0 0 0 0 0 0 0 0 0 0 0 0 0 0 0 0 0 0 0\n",
      "  0 0 0 0 0 0 0 0 0 0 0 0 0 0 0 0 0 0 0 0 0 0 0 0 0 0 0 0 0 0 0 0 0 0 0 0\n",
      "  0 0 0 0 0 0 0 0 0 0 0 0 0 0 0 0 0 0 0 0 0 0 0 0 0 0 0 0 0 0 0 0 0 0 0 0\n",
      "  0 0 0 0 0 0 0 0 0 0 0 0 0 0 0 0 0 0 0 0 0 0 0 0 0 0 0 0 0 0 0 0 0 0 0 0\n",
      "  0 0 0 0 0 0 0 0 0 0 0 0 0 0 0 0 0 0 0 0 0 0 0 0 0 0 0 0 0 0 0 0 0 0 0 0\n",
      "  0 0 0 0 0 0 0 0 0 0 0 0]\n",
      " [1 1 1 1 1 1 1 1 1 1 0 0 0 0 0 0 0 0 0 0 0 0 0 0 0 0 0 0 0 0 0 0 0 0 0 0\n",
      "  0 0 0 0 0 0 0 0 0 0 0 0 0 0 0 0 0 0 0 0 0 0 0 0 0 0 0 0 0 0 0 0 0 0 0 0\n",
      "  0 0 0 0 0 0 0 0 0 0 0 0 0 0 0 0 0 0 0 0 0 0 0 0 0 0 0 0 0 0 0 0 0 0 0 0\n",
      "  0 0 0 0 0 0 0 0 0 0 0 0 0 0 0 0 0 0 0 0 0 0 0 0 0 0 0 0 0 0 0 0 0 0 0 0\n",
      "  0 0 0 0 0 0 0 0 0 0 0 0 0 0 0 0 0 0 0 0 0 0 0 0 0 0 0 0 0 0 0 0 0 0 0 0\n",
      "  0 0 0 0 0 0 0 0 0 0 0 0 0 0 0 0 0 0 0 0 0 0 0 0 0 0 0 0 0 0 0 0 0 0 0 0\n",
      "  0 0 0 0 0 0 0 0 0 0 0 0 0 0 0 0 0 0 0 0 0 0 0 0 0 0 0 0 0 0 0 0 0 0 0 0\n",
      "  0 0 0 0 0 0 0 0 0 0 0 0 0 0 0 0 0 0 0 0 0 0 0 0 0 0 0 0 0 0 0 0 0 0 0 0\n",
      "  0 0 0 0 0 0 0 0 0 0 0 0]], shape=(2, 300), dtype=int32)\n"
     ]
    }
   ],
   "source": [
    "print('Display the token ids and attention masks for the top 2 comments in the dataset:\\n')\n",
    "print('Input Ids (Token Ids): ', tokenIds)\n",
    "print('--'*50)\n",
    "print('Attention Masks: ', attentionMasks)"
   ]
  },
  {
   "cell_type": "markdown",
   "id": "7c2ce0d7",
   "metadata": {
    "id": "7c2ce0d7"
   },
   "source": [
    "## 5.2. Tokenize the Comment Text using DistilBert tokenizer\n",
    "\n",
    "* Tokenize the Train, CV and Test Dataset comment texts using DistilBert Tokenizer and store the input ids (token ids) and attention masks.\n",
    "* Prepare the data in the format required for modelling.\n",
    "* Extract the features and class labels to be used for modelling.\n",
    "* Store all the required data for modelling in a pickle file."
   ]
  },
  {
   "cell_type": "code",
   "execution_count": 10,
   "id": "62ad7302",
   "metadata": {
    "colab": {
     "base_uri": "https://localhost:8080/"
    },
    "id": "62ad7302",
    "outputId": "0b04df2e-956f-4a19-e855-b2389174e578"
   },
   "outputs": [
    {
     "name": "stdout",
     "output_type": "stream",
     "text": [
      "CPU times: user 2.16 s, sys: 4.97 s, total: 7.12 s\n",
      "Wall time: 29.9 s\n"
     ]
    }
   ],
   "source": [
    "%%time\n",
    "#variablesPicklePath = 'Resources/finalVariablesDistilBertBBU.pkl' # Variable containing the path of the pickle file.\n",
    "variablesPicklePath = F'/content/gdrive/My Drive/Case Study 2/finalVariablesDistilBertBBU.pkl' # Google Drive location\n",
    "if os.path.isfile(variablesPicklePath): \n",
    "    \n",
    "    with open(variablesPicklePath, 'rb') as f:\n",
    "        \n",
    "        # Read all the processed variables.\n",
    "        xTrainTokenIds, xTrainAttentionMasks, yTrainW, yTrainAux, \\\n",
    "                     xCVTokenIds, xCVAttentionMasks, yCVW, yCVAux, \\\n",
    "                     xTestTokenIds, xTestAttentionMasks, yTestW, yTestAux, \\\n",
    "                     testData, lossWeight, maxSeqLength, identitySubgroups, auxColumns = pickle.load(f)\n",
    "else:\n",
    "    \n",
    "    # Name of the DistilBert Model to be used.\n",
    "    distilBert = 'distilbert-base-uncased'\n",
    "\n",
    "    # Create a DistilBERT Tokenizer Object\n",
    "    distilBertTokenizer = DistilBertTokenizer.from_pretrained(distilBert)\n",
    "\n",
    "    # Call the 'distilBertTokenize()' function to tokenize the comment texts to token ids and attention masks\n",
    "    # for train, cv and test datasets' comments.\n",
    "    # Taking Abbreviation 'DBU' for 'distilbert-base-uncased'\n",
    "    xTrainTokenIds, xTrainAttentionMasks = distilBertTokenize(bertTokenizerObj=distilBertTokenizer, \n",
    "                                                                            texts=trainData['comment_text'],\n",
    "                                                                            seqLen=maxSeqLength)\n",
    "\n",
    "    xCVTokenIds, xCVAttentionMasks = distilBertTokenize(bertTokenizerObj=distilBertTokenizer, \n",
    "                                                                            texts=cvData['comment_text'],\n",
    "                                                                            seqLen=maxSeqLength)\n",
    "\n",
    "    xTestTokenIds, xTestAttentionMasks = distilBertTokenize(bertTokenizerObj=distilBertTokenizer, \n",
    "                                                                            texts=testData['comment_text'],\n",
    "                                                                            seqLen=maxSeqLength)\n",
    "    \n",
    "    # Training Data\n",
    "    yTrainW = yTrain # Toxicity Class Label along with weights.\n",
    "    yTrainAux = trainData[auxColumns].values # Toxicity Subgroup Classes.\n",
    "\n",
    "    # Validation Data\n",
    "    yCVW = yCV # Toxicity Class Label along with weights.\n",
    "    yCVAux = cvData[auxColumns].values # Toxicity Subgroup Classes.\n",
    "\n",
    "    # Test Data\n",
    "    yTestW = yTest # Toxicity Class Label along with weights.\n",
    "    yTestAux = testData[auxColumns].values # Toxicity Subgroup Classes.\n",
    "    \n",
    "    #with open(variablesPicklePath, 'wb') as f:\n",
    "        \n",
    "        #pickle.dump([xTrainTokenIds, xTrainAttentionMasks, yTrainW, yTrainAux,\n",
    "                     #xCVTokenIds, xCVAttentionMasks, yCVW, yCVAux,\n",
    "                     #xTestTokenIds, xTestAttentionMasks, yTestW, yTestAux,\n",
    "                     #testData, lossWeight, maxSeqLength, identitySubgroups, auxColumns], f)"
   ]
  },
  {
   "cell_type": "code",
   "execution_count": 11,
   "id": "WFwaCg_gHQTM",
   "metadata": {
    "colab": {
     "base_uri": "https://localhost:8080/"
    },
    "id": "WFwaCg_gHQTM",
    "outputId": "e8f68eb9-fd3b-464b-b584-ff5e04d4d359"
   },
   "outputs": [
    {
     "name": "stdout",
     "output_type": "stream",
     "text": [
      "Train Data: Token Ids:  (801843, 300)\n",
      "Train Data: Attention Masks: (801843, 300)\n",
      "Train Data: Class Label (with weights) Shape:  (801843, 2)\n",
      "Train Data: Toxicity Subgroup Class Shape:  (801843, 6)\n",
      "------------------------------\n",
      "Train Data: Token Ids:  (166473, 300)\n",
      "Train Data: Attention Masks: (166473, 300)\n",
      "Validation Data: Class Label (with weights) Shape:  (166473, 2)\n",
      "Validation Data: Toxicity Subgroup Class Shape:  (166473, 6)\n",
      "------------------------------\n",
      "Train Data: Token Ids:  (141502, 300)\n",
      "Train Data: Attention Masks: (141502, 300)\n",
      "Test Data: Class Label (with weights) Shape:  (141502, 2)\n",
      "Test Data: Toxicity Subgroup Class Shape:  (141502, 6)\n"
     ]
    }
   ],
   "source": [
    "print('Train Data: Token Ids: ', xTrainTokenIds.shape)\n",
    "print('Train Data: Attention Masks:', xTrainAttentionMasks.shape)\n",
    "print('Train Data: Class Label (with weights) Shape: ', yTrainW.shape)\n",
    "print('Train Data: Toxicity Subgroup Class Shape: ', yTrainAux.shape)\n",
    "print('--'*15)\n",
    "print('Train Data: Token Ids: ', xCVTokenIds.shape)\n",
    "print('Train Data: Attention Masks:', xCVAttentionMasks.shape)\n",
    "print('Validation Data: Class Label (with weights) Shape: ', yCVW.shape)\n",
    "print('Validation Data: Toxicity Subgroup Class Shape: ', yCVAux.shape)\n",
    "print('--'*15)\n",
    "print('Train Data: Token Ids: ', xTestTokenIds.shape)\n",
    "print('Train Data: Attention Masks:', xTestAttentionMasks.shape)\n",
    "print('Test Data: Class Label (with weights) Shape: ', yTestW.shape)\n",
    "print('Test Data: Toxicity Subgroup Class Shape: ', yTestAux.shape)"
   ]
  },
  {
   "cell_type": "markdown",
   "id": "de92d65a",
   "metadata": {
    "id": "de92d65a"
   },
   "source": [
    "----"
   ]
  },
  {
   "cell_type": "markdown",
   "id": "2a667718",
   "metadata": {
    "id": "2a667718"
   },
   "source": [
    "## 5.3. Create BERT Model to generate Text Embedding Vectors\n",
    "\n",
    "* We will use pre-trained DistilBert model to generate text embedding vectors based on the token ids and attention masks for a given comment text."
   ]
  },
  {
   "cell_type": "code",
   "execution_count": 12,
   "id": "681edeb5",
   "metadata": {
    "id": "681edeb5"
   },
   "outputs": [],
   "source": [
    "def createDistilBERT(bert, seqLen, last4Layer=False):\n",
    "    '''\n",
    "    Function to create a DistilBERT Model that would return the Text Embeddings for a given token ids and\n",
    "    attention masks of a comment text.\n",
    "    \n",
    "    Parameters:\n",
    "    ----------\n",
    "    bert: BERT Model.\n",
    "        BERT model to be used for generative the text embedded vectors.\n",
    "    seqLen: int\n",
    "        Maximum sequence length of the comment texts.\n",
    "    last4Layer: bool\n",
    "        Flag to indicate whether to include the last 4 hidden layer outputs or not.\n",
    "    '''\n",
    "    \n",
    "    # Clearing the graph of TensorFlow\n",
    "    backend.clear_session()\n",
    "    \n",
    "    # Define the Input Layers for Input Ids, Input Type Ids and Attention Masks\n",
    "    inputIdsLayer = Input(shape=(seqLen, ), dtype=tf.int32, name='InputIdsLayer')\n",
    "    attentionMasksLayer = Input(shape=(seqLen, ), dtype=tf.int32, name='AttentionMasksLayer')\n",
    "    \n",
    "    # Bert Model Encoder\n",
    "    bertEncoder = bert(input_ids=inputIdsLayer, attention_mask=attentionMasksLayer)\n",
    "\n",
    "    if last4Layer == True:\n",
    "    \n",
    "        # Concate the output from the last 4 encoder layers of the BERT Model.\n",
    "        concateBERTEmbedLayer = Concatenate(axis=-1, name='BERTEmbeddingVectorsConcateLayer')([\n",
    "            bertEncoder['hidden_states'][-1][:,0,:], bertEncoder['hidden_states'][-2][:,0,:],\n",
    "            bertEncoder['hidden_states'][-4][:,0,:], bertEncoder['hidden_states'][-4][:,0,:]\n",
    "        ])\n",
    "        # Expand the embedding layer output\n",
    "        outputLayer = tf.expand_dims(concateBERTEmbedLayer, axis=0)\n",
    "\n",
    "    else:\n",
    "\n",
    "        #outputLayer = tf.expand_dims(bertEncoder['hidden_states'][-1][0,0,:], axis=0)\n",
    "        outputLayer = bertEncoder['last_hidden_state'][:,0,:]\n",
    "        \n",
    "    # Define the Model using the above defined input and output layers\n",
    "    model = Model(inputs=[inputIdsLayer, attentionMasksLayer], outputs=outputLayer)\n",
    "    \n",
    "    # Return the Model\n",
    "    return model"
   ]
  },
  {
   "cell_type": "code",
   "execution_count": 13,
   "id": "902da755",
   "metadata": {
    "colab": {
     "base_uri": "https://localhost:8080/",
     "height": 480,
     "referenced_widgets": [
      "f7e6bf4048104b788b062ae9b2e66807",
      "a81988fdc0434d8fa915f6b6637de0cd",
      "f9de484c01604af8b1c587551c9383ee",
      "ee0b7f1c35e74c05a160d0d4176cd653",
      "8e935a490710418fb4780c16bcc76bc2",
      "0183526a8a48430aac6d89f0f857835c",
      "5d540880ac5642f0b0ca3929a4faa32e",
      "fa579ad899e64cb2a9e3984bf31d3106",
      "8939da89e78b49859bc4e30deee50706",
      "a5c1d998d71e4d24bfbb06860c5ac738",
      "fe882c59f22047f59f195586467b9763",
      "c16494351a424cc7a2f132e2d77ef512",
      "011bd749a4f542ac97978b6ae86e8b30",
      "1cf29754113d4a4d9e46107715de0e37",
      "16c461b4b2ae4295bb78428fde2ac838",
      "74c9cec90c3c4b6db845befee36b4258",
      "8c5006a5daff4d10b213325e95517c8c",
      "90ff95c6a26d4dcd9ed04f2260a50aa2",
      "e17605474286462fb60473ce34469230",
      "06cd824fda774becb89ae87d78304d06",
      "c04691182b5b4bb1bc13bc75dd3421f2",
      "fe978ea67d7a48219776f44abcaff6e2"
     ]
    },
    "id": "902da755",
    "outputId": "e75fdbcf-af73-4421-bb50-135f80cae959"
   },
   "outputs": [
    {
     "data": {
      "application/vnd.jupyter.widget-view+json": {
       "model_id": "f7e6bf4048104b788b062ae9b2e66807",
       "version_major": 2,
       "version_minor": 0
      },
      "text/plain": [
       "Downloading:   0%|          | 0.00/483 [00:00<?, ?B/s]"
      ]
     },
     "metadata": {},
     "output_type": "display_data"
    },
    {
     "data": {
      "application/vnd.jupyter.widget-view+json": {
       "model_id": "c16494351a424cc7a2f132e2d77ef512",
       "version_major": 2,
       "version_minor": 0
      },
      "text/plain": [
       "Downloading:   0%|          | 0.00/347M [00:00<?, ?B/s]"
      ]
     },
     "metadata": {},
     "output_type": "display_data"
    },
    {
     "name": "stdout",
     "output_type": "stream",
     "text": [
      "Model: \"model\"\n",
      "__________________________________________________________________________________________________\n",
      " Layer (type)                   Output Shape         Param #     Connected to                     \n",
      "==================================================================================================\n",
      " InputIdsLayer (InputLayer)     [(None, 300)]        0           []                               \n",
      "                                                                                                  \n",
      " AttentionMasksLayer (InputLaye  [(None, 300)]       0           []                               \n",
      " r)                                                                                               \n",
      "                                                                                                  \n",
      " tf_distil_bert_model (TFDistil  TFBaseModelOutput(l  66362880   ['InputIdsLayer[0][0]',          \n",
      " BertModel)                     ast_hidden_state=(N               'AttentionMasksLayer[0][0]']    \n",
      "                                one, 300, 768),                                                   \n",
      "                                 hidden_states=None                                               \n",
      "                                , attentions=None)                                                \n",
      "                                                                                                  \n",
      " tf.__operators__.getitem (Slic  (None, 768)         0           ['tf_distil_bert_model[0][0]']   \n",
      " ingOpLambda)                                                                                     \n",
      "                                                                                                  \n",
      "==================================================================================================\n",
      "Total params: 66,362,880\n",
      "Trainable params: 0\n",
      "Non-trainable params: 66,362,880\n",
      "__________________________________________________________________________________________________\n"
     ]
    }
   ],
   "source": [
    "# Name of the BERT Model to be used.\n",
    "bert = 'distilbert-base-uncased'\n",
    "\n",
    "# Configuration\n",
    "#distilBertConfig = DistilBertConfig.from_pretrained(bert, output_hidden_states=True)\n",
    "distilBertConfig = DistilBertConfig.from_pretrained(bert)\n",
    "\n",
    "# BERT Model\n",
    "distilBertModel = TFDistilBertModel.from_pretrained(bert, config=distilBertConfig, trainable=False)\n",
    "\n",
    "# Call the function 'createDistilBERT()' to get the model architecture of BERT ('distilbert-base-uncased').\n",
    "modeldistilBertBU = createDistilBERT(bert=distilBertModel, seqLen=maxSeqLength, last4Layer=False)\n",
    "\n",
    "# Print the summary of the Model to check if all the layers are properly defined or not.\n",
    "modeldistilBertBU.summary()"
   ]
  },
  {
   "cell_type": "markdown",
   "id": "f3935d30",
   "metadata": {
    "id": "f3935d30"
   },
   "source": [
    "## 5.4. Get Text Embedding from BERT Model\n",
    "\n",
    "### 5.4.1. Text Embedding for Training Dataset comments"
   ]
  },
  {
   "cell_type": "code",
   "execution_count": 15,
   "id": "391ef663",
   "metadata": {
    "colab": {
     "base_uri": "https://localhost:8080/"
    },
    "id": "391ef663",
    "outputId": "ce082ab1-854d-424a-99a5-1e1c285d850f"
   },
   "outputs": [
    {
     "name": "stdout",
     "output_type": "stream",
     "text": [
      "Shape of Text Embedded Vectors (Train Dataset):  (801843, 768)\n",
      "Shape of Text Embedded Vectors (Validation Dataset):  (166473, 768)\n",
      "Shape of Text Embedded Vectors (Test Dataset):  (141502, 768)\n"
     ]
    }
   ],
   "source": [
    "print('Shape of Text Embedded Vectors (Train Dataset): ', xTrainEmbeddings.shape)\n",
    "print('Shape of Text Embedded Vectors (Validation Dataset): ', xCVEmbeddings.shape)\n",
    "print('Shape of Text Embedded Vectors (Test Dataset): ', xTestEmbeddings.shape)"
   ]
  },
  {
   "cell_type": "code",
   "execution_count": null,
   "id": "E0iMPXMTMSeV",
   "metadata": {
    "colab": {
     "base_uri": "https://localhost:8080/"
    },
    "id": "E0iMPXMTMSeV",
    "outputId": "e116eaa6-072d-4f87-a0dc-4519a5fb736b"
   },
   "outputs": [
    {
     "name": "stdout",
     "output_type": "stream",
     "text": [
      "CPU times: user 20min 5s, sys: 4min 4s, total: 24min 9s\n",
      "Wall time: 2h 20min 46s\n"
     ]
    }
   ],
   "source": [
    "%%time\n",
    "# Text Embedding for Training Dataset.\n",
    "#trainEmbeddingsPath = 'Resources/xTrainEmbeddings.pkl'\n",
    "trainEmbeddingsPath = F'/content/gdrive/My Drive/Case Study 2/xTrainEmbeddings.pkl'\n",
    "if os.path.isfile(trainEmbeddingsPath):\n",
    "    \n",
    "    with open(trainEmbeddingsPath, 'rb') as f:\n",
    "        \n",
    "        xTrainEmbeddings = pickle.load(f)\n",
    "        \n",
    "else:\n",
    "    \n",
    "    # Get Text Embedding Vectors for the Train Dataset Tokens\n",
    "    xTrainEmbeddings = modeldistilBertBU.predict([xTrainTokenIds, xTrainAttentionMasks])\n",
    "    \n",
    "    with open(trainEmbeddingsPath, 'wb') as f:\n",
    "        \n",
    "        pickle.dump(xTrainEmbeddings, f)\n",
    "        \n",
    "    # This cell execution took around 2.5 hours in Colab Pro."
   ]
  },
  {
   "cell_type": "markdown",
   "id": "0ce1ed1b",
   "metadata": {
    "id": "0ce1ed1b"
   },
   "source": [
    "### 5.4.2. Text Embedding for Validation Dataset comments"
   ]
  },
  {
   "cell_type": "code",
   "execution_count": null,
   "id": "615a8b10",
   "metadata": {
    "id": "615a8b10",
    "outputId": "fa3ff043-cda9-4da5-9ebd-7695cc0dec65"
   },
   "outputs": [
    {
     "name": "stdout",
     "output_type": "stream",
     "text": [
      "CPU times: user 1d 16h 56min 51s, sys: 4h 27min 22s, total: 1d 21h 24min 14s\n",
      "Wall time: 3h 16min 19s\n"
     ]
    }
   ],
   "source": [
    "%%time\n",
    "# Text Embedding for Validation Dataset.\n",
    "cvEmbeddingsPath = 'Resources/xCVEmbeddings.pkl'\n",
    "#cvEmbeddingsPath = F'/content/gdrive/My Drive/Case Study 2/xCVEmbeddings.pkl'\n",
    "if os.path.isfile(cvEmbeddingsPath):\n",
    "    \n",
    "    with open(cvEmbeddingsPath, 'rb') as f:\n",
    "        \n",
    "        xCVEmbeddings = pickle.load(f)\n",
    "        \n",
    "else:\n",
    "    \n",
    "    # Get Text Embedding Vectors for the Validation Tokens\n",
    "    xCVEmbeddings = modeldistilBertBU.predict([xCVTokenIds, xCVAttentionMasks])\n",
    "    \n",
    "    with open(cvEmbeddingsPath, 'wb') as f:\n",
    "        \n",
    "        pickle.dump(xCVEmbeddings, f)\n",
    "        \n",
    "    # This processing took around 3.5 hours in GCP."
   ]
  },
  {
   "cell_type": "markdown",
   "id": "e4669e2e",
   "metadata": {
    "id": "e4669e2e"
   },
   "source": [
    "### 5.4.3. Text Embedding for Test Dataset comments"
   ]
  },
  {
   "cell_type": "code",
   "execution_count": null,
   "id": "6729cd66",
   "metadata": {
    "id": "6729cd66",
    "outputId": "76084c16-2384-4fa8-e6d6-0b23890a1285"
   },
   "outputs": [
    {
     "name": "stdout",
     "output_type": "stream",
     "text": [
      "CPU times: user 1d 10h 51min 24s, sys: 4h 6min 52s, total: 1d 14h 58min 17s\n",
      "Wall time: 2h 48min 50s\n"
     ]
    }
   ],
   "source": [
    "%%time\n",
    "# Text Embedding for Test Dataset.\n",
    "testEmbeddingsPath = 'Resources/xTestEmbeddings.pkl'\n",
    "#testEmbeddingsPath = F'/content/gdrive/My Drive/Case Study 2/xTestEmbeddings.pkl'\n",
    "if os.path.isfile(testEmbeddingsPath):\n",
    "    \n",
    "    with open(testEmbeddingsPath, 'rb') as f:\n",
    "        \n",
    "        xTestEmbeddings = pickle.load(f)\n",
    "        \n",
    "else:\n",
    "    \n",
    "    # Get Text Embedding Vectors for the Test Dataset Tokens\n",
    "    xTestEmbeddings = modeldistilBertBU.predict([xTestTokenIds, xTestAttentionMasks])\n",
    "    \n",
    "    with open(testEmbeddingsPath, 'wb') as f:\n",
    "        \n",
    "        pickle.dump(xTestEmbeddings, f)\n",
    "        \n",
    "    # This processing took almost 3 hours in GCP."
   ]
  },
  {
   "cell_type": "markdown",
   "id": "c15e1efe",
   "metadata": {
    "id": "c15e1efe"
   },
   "source": [
    "----"
   ]
  },
  {
   "cell_type": "markdown",
   "id": "9fa14b29",
   "metadata": {
    "id": "9fa14b29"
   },
   "source": [
    "# 6. Custom Loss Function\n",
    "\n",
    "* Let's define a custom Loss Function to calculate the loss for the Class Label having toxicity and weights."
   ]
  },
  {
   "cell_type": "code",
   "execution_count": 16,
   "id": "45361143",
   "metadata": {
    "id": "45361143"
   },
   "outputs": [],
   "source": [
    "# Reference: https://github.com/nidhibansal1902/Jigsaw-Unintended-Bias-in-Toxicity-Classification/blob/master/Jigsaw-LSTM%20with%20Glove%20Embedding%20New.ipynb\n",
    "def customLoss(yActual, yPred):\n",
    "    '''\n",
    "    Function to calculate loss for the toxic class label.\n",
    "    \n",
    "    Parameters:\n",
    "    -----------\n",
    "    yActual: array-like\n",
    "        Actual Class Labels.\n",
    "    yPred: array-like\n",
    "        Predicted Class Labels.\n",
    "    '''\n",
    "    \n",
    "    return binary_crossentropy(backend.reshape(yActual[:, 0], (-1, 1)), yPred) * yActual[:, 1]"
   ]
  },
  {
   "cell_type": "markdown",
   "id": "cf93116f",
   "metadata": {
    "id": "cf93116f"
   },
   "source": [
    "----"
   ]
  },
  {
   "cell_type": "markdown",
   "id": "b067941d",
   "metadata": {
    "id": "b067941d"
   },
   "source": [
    "# 7. Callbacks\n",
    "\n",
    "* Here, we will define a function to return the required callbacks which can used while training a model."
   ]
  },
  {
   "cell_type": "code",
   "execution_count": 17,
   "id": "25371a17",
   "metadata": {
    "id": "25371a17"
   },
   "outputs": [],
   "source": [
    "def getCallbacks(fileLocation, modelCheckpoint=True, earlyStopping=True, reduceLROnPlateau=False, lrScheduler=True,\n",
    "                 dictMonitor={}, dictMode={}, dictPatience={}):\n",
    "    '''\n",
    "    Function to return some callbacks which will be used while training a model.\n",
    "    \n",
    "    Parameters:\n",
    "    ----------\n",
    "    fileLocation: str\n",
    "        File path to store the best model.\n",
    "    modelCheckpoint: bool\n",
    "        Flag if true, returns ModelCheckpoint callback.\n",
    "    earlyStopping: bool\n",
    "        Flag is true, returns EarlyStopping callback.\n",
    "    reduceLROnPlateau: bool\n",
    "        Flag if true, returns ReduceLROnPlateau callback.\n",
    "    lrScheduler: bool\n",
    "        Flag if true, returns LearningRateScheduler callback.\n",
    "    dictMonitor: dictionary\n",
    "        Dictionary containing the Callback names as keys and the metric to be monitored as their values.\n",
    "    dictMode: dictionary\n",
    "        Dictionary containing the Callback names as keys and the modes of the metrics as their values.\n",
    "    dictPatience: dictionary\n",
    "        Dictionary containing the Callback names as keys and the patience of the callback as their values.\n",
    "    '''\n",
    "    \n",
    "    resultCallbacks = list() # List to store the applicable callbacks to be returned.\n",
    "    \n",
    "    # If Model Checkpoint Callback is required.\n",
    "    if modelCheckpoint == True:\n",
    "        \n",
    "        # Callback to save the best model\n",
    "        modelCheckpointCB = ModelCheckpoint(filepath=fileLocation, save_best_only=True)\n",
    "        \n",
    "        # Add the callback to the result list.\n",
    "        resultCallbacks.append(modelCheckpointCB)\n",
    "        \n",
    "    # If the Early Stopping Callback is required.\n",
    "    if earlyStopping == True and dictMonitor.get('earlyStopping') != None and dictMode.get('earlyStopping') != None and dictPatience.get('earlyStopping') != None:\n",
    "        \n",
    "        # Callback to do early stop\n",
    "        earlyStoppingCB = EarlyStopping(monitor=dictMonitor.get('earlyStopping'),\n",
    "                                                mode=dictMode.get('earlyStopping'),\n",
    "                                                patience=dictPatience.get('earlyStopping'))\n",
    "        \n",
    "        # Add the callback to the result list.\n",
    "        resultCallbacks.append(earlyStoppingCB)\n",
    "        \n",
    "        \n",
    "    # If the Reduce Learning Rate Plateau Callback is required.\n",
    "    if reduceLROnPlateau == True and dictMonitor.get('reduceLROnPlateau') != None and dictMode.get('reduceLROnPlateau') != None and dictPatience.get('reduceLROnPlateau') != None:\n",
    "        \n",
    "        # Callback to decay the Learning Rate        \n",
    "        reduceLROnPlateauCB = ReduceLROnPlateau(monitor=dictMonitor.get('reduceLROnPlateau'), factor=0.1, \n",
    "                                                        patience=dictPatience.get('reduceLROnPlateau'), verbose=1,\n",
    "                                                        mode=dictMode.get('reduceLROnPlateau'))\n",
    "        \n",
    "        # Add the callback to the result list.\n",
    "        resultCallbacks.append(reduceLROnPlateauCB)\n",
    "        \n",
    "    # If the Learning Rate Scheduler Callback is required.\n",
    "    if lrScheduler == True:\n",
    "        \n",
    "        # Callback for learning rate scheduler\n",
    "        lrSchedulerCB = LearningRateScheduler(lambda epoch: 1e-3 * (0.6  ** 1))\n",
    "        \n",
    "        # Add the callback to the result list.\n",
    "        resultCallbacks.append(lrSchedulerCB)\n",
    "        \n",
    "    # Return the list of required callbacks.\n",
    "    return resultCallbacks"
   ]
  },
  {
   "cell_type": "markdown",
   "id": "b873086b",
   "metadata": {
    "id": "b873086b"
   },
   "source": [
    "----"
   ]
  },
  {
   "cell_type": "markdown",
   "id": "e438ade8",
   "metadata": {
    "id": "e438ade8"
   },
   "source": [
    "# 8. Function to Plot the Model Performance over epochs\n",
    "\n",
    "* We will define some functions that can be used to:<br>\n",
    "&emsp; i. Plot the model's training and validation losses and accuracies over each epoch.<br>\n",
    "&emsp; ii. Plot the model's learning rates over each epoch.<br>"
   ]
  },
  {
   "cell_type": "code",
   "execution_count": 18,
   "id": "c5bf7981",
   "metadata": {
    "id": "c5bf7981"
   },
   "outputs": [],
   "source": [
    "# Reference: https://neptune.ai/blog/how-to-choose-a-learning-rate-scheduler\n",
    "#### Function to plot the learning rate \n",
    "def plotLR(history, figsize=(10, 5)):\n",
    "    '''\n",
    "    Function to the plot the value of learning rates for the model over each epoch.\n",
    "\n",
    "    Parameters:\n",
    "    ---------\n",
    "    history: keras.callbacks.History\n",
    "        Model object that holds the history details of the trained model.\n",
    "    figsize: tuple\n",
    "        Figure size of the plot.\n",
    "    '''\n",
    "    learning_rate = history.history['lr'] # Fetch the Learning Rates.\n",
    "\n",
    "    epochs = range(1, len(learning_rate) + 1) # Define the epoch values to be shown in the x-axis.\n",
    "\n",
    "    fig = plt.figure(figsize=figsize) # Create a new figure with the given figure size.\n",
    "    \n",
    "    # Plot the Epochs on the x-axis and the learning rates on the y-axis.\n",
    "    plt.plot(epochs, learning_rate)\n",
    "    plt.title('Learning Rate Curve', fontsize=20) # Title of the Plot.\n",
    "    plt.xlabel('Epoch', fontsize=15) # Label on the x-axis.\n",
    "    plt.ylabel('Learning Rate', fontsize=15) # Label on the y-axis.\n",
    "    plt.show() # Show the plot."
   ]
  },
  {
   "cell_type": "code",
   "execution_count": 19,
   "id": "f7eca8ea",
   "metadata": {
    "id": "f7eca8ea"
   },
   "outputs": [],
   "source": [
    "### Functions to plot the train history \n",
    "def plotPerformance(history, figsize=(15, 8), accMetric='accuracy'):\n",
    "    '''\n",
    "    Function to plot the training and validation losses and accuracies over each epoch.\n",
    "\n",
    "    Parameters:\n",
    "    ----------\n",
    "    history: keras.callbacks.History\n",
    "        Model object that holds the history details of the trained model.\n",
    "    figsize: tuple\n",
    "        Figure size of the plot.\n",
    "    '''\n",
    "    \n",
    "    fig = plt.figure(figsize=figsize) # Create a new figure with the given figure size.\n",
    "    \n",
    "    # Plot the Losses\n",
    "    fig = plt.subplot(1, 2, 1) # row 1 col 2 index 1. 1st Subplot to display the losses.\n",
    "    plt.plot(history.history['loss']) # Plot the training data loss.\n",
    "    plt.plot(history.history['val_loss']) # Plot the validation data loss.\n",
    "    plt.legend(['Train Loss', 'Validation Loss']) # Add legend to the plot.\n",
    "    plt.title(f'Loss Curves', fontsize=20) # Title of the subplot.\n",
    "    plt.xlabel('Epoch', fontsize=15) # Label to be displayed on the x-axis.\n",
    "    plt.ylabel('Loss', fontsize=15) # Label to be displayed on the y-axis.\n",
    "    \n",
    "    # Plot the Accuracies \n",
    "    fig = plt.subplot(1, 2, 2) # row 1 col 2 index 2. 2nd subplot to display the accuracies.\n",
    "    plt.plot(history.history[accMetric]) # Plot the training data accuracy.\n",
    "    plt.plot(history.history['val_' + accMetric]) # Plot the validation data accuracy.\n",
    "    plt.legend(['Train Accuracy', 'Validation Accuracy']) # Add legend to the plot.\n",
    "    plt.title(f'Accuracy Curves', fontsize=20) # Title of the subplot.\n",
    "    plt.xlabel('Epoch', fontsize=15) # Label to be displayed on the x-axis.\n",
    "    plt.ylabel('Accuracy', fontsize=15) # Label to be displayed on the y-axis.\n",
    "    plt.show() # Show the plot."
   ]
  },
  {
   "cell_type": "markdown",
   "id": "0123e696",
   "metadata": {
    "id": "0123e696"
   },
   "source": [
    "----"
   ]
  },
  {
   "cell_type": "markdown",
   "id": "4e1af4f2",
   "metadata": {
    "id": "4e1af4f2"
   },
   "source": [
    "# 6. Model\n",
    "\n",
    "* We will use the text embeddings from the DistilBert and use a feed forward network (MLP) to do the classification.\n",
    "\n",
    "## 6.1. Model - Architecture"
   ]
  },
  {
   "cell_type": "code",
   "execution_count": 20,
   "id": "1cdca80f",
   "metadata": {
    "id": "1cdca80f"
   },
   "outputs": [],
   "source": [
    "def getModelUsingBERT(inputShape=768, denseUnits=512):\n",
    "    '''\n",
    "    Function to generate the model using BERT for feature extraction followed by a MLP layers.\n",
    "    \n",
    "    Parameters:\n",
    "    ----------\n",
    "    inputShape: int\n",
    "        Shape of the input to the Input Layer. This will be equal to the dimensionality of the BERT Embedded Vectors.\n",
    "    denseUnits: int\n",
    "        Dimensionality of the Dense Layer output.\n",
    "    '''\n",
    "    \n",
    "    # Clearing the graph of TensorFlow\n",
    "    backend.clear_session()\n",
    "    \n",
    "    # Define the Input Layer accepting the text embedding vectors from the BERT Model.\n",
    "    inputLayer = Input(shape=(inputShape, ), name='InputLayer')\n",
    "    \n",
    "    # Dense Layer on the text embedding vectors from the BERT Model\n",
    "    denseLayer1 = Dense(units=denseUnits, activation='relu', name='DenseLayer1')(inputLayer)\n",
    "    \n",
    "    # Batch Normalization Layer\n",
    "    batchNormLayer1 = BatchNormalization(name='BatchNormalizationLayer1')(denseLayer1)\n",
    "    \n",
    "    # Dropout Layer\n",
    "    dropoutLayer1 = Dropout(rate=0.4, name='DropoutLayer1')(batchNormLayer1)\n",
    "    \n",
    "    # Dense Layer on the output of the above add layer\n",
    "    denseLayer2 = Dense(units=denseUnits/2, activation='relu', name='DenseLayer2')(dropoutLayer1)\n",
    "    \n",
    "    # Batch Normalization Layer\n",
    "    batchNormLayer2 = BatchNormalization(name='BatchNormalizationLayer2')(denseLayer2)\n",
    "    \n",
    "    # Dropout Layer\n",
    "    dropoutLayer2 = Dropout(rate=0.3, name='DropoutLayer2')(batchNormLayer2)\n",
    "    \n",
    "    # Output Layer for Toxicity\n",
    "    outputToxicity = Dense(1, activation='sigmoid')(dropoutLayer2)\n",
    "    \n",
    "    # Output Layer for the Auxiliary Toxicity Subgroups\n",
    "    outputAux = Dense(6, activation='sigmoid')(dropoutLayer2)\n",
    "    \n",
    "    # Define the Model using the above defined input and output layers\n",
    "    model = Model(inputs=inputLayer, outputs= [outputToxicity, outputAux])\n",
    "    \n",
    "    # Return the Model\n",
    "    return model"
   ]
  },
  {
   "cell_type": "code",
   "execution_count": 23,
   "id": "745524df",
   "metadata": {
    "colab": {
     "base_uri": "https://localhost:8080/"
    },
    "id": "745524df",
    "outputId": "0580a0f4-1f66-4583-d153-937b2168641e"
   },
   "outputs": [
    {
     "name": "stdout",
     "output_type": "stream",
     "text": [
      "Text Embedded Vector dimension from BERT:  768\n"
     ]
    }
   ],
   "source": [
    "# Get the dimensionality of the text embedded using BERT Model.\n",
    "vectorDim = xTrainEmbeddings.shape[1]\n",
    "print('Text Embedded Vector dimension from BERT: ', vectorDim)"
   ]
  },
  {
   "cell_type": "code",
   "execution_count": 24,
   "id": "62257913",
   "metadata": {
    "colab": {
     "base_uri": "https://localhost:8080/"
    },
    "id": "62257913",
    "outputId": "e00d770b-6867-43ec-da5c-d274613cbb35"
   },
   "outputs": [
    {
     "name": "stdout",
     "output_type": "stream",
     "text": [
      "Model: \"model\"\n",
      "__________________________________________________________________________________________________\n",
      " Layer (type)                   Output Shape         Param #     Connected to                     \n",
      "==================================================================================================\n",
      " InputLayer (InputLayer)        [(None, 768)]        0           []                               \n",
      "                                                                                                  \n",
      " DenseLayer1 (Dense)            (None, 512)          393728      ['InputLayer[0][0]']             \n",
      "                                                                                                  \n",
      " BatchNormalizationLayer1 (Batc  (None, 512)         2048        ['DenseLayer1[0][0]']            \n",
      " hNormalization)                                                                                  \n",
      "                                                                                                  \n",
      " DropoutLayer1 (Dropout)        (None, 512)          0           ['BatchNormalizationLayer1[0][0]'\n",
      "                                                                 ]                                \n",
      "                                                                                                  \n",
      " DenseLayer2 (Dense)            (None, 256)          131328      ['DropoutLayer1[0][0]']          \n",
      "                                                                                                  \n",
      " BatchNormalizationLayer2 (Batc  (None, 256)         1024        ['DenseLayer2[0][0]']            \n",
      " hNormalization)                                                                                  \n",
      "                                                                                                  \n",
      " DropoutLayer2 (Dropout)        (None, 256)          0           ['BatchNormalizationLayer2[0][0]'\n",
      "                                                                 ]                                \n",
      "                                                                                                  \n",
      " dense (Dense)                  (None, 1)            257         ['DropoutLayer2[0][0]']          \n",
      "                                                                                                  \n",
      " dense_1 (Dense)                (None, 6)            1542        ['DropoutLayer2[0][0]']          \n",
      "                                                                                                  \n",
      "==================================================================================================\n",
      "Total params: 529,927\n",
      "Trainable params: 528,391\n",
      "Non-trainable params: 1,536\n",
      "__________________________________________________________________________________________________\n"
     ]
    }
   ],
   "source": [
    "# Call the function 'getModelUsingBERT()' to get the Model Object to be trained.\n",
    "modelBERTEmb = getModelUsingBERT(inputShape=vectorDim, denseUnits=512)\n",
    "\n",
    "# Print the summary of the Model to check if all the layers are properly defined or not.\n",
    "modelBERTEmb.summary()"
   ]
  },
  {
   "cell_type": "markdown",
   "id": "f0756566",
   "metadata": {
    "id": "f0756566"
   },
   "source": [
    "## 6.2. Create and Save the Plot of the Model - Bert ('bert-base-uncased') Architecture"
   ]
  },
  {
   "cell_type": "code",
   "execution_count": 26,
   "id": "28c86f3c",
   "metadata": {
    "colab": {
     "base_uri": "https://localhost:8080/",
     "height": 865
    },
    "id": "28c86f3c",
    "outputId": "19dab7c7-6b98-4c3e-d3d7-d23eabab6315"
   },
   "outputs": [
    {
     "data": {
      "image/png": "[encoded data removed]",
      "text/plain": [
       "<IPython.core.display.Image object>"
      ]
     },
     "execution_count": 26,
     "metadata": {},
     "output_type": "execute_result"
    }
   ],
   "source": [
    "# Create and save the model plot.\n",
    "plot_model(modelBERTEmb, to_file='Resources/modelBERTEmb.png', show_shapes=True, show_layer_names=True)"
   ]
  },
  {
   "cell_type": "markdown",
   "id": "8e6b8633",
   "metadata": {
    "id": "8e6b8633"
   },
   "source": [
    "## 6.3. Compile the Model and define Callbacks"
   ]
  },
  {
   "cell_type": "code",
   "execution_count": 27,
   "id": "cec76a58",
   "metadata": {
    "id": "cec76a58"
   },
   "outputs": [],
   "source": [
    "# Compile the Model\n",
    "modelBERTEmb.compile(optimizer= Adam(epsilon= 1e-8), loss= [customLoss, 'binary_crossentropy'], metrics=['accuracy'], \n",
    "                     loss_weights=[lossWeight, 1.0])\n",
    "\n",
    "# Define the dictionaries required for setting up the callback properties.\n",
    "monitor = {'earlyStopping': 'val_loss', 'reduceLROnPlateau': 'val_loss'}\n",
    "mode = {'earlyStopping': 'min', 'reduceLROnPlateau': 'min'}\n",
    "patience = {'earlyStopping': 5, 'reduceLROnPlateau': 2}\n",
    "\n",
    "# File path to store the best model to.\n",
    "filePath = 'BestModels/modelBERTEmb.h5'\n",
    "#filePath = F'/content/gdrive/My Drive/Case Study 2/BestModels/modelBERTEmb.h5'\n",
    "\n",
    "# Call the function 'getCallbacks()' to get the required callbacks.\n",
    "modelBERTEmbCallbacks = getCallbacks(fileLocation=filePath, reduceLROnPlateau=False, lrScheduler=True,\n",
    "                                     dictMonitor=monitor, dictMode=mode, dictPatience=patience)"
   ]
  },
  {
   "cell_type": "markdown",
   "id": "a71e0c24",
   "metadata": {
    "id": "a71e0c24"
   },
   "source": [
    "## 6.4. Train the Model"
   ]
  },
  {
   "cell_type": "code",
   "execution_count": 28,
   "id": "be442bca",
   "metadata": {
    "colab": {
     "base_uri": "https://localhost:8080/"
    },
    "id": "be442bca",
    "outputId": "067f6892-0651-4245-cc74-ef0046735b74"
   },
   "outputs": [
    {
     "name": "stdout",
     "output_type": "stream",
     "text": [
      "Epoch 1/15\n",
      "1567/1567 [==============================] - 11s 6ms/step - loss: 0.5882 - dense_loss: 0.1302 - dense_1_loss: 0.1887 - dense_accuracy: 0.4280 - dense_1_accuracy: 0.3176 - val_loss: 0.4816 - val_dense_loss: 0.1177 - val_dense_1_loss: 0.1204 - val_dense_accuracy: 0.4366 - val_dense_1_accuracy: 0.3456 - lr: 6.0000e-04\n",
      "Epoch 2/15\n",
      "1567/1567 [==============================] - 9s 6ms/step - loss: 0.4805 - dense_loss: 0.1168 - dense_1_loss: 0.1223 - dense_accuracy: 0.4399 - dense_1_accuracy: 0.3439 - val_loss: 0.4789 - val_dense_loss: 0.1172 - val_dense_1_loss: 0.1193 - val_dense_accuracy: 0.4315 - val_dense_1_accuracy: 0.3437 - lr: 6.0000e-04\n",
      "Epoch 3/15\n",
      "1567/1567 [==============================] - 8s 5ms/step - loss: 0.4726 - dense_loss: 0.1149 - dense_1_loss: 0.1201 - dense_accuracy: 0.4411 - dense_1_accuracy: 0.3464 - val_loss: 0.4857 - val_dense_loss: 0.1195 - val_dense_1_loss: 0.1191 - val_dense_accuracy: 0.4450 - val_dense_1_accuracy: 0.3502 - lr: 6.0000e-04\n",
      "Epoch 4/15\n",
      "1567/1567 [==============================] - 8s 5ms/step - loss: 0.4680 - dense_loss: 0.1137 - dense_1_loss: 0.1191 - dense_accuracy: 0.4416 - dense_1_accuracy: 0.3475 - val_loss: 0.4664 - val_dense_loss: 0.1137 - val_dense_1_loss: 0.1175 - val_dense_accuracy: 0.4385 - val_dense_1_accuracy: 0.3503 - lr: 6.0000e-04\n",
      "Epoch 5/15\n",
      "1567/1567 [==============================] - 8s 5ms/step - loss: 0.4652 - dense_loss: 0.1130 - dense_1_loss: 0.1186 - dense_accuracy: 0.4420 - dense_1_accuracy: 0.3484 - val_loss: 0.4597 - val_dense_loss: 0.1118 - val_dense_1_loss: 0.1168 - val_dense_accuracy: 0.4411 - val_dense_1_accuracy: 0.3507 - lr: 6.0000e-04\n",
      "Epoch 6/15\n",
      "1567/1567 [==============================] - 8s 5ms/step - loss: 0.4627 - dense_loss: 0.1123 - dense_1_loss: 0.1182 - dense_accuracy: 0.4424 - dense_1_accuracy: 0.3488 - val_loss: 0.4647 - val_dense_loss: 0.1133 - val_dense_1_loss: 0.1171 - val_dense_accuracy: 0.4456 - val_dense_1_accuracy: 0.3528 - lr: 6.0000e-04\n",
      "Epoch 7/15\n",
      "1567/1567 [==============================] - 8s 5ms/step - loss: 0.4611 - dense_loss: 0.1119 - dense_1_loss: 0.1179 - dense_accuracy: 0.4426 - dense_1_accuracy: 0.3492 - val_loss: 0.4576 - val_dense_loss: 0.1113 - val_dense_1_loss: 0.1162 - val_dense_accuracy: 0.4418 - val_dense_1_accuracy: 0.3536 - lr: 6.0000e-04\n",
      "Epoch 8/15\n",
      "1567/1567 [==============================] - 8s 5ms/step - loss: 0.4593 - dense_loss: 0.1114 - dense_1_loss: 0.1177 - dense_accuracy: 0.4426 - dense_1_accuracy: 0.3493 - val_loss: 0.4576 - val_dense_loss: 0.1114 - val_dense_1_loss: 0.1160 - val_dense_accuracy: 0.4404 - val_dense_1_accuracy: 0.3525 - lr: 6.0000e-04\n",
      "Epoch 9/15\n",
      "1567/1567 [==============================] - 8s 5ms/step - loss: 0.4586 - dense_loss: 0.1112 - dense_1_loss: 0.1176 - dense_accuracy: 0.4429 - dense_1_accuracy: 0.3492 - val_loss: 0.4580 - val_dense_loss: 0.1115 - val_dense_1_loss: 0.1161 - val_dense_accuracy: 0.4418 - val_dense_1_accuracy: 0.3532 - lr: 6.0000e-04\n",
      "Epoch 10/15\n",
      "1567/1567 [==============================] - 9s 5ms/step - loss: 0.4574 - dense_loss: 0.1108 - dense_1_loss: 0.1175 - dense_accuracy: 0.4430 - dense_1_accuracy: 0.3496 - val_loss: 0.4587 - val_dense_loss: 0.1117 - val_dense_1_loss: 0.1161 - val_dense_accuracy: 0.4386 - val_dense_1_accuracy: 0.3527 - lr: 6.0000e-04\n",
      "Epoch 11/15\n",
      "1567/1567 [==============================] - 8s 5ms/step - loss: 0.4566 - dense_loss: 0.1106 - dense_1_loss: 0.1173 - dense_accuracy: 0.4432 - dense_1_accuracy: 0.3498 - val_loss: 0.4572 - val_dense_loss: 0.1112 - val_dense_1_loss: 0.1162 - val_dense_accuracy: 0.4447 - val_dense_1_accuracy: 0.3530 - lr: 6.0000e-04\n",
      "Epoch 12/15\n",
      "1567/1567 [==============================] - 8s 5ms/step - loss: 0.4559 - dense_loss: 0.1104 - dense_1_loss: 0.1172 - dense_accuracy: 0.4432 - dense_1_accuracy: 0.3496 - val_loss: 0.4553 - val_dense_loss: 0.1106 - val_dense_1_loss: 0.1160 - val_dense_accuracy: 0.4401 - val_dense_1_accuracy: 0.3524 - lr: 6.0000e-04\n",
      "Epoch 13/15\n",
      "1567/1567 [==============================] - 8s 5ms/step - loss: 0.4552 - dense_loss: 0.1102 - dense_1_loss: 0.1172 - dense_accuracy: 0.4434 - dense_1_accuracy: 0.3497 - val_loss: 0.4530 - val_dense_loss: 0.1100 - val_dense_1_loss: 0.1156 - val_dense_accuracy: 0.4450 - val_dense_1_accuracy: 0.3519 - lr: 6.0000e-04\n",
      "Epoch 14/15\n",
      "1567/1567 [==============================] - 8s 5ms/step - loss: 0.4547 - dense_loss: 0.1101 - dense_1_loss: 0.1171 - dense_accuracy: 0.4434 - dense_1_accuracy: 0.3499 - val_loss: 0.4532 - val_dense_loss: 0.1101 - val_dense_1_loss: 0.1156 - val_dense_accuracy: 0.4410 - val_dense_1_accuracy: 0.3534 - lr: 6.0000e-04\n",
      "Epoch 15/15\n",
      "1567/1567 [==============================] - 8s 5ms/step - loss: 0.4540 - dense_loss: 0.1099 - dense_1_loss: 0.1170 - dense_accuracy: 0.4435 - dense_1_accuracy: 0.3498 - val_loss: 0.4518 - val_dense_loss: 0.1096 - val_dense_1_loss: 0.1155 - val_dense_accuracy: 0.4449 - val_dense_1_accuracy: 0.3535 - lr: 6.0000e-04\n"
     ]
    }
   ],
   "source": [
    "historyBertEmb = modelBERTEmb.fit(x=xTrainEmbeddings, y=[yTrainW, yTrainAux], \n",
    "                                  batch_size=512, epochs=15, verbose=1, \n",
    "                                  validation_data=(xCVEmbeddings, [yCVW, yCVAux]), \n",
    "                                  callbacks= modelBERTEmbCallbacks)"
   ]
  },
  {
   "cell_type": "code",
   "execution_count": 31,
   "id": "cb253721",
   "metadata": {
    "colab": {
     "base_uri": "https://localhost:8080/"
    },
    "id": "cb253721",
    "outputId": "465cfabd-9f40-45e2-d89f-99ff47b83152"
   },
   "outputs": [
    {
     "name": "stdout",
     "output_type": "stream",
     "text": [
      "Epoch 1/300\n",
      "1567/1567 [==============================] - 9s 6ms/step - loss: 0.4530 - dense_loss: 0.1096 - dense_1_loss: 0.1170 - dense_accuracy: 0.4434 - dense_1_accuracy: 0.3497 - val_loss: 0.4686 - val_dense_loss: 0.1149 - val_dense_1_loss: 0.1163 - val_dense_accuracy: 0.4465 - val_dense_1_accuracy: 0.3518 - lr: 6.0000e-04\n",
      "Epoch 2/300\n",
      "1567/1567 [==============================] - 8s 5ms/step - loss: 0.4530 - dense_loss: 0.1096 - dense_1_loss: 0.1169 - dense_accuracy: 0.4436 - dense_1_accuracy: 0.3499 - val_loss: 0.4532 - val_dense_loss: 0.1100 - val_dense_1_loss: 0.1157 - val_dense_accuracy: 0.4450 - val_dense_1_accuracy: 0.3525 - lr: 6.0000e-04\n",
      "Epoch 3/300\n",
      "1567/1567 [==============================] - 8s 5ms/step - loss: 0.4525 - dense_loss: 0.1094 - dense_1_loss: 0.1168 - dense_accuracy: 0.4436 - dense_1_accuracy: 0.3500 - val_loss: 0.4569 - val_dense_loss: 0.1112 - val_dense_1_loss: 0.1158 - val_dense_accuracy: 0.4445 - val_dense_1_accuracy: 0.3532 - lr: 6.0000e-04\n",
      "Epoch 4/300\n",
      "1567/1567 [==============================] - 8s 5ms/step - loss: 0.4523 - dense_loss: 0.1094 - dense_1_loss: 0.1168 - dense_accuracy: 0.4435 - dense_1_accuracy: 0.3501 - val_loss: 0.4517 - val_dense_loss: 0.1096 - val_dense_1_loss: 0.1155 - val_dense_accuracy: 0.4439 - val_dense_1_accuracy: 0.3538 - lr: 6.0000e-04\n",
      "Epoch 5/300\n",
      "1567/1567 [==============================] - 8s 5ms/step - loss: 0.4515 - dense_loss: 0.1091 - dense_1_loss: 0.1168 - dense_accuracy: 0.4436 - dense_1_accuracy: 0.3499 - val_loss: 0.4510 - val_dense_loss: 0.1094 - val_dense_1_loss: 0.1155 - val_dense_accuracy: 0.4432 - val_dense_1_accuracy: 0.3542 - lr: 6.0000e-04\n",
      "Epoch 6/300\n",
      "1567/1567 [==============================] - 8s 5ms/step - loss: 0.4515 - dense_loss: 0.1091 - dense_1_loss: 0.1167 - dense_accuracy: 0.4437 - dense_1_accuracy: 0.3502 - val_loss: 0.4562 - val_dense_loss: 0.1110 - val_dense_1_loss: 0.1158 - val_dense_accuracy: 0.4405 - val_dense_1_accuracy: 0.3521 - lr: 6.0000e-04\n",
      "Epoch 7/300\n",
      "1567/1567 [==============================] - 8s 5ms/step - loss: 0.4508 - dense_loss: 0.1089 - dense_1_loss: 0.1167 - dense_accuracy: 0.4439 - dense_1_accuracy: 0.3502 - val_loss: 0.4586 - val_dense_loss: 0.1117 - val_dense_1_loss: 0.1161 - val_dense_accuracy: 0.4466 - val_dense_1_accuracy: 0.3543 - lr: 6.0000e-04\n",
      "Epoch 8/300\n",
      "1567/1567 [==============================] - 8s 5ms/step - loss: 0.4503 - dense_loss: 0.1088 - dense_1_loss: 0.1167 - dense_accuracy: 0.4440 - dense_1_accuracy: 0.3502 - val_loss: 0.4510 - val_dense_loss: 0.1094 - val_dense_1_loss: 0.1153 - val_dense_accuracy: 0.4451 - val_dense_1_accuracy: 0.3543 - lr: 6.0000e-04\n",
      "Epoch 9/300\n",
      "1567/1567 [==============================] - 8s 5ms/step - loss: 0.4503 - dense_loss: 0.1088 - dense_1_loss: 0.1166 - dense_accuracy: 0.4438 - dense_1_accuracy: 0.3502 - val_loss: 0.4498 - val_dense_loss: 0.1091 - val_dense_1_loss: 0.1153 - val_dense_accuracy: 0.4440 - val_dense_1_accuracy: 0.3536 - lr: 6.0000e-04\n",
      "Epoch 10/300\n",
      "1567/1567 [==============================] - 8s 5ms/step - loss: 0.4501 - dense_loss: 0.1087 - dense_1_loss: 0.1166 - dense_accuracy: 0.4440 - dense_1_accuracy: 0.3500 - val_loss: 0.4497 - val_dense_loss: 0.1090 - val_dense_1_loss: 0.1153 - val_dense_accuracy: 0.4451 - val_dense_1_accuracy: 0.3537 - lr: 6.0000e-04\n",
      "Epoch 11/300\n",
      "1567/1567 [==============================] - 8s 5ms/step - loss: 0.4498 - dense_loss: 0.1086 - dense_1_loss: 0.1166 - dense_accuracy: 0.4440 - dense_1_accuracy: 0.3501 - val_loss: 0.4591 - val_dense_loss: 0.1119 - val_dense_1_loss: 0.1159 - val_dense_accuracy: 0.4359 - val_dense_1_accuracy: 0.3527 - lr: 6.0000e-04\n",
      "Epoch 12/300\n",
      "1567/1567 [==============================] - 8s 5ms/step - loss: 0.4497 - dense_loss: 0.1086 - dense_1_loss: 0.1166 - dense_accuracy: 0.4439 - dense_1_accuracy: 0.3501 - val_loss: 0.4510 - val_dense_loss: 0.1094 - val_dense_1_loss: 0.1153 - val_dense_accuracy: 0.4457 - val_dense_1_accuracy: 0.3533 - lr: 6.0000e-04\n",
      "Epoch 13/300\n",
      "1567/1567 [==============================] - 8s 5ms/step - loss: 0.4496 - dense_loss: 0.1086 - dense_1_loss: 0.1166 - dense_accuracy: 0.4441 - dense_1_accuracy: 0.3503 - val_loss: 0.4494 - val_dense_loss: 0.1090 - val_dense_1_loss: 0.1153 - val_dense_accuracy: 0.4451 - val_dense_1_accuracy: 0.3537 - lr: 6.0000e-04\n",
      "Epoch 14/300\n",
      "1567/1567 [==============================] - 8s 5ms/step - loss: 0.4493 - dense_loss: 0.1085 - dense_1_loss: 0.1166 - dense_accuracy: 0.4440 - dense_1_accuracy: 0.3502 - val_loss: 0.4564 - val_dense_loss: 0.1111 - val_dense_1_loss: 0.1158 - val_dense_accuracy: 0.4461 - val_dense_1_accuracy: 0.3520 - lr: 6.0000e-04\n",
      "Epoch 15/300\n",
      "1567/1567 [==============================] - 8s 5ms/step - loss: 0.4492 - dense_loss: 0.1084 - dense_1_loss: 0.1166 - dense_accuracy: 0.4439 - dense_1_accuracy: 0.3501 - val_loss: 0.4530 - val_dense_loss: 0.1100 - val_dense_1_loss: 0.1155 - val_dense_accuracy: 0.4405 - val_dense_1_accuracy: 0.3527 - lr: 6.0000e-04\n",
      "Epoch 16/300\n",
      "1567/1567 [==============================] - 8s 5ms/step - loss: 0.4493 - dense_loss: 0.1085 - dense_1_loss: 0.1166 - dense_accuracy: 0.4441 - dense_1_accuracy: 0.3499 - val_loss: 0.4487 - val_dense_loss: 0.1087 - val_dense_1_loss: 0.1152 - val_dense_accuracy: 0.4440 - val_dense_1_accuracy: 0.3541 - lr: 6.0000e-04\n",
      "Epoch 17/300\n",
      "1567/1567 [==============================] - 8s 5ms/step - loss: 0.4488 - dense_loss: 0.1083 - dense_1_loss: 0.1165 - dense_accuracy: 0.4440 - dense_1_accuracy: 0.3504 - val_loss: 0.4493 - val_dense_loss: 0.1089 - val_dense_1_loss: 0.1152 - val_dense_accuracy: 0.4443 - val_dense_1_accuracy: 0.3548 - lr: 6.0000e-04\n",
      "Epoch 18/300\n",
      "1567/1567 [==============================] - 8s 5ms/step - loss: 0.4487 - dense_loss: 0.1083 - dense_1_loss: 0.1165 - dense_accuracy: 0.4442 - dense_1_accuracy: 0.3501 - val_loss: 0.4560 - val_dense_loss: 0.1109 - val_dense_1_loss: 0.1160 - val_dense_accuracy: 0.4465 - val_dense_1_accuracy: 0.3541 - lr: 6.0000e-04\n",
      "Epoch 19/300\n",
      "1567/1567 [==============================] - 8s 5ms/step - loss: 0.4483 - dense_loss: 0.1082 - dense_1_loss: 0.1165 - dense_accuracy: 0.4443 - dense_1_accuracy: 0.3499 - val_loss: 0.4493 - val_dense_loss: 0.1089 - val_dense_1_loss: 0.1152 - val_dense_accuracy: 0.4433 - val_dense_1_accuracy: 0.3538 - lr: 6.0000e-04\n",
      "Epoch 20/300\n",
      "1567/1567 [==============================] - 8s 5ms/step - loss: 0.4480 - dense_loss: 0.1081 - dense_1_loss: 0.1165 - dense_accuracy: 0.4440 - dense_1_accuracy: 0.3498 - val_loss: 0.4494 - val_dense_loss: 0.1089 - val_dense_1_loss: 0.1153 - val_dense_accuracy: 0.4456 - val_dense_1_accuracy: 0.3535 - lr: 6.0000e-04\n",
      "Epoch 21/300\n",
      "1567/1567 [==============================] - 8s 5ms/step - loss: 0.4480 - dense_loss: 0.1081 - dense_1_loss: 0.1165 - dense_accuracy: 0.4443 - dense_1_accuracy: 0.3499 - val_loss: 0.4529 - val_dense_loss: 0.1100 - val_dense_1_loss: 0.1154 - val_dense_accuracy: 0.4387 - val_dense_1_accuracy: 0.3529 - lr: 6.0000e-04\n"
     ]
    }
   ],
   "source": [
    "historyBertEmb = modelBERTEmb.fit(x=xTrainEmbeddings, y=[yTrainW, yTrainAux], \n",
    "                                  batch_size=512, epochs=300, verbose=1, \n",
    "                                  validation_data=(xCVEmbeddings, [yCVW, yCVAux]), \n",
    "                                  callbacks= modelBERTEmbCallbacks)"
   ]
  },
  {
   "cell_type": "markdown",
   "id": "a5c1a6f2",
   "metadata": {
    "id": "a5c1a6f2"
   },
   "source": [
    "## 6.5. Plot the Model Performance"
   ]
  },
  {
   "cell_type": "code",
   "execution_count": 32,
   "id": "7ca974bb",
   "metadata": {
    "colab": {
     "base_uri": "https://localhost:8080/",
     "height": 360
    },
    "id": "7ca974bb",
    "outputId": "55a95421-01b2-4df6-b36c-b9d09a29ccbe"
   },
   "outputs": [
    {
     "data": {
      "image/png": "[encoded data removed]",
      "text/plain": [
       "<Figure size 720x360 with 1 Axes>"
      ]
     },
     "metadata": {
      "needs_background": "light"
     },
     "output_type": "display_data"
    }
   ],
   "source": [
    "# Call the 'plotLR()' function to plot the Learning Rate used during training.\n",
    "plotLR(historyBertEmb)"
   ]
  },
  {
   "cell_type": "code",
   "execution_count": 33,
   "id": "1138226f",
   "metadata": {
    "colab": {
     "base_uri": "https://localhost:8080/",
     "height": 523
    },
    "id": "1138226f",
    "outputId": "a4337680-30ca-4a32-c0eb-dcb0b2e31b38"
   },
   "outputs": [
    {
     "data": {
      "image/png": "[encoded data removed]",
      "text/plain": [
       "<Figure size 1080x576 with 2 Axes>"
      ]
     },
     "metadata": {
      "needs_background": "light"
     },
     "output_type": "display_data"
    }
   ],
   "source": [
    "# Call the function 'plotPerformance()' to plot the loss and accuracy of the Model over each epochs.\n",
    "plotPerformance(historyBertEmb, accMetric='dense_accuracy')"
   ]
  },
  {
   "cell_type": "markdown",
   "id": "7e91052a",
   "metadata": {
    "id": "7e91052a"
   },
   "source": [
    "## 6.6. Evaluation on the Test Dataset of Train_Test Split"
   ]
  },
  {
   "cell_type": "code",
   "execution_count": 34,
   "id": "55be1e1e",
   "metadata": {
    "colab": {
     "base_uri": "https://localhost:8080/"
    },
    "id": "55be1e1e",
    "outputId": "b39cb94c-0557-4b9f-d22a-75374c407613"
   },
   "outputs": [
    {
     "name": "stdout",
     "output_type": "stream",
     "text": [
      "CPU times: user 8.63 s, sys: 1.25 s, total: 9.88 s\n",
      "Wall time: 7.02 s\n"
     ]
    }
   ],
   "source": [
    "%%time\n",
    "# Predict the probabilities of the class label of the Test Dataset and store it in a new feature 'yPredProb' of the Test Dataset.\n",
    "testData['yPredProb'] = modelBERTEmb.predict(xTestEmbeddings)[0].flatten()\n",
    "\n",
    "# Call the 'computeBiasMetricsForModel()' function to get the Subgroup, BPSN and BNSP AUCs for each identity sugroups\n",
    "biasMetrics = performance_metrics.computeBiasMetricsForModel(data=testData, subgroups=identitySubgroups, predClassLabel='yPredProb', actualClassLabel='target')"
   ]
  },
  {
   "cell_type": "code",
   "execution_count": 35,
   "id": "845e928a",
   "metadata": {
    "colab": {
     "base_uri": "https://localhost:8080/",
     "height": 331
    },
    "id": "845e928a",
    "outputId": "84ea49cc-dd37-4a83-c52e-13b8add5c071"
   },
   "outputs": [
    {
     "data": {
      "text/html": [
       "\n",
       "  <div id=\"df-00208092-ab94-4cce-87f9-9557a116eb2d\">\n",
       "    <div class=\"colab-df-container\">\n",
       "      <div>\n",
       "<style scoped>\n",
       "    .dataframe tbody tr th:only-of-type {\n",
       "        vertical-align: middle;\n",
       "    }\n",
       "\n",
       "    .dataframe tbody tr th {\n",
       "        vertical-align: top;\n",
       "    }\n",
       "\n",
       "    .dataframe thead th {\n",
       "        text-align: right;\n",
       "    }\n",
       "</style>\n",
       "<table border=\"1\" class=\"dataframe\">\n",
       "  <thead>\n",
       "    <tr style=\"text-align: right;\">\n",
       "      <th></th>\n",
       "      <th>Subgroup</th>\n",
       "      <th>Subgroup Size</th>\n",
       "      <th>Subgroup AUC</th>\n",
       "      <th>BPSN AUC</th>\n",
       "      <th>BNSP AUC</th>\n",
       "    </tr>\n",
       "  </thead>\n",
       "  <tbody>\n",
       "    <tr>\n",
       "      <th>7</th>\n",
       "      <td>white</td>\n",
       "      <td>2772</td>\n",
       "      <td>0.767310</td>\n",
       "      <td>0.803955</td>\n",
       "      <td>0.854566</td>\n",
       "    </tr>\n",
       "    <tr>\n",
       "      <th>2</th>\n",
       "      <td>homosexual_gay_or_lesbian</td>\n",
       "      <td>1296</td>\n",
       "      <td>0.777048</td>\n",
       "      <td>0.842362</td>\n",
       "      <td>0.826054</td>\n",
       "    </tr>\n",
       "    <tr>\n",
       "      <th>6</th>\n",
       "      <td>black</td>\n",
       "      <td>1599</td>\n",
       "      <td>0.777987</td>\n",
       "      <td>0.815653</td>\n",
       "      <td>0.851120</td>\n",
       "    </tr>\n",
       "    <tr>\n",
       "      <th>4</th>\n",
       "      <td>jewish</td>\n",
       "      <td>783</td>\n",
       "      <td>0.794221</td>\n",
       "      <td>0.882517</td>\n",
       "      <td>0.788166</td>\n",
       "    </tr>\n",
       "    <tr>\n",
       "      <th>5</th>\n",
       "      <td>muslim</td>\n",
       "      <td>2272</td>\n",
       "      <td>0.800272</td>\n",
       "      <td>0.852532</td>\n",
       "      <td>0.832820</td>\n",
       "    </tr>\n",
       "    <tr>\n",
       "      <th>8</th>\n",
       "      <td>psychiatric_or_mental_illness</td>\n",
       "      <td>448</td>\n",
       "      <td>0.803270</td>\n",
       "      <td>0.863332</td>\n",
       "      <td>0.824769</td>\n",
       "    </tr>\n",
       "    <tr>\n",
       "      <th>0</th>\n",
       "      <td>male</td>\n",
       "      <td>4113</td>\n",
       "      <td>0.821299</td>\n",
       "      <td>0.852300</td>\n",
       "      <td>0.849208</td>\n",
       "    </tr>\n",
       "    <tr>\n",
       "      <th>1</th>\n",
       "      <td>female</td>\n",
       "      <td>4869</td>\n",
       "      <td>0.839400</td>\n",
       "      <td>0.883121</td>\n",
       "      <td>0.830790</td>\n",
       "    </tr>\n",
       "    <tr>\n",
       "      <th>3</th>\n",
       "      <td>christian</td>\n",
       "      <td>3615</td>\n",
       "      <td>0.840017</td>\n",
       "      <td>0.922041</td>\n",
       "      <td>0.768676</td>\n",
       "    </tr>\n",
       "  </tbody>\n",
       "</table>\n",
       "</div>\n",
       "      <button class=\"colab-df-convert\" onclick=\"convertToInteractive('df-00208092-ab94-4cce-87f9-9557a116eb2d')\"\n",
       "              title=\"Convert this dataframe to an interactive table.\"\n",
       "              style=\"display:none;\">\n",
       "        \n",
       "  <svg xmlns=\"http://www.w3.org/2000/svg\" height=\"24px\"viewBox=\"0 0 24 24\"\n",
       "       width=\"24px\">\n",
       "    <path d=\"M0 0h24v24H0V0z\" fill=\"none\"/>\n",
       "    <path d=\"M18.56 5.44l.94 2.06.94-2.06 2.06-.94-2.06-.94-.94-2.06-.94 2.06-2.06.94zm-11 1L8.5 8.5l.94-2.06 2.06-.94-2.06-.94L8.5 2.5l-.94 2.06-2.06.94zm10 10l.94 2.06.94-2.06 2.06-.94-2.06-.94-.94-2.06-.94 2.06-2.06.94z\"/><path d=\"M17.41 7.96l-1.37-1.37c-.4-.4-.92-.59-1.43-.59-.52 0-1.04.2-1.43.59L10.3 9.45l-7.72 7.72c-.78.78-.78 2.05 0 2.83L4 21.41c.39.39.9.59 1.41.59.51 0 1.02-.2 1.41-.59l7.78-7.78 2.81-2.81c.8-.78.8-2.07 0-2.86zM5.41 20L4 18.59l7.72-7.72 1.47 1.35L5.41 20z\"/>\n",
       "  </svg>\n",
       "      </button>\n",
       "      \n",
       "  <style>\n",
       "    .colab-df-container {\n",
       "      display:flex;\n",
       "      flex-wrap:wrap;\n",
       "      gap: 12px;\n",
       "    }\n",
       "\n",
       "    .colab-df-convert {\n",
       "      background-color: #E8F0FE;\n",
       "      border: none;\n",
       "      border-radius: 50%;\n",
       "      cursor: pointer;\n",
       "      display: none;\n",
       "      fill: #1967D2;\n",
       "      height: 32px;\n",
       "      padding: 0 0 0 0;\n",
       "      width: 32px;\n",
       "    }\n",
       "\n",
       "    .colab-df-convert:hover {\n",
       "      background-color: #E2EBFA;\n",
       "      box-shadow: 0px 1px 2px rgba(60, 64, 67, 0.3), 0px 1px 3px 1px rgba(60, 64, 67, 0.15);\n",
       "      fill: #174EA6;\n",
       "    }\n",
       "\n",
       "    [theme=dark] .colab-df-convert {\n",
       "      background-color: #3B4455;\n",
       "      fill: #D2E3FC;\n",
       "    }\n",
       "\n",
       "    [theme=dark] .colab-df-convert:hover {\n",
       "      background-color: #434B5C;\n",
       "      box-shadow: 0px 1px 3px 1px rgba(0, 0, 0, 0.15);\n",
       "      filter: drop-shadow(0px 1px 2px rgba(0, 0, 0, 0.3));\n",
       "      fill: #FFFFFF;\n",
       "    }\n",
       "  </style>\n",
       "\n",
       "      <script>\n",
       "        const buttonEl =\n",
       "          document.querySelector('#df-00208092-ab94-4cce-87f9-9557a116eb2d button.colab-df-convert');\n",
       "        buttonEl.style.display =\n",
       "          google.colab.kernel.accessAllowed ? 'block' : 'none';\n",
       "\n",
       "        async function convertToInteractive(key) {\n",
       "          const element = document.querySelector('#df-00208092-ab94-4cce-87f9-9557a116eb2d');\n",
       "          const dataTable =\n",
       "            await google.colab.kernel.invokeFunction('convertToInteractive',\n",
       "                                                     [key], {});\n",
       "          if (!dataTable) return;\n",
       "\n",
       "          const docLinkHtml = 'Like what you see? Visit the ' +\n",
       "            '<a target=\"_blank\" href=https://colab.research.google.com/notebooks/data_table.ipynb>data table notebook</a>'\n",
       "            + ' to learn more about interactive tables.';\n",
       "          element.innerHTML = '';\n",
       "          dataTable['output_type'] = 'display_data';\n",
       "          await google.colab.output.renderOutput(dataTable, element);\n",
       "          const docLink = document.createElement('div');\n",
       "          docLink.innerHTML = docLinkHtml;\n",
       "          element.appendChild(docLink);\n",
       "        }\n",
       "      </script>\n",
       "    </div>\n",
       "  </div>\n",
       "  "
      ],
      "text/plain": [
       "                        Subgroup  Subgroup Size  Subgroup AUC  BPSN AUC  \\\n",
       "7                          white           2772      0.767310  0.803955   \n",
       "2      homosexual_gay_or_lesbian           1296      0.777048  0.842362   \n",
       "6                          black           1599      0.777987  0.815653   \n",
       "4                         jewish            783      0.794221  0.882517   \n",
       "5                         muslim           2272      0.800272  0.852532   \n",
       "8  psychiatric_or_mental_illness            448      0.803270  0.863332   \n",
       "0                           male           4113      0.821299  0.852300   \n",
       "1                         female           4869      0.839400  0.883121   \n",
       "3                      christian           3615      0.840017  0.922041   \n",
       "\n",
       "   BNSP AUC  \n",
       "7  0.854566  \n",
       "2  0.826054  \n",
       "6  0.851120  \n",
       "4  0.788166  \n",
       "5  0.832820  \n",
       "8  0.824769  \n",
       "0  0.849208  \n",
       "1  0.830790  \n",
       "3  0.768676  "
      ]
     },
     "execution_count": 35,
     "metadata": {},
     "output_type": "execute_result"
    }
   ],
   "source": [
    "# Display the Bias Metrics\n",
    "biasMetrics"
   ]
  },
  {
   "cell_type": "code",
   "execution_count": 36,
   "id": "cbfcf796",
   "metadata": {
    "colab": {
     "base_uri": "https://localhost:8080/"
    },
    "id": "cbfcf796",
    "outputId": "18703b14-0dae-4532-d790-3c149524a8ae"
   },
   "outputs": [
    {
     "name": "stdout",
     "output_type": "stream",
     "text": [
      "Final Metric Score on the Test Dataset:  0.8372258468488949\n"
     ]
    }
   ],
   "source": [
    "# Get the final metric score\n",
    "finalMetricScore = performance_metrics.computeFinalMetric(biasMetrics, performance_metrics.computeOverallAUC(data=testData, actualClassLabel='target', predClassLabel='yPredProb'))\n",
    "print('Final Metric Score on the Test Dataset: ', finalMetricScore)"
   ]
  },
  {
   "cell_type": "markdown",
   "id": "b38ee5de",
   "metadata": {
    "id": "b38ee5de"
   },
   "source": [
    "## 6.7. Predict the Toxicity of the given Test Dataset\n",
    "\n",
    "Now, we will predict the toxicity score for the comment texts given in the Test Dataset of the Problem."
   ]
  },
  {
   "cell_type": "code",
   "execution_count": 38,
   "id": "0ad364cc",
   "metadata": {
    "colab": {
     "base_uri": "https://localhost:8080/"
    },
    "id": "0ad364cc",
    "outputId": "c5edbe42-2363-4236-b3b7-b8fc7cb44bb0"
   },
   "outputs": [
    {
     "name": "stdout",
     "output_type": "stream",
     "text": [
      "CPU times: user 326 ms, sys: 39.5 ms, total: 366 ms\n",
      "Wall time: 369 ms\n"
     ]
    }
   ],
   "source": [
    "%%time\n",
    "# Read the Test Dataset given in the Kaggle Problem\n",
    "test = pd.read_csv('Data/test.csv')"
   ]
  },
  {
   "cell_type": "code",
   "execution_count": 39,
   "id": "5d3717f1",
   "metadata": {
    "colab": {
     "base_uri": "https://localhost:8080/",
     "height": 148,
     "referenced_widgets": [
      "b066658099eb471e93a0068b1c0b4011",
      "e5c3c16d76d04e7fae9c87a1f48b2929",
      "309b4635ce7645cba492a08846e7c4bd",
      "edfb38d562884c498130a8fbdf52285b",
      "e1cef2fd27d34754bd1a85164c181a08",
      "6dfccf48fabb44eb8c4dae42021bdac2",
      "249cc5eafce3449caadf76f0216a278d",
      "deca68113ec74e68b001fdae0b355df8",
      "7b493f1bf5a8478bbb82a401db57d916",
      "bb019ac1ef0040f88410861f8f272a0d",
      "d7c887f07fad402cad949a4e7c8529f8",
      "dd0ab716a1944a5ba821fc253d8b1fc8",
      "599f9c6749a3411c9c1a77324b79d643",
      "1eb981e6458d48e7b7b704ec24a61176",
      "a82ed7e5107342debc8b29af4e665395",
      "0a103bc2bace43a39599901b619e09f2",
      "74ca29f9008a47ad86f3af60b203e84d",
      "1f4d6b3e621d42b6bfb575e4a003746f",
      "33ec041986764253a50fe48c08420af0",
      "8676ef664cc4477181ce0ada7d942d0f",
      "50e1672ae74d444c8381b11d8c25c4a6",
      "e7a28d9011fe4e55b60d86c5a593c746",
      "e3a0da63d82c444cab882f8d48519136",
      "2d0cc951f7e14bab9d22b38e66f00b60",
      "c72f5e806fd0481ab4d1eca8a04936de",
      "34dff745b7cb4820ac383b5330ccd791",
      "8ca745cfb0174891a590f98ddf1a1684",
      "2491e686b078403898c1f71788ba1683",
      "b1e881bbb90a46e2b763579ab921525b",
      "11e382d02a72448abcc8b1eb5d6b8e0e",
      "6c50e1f806e548ff84176fa1d2b750ea",
      "a351025b561e433090fa35ae4c83b98b",
      "808cd445b35046f1be6eb6f6e42e91e9"
     ]
    },
    "id": "5d3717f1",
    "outputId": "786af743-29b7-4f1a-de96-2458aee49832"
   },
   "outputs": [
    {
     "data": {
      "application/vnd.jupyter.widget-view+json": {
       "model_id": "b066658099eb471e93a0068b1c0b4011",
       "version_major": 2,
       "version_minor": 0
      },
      "text/plain": [
       "Downloading:   0%|          | 0.00/226k [00:00<?, ?B/s]"
      ]
     },
     "metadata": {},
     "output_type": "display_data"
    },
    {
     "data": {
      "application/vnd.jupyter.widget-view+json": {
       "model_id": "dd0ab716a1944a5ba821fc253d8b1fc8",
       "version_major": 2,
       "version_minor": 0
      },
      "text/plain": [
       "Downloading:   0%|          | 0.00/28.0 [00:00<?, ?B/s]"
      ]
     },
     "metadata": {},
     "output_type": "display_data"
    },
    {
     "data": {
      "application/vnd.jupyter.widget-view+json": {
       "model_id": "e3a0da63d82c444cab882f8d48519136",
       "version_major": 2,
       "version_minor": 0
      },
      "text/plain": [
       "  0%|          | 0/97320 [00:00<?, ?it/s]"
      ]
     },
     "metadata": {},
     "output_type": "display_data"
    },
    {
     "name": "stdout",
     "output_type": "stream",
     "text": [
      "CPU times: user 2min 30s, sys: 22.6 ms, total: 2min 30s\n",
      "Wall time: 2min 31s\n"
     ]
    }
   ],
   "source": [
    "%%time\n",
    "# Get the token ids and attention masks for the Test Comments.\n",
    "\n",
    "# Name of the DistilBert Model to be used.\n",
    "distilBert = 'distilbert-base-uncased'\n",
    "\n",
    "# Create a DistilBERT Tokenizer Object\n",
    "distilBertTokenizer = DistilBertTokenizer.from_pretrained(distilBert)\n",
    "\n",
    "# Call the 'distilBertTokenize()' function to tokenize the comment texts to token ids and attention masks for the comments.\n",
    "tokenIds, attentionMasks = distilBertTokenize(bertTokenizerObj=distilBertTokenizer, texts=test['comment_text'],\n",
    "                                              seqLen=maxSeqLength)"
   ]
  },
  {
   "cell_type": "code",
   "execution_count": 51,
   "id": "79c60ecf",
   "metadata": {
    "colab": {
     "base_uri": "https://localhost:8080/"
    },
    "id": "79c60ecf",
    "outputId": "13b3182c-b147-4f71-b70f-1d9de18acd97"
   },
   "outputs": [
    {
     "name": "stdout",
     "output_type": "stream",
     "text": [
      "CPU times: user 1min 52s, sys: 19.4 s, total: 2min 11s\n",
      "Wall time: 10min 8s\n"
     ]
    }
   ],
   "source": [
    "%%time\n",
    "# Text Embedding for Test Dataset.\n",
    "#embeddingsPath = 'Resources/testEmbeddings.pkl'\n",
    "embeddingsPath = F'/content/gdrive/My Drive/Case Study 2/testEmbeddings.pkl'\n",
    "if os.path.isfile(embeddingsPath):\n",
    "    \n",
    "    with open(embeddingsPath, 'rb') as f:\n",
    "        \n",
    "        textEmbeddings = pickle.load(f)\n",
    "        \n",
    "else:\n",
    "    \n",
    "    # Get Text Embedding Vectors for the Test Dataset Tokens\n",
    "    textEmbeddings = modeldistilBertBU.predict([tokenIds, attentionMasks])\n",
    "    \n",
    "    with open(embeddingsPath, 'wb') as f:\n",
    "        \n",
    "        pickle.dump(textEmbeddings, f)\n",
    "        \n",
    "    # This processing took almost 30mins in GCP."
   ]
  },
  {
   "cell_type": "code",
   "execution_count": null,
   "id": "d181878c",
   "metadata": {
    "id": "d181878c"
   },
   "outputs": [],
   "source": [
    "%%time\n",
    "# Get the Text Embeddings from the token ids and attention masks.\n",
    "#textEmbeddings = modeldistilBertBU.predict([tokenIds, attentionMasks])"
   ]
  },
  {
   "cell_type": "code",
   "execution_count": 52,
   "id": "27837057",
   "metadata": {
    "colab": {
     "base_uri": "https://localhost:8080/"
    },
    "id": "27837057",
    "outputId": "c3e812f5-9676-4014-8e75-2371aa863233"
   },
   "outputs": [
    {
     "data": {
      "text/plain": [
       "TensorShape([97320, 300])"
      ]
     },
     "execution_count": 52,
     "metadata": {},
     "output_type": "execute_result"
    }
   ],
   "source": [
    "tokenIds.shape"
   ]
  },
  {
   "cell_type": "code",
   "execution_count": 53,
   "id": "eeb3f76c",
   "metadata": {
    "colab": {
     "base_uri": "https://localhost:8080/"
    },
    "id": "eeb3f76c",
    "outputId": "c21eb17f-de37-4610-8eb5-ab914bb6c709"
   },
   "outputs": [
    {
     "data": {
      "text/plain": [
       "(97320, 768)"
      ]
     },
     "execution_count": 53,
     "metadata": {},
     "output_type": "execute_result"
    }
   ],
   "source": [
    "textEmbeddings.shape"
   ]
  },
  {
   "cell_type": "code",
   "execution_count": 54,
   "id": "d14dc3f5",
   "metadata": {
    "colab": {
     "base_uri": "https://localhost:8080/"
    },
    "id": "d14dc3f5",
    "outputId": "e3918f83-2dfb-4d9d-e464-dba67b98873d"
   },
   "outputs": [
    {
     "name": "stdout",
     "output_type": "stream",
     "text": [
      "CPU times: user 5.56 s, sys: 685 ms, total: 6.24 s\n",
      "Wall time: 3.91 s\n"
     ]
    }
   ],
   "source": [
    "%%time\n",
    "# Predict the probabilities of the class label of the Test Dataset and store it in a new feature 'yPredProb' of the Test Dataset.\n",
    "test['prediction'] = modelBERTEmb.predict(textEmbeddings)[0].flatten()"
   ]
  },
  {
   "cell_type": "code",
   "execution_count": 55,
   "id": "0ed2523b",
   "metadata": {
    "id": "0ed2523b"
   },
   "outputs": [],
   "source": [
    "# Save the result in the required format for submission\n",
    "submissionBERTEmb = test[['id', 'prediction']]"
   ]
  },
  {
   "cell_type": "code",
   "execution_count": 56,
   "id": "740af1c6",
   "metadata": {
    "id": "740af1c6"
   },
   "outputs": [],
   "source": [
    "submissionBERTEmb.to_csv(F'/content/gdrive/My Drive/Case Study 2/submission_BERTEmb.csv', index=False)"
   ]
  },
  {
   "cell_type": "code",
   "execution_count": 57,
   "id": "b093ab09",
   "metadata": {
    "id": "b093ab09"
   },
   "outputs": [],
   "source": [
    "submissionBERTEmb.to_csv('submission_BERTEmb.csv', index=False)"
   ]
  },
  {
   "cell_type": "markdown",
   "id": "139ebe41",
   "metadata": {
    "id": "139ebe41"
   },
   "source": [
    "## 6.8. Kaggle Score"
   ]
  },
  {
   "attachments": {
    "image.png": {
     "image/png": "[encoded data removed]"
    }
   },
   "cell_type": "markdown",
   "id": "0653241c",
   "metadata": {
    "id": "c41b489b"
   },
   "source": [
    "![image.png](attachment:image.png)"
   ]
  },
  {
   "cell_type": "markdown",
   "id": "209b0e99",
   "metadata": {
    "id": "209b0e99"
   },
   "source": [
    "----"
   ]
  }
 ],
 "metadata": {
  "accelerator": "GPU",
  "colab": {
   "collapsed_sections": [],
   "machine_shape": "hm",
   "name": "6.BERT with Undersampling.ipynb",
   "provenance": []
  },
  "kernelspec": {
   "display_name": "Python 3",
   "language": "python",
   "name": "python3"
  },
  "language_info": {
   "codemirror_mode": {
    "name": "ipython",
    "version": 3
   },
   "file_extension": ".py",
   "mimetype": "text/x-python",
   "name": "python",
   "nbconvert_exporter": "python",
   "pygments_lexer": "ipython3",
   "version": "3.7.10"
  },
  "widgets": {
   "application/vnd.jupyter.widget-state+json": {
    "011bd749a4f542ac97978b6ae86e8b30": {
     "model_module": "@jupyter-widgets/controls",
     "model_module_version": "1.5.0",
     "model_name": "HTMLModel",
     "state": {
      "_dom_classes": [],
      "_model_module": "@jupyter-widgets/controls",
      "_model_module_version": "1.5.0",
      "_model_name": "HTMLModel",
      "_view_count": null,
      "_view_module": "@jupyter-widgets/controls",
      "_view_module_version": "1.5.0",
      "_view_name": "HTMLView",
      "description": "",
      "description_tooltip": null,
      "layout": "IPY_MODEL_8c5006a5daff4d10b213325e95517c8c",
      "placeholder": "​",
      "style": "IPY_MODEL_90ff95c6a26d4dcd9ed04f2260a50aa2",
      "value": "Downloading: 100%"
     }
    },
    "0183526a8a48430aac6d89f0f857835c": {
     "model_module": "@jupyter-widgets/base",
     "model_module_version": "1.2.0",
     "model_name": "LayoutModel",
     "state": {
      "_model_module": "@jupyter-widgets/base",
      "_model_module_version": "1.2.0",
      "_model_name": "LayoutModel",
      "_view_count": null,
      "_view_module": "@jupyter-widgets/base",
      "_view_module_version": "1.2.0",
      "_view_name": "LayoutView",
      "align_content": null,
      "align_items": null,
      "align_self": null,
      "border": null,
      "bottom": null,
      "display": null,
      "flex": null,
      "flex_flow": null,
      "grid_area": null,
      "grid_auto_columns": null,
      "grid_auto_flow": null,
      "grid_auto_rows": null,
      "grid_column": null,
      "grid_gap": null,
      "grid_row": null,
      "grid_template_areas": null,
      "grid_template_columns": null,
      "grid_template_rows": null,
      "height": null,
      "justify_content": null,
      "justify_items": null,
      "left": null,
      "margin": null,
      "max_height": null,
      "max_width": null,
      "min_height": null,
      "min_width": null,
      "object_fit": null,
      "object_position": null,
      "order": null,
      "overflow": null,
      "overflow_x": null,
      "overflow_y": null,
      "padding": null,
      "right": null,
      "top": null,
      "visibility": null,
      "width": null
     }
    },
    "06cd824fda774becb89ae87d78304d06": {
     "model_module": "@jupyter-widgets/controls",
     "model_module_version": "1.5.0",
     "model_name": "ProgressStyleModel",
     "state": {
      "_model_module": "@jupyter-widgets/controls",
      "_model_module_version": "1.5.0",
      "_model_name": "ProgressStyleModel",
      "_view_count": null,
      "_view_module": "@jupyter-widgets/base",
      "_view_module_version": "1.2.0",
      "_view_name": "StyleView",
      "bar_color": null,
      "description_width": ""
     }
    },
    "0a103bc2bace43a39599901b619e09f2": {
     "model_module": "@jupyter-widgets/base",
     "model_module_version": "1.2.0",
     "model_name": "LayoutModel",
     "state": {
      "_model_module": "@jupyter-widgets/base",
      "_model_module_version": "1.2.0",
      "_model_name": "LayoutModel",
      "_view_count": null,
      "_view_module": "@jupyter-widgets/base",
      "_view_module_version": "1.2.0",
      "_view_name": "LayoutView",
      "align_content": null,
      "align_items": null,
      "align_self": null,
      "border": null,
      "bottom": null,
      "display": null,
      "flex": null,
      "flex_flow": null,
      "grid_area": null,
      "grid_auto_columns": null,
      "grid_auto_flow": null,
      "grid_auto_rows": null,
      "grid_column": null,
      "grid_gap": null,
      "grid_row": null,
      "grid_template_areas": null,
      "grid_template_columns": null,
      "grid_template_rows": null,
      "height": null,
      "justify_content": null,
      "justify_items": null,
      "left": null,
      "margin": null,
      "max_height": null,
      "max_width": null,
      "min_height": null,
      "min_width": null,
      "object_fit": null,
      "object_position": null,
      "order": null,
      "overflow": null,
      "overflow_x": null,
      "overflow_y": null,
      "padding": null,
      "right": null,
      "top": null,
      "visibility": null,
      "width": null
     }
    },
    "11e382d02a72448abcc8b1eb5d6b8e0e": {
     "model_module": "@jupyter-widgets/base",
     "model_module_version": "1.2.0",
     "model_name": "LayoutModel",
     "state": {
      "_model_module": "@jupyter-widgets/base",
      "_model_module_version": "1.2.0",
      "_model_name": "LayoutModel",
      "_view_count": null,
      "_view_module": "@jupyter-widgets/base",
      "_view_module_version": "1.2.0",
      "_view_name": "LayoutView",
      "align_content": null,
      "align_items": null,
      "align_self": null,
      "border": null,
      "bottom": null,
      "display": null,
      "flex": null,
      "flex_flow": null,
      "grid_area": null,
      "grid_auto_columns": null,
      "grid_auto_flow": null,
      "grid_auto_rows": null,
      "grid_column": null,
      "grid_gap": null,
      "grid_row": null,
      "grid_template_areas": null,
      "grid_template_columns": null,
      "grid_template_rows": null,
      "height": null,
      "justify_content": null,
      "justify_items": null,
      "left": null,
      "margin": null,
      "max_height": null,
      "max_width": null,
      "min_height": null,
      "min_width": null,
      "object_fit": null,
      "object_position": null,
      "order": null,
      "overflow": null,
      "overflow_x": null,
      "overflow_y": null,
      "padding": null,
      "right": null,
      "top": null,
      "visibility": null,
      "width": null
     }
    },
    "16c461b4b2ae4295bb78428fde2ac838": {
     "model_module": "@jupyter-widgets/controls",
     "model_module_version": "1.5.0",
     "model_name": "HTMLModel",
     "state": {
      "_dom_classes": [],
      "_model_module": "@jupyter-widgets/controls",
      "_model_module_version": "1.5.0",
      "_model_name": "HTMLModel",
      "_view_count": null,
      "_view_module": "@jupyter-widgets/controls",
      "_view_module_version": "1.5.0",
      "_view_name": "HTMLView",
      "description": "",
      "description_tooltip": null,
      "layout": "IPY_MODEL_c04691182b5b4bb1bc13bc75dd3421f2",
      "placeholder": "​",
      "style": "IPY_MODEL_fe978ea67d7a48219776f44abcaff6e2",
      "value": " 347M/347M [00:06&lt;00:00, 67.1MB/s]"
     }
    },
    "1cf29754113d4a4d9e46107715de0e37": {
     "model_module": "@jupyter-widgets/controls",
     "model_module_version": "1.5.0",
     "model_name": "FloatProgressModel",
     "state": {
      "_dom_classes": [],
      "_model_module": "@jupyter-widgets/controls",
      "_model_module_version": "1.5.0",
      "_model_name": "FloatProgressModel",
      "_view_count": null,
      "_view_module": "@jupyter-widgets/controls",
      "_view_module_version": "1.5.0",
      "_view_name": "ProgressView",
      "bar_style": "success",
      "description": "",
      "description_tooltip": null,
      "layout": "IPY_MODEL_e17605474286462fb60473ce34469230",
      "max": 363423424,
      "min": 0,
      "orientation": "horizontal",
      "style": "IPY_MODEL_06cd824fda774becb89ae87d78304d06",
      "value": 363423424
     }
    },
    "1eb981e6458d48e7b7b704ec24a61176": {
     "model_module": "@jupyter-widgets/controls",
     "model_module_version": "1.5.0",
     "model_name": "FloatProgressModel",
     "state": {
      "_dom_classes": [],
      "_model_module": "@jupyter-widgets/controls",
      "_model_module_version": "1.5.0",
      "_model_name": "FloatProgressModel",
      "_view_count": null,
      "_view_module": "@jupyter-widgets/controls",
      "_view_module_version": "1.5.0",
      "_view_name": "ProgressView",
      "bar_style": "success",
      "description": "",
      "description_tooltip": null,
      "layout": "IPY_MODEL_33ec041986764253a50fe48c08420af0",
      "max": 28,
      "min": 0,
      "orientation": "horizontal",
      "style": "IPY_MODEL_8676ef664cc4477181ce0ada7d942d0f",
      "value": 28
     }
    },
    "1f4d6b3e621d42b6bfb575e4a003746f": {
     "model_module": "@jupyter-widgets/controls",
     "model_module_version": "1.5.0",
     "model_name": "DescriptionStyleModel",
     "state": {
      "_model_module": "@jupyter-widgets/controls",
      "_model_module_version": "1.5.0",
      "_model_name": "DescriptionStyleModel",
      "_view_count": null,
      "_view_module": "@jupyter-widgets/base",
      "_view_module_version": "1.2.0",
      "_view_name": "StyleView",
      "description_width": ""
     }
    },
    "2491e686b078403898c1f71788ba1683": {
     "model_module": "@jupyter-widgets/base",
     "model_module_version": "1.2.0",
     "model_name": "LayoutModel",
     "state": {
      "_model_module": "@jupyter-widgets/base",
      "_model_module_version": "1.2.0",
      "_model_name": "LayoutModel",
      "_view_count": null,
      "_view_module": "@jupyter-widgets/base",
      "_view_module_version": "1.2.0",
      "_view_name": "LayoutView",
      "align_content": null,
      "align_items": null,
      "align_self": null,
      "border": null,
      "bottom": null,
      "display": null,
      "flex": null,
      "flex_flow": null,
      "grid_area": null,
      "grid_auto_columns": null,
      "grid_auto_flow": null,
      "grid_auto_rows": null,
      "grid_column": null,
      "grid_gap": null,
      "grid_row": null,
      "grid_template_areas": null,
      "grid_template_columns": null,
      "grid_template_rows": null,
      "height": null,
      "justify_content": null,
      "justify_items": null,
      "left": null,
      "margin": null,
      "max_height": null,
      "max_width": null,
      "min_height": null,
      "min_width": null,
      "object_fit": null,
      "object_position": null,
      "order": null,
      "overflow": null,
      "overflow_x": null,
      "overflow_y": null,
      "padding": null,
      "right": null,
      "top": null,
      "visibility": null,
      "width": null
     }
    },
    "249cc5eafce3449caadf76f0216a278d": {
     "model_module": "@jupyter-widgets/controls",
     "model_module_version": "1.5.0",
     "model_name": "DescriptionStyleModel",
     "state": {
      "_model_module": "@jupyter-widgets/controls",
      "_model_module_version": "1.5.0",
      "_model_name": "DescriptionStyleModel",
      "_view_count": null,
      "_view_module": "@jupyter-widgets/base",
      "_view_module_version": "1.2.0",
      "_view_name": "StyleView",
      "description_width": ""
     }
    },
    "2d0cc951f7e14bab9d22b38e66f00b60": {
     "model_module": "@jupyter-widgets/controls",
     "model_module_version": "1.5.0",
     "model_name": "HTMLModel",
     "state": {
      "_dom_classes": [],
      "_model_module": "@jupyter-widgets/controls",
      "_model_module_version": "1.5.0",
      "_model_name": "HTMLModel",
      "_view_count": null,
      "_view_module": "@jupyter-widgets/controls",
      "_view_module_version": "1.5.0",
      "_view_name": "HTMLView",
      "description": "",
      "description_tooltip": null,
      "layout": "IPY_MODEL_2491e686b078403898c1f71788ba1683",
      "placeholder": "​",
      "style": "IPY_MODEL_b1e881bbb90a46e2b763579ab921525b",
      "value": "100%"
     }
    },
    "309b4635ce7645cba492a08846e7c4bd": {
     "model_module": "@jupyter-widgets/controls",
     "model_module_version": "1.5.0",
     "model_name": "FloatProgressModel",
     "state": {
      "_dom_classes": [],
      "_model_module": "@jupyter-widgets/controls",
      "_model_module_version": "1.5.0",
      "_model_name": "FloatProgressModel",
      "_view_count": null,
      "_view_module": "@jupyter-widgets/controls",
      "_view_module_version": "1.5.0",
      "_view_name": "ProgressView",
      "bar_style": "success",
      "description": "",
      "description_tooltip": null,
      "layout": "IPY_MODEL_deca68113ec74e68b001fdae0b355df8",
      "max": 231508,
      "min": 0,
      "orientation": "horizontal",
      "style": "IPY_MODEL_7b493f1bf5a8478bbb82a401db57d916",
      "value": 231508
     }
    },
    "33ec041986764253a50fe48c08420af0": {
     "model_module": "@jupyter-widgets/base",
     "model_module_version": "1.2.0",
     "model_name": "LayoutModel",
     "state": {
      "_model_module": "@jupyter-widgets/base",
      "_model_module_version": "1.2.0",
      "_model_name": "LayoutModel",
      "_view_count": null,
      "_view_module": "@jupyter-widgets/base",
      "_view_module_version": "1.2.0",
      "_view_name": "LayoutView",
      "align_content": null,
      "align_items": null,
      "align_self": null,
      "border": null,
      "bottom": null,
      "display": null,
      "flex": null,
      "flex_flow": null,
      "grid_area": null,
      "grid_auto_columns": null,
      "grid_auto_flow": null,
      "grid_auto_rows": null,
      "grid_column": null,
      "grid_gap": null,
      "grid_row": null,
      "grid_template_areas": null,
      "grid_template_columns": null,
      "grid_template_rows": null,
      "height": null,
      "justify_content": null,
      "justify_items": null,
      "left": null,
      "margin": null,
      "max_height": null,
      "max_width": null,
      "min_height": null,
      "min_width": null,
      "object_fit": null,
      "object_position": null,
      "order": null,
      "overflow": null,
      "overflow_x": null,
      "overflow_y": null,
      "padding": null,
      "right": null,
      "top": null,
      "visibility": null,
      "width": null
     }
    },
    "34dff745b7cb4820ac383b5330ccd791": {
     "model_module": "@jupyter-widgets/controls",
     "model_module_version": "1.5.0",
     "model_name": "HTMLModel",
     "state": {
      "_dom_classes": [],
      "_model_module": "@jupyter-widgets/controls",
      "_model_module_version": "1.5.0",
      "_model_name": "HTMLModel",
      "_view_count": null,
      "_view_module": "@jupyter-widgets/controls",
      "_view_module_version": "1.5.0",
      "_view_name": "HTMLView",
      "description": "",
      "description_tooltip": null,
      "layout": "IPY_MODEL_a351025b561e433090fa35ae4c83b98b",
      "placeholder": "​",
      "style": "IPY_MODEL_808cd445b35046f1be6eb6f6e42e91e9",
      "value": " 97320/97320 [02:28&lt;00:00, 538.14it/s]"
     }
    },
    "50e1672ae74d444c8381b11d8c25c4a6": {
     "model_module": "@jupyter-widgets/base",
     "model_module_version": "1.2.0",
     "model_name": "LayoutModel",
     "state": {
      "_model_module": "@jupyter-widgets/base",
      "_model_module_version": "1.2.0",
      "_model_name": "LayoutModel",
      "_view_count": null,
      "_view_module": "@jupyter-widgets/base",
      "_view_module_version": "1.2.0",
      "_view_name": "LayoutView",
      "align_content": null,
      "align_items": null,
      "align_self": null,
      "border": null,
      "bottom": null,
      "display": null,
      "flex": null,
      "flex_flow": null,
      "grid_area": null,
      "grid_auto_columns": null,
      "grid_auto_flow": null,
      "grid_auto_rows": null,
      "grid_column": null,
      "grid_gap": null,
      "grid_row": null,
      "grid_template_areas": null,
      "grid_template_columns": null,
      "grid_template_rows": null,
      "height": null,
      "justify_content": null,
      "justify_items": null,
      "left": null,
      "margin": null,
      "max_height": null,
      "max_width": null,
      "min_height": null,
      "min_width": null,
      "object_fit": null,
      "object_position": null,
      "order": null,
      "overflow": null,
      "overflow_x": null,
      "overflow_y": null,
      "padding": null,
      "right": null,
      "top": null,
      "visibility": null,
      "width": null
     }
    },
    "599f9c6749a3411c9c1a77324b79d643": {
     "model_module": "@jupyter-widgets/controls",
     "model_module_version": "1.5.0",
     "model_name": "HTMLModel",
     "state": {
      "_dom_classes": [],
      "_model_module": "@jupyter-widgets/controls",
      "_model_module_version": "1.5.0",
      "_model_name": "HTMLModel",
      "_view_count": null,
      "_view_module": "@jupyter-widgets/controls",
      "_view_module_version": "1.5.0",
      "_view_name": "HTMLView",
      "description": "",
      "description_tooltip": null,
      "layout": "IPY_MODEL_74ca29f9008a47ad86f3af60b203e84d",
      "placeholder": "​",
      "style": "IPY_MODEL_1f4d6b3e621d42b6bfb575e4a003746f",
      "value": "Downloading: 100%"
     }
    },
    "5d540880ac5642f0b0ca3929a4faa32e": {
     "model_module": "@jupyter-widgets/controls",
     "model_module_version": "1.5.0",
     "model_name": "DescriptionStyleModel",
     "state": {
      "_model_module": "@jupyter-widgets/controls",
      "_model_module_version": "1.5.0",
      "_model_name": "DescriptionStyleModel",
      "_view_count": null,
      "_view_module": "@jupyter-widgets/base",
      "_view_module_version": "1.2.0",
      "_view_name": "StyleView",
      "description_width": ""
     }
    },
    "6c50e1f806e548ff84176fa1d2b750ea": {
     "model_module": "@jupyter-widgets/controls",
     "model_module_version": "1.5.0",
     "model_name": "ProgressStyleModel",
     "state": {
      "_model_module": "@jupyter-widgets/controls",
      "_model_module_version": "1.5.0",
      "_model_name": "ProgressStyleModel",
      "_view_count": null,
      "_view_module": "@jupyter-widgets/base",
      "_view_module_version": "1.2.0",
      "_view_name": "StyleView",
      "bar_color": null,
      "description_width": ""
     }
    },
    "6dfccf48fabb44eb8c4dae42021bdac2": {
     "model_module": "@jupyter-widgets/base",
     "model_module_version": "1.2.0",
     "model_name": "LayoutModel",
     "state": {
      "_model_module": "@jupyter-widgets/base",
      "_model_module_version": "1.2.0",
      "_model_name": "LayoutModel",
      "_view_count": null,
      "_view_module": "@jupyter-widgets/base",
      "_view_module_version": "1.2.0",
      "_view_name": "LayoutView",
      "align_content": null,
      "align_items": null,
      "align_self": null,
      "border": null,
      "bottom": null,
      "display": null,
      "flex": null,
      "flex_flow": null,
      "grid_area": null,
      "grid_auto_columns": null,
      "grid_auto_flow": null,
      "grid_auto_rows": null,
      "grid_column": null,
      "grid_gap": null,
      "grid_row": null,
      "grid_template_areas": null,
      "grid_template_columns": null,
      "grid_template_rows": null,
      "height": null,
      "justify_content": null,
      "justify_items": null,
      "left": null,
      "margin": null,
      "max_height": null,
      "max_width": null,
      "min_height": null,
      "min_width": null,
      "object_fit": null,
      "object_position": null,
      "order": null,
      "overflow": null,
      "overflow_x": null,
      "overflow_y": null,
      "padding": null,
      "right": null,
      "top": null,
      "visibility": null,
      "width": null
     }
    },
    "74c9cec90c3c4b6db845befee36b4258": {
     "model_module": "@jupyter-widgets/base",
     "model_module_version": "1.2.0",
     "model_name": "LayoutModel",
     "state": {
      "_model_module": "@jupyter-widgets/base",
      "_model_module_version": "1.2.0",
      "_model_name": "LayoutModel",
      "_view_count": null,
      "_view_module": "@jupyter-widgets/base",
      "_view_module_version": "1.2.0",
      "_view_name": "LayoutView",
      "align_content": null,
      "align_items": null,
      "align_self": null,
      "border": null,
      "bottom": null,
      "display": null,
      "flex": null,
      "flex_flow": null,
      "grid_area": null,
      "grid_auto_columns": null,
      "grid_auto_flow": null,
      "grid_auto_rows": null,
      "grid_column": null,
      "grid_gap": null,
      "grid_row": null,
      "grid_template_areas": null,
      "grid_template_columns": null,
      "grid_template_rows": null,
      "height": null,
      "justify_content": null,
      "justify_items": null,
      "left": null,
      "margin": null,
      "max_height": null,
      "max_width": null,
      "min_height": null,
      "min_width": null,
      "object_fit": null,
      "object_position": null,
      "order": null,
      "overflow": null,
      "overflow_x": null,
      "overflow_y": null,
      "padding": null,
      "right": null,
      "top": null,
      "visibility": null,
      "width": null
     }
    },
    "74ca29f9008a47ad86f3af60b203e84d": {
     "model_module": "@jupyter-widgets/base",
     "model_module_version": "1.2.0",
     "model_name": "LayoutModel",
     "state": {
      "_model_module": "@jupyter-widgets/base",
      "_model_module_version": "1.2.0",
      "_model_name": "LayoutModel",
      "_view_count": null,
      "_view_module": "@jupyter-widgets/base",
      "_view_module_version": "1.2.0",
      "_view_name": "LayoutView",
      "align_content": null,
      "align_items": null,
      "align_self": null,
      "border": null,
      "bottom": null,
      "display": null,
      "flex": null,
      "flex_flow": null,
      "grid_area": null,
      "grid_auto_columns": null,
      "grid_auto_flow": null,
      "grid_auto_rows": null,
      "grid_column": null,
      "grid_gap": null,
      "grid_row": null,
      "grid_template_areas": null,
      "grid_template_columns": null,
      "grid_template_rows": null,
      "height": null,
      "justify_content": null,
      "justify_items": null,
      "left": null,
      "margin": null,
      "max_height": null,
      "max_width": null,
      "min_height": null,
      "min_width": null,
      "object_fit": null,
      "object_position": null,
      "order": null,
      "overflow": null,
      "overflow_x": null,
      "overflow_y": null,
      "padding": null,
      "right": null,
      "top": null,
      "visibility": null,
      "width": null
     }
    },
    "7b493f1bf5a8478bbb82a401db57d916": {
     "model_module": "@jupyter-widgets/controls",
     "model_module_version": "1.5.0",
     "model_name": "ProgressStyleModel",
     "state": {
      "_model_module": "@jupyter-widgets/controls",
      "_model_module_version": "1.5.0",
      "_model_name": "ProgressStyleModel",
      "_view_count": null,
      "_view_module": "@jupyter-widgets/base",
      "_view_module_version": "1.2.0",
      "_view_name": "StyleView",
      "bar_color": null,
      "description_width": ""
     }
    },
    "808cd445b35046f1be6eb6f6e42e91e9": {
     "model_module": "@jupyter-widgets/controls",
     "model_module_version": "1.5.0",
     "model_name": "DescriptionStyleModel",
     "state": {
      "_model_module": "@jupyter-widgets/controls",
      "_model_module_version": "1.5.0",
      "_model_name": "DescriptionStyleModel",
      "_view_count": null,
      "_view_module": "@jupyter-widgets/base",
      "_view_module_version": "1.2.0",
      "_view_name": "StyleView",
      "description_width": ""
     }
    },
    "8676ef664cc4477181ce0ada7d942d0f": {
     "model_module": "@jupyter-widgets/controls",
     "model_module_version": "1.5.0",
     "model_name": "ProgressStyleModel",
     "state": {
      "_model_module": "@jupyter-widgets/controls",
      "_model_module_version": "1.5.0",
      "_model_name": "ProgressStyleModel",
      "_view_count": null,
      "_view_module": "@jupyter-widgets/base",
      "_view_module_version": "1.2.0",
      "_view_name": "StyleView",
      "bar_color": null,
      "description_width": ""
     }
    },
    "8939da89e78b49859bc4e30deee50706": {
     "model_module": "@jupyter-widgets/controls",
     "model_module_version": "1.5.0",
     "model_name": "ProgressStyleModel",
     "state": {
      "_model_module": "@jupyter-widgets/controls",
      "_model_module_version": "1.5.0",
      "_model_name": "ProgressStyleModel",
      "_view_count": null,
      "_view_module": "@jupyter-widgets/base",
      "_view_module_version": "1.2.0",
      "_view_name": "StyleView",
      "bar_color": null,
      "description_width": ""
     }
    },
    "8c5006a5daff4d10b213325e95517c8c": {
     "model_module": "@jupyter-widgets/base",
     "model_module_version": "1.2.0",
     "model_name": "LayoutModel",
     "state": {
      "_model_module": "@jupyter-widgets/base",
      "_model_module_version": "1.2.0",
      "_model_name": "LayoutModel",
      "_view_count": null,
      "_view_module": "@jupyter-widgets/base",
      "_view_module_version": "1.2.0",
      "_view_name": "LayoutView",
      "align_content": null,
      "align_items": null,
      "align_self": null,
      "border": null,
      "bottom": null,
      "display": null,
      "flex": null,
      "flex_flow": null,
      "grid_area": null,
      "grid_auto_columns": null,
      "grid_auto_flow": null,
      "grid_auto_rows": null,
      "grid_column": null,
      "grid_gap": null,
      "grid_row": null,
      "grid_template_areas": null,
      "grid_template_columns": null,
      "grid_template_rows": null,
      "height": null,
      "justify_content": null,
      "justify_items": null,
      "left": null,
      "margin": null,
      "max_height": null,
      "max_width": null,
      "min_height": null,
      "min_width": null,
      "object_fit": null,
      "object_position": null,
      "order": null,
      "overflow": null,
      "overflow_x": null,
      "overflow_y": null,
      "padding": null,
      "right": null,
      "top": null,
      "visibility": null,
      "width": null
     }
    },
    "8ca745cfb0174891a590f98ddf1a1684": {
     "model_module": "@jupyter-widgets/base",
     "model_module_version": "1.2.0",
     "model_name": "LayoutModel",
     "state": {
      "_model_module": "@jupyter-widgets/base",
      "_model_module_version": "1.2.0",
      "_model_name": "LayoutModel",
      "_view_count": null,
      "_view_module": "@jupyter-widgets/base",
      "_view_module_version": "1.2.0",
      "_view_name": "LayoutView",
      "align_content": null,
      "align_items": null,
      "align_self": null,
      "border": null,
      "bottom": null,
      "display": null,
      "flex": null,
      "flex_flow": null,
      "grid_area": null,
      "grid_auto_columns": null,
      "grid_auto_flow": null,
      "grid_auto_rows": null,
      "grid_column": null,
      "grid_gap": null,
      "grid_row": null,
      "grid_template_areas": null,
      "grid_template_columns": null,
      "grid_template_rows": null,
      "height": null,
      "justify_content": null,
      "justify_items": null,
      "left": null,
      "margin": null,
      "max_height": null,
      "max_width": null,
      "min_height": null,
      "min_width": null,
      "object_fit": null,
      "object_position": null,
      "order": null,
      "overflow": null,
      "overflow_x": null,
      "overflow_y": null,
      "padding": null,
      "right": null,
      "top": null,
      "visibility": null,
      "width": null
     }
    },
    "8e935a490710418fb4780c16bcc76bc2": {
     "model_module": "@jupyter-widgets/base",
     "model_module_version": "1.2.0",
     "model_name": "LayoutModel",
     "state": {
      "_model_module": "@jupyter-widgets/base",
      "_model_module_version": "1.2.0",
      "_model_name": "LayoutModel",
      "_view_count": null,
      "_view_module": "@jupyter-widgets/base",
      "_view_module_version": "1.2.0",
      "_view_name": "LayoutView",
      "align_content": null,
      "align_items": null,
      "align_self": null,
      "border": null,
      "bottom": null,
      "display": null,
      "flex": null,
      "flex_flow": null,
      "grid_area": null,
      "grid_auto_columns": null,
      "grid_auto_flow": null,
      "grid_auto_rows": null,
      "grid_column": null,
      "grid_gap": null,
      "grid_row": null,
      "grid_template_areas": null,
      "grid_template_columns": null,
      "grid_template_rows": null,
      "height": null,
      "justify_content": null,
      "justify_items": null,
      "left": null,
      "margin": null,
      "max_height": null,
      "max_width": null,
      "min_height": null,
      "min_width": null,
      "object_fit": null,
      "object_position": null,
      "order": null,
      "overflow": null,
      "overflow_x": null,
      "overflow_y": null,
      "padding": null,
      "right": null,
      "top": null,
      "visibility": null,
      "width": null
     }
    },
    "90ff95c6a26d4dcd9ed04f2260a50aa2": {
     "model_module": "@jupyter-widgets/controls",
     "model_module_version": "1.5.0",
     "model_name": "DescriptionStyleModel",
     "state": {
      "_model_module": "@jupyter-widgets/controls",
      "_model_module_version": "1.5.0",
      "_model_name": "DescriptionStyleModel",
      "_view_count": null,
      "_view_module": "@jupyter-widgets/base",
      "_view_module_version": "1.2.0",
      "_view_name": "StyleView",
      "description_width": ""
     }
    },
    "a351025b561e433090fa35ae4c83b98b": {
     "model_module": "@jupyter-widgets/base",
     "model_module_version": "1.2.0",
     "model_name": "LayoutModel",
     "state": {
      "_model_module": "@jupyter-widgets/base",
      "_model_module_version": "1.2.0",
      "_model_name": "LayoutModel",
      "_view_count": null,
      "_view_module": "@jupyter-widgets/base",
      "_view_module_version": "1.2.0",
      "_view_name": "LayoutView",
      "align_content": null,
      "align_items": null,
      "align_self": null,
      "border": null,
      "bottom": null,
      "display": null,
      "flex": null,
      "flex_flow": null,
      "grid_area": null,
      "grid_auto_columns": null,
      "grid_auto_flow": null,
      "grid_auto_rows": null,
      "grid_column": null,
      "grid_gap": null,
      "grid_row": null,
      "grid_template_areas": null,
      "grid_template_columns": null,
      "grid_template_rows": null,
      "height": null,
      "justify_content": null,
      "justify_items": null,
      "left": null,
      "margin": null,
      "max_height": null,
      "max_width": null,
      "min_height": null,
      "min_width": null,
      "object_fit": null,
      "object_position": null,
      "order": null,
      "overflow": null,
      "overflow_x": null,
      "overflow_y": null,
      "padding": null,
      "right": null,
      "top": null,
      "visibility": null,
      "width": null
     }
    },
    "a5c1d998d71e4d24bfbb06860c5ac738": {
     "model_module": "@jupyter-widgets/base",
     "model_module_version": "1.2.0",
     "model_name": "LayoutModel",
     "state": {
      "_model_module": "@jupyter-widgets/base",
      "_model_module_version": "1.2.0",
      "_model_name": "LayoutModel",
      "_view_count": null,
      "_view_module": "@jupyter-widgets/base",
      "_view_module_version": "1.2.0",
      "_view_name": "LayoutView",
      "align_content": null,
      "align_items": null,
      "align_self": null,
      "border": null,
      "bottom": null,
      "display": null,
      "flex": null,
      "flex_flow": null,
      "grid_area": null,
      "grid_auto_columns": null,
      "grid_auto_flow": null,
      "grid_auto_rows": null,
      "grid_column": null,
      "grid_gap": null,
      "grid_row": null,
      "grid_template_areas": null,
      "grid_template_columns": null,
      "grid_template_rows": null,
      "height": null,
      "justify_content": null,
      "justify_items": null,
      "left": null,
      "margin": null,
      "max_height": null,
      "max_width": null,
      "min_height": null,
      "min_width": null,
      "object_fit": null,
      "object_position": null,
      "order": null,
      "overflow": null,
      "overflow_x": null,
      "overflow_y": null,
      "padding": null,
      "right": null,
      "top": null,
      "visibility": null,
      "width": null
     }
    },
    "a81988fdc0434d8fa915f6b6637de0cd": {
     "model_module": "@jupyter-widgets/controls",
     "model_module_version": "1.5.0",
     "model_name": "HTMLModel",
     "state": {
      "_dom_classes": [],
      "_model_module": "@jupyter-widgets/controls",
      "_model_module_version": "1.5.0",
      "_model_name": "HTMLModel",
      "_view_count": null,
      "_view_module": "@jupyter-widgets/controls",
      "_view_module_version": "1.5.0",
      "_view_name": "HTMLView",
      "description": "",
      "description_tooltip": null,
      "layout": "IPY_MODEL_0183526a8a48430aac6d89f0f857835c",
      "placeholder": "​",
      "style": "IPY_MODEL_5d540880ac5642f0b0ca3929a4faa32e",
      "value": "Downloading: 100%"
     }
    },
    "a82ed7e5107342debc8b29af4e665395": {
     "model_module": "@jupyter-widgets/controls",
     "model_module_version": "1.5.0",
     "model_name": "HTMLModel",
     "state": {
      "_dom_classes": [],
      "_model_module": "@jupyter-widgets/controls",
      "_model_module_version": "1.5.0",
      "_model_name": "HTMLModel",
      "_view_count": null,
      "_view_module": "@jupyter-widgets/controls",
      "_view_module_version": "1.5.0",
      "_view_name": "HTMLView",
      "description": "",
      "description_tooltip": null,
      "layout": "IPY_MODEL_50e1672ae74d444c8381b11d8c25c4a6",
      "placeholder": "​",
      "style": "IPY_MODEL_e7a28d9011fe4e55b60d86c5a593c746",
      "value": " 28.0/28.0 [00:00&lt;00:00, 967B/s]"
     }
    },
    "b066658099eb471e93a0068b1c0b4011": {
     "model_module": "@jupyter-widgets/controls",
     "model_module_version": "1.5.0",
     "model_name": "HBoxModel",
     "state": {
      "_dom_classes": [],
      "_model_module": "@jupyter-widgets/controls",
      "_model_module_version": "1.5.0",
      "_model_name": "HBoxModel",
      "_view_count": null,
      "_view_module": "@jupyter-widgets/controls",
      "_view_module_version": "1.5.0",
      "_view_name": "HBoxView",
      "box_style": "",
      "children": [
       "IPY_MODEL_e5c3c16d76d04e7fae9c87a1f48b2929",
       "IPY_MODEL_309b4635ce7645cba492a08846e7c4bd",
       "IPY_MODEL_edfb38d562884c498130a8fbdf52285b"
      ],
      "layout": "IPY_MODEL_e1cef2fd27d34754bd1a85164c181a08"
     }
    },
    "b1e881bbb90a46e2b763579ab921525b": {
     "model_module": "@jupyter-widgets/controls",
     "model_module_version": "1.5.0",
     "model_name": "DescriptionStyleModel",
     "state": {
      "_model_module": "@jupyter-widgets/controls",
      "_model_module_version": "1.5.0",
      "_model_name": "DescriptionStyleModel",
      "_view_count": null,
      "_view_module": "@jupyter-widgets/base",
      "_view_module_version": "1.2.0",
      "_view_name": "StyleView",
      "description_width": ""
     }
    },
    "bb019ac1ef0040f88410861f8f272a0d": {
     "model_module": "@jupyter-widgets/base",
     "model_module_version": "1.2.0",
     "model_name": "LayoutModel",
     "state": {
      "_model_module": "@jupyter-widgets/base",
      "_model_module_version": "1.2.0",
      "_model_name": "LayoutModel",
      "_view_count": null,
      "_view_module": "@jupyter-widgets/base",
      "_view_module_version": "1.2.0",
      "_view_name": "LayoutView",
      "align_content": null,
      "align_items": null,
      "align_self": null,
      "border": null,
      "bottom": null,
      "display": null,
      "flex": null,
      "flex_flow": null,
      "grid_area": null,
      "grid_auto_columns": null,
      "grid_auto_flow": null,
      "grid_auto_rows": null,
      "grid_column": null,
      "grid_gap": null,
      "grid_row": null,
      "grid_template_areas": null,
      "grid_template_columns": null,
      "grid_template_rows": null,
      "height": null,
      "justify_content": null,
      "justify_items": null,
      "left": null,
      "margin": null,
      "max_height": null,
      "max_width": null,
      "min_height": null,
      "min_width": null,
      "object_fit": null,
      "object_position": null,
      "order": null,
      "overflow": null,
      "overflow_x": null,
      "overflow_y": null,
      "padding": null,
      "right": null,
      "top": null,
      "visibility": null,
      "width": null
     }
    },
    "c04691182b5b4bb1bc13bc75dd3421f2": {
     "model_module": "@jupyter-widgets/base",
     "model_module_version": "1.2.0",
     "model_name": "LayoutModel",
     "state": {
      "_model_module": "@jupyter-widgets/base",
      "_model_module_version": "1.2.0",
      "_model_name": "LayoutModel",
      "_view_count": null,
      "_view_module": "@jupyter-widgets/base",
      "_view_module_version": "1.2.0",
      "_view_name": "LayoutView",
      "align_content": null,
      "align_items": null,
      "align_self": null,
      "border": null,
      "bottom": null,
      "display": null,
      "flex": null,
      "flex_flow": null,
      "grid_area": null,
      "grid_auto_columns": null,
      "grid_auto_flow": null,
      "grid_auto_rows": null,
      "grid_column": null,
      "grid_gap": null,
      "grid_row": null,
      "grid_template_areas": null,
      "grid_template_columns": null,
      "grid_template_rows": null,
      "height": null,
      "justify_content": null,
      "justify_items": null,
      "left": null,
      "margin": null,
      "max_height": null,
      "max_width": null,
      "min_height": null,
      "min_width": null,
      "object_fit": null,
      "object_position": null,
      "order": null,
      "overflow": null,
      "overflow_x": null,
      "overflow_y": null,
      "padding": null,
      "right": null,
      "top": null,
      "visibility": null,
      "width": null
     }
    },
    "c16494351a424cc7a2f132e2d77ef512": {
     "model_module": "@jupyter-widgets/controls",
     "model_module_version": "1.5.0",
     "model_name": "HBoxModel",
     "state": {
      "_dom_classes": [],
      "_model_module": "@jupyter-widgets/controls",
      "_model_module_version": "1.5.0",
      "_model_name": "HBoxModel",
      "_view_count": null,
      "_view_module": "@jupyter-widgets/controls",
      "_view_module_version": "1.5.0",
      "_view_name": "HBoxView",
      "box_style": "",
      "children": [
       "IPY_MODEL_011bd749a4f542ac97978b6ae86e8b30",
       "IPY_MODEL_1cf29754113d4a4d9e46107715de0e37",
       "IPY_MODEL_16c461b4b2ae4295bb78428fde2ac838"
      ],
      "layout": "IPY_MODEL_74c9cec90c3c4b6db845befee36b4258"
     }
    },
    "c72f5e806fd0481ab4d1eca8a04936de": {
     "model_module": "@jupyter-widgets/controls",
     "model_module_version": "1.5.0",
     "model_name": "FloatProgressModel",
     "state": {
      "_dom_classes": [],
      "_model_module": "@jupyter-widgets/controls",
      "_model_module_version": "1.5.0",
      "_model_name": "FloatProgressModel",
      "_view_count": null,
      "_view_module": "@jupyter-widgets/controls",
      "_view_module_version": "1.5.0",
      "_view_name": "ProgressView",
      "bar_style": "success",
      "description": "",
      "description_tooltip": null,
      "layout": "IPY_MODEL_11e382d02a72448abcc8b1eb5d6b8e0e",
      "max": 97320,
      "min": 0,
      "orientation": "horizontal",
      "style": "IPY_MODEL_6c50e1f806e548ff84176fa1d2b750ea",
      "value": 97320
     }
    },
    "d7c887f07fad402cad949a4e7c8529f8": {
     "model_module": "@jupyter-widgets/controls",
     "model_module_version": "1.5.0",
     "model_name": "DescriptionStyleModel",
     "state": {
      "_model_module": "@jupyter-widgets/controls",
      "_model_module_version": "1.5.0",
      "_model_name": "DescriptionStyleModel",
      "_view_count": null,
      "_view_module": "@jupyter-widgets/base",
      "_view_module_version": "1.2.0",
      "_view_name": "StyleView",
      "description_width": ""
     }
    },
    "dd0ab716a1944a5ba821fc253d8b1fc8": {
     "model_module": "@jupyter-widgets/controls",
     "model_module_version": "1.5.0",
     "model_name": "HBoxModel",
     "state": {
      "_dom_classes": [],
      "_model_module": "@jupyter-widgets/controls",
      "_model_module_version": "1.5.0",
      "_model_name": "HBoxModel",
      "_view_count": null,
      "_view_module": "@jupyter-widgets/controls",
      "_view_module_version": "1.5.0",
      "_view_name": "HBoxView",
      "box_style": "",
      "children": [
       "IPY_MODEL_599f9c6749a3411c9c1a77324b79d643",
       "IPY_MODEL_1eb981e6458d48e7b7b704ec24a61176",
       "IPY_MODEL_a82ed7e5107342debc8b29af4e665395"
      ],
      "layout": "IPY_MODEL_0a103bc2bace43a39599901b619e09f2"
     }
    },
    "deca68113ec74e68b001fdae0b355df8": {
     "model_module": "@jupyter-widgets/base",
     "model_module_version": "1.2.0",
     "model_name": "LayoutModel",
     "state": {
      "_model_module": "@jupyter-widgets/base",
      "_model_module_version": "1.2.0",
      "_model_name": "LayoutModel",
      "_view_count": null,
      "_view_module": "@jupyter-widgets/base",
      "_view_module_version": "1.2.0",
      "_view_name": "LayoutView",
      "align_content": null,
      "align_items": null,
      "align_self": null,
      "border": null,
      "bottom": null,
      "display": null,
      "flex": null,
      "flex_flow": null,
      "grid_area": null,
      "grid_auto_columns": null,
      "grid_auto_flow": null,
      "grid_auto_rows": null,
      "grid_column": null,
      "grid_gap": null,
      "grid_row": null,
      "grid_template_areas": null,
      "grid_template_columns": null,
      "grid_template_rows": null,
      "height": null,
      "justify_content": null,
      "justify_items": null,
      "left": null,
      "margin": null,
      "max_height": null,
      "max_width": null,
      "min_height": null,
      "min_width": null,
      "object_fit": null,
      "object_position": null,
      "order": null,
      "overflow": null,
      "overflow_x": null,
      "overflow_y": null,
      "padding": null,
      "right": null,
      "top": null,
      "visibility": null,
      "width": null
     }
    },
    "e17605474286462fb60473ce34469230": {
     "model_module": "@jupyter-widgets/base",
     "model_module_version": "1.2.0",
     "model_name": "LayoutModel",
     "state": {
      "_model_module": "@jupyter-widgets/base",
      "_model_module_version": "1.2.0",
      "_model_name": "LayoutModel",
      "_view_count": null,
      "_view_module": "@jupyter-widgets/base",
      "_view_module_version": "1.2.0",
      "_view_name": "LayoutView",
      "align_content": null,
      "align_items": null,
      "align_self": null,
      "border": null,
      "bottom": null,
      "display": null,
      "flex": null,
      "flex_flow": null,
      "grid_area": null,
      "grid_auto_columns": null,
      "grid_auto_flow": null,
      "grid_auto_rows": null,
      "grid_column": null,
      "grid_gap": null,
      "grid_row": null,
      "grid_template_areas": null,
      "grid_template_columns": null,
      "grid_template_rows": null,
      "height": null,
      "justify_content": null,
      "justify_items": null,
      "left": null,
      "margin": null,
      "max_height": null,
      "max_width": null,
      "min_height": null,
      "min_width": null,
      "object_fit": null,
      "object_position": null,
      "order": null,
      "overflow": null,
      "overflow_x": null,
      "overflow_y": null,
      "padding": null,
      "right": null,
      "top": null,
      "visibility": null,
      "width": null
     }
    },
    "e1cef2fd27d34754bd1a85164c181a08": {
     "model_module": "@jupyter-widgets/base",
     "model_module_version": "1.2.0",
     "model_name": "LayoutModel",
     "state": {
      "_model_module": "@jupyter-widgets/base",
      "_model_module_version": "1.2.0",
      "_model_name": "LayoutModel",
      "_view_count": null,
      "_view_module": "@jupyter-widgets/base",
      "_view_module_version": "1.2.0",
      "_view_name": "LayoutView",
      "align_content": null,
      "align_items": null,
      "align_self": null,
      "border": null,
      "bottom": null,
      "display": null,
      "flex": null,
      "flex_flow": null,
      "grid_area": null,
      "grid_auto_columns": null,
      "grid_auto_flow": null,
      "grid_auto_rows": null,
      "grid_column": null,
      "grid_gap": null,
      "grid_row": null,
      "grid_template_areas": null,
      "grid_template_columns": null,
      "grid_template_rows": null,
      "height": null,
      "justify_content": null,
      "justify_items": null,
      "left": null,
      "margin": null,
      "max_height": null,
      "max_width": null,
      "min_height": null,
      "min_width": null,
      "object_fit": null,
      "object_position": null,
      "order": null,
      "overflow": null,
      "overflow_x": null,
      "overflow_y": null,
      "padding": null,
      "right": null,
      "top": null,
      "visibility": null,
      "width": null
     }
    },
    "e3a0da63d82c444cab882f8d48519136": {
     "model_module": "@jupyter-widgets/controls",
     "model_module_version": "1.5.0",
     "model_name": "HBoxModel",
     "state": {
      "_dom_classes": [],
      "_model_module": "@jupyter-widgets/controls",
      "_model_module_version": "1.5.0",
      "_model_name": "HBoxModel",
      "_view_count": null,
      "_view_module": "@jupyter-widgets/controls",
      "_view_module_version": "1.5.0",
      "_view_name": "HBoxView",
      "box_style": "",
      "children": [
       "IPY_MODEL_2d0cc951f7e14bab9d22b38e66f00b60",
       "IPY_MODEL_c72f5e806fd0481ab4d1eca8a04936de",
       "IPY_MODEL_34dff745b7cb4820ac383b5330ccd791"
      ],
      "layout": "IPY_MODEL_8ca745cfb0174891a590f98ddf1a1684"
     }
    },
    "e5c3c16d76d04e7fae9c87a1f48b2929": {
     "model_module": "@jupyter-widgets/controls",
     "model_module_version": "1.5.0",
     "model_name": "HTMLModel",
     "state": {
      "_dom_classes": [],
      "_model_module": "@jupyter-widgets/controls",
      "_model_module_version": "1.5.0",
      "_model_name": "HTMLModel",
      "_view_count": null,
      "_view_module": "@jupyter-widgets/controls",
      "_view_module_version": "1.5.0",
      "_view_name": "HTMLView",
      "description": "",
      "description_tooltip": null,
      "layout": "IPY_MODEL_6dfccf48fabb44eb8c4dae42021bdac2",
      "placeholder": "​",
      "style": "IPY_MODEL_249cc5eafce3449caadf76f0216a278d",
      "value": "Downloading: 100%"
     }
    },
    "e7a28d9011fe4e55b60d86c5a593c746": {
     "model_module": "@jupyter-widgets/controls",
     "model_module_version": "1.5.0",
     "model_name": "DescriptionStyleModel",
     "state": {
      "_model_module": "@jupyter-widgets/controls",
      "_model_module_version": "1.5.0",
      "_model_name": "DescriptionStyleModel",
      "_view_count": null,
      "_view_module": "@jupyter-widgets/base",
      "_view_module_version": "1.2.0",
      "_view_name": "StyleView",
      "description_width": ""
     }
    },
    "edfb38d562884c498130a8fbdf52285b": {
     "model_module": "@jupyter-widgets/controls",
     "model_module_version": "1.5.0",
     "model_name": "HTMLModel",
     "state": {
      "_dom_classes": [],
      "_model_module": "@jupyter-widgets/controls",
      "_model_module_version": "1.5.0",
      "_model_name": "HTMLModel",
      "_view_count": null,
      "_view_module": "@jupyter-widgets/controls",
      "_view_module_version": "1.5.0",
      "_view_name": "HTMLView",
      "description": "",
      "description_tooltip": null,
      "layout": "IPY_MODEL_bb019ac1ef0040f88410861f8f272a0d",
      "placeholder": "​",
      "style": "IPY_MODEL_d7c887f07fad402cad949a4e7c8529f8",
      "value": " 226k/226k [00:00&lt;00:00, 661kB/s]"
     }
    },
    "ee0b7f1c35e74c05a160d0d4176cd653": {
     "model_module": "@jupyter-widgets/controls",
     "model_module_version": "1.5.0",
     "model_name": "HTMLModel",
     "state": {
      "_dom_classes": [],
      "_model_module": "@jupyter-widgets/controls",
      "_model_module_version": "1.5.0",
      "_model_name": "HTMLModel",
      "_view_count": null,
      "_view_module": "@jupyter-widgets/controls",
      "_view_module_version": "1.5.0",
      "_view_name": "HTMLView",
      "description": "",
      "description_tooltip": null,
      "layout": "IPY_MODEL_a5c1d998d71e4d24bfbb06860c5ac738",
      "placeholder": "​",
      "style": "IPY_MODEL_fe882c59f22047f59f195586467b9763",
      "value": " 483/483 [00:00&lt;00:00, 18.9kB/s]"
     }
    },
    "f7e6bf4048104b788b062ae9b2e66807": {
     "model_module": "@jupyter-widgets/controls",
     "model_module_version": "1.5.0",
     "model_name": "HBoxModel",
     "state": {
      "_dom_classes": [],
      "_model_module": "@jupyter-widgets/controls",
      "_model_module_version": "1.5.0",
      "_model_name": "HBoxModel",
      "_view_count": null,
      "_view_module": "@jupyter-widgets/controls",
      "_view_module_version": "1.5.0",
      "_view_name": "HBoxView",
      "box_style": "",
      "children": [
       "IPY_MODEL_a81988fdc0434d8fa915f6b6637de0cd",
       "IPY_MODEL_f9de484c01604af8b1c587551c9383ee",
       "IPY_MODEL_ee0b7f1c35e74c05a160d0d4176cd653"
      ],
      "layout": "IPY_MODEL_8e935a490710418fb4780c16bcc76bc2"
     }
    },
    "f9de484c01604af8b1c587551c9383ee": {
     "model_module": "@jupyter-widgets/controls",
     "model_module_version": "1.5.0",
     "model_name": "FloatProgressModel",
     "state": {
      "_dom_classes": [],
      "_model_module": "@jupyter-widgets/controls",
      "_model_module_version": "1.5.0",
      "_model_name": "FloatProgressModel",
      "_view_count": null,
      "_view_module": "@jupyter-widgets/controls",
      "_view_module_version": "1.5.0",
      "_view_name": "ProgressView",
      "bar_style": "success",
      "description": "",
      "description_tooltip": null,
      "layout": "IPY_MODEL_fa579ad899e64cb2a9e3984bf31d3106",
      "max": 483,
      "min": 0,
      "orientation": "horizontal",
      "style": "IPY_MODEL_8939da89e78b49859bc4e30deee50706",
      "value": 483
     }
    },
    "fa579ad899e64cb2a9e3984bf31d3106": {
     "model_module": "@jupyter-widgets/base",
     "model_module_version": "1.2.0",
     "model_name": "LayoutModel",
     "state": {
      "_model_module": "@jupyter-widgets/base",
      "_model_module_version": "1.2.0",
      "_model_name": "LayoutModel",
      "_view_count": null,
      "_view_module": "@jupyter-widgets/base",
      "_view_module_version": "1.2.0",
      "_view_name": "LayoutView",
      "align_content": null,
      "align_items": null,
      "align_self": null,
      "border": null,
      "bottom": null,
      "display": null,
      "flex": null,
      "flex_flow": null,
      "grid_area": null,
      "grid_auto_columns": null,
      "grid_auto_flow": null,
      "grid_auto_rows": null,
      "grid_column": null,
      "grid_gap": null,
      "grid_row": null,
      "grid_template_areas": null,
      "grid_template_columns": null,
      "grid_template_rows": null,
      "height": null,
      "justify_content": null,
      "justify_items": null,
      "left": null,
      "margin": null,
      "max_height": null,
      "max_width": null,
      "min_height": null,
      "min_width": null,
      "object_fit": null,
      "object_position": null,
      "order": null,
      "overflow": null,
      "overflow_x": null,
      "overflow_y": null,
      "padding": null,
      "right": null,
      "top": null,
      "visibility": null,
      "width": null
     }
    },
    "fe882c59f22047f59f195586467b9763": {
     "model_module": "@jupyter-widgets/controls",
     "model_module_version": "1.5.0",
     "model_name": "DescriptionStyleModel",
     "state": {
      "_model_module": "@jupyter-widgets/controls",
      "_model_module_version": "1.5.0",
      "_model_name": "DescriptionStyleModel",
      "_view_count": null,
      "_view_module": "@jupyter-widgets/base",
      "_view_module_version": "1.2.0",
      "_view_name": "StyleView",
      "description_width": ""
     }
    },
    "fe978ea67d7a48219776f44abcaff6e2": {
     "model_module": "@jupyter-widgets/controls",
     "model_module_version": "1.5.0",
     "model_name": "DescriptionStyleModel",
     "state": {
      "_model_module": "@jupyter-widgets/controls",
      "_model_module_version": "1.5.0",
      "_model_name": "DescriptionStyleModel",
      "_view_count": null,
      "_view_module": "@jupyter-widgets/base",
      "_view_module_version": "1.2.0",
      "_view_name": "StyleView",
      "description_width": ""
     }
    }
   }
  }
 },
 "nbformat": 4,
 "nbformat_minor": 5
}
