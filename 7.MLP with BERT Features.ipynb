{
 "cells": [
  {
   "cell_type": "markdown",
   "id": "1bc134cf",
   "metadata": {
    "id": "1bc134cf"
   },
   "source": [
    "# 1. Import Libraries\n",
    "\n",
    "* Import the required libraries."
   ]
  },
  {
   "cell_type": "code",
   "execution_count": 1,
   "id": "28697ee8",
   "metadata": {
    "colab": {
     "base_uri": "https://localhost:8080/"
    },
    "id": "28697ee8",
    "outputId": "3f7e727f-c44b-46c0-e12c-adda9cbfab1a"
   },
   "outputs": [
    {
     "name": "stdout",
     "output_type": "stream",
     "text": [
      "Collecting transformers\n",
      "  Downloading transformers-4.17.0-py3-none-any.whl (3.8 MB)\n",
      "\u001b[K     |████████████████████████████████| 3.8 MB 14.4 MB/s \n",
      "\u001b[?25hCollecting huggingface-hub<1.0,>=0.1.0\n",
      "  Downloading huggingface_hub-0.4.0-py3-none-any.whl (67 kB)\n",
      "\u001b[K     |████████████████████████████████| 67 kB 7.2 MB/s \n",
      "\u001b[?25hRequirement already satisfied: filelock in /usr/local/lib/python3.7/dist-packages (from transformers) (3.6.0)\n",
      "Requirement already satisfied: numpy>=1.17 in /usr/local/lib/python3.7/dist-packages (from transformers) (1.21.5)\n",
      "Requirement already satisfied: regex!=2019.12.17 in /usr/local/lib/python3.7/dist-packages (from transformers) (2019.12.20)\n",
      "Collecting pyyaml>=5.1\n",
      "  Downloading PyYAML-6.0-cp37-cp37m-manylinux_2_5_x86_64.manylinux1_x86_64.manylinux_2_12_x86_64.manylinux2010_x86_64.whl (596 kB)\n",
      "\u001b[K     |████████████████████████████████| 596 kB 88.8 MB/s \n",
      "\u001b[?25hRequirement already satisfied: tqdm>=4.27 in /usr/local/lib/python3.7/dist-packages (from transformers) (4.63.0)\n",
      "Requirement already satisfied: requests in /usr/local/lib/python3.7/dist-packages (from transformers) (2.23.0)\n",
      "Requirement already satisfied: packaging>=20.0 in /usr/local/lib/python3.7/dist-packages (from transformers) (21.3)\n",
      "Collecting sacremoses\n",
      "  Downloading sacremoses-0.0.49-py3-none-any.whl (895 kB)\n",
      "\u001b[K     |████████████████████████████████| 895 kB 77.9 MB/s \n",
      "\u001b[?25hCollecting tokenizers!=0.11.3,>=0.11.1\n",
      "  Downloading tokenizers-0.11.6-cp37-cp37m-manylinux_2_12_x86_64.manylinux2010_x86_64.whl (6.5 MB)\n",
      "\u001b[K     |████████████████████████████████| 6.5 MB 84.5 MB/s \n",
      "\u001b[?25hRequirement already satisfied: importlib-metadata in /usr/local/lib/python3.7/dist-packages (from transformers) (4.11.3)\n",
      "Requirement already satisfied: typing-extensions>=3.7.4.3 in /usr/local/lib/python3.7/dist-packages (from huggingface-hub<1.0,>=0.1.0->transformers) (3.10.0.2)\n",
      "Requirement already satisfied: pyparsing!=3.0.5,>=2.0.2 in /usr/local/lib/python3.7/dist-packages (from packaging>=20.0->transformers) (3.0.7)\n",
      "Requirement already satisfied: zipp>=0.5 in /usr/local/lib/python3.7/dist-packages (from importlib-metadata->transformers) (3.7.0)\n",
      "Requirement already satisfied: idna<3,>=2.5 in /usr/local/lib/python3.7/dist-packages (from requests->transformers) (2.10)\n",
      "Requirement already satisfied: certifi>=2017.4.17 in /usr/local/lib/python3.7/dist-packages (from requests->transformers) (2021.10.8)\n",
      "Requirement already satisfied: urllib3!=1.25.0,!=1.25.1,<1.26,>=1.21.1 in /usr/local/lib/python3.7/dist-packages (from requests->transformers) (1.24.3)\n",
      "Requirement already satisfied: chardet<4,>=3.0.2 in /usr/local/lib/python3.7/dist-packages (from requests->transformers) (3.0.4)\n",
      "Requirement already satisfied: click in /usr/local/lib/python3.7/dist-packages (from sacremoses->transformers) (7.1.2)\n",
      "Requirement already satisfied: joblib in /usr/local/lib/python3.7/dist-packages (from sacremoses->transformers) (1.1.0)\n",
      "Requirement already satisfied: six in /usr/local/lib/python3.7/dist-packages (from sacremoses->transformers) (1.15.0)\n",
      "Installing collected packages: pyyaml, tokenizers, sacremoses, huggingface-hub, transformers\n",
      "  Attempting uninstall: pyyaml\n",
      "    Found existing installation: PyYAML 3.13\n",
      "    Uninstalling PyYAML-3.13:\n",
      "      Successfully uninstalled PyYAML-3.13\n",
      "Successfully installed huggingface-hub-0.4.0 pyyaml-6.0 sacremoses-0.0.49 tokenizers-0.11.6 transformers-4.17.0\n"
     ]
    }
   ],
   "source": [
    "pip install transformers"
   ]
  },
  {
   "cell_type": "code",
   "execution_count": 2,
   "id": "REDBwVadQltI",
   "metadata": {
    "colab": {
     "base_uri": "https://localhost:8080/"
    },
    "id": "REDBwVadQltI",
    "outputId": "177b389b-a1ad-4e75-c478-f51bf2b77b6d"
   },
   "outputs": [
    {
     "name": "stdout",
     "output_type": "stream",
     "text": [
      "Collecting unidecode\n",
      "  Downloading Unidecode-1.3.4-py3-none-any.whl (235 kB)\n",
      "\u001b[?25l\r",
      "\u001b[K     |█▍                              | 10 kB 30.2 MB/s eta 0:00:01\r",
      "\u001b[K     |██▉                             | 20 kB 36.9 MB/s eta 0:00:01\r",
      "\u001b[K     |████▏                           | 30 kB 24.4 MB/s eta 0:00:01\r",
      "\u001b[K     |█████▋                          | 40 kB 14.1 MB/s eta 0:00:01\r",
      "\u001b[K     |███████                         | 51 kB 12.3 MB/s eta 0:00:01\r",
      "\u001b[K     |████████▍                       | 61 kB 14.3 MB/s eta 0:00:01\r",
      "\u001b[K     |█████████▊                      | 71 kB 14.3 MB/s eta 0:00:01\r",
      "\u001b[K     |███████████▏                    | 81 kB 13.8 MB/s eta 0:00:01\r",
      "\u001b[K     |████████████▌                   | 92 kB 15.1 MB/s eta 0:00:01\r",
      "\u001b[K     |██████████████                  | 102 kB 13.9 MB/s eta 0:00:01\r",
      "\u001b[K     |███████████████▎                | 112 kB 13.9 MB/s eta 0:00:01\r",
      "\u001b[K     |████████████████▊               | 122 kB 13.9 MB/s eta 0:00:01\r",
      "\u001b[K     |██████████████████              | 133 kB 13.9 MB/s eta 0:00:01\r",
      "\u001b[K     |███████████████████▌            | 143 kB 13.9 MB/s eta 0:00:01\r",
      "\u001b[K     |████████████████████▉           | 153 kB 13.9 MB/s eta 0:00:01\r",
      "\u001b[K     |██████████████████████▎         | 163 kB 13.9 MB/s eta 0:00:01\r",
      "\u001b[K     |███████████████████████▋        | 174 kB 13.9 MB/s eta 0:00:01\r",
      "\u001b[K     |█████████████████████████       | 184 kB 13.9 MB/s eta 0:00:01\r",
      "\u001b[K     |██████████████████████████▍     | 194 kB 13.9 MB/s eta 0:00:01\r",
      "\u001b[K     |███████████████████████████▉    | 204 kB 13.9 MB/s eta 0:00:01\r",
      "\u001b[K     |█████████████████████████████▏  | 215 kB 13.9 MB/s eta 0:00:01\r",
      "\u001b[K     |██████████████████████████████▋ | 225 kB 13.9 MB/s eta 0:00:01\r",
      "\u001b[K     |████████████████████████████████| 235 kB 13.9 MB/s eta 0:00:01\r",
      "\u001b[K     |████████████████████████████████| 235 kB 13.9 MB/s \n",
      "\u001b[?25hInstalling collected packages: unidecode\n",
      "Successfully installed unidecode-1.3.4\n"
     ]
    }
   ],
   "source": [
    "pip install unidecode"
   ]
  },
  {
   "cell_type": "code",
   "execution_count": 34,
   "id": "6cbd8432",
   "metadata": {
    "id": "6cbd8432"
   },
   "outputs": [],
   "source": [
    "import re\n",
    "import os\n",
    "import math\n",
    "import pickle\n",
    "import warnings\n",
    "import numpy as np\n",
    "import pandas as pd\n",
    "import seaborn as sns\n",
    "import tensorflow as tf\n",
    "import matplotlib.pyplot as plt\n",
    "\n",
    "from zipfile import ZipFile\n",
    "from tqdm.notebook import tqdm\n",
    "from custom_utility import performance_metrics, preprocess_text, tokenize\n",
    "from sklearn.model_selection import train_test_split\n",
    "from tensorflow.keras import Model, backend, preprocessing\n",
    "from tensorflow.keras.utils import plot_model\n",
    "from tensorflow.keras.optimizers import Adam\n",
    "from tensorflow.keras.losses import binary_crossentropy\n",
    "from tensorflow.keras.callbacks import EarlyStopping, ModelCheckpoint, ReduceLROnPlateau, LearningRateScheduler\n",
    "from tensorflow.keras.layers import Input, Embedding, SpatialDropout1D, Bidirectional, LSTM, GRU, GlobalMaxPool1D, \\\n",
    "                                    GlobalAveragePooling1D, Add, Concatenate, Dense, Activation, TimeDistributed, \\\n",
    "                                    Attention, Dropout, BatchNormalization, Conv1D\n",
    "from transformers import BertTokenizer, BertConfig, TFBertModel, DistilBertConfig, DistilBertTokenizer, \\\n",
    "                        TFDistilBertModel, logging"
   ]
  },
  {
   "cell_type": "code",
   "execution_count": 6,
   "id": "a7e4fe7f",
   "metadata": {
    "id": "a7e4fe7f"
   },
   "outputs": [],
   "source": [
    "from google.colab import drive"
   ]
  },
  {
   "cell_type": "code",
   "execution_count": 7,
   "id": "8894086b",
   "metadata": {
    "id": "8894086b"
   },
   "outputs": [],
   "source": [
    "pd.options.display.max_columns = None # To display all the columns of a Dataframe.\n",
    "warnings.filterwarnings('ignore') # Ignore any warnings and do not show them in the cell output.\n",
    "logging.set_verbosity_error() # Set the verbosity to the `ERROR` level to skip any warnings in HuggingFace Bert Models."
   ]
  },
  {
   "cell_type": "code",
   "execution_count": 8,
   "id": "11c564a3",
   "metadata": {
    "colab": {
     "base_uri": "https://localhost:8080/"
    },
    "id": "11c564a3",
    "outputId": "599b890f-2344-4bf0-85db-d730df129a09"
   },
   "outputs": [
    {
     "name": "stdout",
     "output_type": "stream",
     "text": [
      "Mounted at /content/gdrive\n"
     ]
    }
   ],
   "source": [
    "# Mount GDrive\n",
    "drive.mount('/content/gdrive')"
   ]
  },
  {
   "cell_type": "markdown",
   "id": "d1cbfcc4",
   "metadata": {
    "id": "d1cbfcc4"
   },
   "source": [
    "----"
   ]
  },
  {
   "cell_type": "markdown",
   "id": "431d0ddc",
   "metadata": {
    "id": "431d0ddc"
   },
   "source": [
    "# 2. Import the Dataset\n",
    "\n",
    "* Load the train dataset.\n",
    "* Perform some operations before splitting the data."
   ]
  },
  {
   "cell_type": "code",
   "execution_count": null,
   "id": "c7a0f206",
   "metadata": {
    "id": "c7a0f206",
    "outputId": "3c22d4c3-d682-404b-d3e8-c9bec38678ff"
   },
   "outputs": [
    {
     "name": "stdout",
     "output_type": "stream",
     "text": [
      "CPU times: user 13.9 s, sys: 2.44 s, total: 16.3 s\n",
      "Wall time: 16.8 s\n"
     ]
    }
   ],
   "source": [
    "%%time\n",
    "data = pd.read_csv('Data/train.csv')"
   ]
  },
  {
   "cell_type": "code",
   "execution_count": null,
   "id": "9ff24d79",
   "metadata": {
    "id": "9ff24d79",
    "outputId": "8295e4cf-af42-4ea5-e245-7c51f9f11997"
   },
   "outputs": [
    {
     "data": {
      "text/html": [
       "<div>\n",
       "<style scoped>\n",
       "    .dataframe tbody tr th:only-of-type {\n",
       "        vertical-align: middle;\n",
       "    }\n",
       "\n",
       "    .dataframe tbody tr th {\n",
       "        vertical-align: top;\n",
       "    }\n",
       "\n",
       "    .dataframe thead th {\n",
       "        text-align: right;\n",
       "    }\n",
       "</style>\n",
       "<table border=\"1\" class=\"dataframe\">\n",
       "  <thead>\n",
       "    <tr style=\"text-align: right;\">\n",
       "      <th></th>\n",
       "      <th>id</th>\n",
       "      <th>target</th>\n",
       "      <th>comment_text</th>\n",
       "      <th>severe_toxicity</th>\n",
       "      <th>obscene</th>\n",
       "      <th>identity_attack</th>\n",
       "      <th>insult</th>\n",
       "      <th>threat</th>\n",
       "      <th>asian</th>\n",
       "      <th>atheist</th>\n",
       "      <th>bisexual</th>\n",
       "      <th>black</th>\n",
       "      <th>buddhist</th>\n",
       "      <th>christian</th>\n",
       "      <th>female</th>\n",
       "      <th>heterosexual</th>\n",
       "      <th>hindu</th>\n",
       "      <th>homosexual_gay_or_lesbian</th>\n",
       "      <th>intellectual_or_learning_disability</th>\n",
       "      <th>jewish</th>\n",
       "      <th>latino</th>\n",
       "      <th>male</th>\n",
       "      <th>muslim</th>\n",
       "      <th>other_disability</th>\n",
       "      <th>other_gender</th>\n",
       "      <th>other_race_or_ethnicity</th>\n",
       "      <th>other_religion</th>\n",
       "      <th>other_sexual_orientation</th>\n",
       "      <th>physical_disability</th>\n",
       "      <th>psychiatric_or_mental_illness</th>\n",
       "      <th>transgender</th>\n",
       "      <th>white</th>\n",
       "      <th>created_date</th>\n",
       "      <th>publication_id</th>\n",
       "      <th>parent_id</th>\n",
       "      <th>article_id</th>\n",
       "      <th>rating</th>\n",
       "      <th>funny</th>\n",
       "      <th>wow</th>\n",
       "      <th>sad</th>\n",
       "      <th>likes</th>\n",
       "      <th>disagree</th>\n",
       "      <th>sexual_explicit</th>\n",
       "      <th>identity_annotator_count</th>\n",
       "      <th>toxicity_annotator_count</th>\n",
       "    </tr>\n",
       "  </thead>\n",
       "  <tbody>\n",
       "    <tr>\n",
       "      <th>0</th>\n",
       "      <td>59848</td>\n",
       "      <td>0.000000</td>\n",
       "      <td>This is so cool. It's like, 'would you want yo...</td>\n",
       "      <td>0.000000</td>\n",
       "      <td>0.0</td>\n",
       "      <td>0.000000</td>\n",
       "      <td>0.00000</td>\n",
       "      <td>0.0</td>\n",
       "      <td>NaN</td>\n",
       "      <td>NaN</td>\n",
       "      <td>NaN</td>\n",
       "      <td>NaN</td>\n",
       "      <td>NaN</td>\n",
       "      <td>NaN</td>\n",
       "      <td>NaN</td>\n",
       "      <td>NaN</td>\n",
       "      <td>NaN</td>\n",
       "      <td>NaN</td>\n",
       "      <td>NaN</td>\n",
       "      <td>NaN</td>\n",
       "      <td>NaN</td>\n",
       "      <td>NaN</td>\n",
       "      <td>NaN</td>\n",
       "      <td>NaN</td>\n",
       "      <td>NaN</td>\n",
       "      <td>NaN</td>\n",
       "      <td>NaN</td>\n",
       "      <td>NaN</td>\n",
       "      <td>NaN</td>\n",
       "      <td>NaN</td>\n",
       "      <td>NaN</td>\n",
       "      <td>NaN</td>\n",
       "      <td>2015-09-29 10:50:41.987077+00</td>\n",
       "      <td>2</td>\n",
       "      <td>NaN</td>\n",
       "      <td>2006</td>\n",
       "      <td>rejected</td>\n",
       "      <td>0</td>\n",
       "      <td>0</td>\n",
       "      <td>0</td>\n",
       "      <td>0</td>\n",
       "      <td>0</td>\n",
       "      <td>0.0</td>\n",
       "      <td>0</td>\n",
       "      <td>4</td>\n",
       "    </tr>\n",
       "    <tr>\n",
       "      <th>1</th>\n",
       "      <td>59849</td>\n",
       "      <td>0.000000</td>\n",
       "      <td>Thank you!! This would make my life a lot less...</td>\n",
       "      <td>0.000000</td>\n",
       "      <td>0.0</td>\n",
       "      <td>0.000000</td>\n",
       "      <td>0.00000</td>\n",
       "      <td>0.0</td>\n",
       "      <td>NaN</td>\n",
       "      <td>NaN</td>\n",
       "      <td>NaN</td>\n",
       "      <td>NaN</td>\n",
       "      <td>NaN</td>\n",
       "      <td>NaN</td>\n",
       "      <td>NaN</td>\n",
       "      <td>NaN</td>\n",
       "      <td>NaN</td>\n",
       "      <td>NaN</td>\n",
       "      <td>NaN</td>\n",
       "      <td>NaN</td>\n",
       "      <td>NaN</td>\n",
       "      <td>NaN</td>\n",
       "      <td>NaN</td>\n",
       "      <td>NaN</td>\n",
       "      <td>NaN</td>\n",
       "      <td>NaN</td>\n",
       "      <td>NaN</td>\n",
       "      <td>NaN</td>\n",
       "      <td>NaN</td>\n",
       "      <td>NaN</td>\n",
       "      <td>NaN</td>\n",
       "      <td>NaN</td>\n",
       "      <td>2015-09-29 10:50:42.870083+00</td>\n",
       "      <td>2</td>\n",
       "      <td>NaN</td>\n",
       "      <td>2006</td>\n",
       "      <td>rejected</td>\n",
       "      <td>0</td>\n",
       "      <td>0</td>\n",
       "      <td>0</td>\n",
       "      <td>0</td>\n",
       "      <td>0</td>\n",
       "      <td>0.0</td>\n",
       "      <td>0</td>\n",
       "      <td>4</td>\n",
       "    </tr>\n",
       "    <tr>\n",
       "      <th>2</th>\n",
       "      <td>59852</td>\n",
       "      <td>0.000000</td>\n",
       "      <td>This is such an urgent design problem; kudos t...</td>\n",
       "      <td>0.000000</td>\n",
       "      <td>0.0</td>\n",
       "      <td>0.000000</td>\n",
       "      <td>0.00000</td>\n",
       "      <td>0.0</td>\n",
       "      <td>NaN</td>\n",
       "      <td>NaN</td>\n",
       "      <td>NaN</td>\n",
       "      <td>NaN</td>\n",
       "      <td>NaN</td>\n",
       "      <td>NaN</td>\n",
       "      <td>NaN</td>\n",
       "      <td>NaN</td>\n",
       "      <td>NaN</td>\n",
       "      <td>NaN</td>\n",
       "      <td>NaN</td>\n",
       "      <td>NaN</td>\n",
       "      <td>NaN</td>\n",
       "      <td>NaN</td>\n",
       "      <td>NaN</td>\n",
       "      <td>NaN</td>\n",
       "      <td>NaN</td>\n",
       "      <td>NaN</td>\n",
       "      <td>NaN</td>\n",
       "      <td>NaN</td>\n",
       "      <td>NaN</td>\n",
       "      <td>NaN</td>\n",
       "      <td>NaN</td>\n",
       "      <td>NaN</td>\n",
       "      <td>2015-09-29 10:50:45.222647+00</td>\n",
       "      <td>2</td>\n",
       "      <td>NaN</td>\n",
       "      <td>2006</td>\n",
       "      <td>rejected</td>\n",
       "      <td>0</td>\n",
       "      <td>0</td>\n",
       "      <td>0</td>\n",
       "      <td>0</td>\n",
       "      <td>0</td>\n",
       "      <td>0.0</td>\n",
       "      <td>0</td>\n",
       "      <td>4</td>\n",
       "    </tr>\n",
       "    <tr>\n",
       "      <th>3</th>\n",
       "      <td>59855</td>\n",
       "      <td>0.000000</td>\n",
       "      <td>Is this something I'll be able to install on m...</td>\n",
       "      <td>0.000000</td>\n",
       "      <td>0.0</td>\n",
       "      <td>0.000000</td>\n",
       "      <td>0.00000</td>\n",
       "      <td>0.0</td>\n",
       "      <td>NaN</td>\n",
       "      <td>NaN</td>\n",
       "      <td>NaN</td>\n",
       "      <td>NaN</td>\n",
       "      <td>NaN</td>\n",
       "      <td>NaN</td>\n",
       "      <td>NaN</td>\n",
       "      <td>NaN</td>\n",
       "      <td>NaN</td>\n",
       "      <td>NaN</td>\n",
       "      <td>NaN</td>\n",
       "      <td>NaN</td>\n",
       "      <td>NaN</td>\n",
       "      <td>NaN</td>\n",
       "      <td>NaN</td>\n",
       "      <td>NaN</td>\n",
       "      <td>NaN</td>\n",
       "      <td>NaN</td>\n",
       "      <td>NaN</td>\n",
       "      <td>NaN</td>\n",
       "      <td>NaN</td>\n",
       "      <td>NaN</td>\n",
       "      <td>NaN</td>\n",
       "      <td>NaN</td>\n",
       "      <td>2015-09-29 10:50:47.601894+00</td>\n",
       "      <td>2</td>\n",
       "      <td>NaN</td>\n",
       "      <td>2006</td>\n",
       "      <td>rejected</td>\n",
       "      <td>0</td>\n",
       "      <td>0</td>\n",
       "      <td>0</td>\n",
       "      <td>0</td>\n",
       "      <td>0</td>\n",
       "      <td>0.0</td>\n",
       "      <td>0</td>\n",
       "      <td>4</td>\n",
       "    </tr>\n",
       "    <tr>\n",
       "      <th>4</th>\n",
       "      <td>59856</td>\n",
       "      <td>0.893617</td>\n",
       "      <td>haha you guys are a bunch of losers.</td>\n",
       "      <td>0.021277</td>\n",
       "      <td>0.0</td>\n",
       "      <td>0.021277</td>\n",
       "      <td>0.87234</td>\n",
       "      <td>0.0</td>\n",
       "      <td>0.0</td>\n",
       "      <td>0.0</td>\n",
       "      <td>0.0</td>\n",
       "      <td>0.0</td>\n",
       "      <td>0.0</td>\n",
       "      <td>0.0</td>\n",
       "      <td>0.0</td>\n",
       "      <td>0.0</td>\n",
       "      <td>0.0</td>\n",
       "      <td>0.0</td>\n",
       "      <td>0.25</td>\n",
       "      <td>0.0</td>\n",
       "      <td>0.0</td>\n",
       "      <td>0.0</td>\n",
       "      <td>0.0</td>\n",
       "      <td>0.0</td>\n",
       "      <td>0.0</td>\n",
       "      <td>0.0</td>\n",
       "      <td>0.0</td>\n",
       "      <td>0.0</td>\n",
       "      <td>0.0</td>\n",
       "      <td>0.0</td>\n",
       "      <td>0.0</td>\n",
       "      <td>0.0</td>\n",
       "      <td>2015-09-29 10:50:48.488476+00</td>\n",
       "      <td>2</td>\n",
       "      <td>NaN</td>\n",
       "      <td>2006</td>\n",
       "      <td>rejected</td>\n",
       "      <td>0</td>\n",
       "      <td>0</td>\n",
       "      <td>0</td>\n",
       "      <td>1</td>\n",
       "      <td>0</td>\n",
       "      <td>0.0</td>\n",
       "      <td>4</td>\n",
       "      <td>47</td>\n",
       "    </tr>\n",
       "  </tbody>\n",
       "</table>\n",
       "</div>"
      ],
      "text/plain": [
       "      id    target                                       comment_text  \\\n",
       "0  59848  0.000000  This is so cool. It's like, 'would you want yo...   \n",
       "1  59849  0.000000  Thank you!! This would make my life a lot less...   \n",
       "2  59852  0.000000  This is such an urgent design problem; kudos t...   \n",
       "3  59855  0.000000  Is this something I'll be able to install on m...   \n",
       "4  59856  0.893617               haha you guys are a bunch of losers.   \n",
       "\n",
       "   severe_toxicity  obscene  identity_attack   insult  threat  asian  atheist  \\\n",
       "0         0.000000      0.0         0.000000  0.00000     0.0    NaN      NaN   \n",
       "1         0.000000      0.0         0.000000  0.00000     0.0    NaN      NaN   \n",
       "2         0.000000      0.0         0.000000  0.00000     0.0    NaN      NaN   \n",
       "3         0.000000      0.0         0.000000  0.00000     0.0    NaN      NaN   \n",
       "4         0.021277      0.0         0.021277  0.87234     0.0    0.0      0.0   \n",
       "\n",
       "   bisexual  black  buddhist  christian  female  heterosexual  hindu  \\\n",
       "0       NaN    NaN       NaN        NaN     NaN           NaN    NaN   \n",
       "1       NaN    NaN       NaN        NaN     NaN           NaN    NaN   \n",
       "2       NaN    NaN       NaN        NaN     NaN           NaN    NaN   \n",
       "3       NaN    NaN       NaN        NaN     NaN           NaN    NaN   \n",
       "4       0.0    0.0       0.0        0.0     0.0           0.0    0.0   \n",
       "\n",
       "   homosexual_gay_or_lesbian  intellectual_or_learning_disability  jewish  \\\n",
       "0                        NaN                                  NaN     NaN   \n",
       "1                        NaN                                  NaN     NaN   \n",
       "2                        NaN                                  NaN     NaN   \n",
       "3                        NaN                                  NaN     NaN   \n",
       "4                        0.0                                 0.25     0.0   \n",
       "\n",
       "   latino  male  muslim  other_disability  other_gender  \\\n",
       "0     NaN   NaN     NaN               NaN           NaN   \n",
       "1     NaN   NaN     NaN               NaN           NaN   \n",
       "2     NaN   NaN     NaN               NaN           NaN   \n",
       "3     NaN   NaN     NaN               NaN           NaN   \n",
       "4     0.0   0.0     0.0               0.0           0.0   \n",
       "\n",
       "   other_race_or_ethnicity  other_religion  other_sexual_orientation  \\\n",
       "0                      NaN             NaN                       NaN   \n",
       "1                      NaN             NaN                       NaN   \n",
       "2                      NaN             NaN                       NaN   \n",
       "3                      NaN             NaN                       NaN   \n",
       "4                      0.0             0.0                       0.0   \n",
       "\n",
       "   physical_disability  psychiatric_or_mental_illness  transgender  white  \\\n",
       "0                  NaN                            NaN          NaN    NaN   \n",
       "1                  NaN                            NaN          NaN    NaN   \n",
       "2                  NaN                            NaN          NaN    NaN   \n",
       "3                  NaN                            NaN          NaN    NaN   \n",
       "4                  0.0                            0.0          0.0    0.0   \n",
       "\n",
       "                    created_date  publication_id  parent_id  article_id  \\\n",
       "0  2015-09-29 10:50:41.987077+00               2        NaN        2006   \n",
       "1  2015-09-29 10:50:42.870083+00               2        NaN        2006   \n",
       "2  2015-09-29 10:50:45.222647+00               2        NaN        2006   \n",
       "3  2015-09-29 10:50:47.601894+00               2        NaN        2006   \n",
       "4  2015-09-29 10:50:48.488476+00               2        NaN        2006   \n",
       "\n",
       "     rating  funny  wow  sad  likes  disagree  sexual_explicit  \\\n",
       "0  rejected      0    0    0      0         0              0.0   \n",
       "1  rejected      0    0    0      0         0              0.0   \n",
       "2  rejected      0    0    0      0         0              0.0   \n",
       "3  rejected      0    0    0      0         0              0.0   \n",
       "4  rejected      0    0    0      1         0              0.0   \n",
       "\n",
       "   identity_annotator_count  toxicity_annotator_count  \n",
       "0                         0                         4  \n",
       "1                         0                         4  \n",
       "2                         0                         4  \n",
       "3                         0                         4  \n",
       "4                         4                        47  "
      ]
     },
     "execution_count": 4,
     "metadata": {},
     "output_type": "execute_result"
    }
   ],
   "source": [
    "# Display the top 5 records.\n",
    "data.head()"
   ]
  },
  {
   "cell_type": "code",
   "execution_count": null,
   "id": "5526e971",
   "metadata": {
    "id": "5526e971",
    "outputId": "192affe3-f435-40cc-c44d-a48b5ab9d786"
   },
   "outputs": [
    {
     "name": "stdout",
     "output_type": "stream",
     "text": [
      "Shape of the Dataset:  (1804874, 45)\n"
     ]
    }
   ],
   "source": [
    "print('Shape of the Dataset: ', data.shape)"
   ]
  },
  {
   "cell_type": "code",
   "execution_count": null,
   "id": "c25d78ea",
   "metadata": {
    "id": "c25d78ea",
    "outputId": "9b47a1d5-be83-4a63-aa74-0eab73f743ed"
   },
   "outputs": [
    {
     "name": "stdout",
     "output_type": "stream",
     "text": [
      "CPU times: user 214 ms, sys: 4.57 ms, total: 219 ms\n",
      "Wall time: 222 ms\n"
     ]
    }
   ],
   "source": [
    "%%time\n",
    "# Ensure the comment texts are strings.\n",
    "data['comment_text'] = data['comment_text'].astype(str)"
   ]
  },
  {
   "cell_type": "code",
   "execution_count": 9,
   "id": "78c101e9",
   "metadata": {
    "id": "78c101e9"
   },
   "outputs": [],
   "source": [
    "# Define the list of the identity subgroup columns.\n",
    "identitySubgroups = ['male', 'female', 'homosexual_gay_or_lesbian', 'christian', 'jewish', 'muslim', 'black', 'white', \n",
    "                     'psychiatric_or_mental_illness']\n",
    "\n",
    "# Define the list of toxicity subgroups or auxiliary columns.\n",
    "auxColumns = ['severe_toxicity', 'obscene', 'threat', 'insult', 'identity_attack', 'sexual_explicit']"
   ]
  },
  {
   "cell_type": "markdown",
   "id": "ef90d2ca",
   "metadata": {
    "id": "ef90d2ca"
   },
   "source": [
    "----"
   ]
  },
  {
   "cell_type": "markdown",
   "id": "bf730716",
   "metadata": {
    "id": "bf730716"
   },
   "source": [
    "## 2.2. Add weightage to each datapoints\n",
    "\n",
    "* All the data points are assigned a weight of 0.25 initially.\n",
    "* If a data point belongs to BPSN group, an additional weight of 0.25 is assigned.\n",
    "* If a data point belongs to any one of the identity subgroups (9 identity groups), then an additional weight of 0.25 is assigned.\n",
    "* These weights will be used during the loss calculation by multiplying the loss by the weight of the data point."
   ]
  },
  {
   "cell_type": "code",
   "execution_count": null,
   "id": "4dec52f1",
   "metadata": {
    "id": "4dec52f1"
   },
   "outputs": [],
   "source": [
    "# Reference: '2nd Place Solution' - https://www.kaggle.com/c/jigsaw-unintended-bias-in-toxicity-classification/discussion/100661\n",
    "\n",
    "# Series to contain the boolean values indicating the presence of Subgroups\n",
    "subgroupBool = (data[identitySubgroups].fillna(0) >= 0.5).sum(axis=1) > 0\n",
    "\n",
    "# Series to contain the boolean values indicating the presence of toxicity\n",
    "positiveBool = data['target'] >= 0.5"
   ]
  },
  {
   "cell_type": "code",
   "execution_count": null,
   "id": "bb61152a",
   "metadata": {
    "id": "bb61152a",
    "outputId": "65e02a93-bc43-4043-94d4-e944c5d30d21"
   },
   "outputs": [
    {
     "name": "stdout",
     "output_type": "stream",
     "text": [
      "Loss Weight:  3.248536706527765\n",
      "CPU times: user 37.5 ms, sys: 415 µs, total: 37.9 ms\n",
      "Wall time: 40.1 ms\n"
     ]
    }
   ],
   "source": [
    "%%time\n",
    "\n",
    "# Overall: Intialize the weights with 0.25 (common for all data points).\n",
    "weights = np.ones(len(data)) / 4\n",
    "\n",
    "# BPSN: # Add an additional weightage of 0.25 in case of BPSN.\n",
    "weights[((~subgroupBool) & (positiveBool)) | ((subgroupBool) & (~positiveBool))] += 0.25\n",
    "\n",
    "# Subgroup: Add an additional weightage of 0.25 if the data point belongs to any one of the identity subgroup.\n",
    "weights[(subgroupBool)] += 0.25\n",
    "\n",
    "# loss Weight\n",
    "lossWeight = 1 / weights.mean()\n",
    "\n",
    "print('Loss Weight: ', lossWeight)"
   ]
  },
  {
   "cell_type": "markdown",
   "id": "9384da74",
   "metadata": {
    "id": "9384da74"
   },
   "source": [
    "## 2.3. Data Preparation\n",
    "\n",
    "* Here, we will do the following:<br>\n",
    "&emsp; i. Convert the target class to have binary values: 1 if toxicity >= 0.5 and 0 otherwise.<br>\n",
    "&emsp; ii. Convert the Identity Subgroup Attributes to boolean flags indicating true if the score >= 0.5 and false otherwise. These boolean values will be used in evaluating the model based on the custom metrics.<br>\n",
    "&emsp; iii. Generate the Class Label having binary class value and weight of each datapoint.<br>"
   ]
  },
  {
   "cell_type": "code",
   "execution_count": null,
   "id": "f177387f",
   "metadata": {
    "colab": {
     "referenced_widgets": [
      "4c4cf51d28df48bcb2ac0dc83e04f448",
      "b96cead6744a49618abbe21d5887a0c6",
      "22bae4ea786749f1b975ac3b039b677c"
     ]
    },
    "id": "f177387f",
    "outputId": "0783de53-2192-4dff-ae77-d483f5578277"
   },
   "outputs": [
    {
     "data": {
      "application/vnd.jupyter.widget-view+json": {
       "model_id": "22bae4ea786749f1b975ac3b039b677c",
       "version_major": 2,
       "version_minor": 0
      },
      "text/plain": [
       "  0%|          | 0/9 [00:00<?, ?it/s]"
      ]
     },
     "metadata": {},
     "output_type": "display_data"
    },
    {
     "name": "stdout",
     "output_type": "stream",
     "text": [
      "Class Label Data:\n",
      "\n",
      "CPU times: user 3.75 s, sys: 1.06 s, total: 4.8 s\n",
      "Wall time: 4.8 s\n"
     ]
    },
    {
     "data": {
      "text/plain": [
       "array([[0.  , 0.25],\n",
       "       [0.  , 0.25],\n",
       "       [0.  , 0.25],\n",
       "       ...,\n",
       "       [0.  , 0.25],\n",
       "       [1.  , 0.5 ],\n",
       "       [0.  , 0.25]])"
      ]
     },
     "execution_count": 11,
     "metadata": {},
     "output_type": "execute_result"
    }
   ],
   "source": [
    "%%time\n",
    "# Convert the target feature to binary values: 1 when the toxicity score >= 0.5 and 0 otherwise.\n",
    "data['target'] = data['target'].apply(lambda x: 1 if x >= 0.5 else 0)\n",
    "\n",
    "# Convert the value of the above identity subgroups as true when their value >= 0.5 and false otherwise.\n",
    "# This will be required while calculating the performance metrics\n",
    "for subgroup in tqdm(identitySubgroups):\n",
    "    \n",
    "    data[subgroup] = data[subgroup].apply(lambda x: True if x >= 0.5 else False)\n",
    "    \n",
    "# Prepare the Class Label data containing binary class label and the weightage of each datapoint.\n",
    "yData = np.vstack([data['target'], weights]).T\n",
    "\n",
    "print('Class Label Data:\\n')\n",
    "yData"
   ]
  },
  {
   "cell_type": "markdown",
   "id": "41c092d0",
   "metadata": {
    "id": "41c092d0"
   },
   "source": [
    "----"
   ]
  },
  {
   "cell_type": "markdown",
   "id": "8f785ea2",
   "metadata": {
    "id": "8f785ea2"
   },
   "source": [
    "# 3. Sequence Length\n",
    "\n",
    "* Determine the maximum sequence length that be considered by checking the percentil values of the length of words in all the comment texts."
   ]
  },
  {
   "cell_type": "code",
   "execution_count": null,
   "id": "34735376",
   "metadata": {
    "id": "34735376",
    "outputId": "feb4f7af-64af-422a-defe-548e8aff493a"
   },
   "outputs": [
    {
     "name": "stdout",
     "output_type": "stream",
     "text": [
      "CPU times: user 5.95 s, sys: 21.9 ms, total: 5.97 s\n",
      "Wall time: 5.97 s\n"
     ]
    }
   ],
   "source": [
    "%%time\n",
    "# Store the length of the comment texts in a list\n",
    "listWordCnt = data['comment_text'].apply(lambda x: len(x.split()))"
   ]
  },
  {
   "cell_type": "code",
   "execution_count": null,
   "id": "32f6a890",
   "metadata": {
    "id": "32f6a890"
   },
   "outputs": [],
   "source": [
    "def showPercentiles(listPercentiles, listWordCount):\n",
    "    '''\n",
    "    Function to display the percentile values of the number of words in the comments texts.\n",
    "    \n",
    "    Parameters:\n",
    "    ----------\n",
    "    listPercentiles: list\n",
    "        List of percentile values that has to be calculated and displayed.\n",
    "    listWordCount: list\n",
    "        List of length of sentences in a given language.\n",
    "    '''\n",
    "    \n",
    "    for p in listPercentiles:\n",
    "        \n",
    "        print('{}th percentile of the Comment Texts have \\'{}\\' words'.format(round(p, 1),\n",
    "                                                                             round(np.percentile(listWordCount, p))))"
   ]
  },
  {
   "cell_type": "markdown",
   "id": "8c0c0d96",
   "metadata": {
    "id": "8c0c0d96"
   },
   "source": [
    "## 3.1. Sequence Length of Comment Texts\n",
    "\n",
    "* Inorder to set the sequence length for the comment texts, let's check the percentile values of the maximum words in the comment texts."
   ]
  },
  {
   "cell_type": "code",
   "execution_count": null,
   "id": "44c79a6d",
   "metadata": {
    "id": "44c79a6d",
    "outputId": "763261ff-a4be-4e53-b747-4c68d4796bea"
   },
   "outputs": [
    {
     "name": "stdout",
     "output_type": "stream",
     "text": [
      "0th percentile of the Comment Texts have '1' words\n",
      "10th percentile of the Comment Texts have '8' words\n",
      "20th percentile of the Comment Texts have '14' words\n",
      "30th percentile of the Comment Texts have '19' words\n",
      "40th percentile of the Comment Texts have '26' words\n",
      "50th percentile of the Comment Texts have '35' words\n",
      "60th percentile of the Comment Texts have '46' words\n",
      "70th percentile of the Comment Texts have '62' words\n",
      "80th percentile of the Comment Texts have '85' words\n",
      "90th percentile of the Comment Texts have '128' words\n",
      "100th percentile of the Comment Texts have '317' words\n"
     ]
    }
   ],
   "source": [
    "# Display the 0-100th percentiles for Comment Text's length\n",
    "showPercentiles(np.arange(0, 101, 10), listWordCnt)"
   ]
  },
  {
   "cell_type": "code",
   "execution_count": null,
   "id": "7c9d7afa",
   "metadata": {
    "id": "7c9d7afa",
    "outputId": "d1991a46-e89f-45f3-ceef-f30c70ad6c3a"
   },
   "outputs": [
    {
     "name": "stdout",
     "output_type": "stream",
     "text": [
      "91th percentile of the Comment Texts have '134' words\n",
      "92th percentile of the Comment Texts have '141' words\n",
      "93th percentile of the Comment Texts have '147' words\n",
      "94th percentile of the Comment Texts have '153' words\n",
      "95th percentile of the Comment Texts have '159' words\n",
      "96th percentile of the Comment Texts have '163' words\n",
      "97th percentile of the Comment Texts have '168' words\n",
      "98th percentile of the Comment Texts have '172' words\n",
      "99th percentile of the Comment Texts have '178' words\n",
      "100th percentile of the Comment Texts have '317' words\n"
     ]
    }
   ],
   "source": [
    "# Display the 91-100th percentiles for Comment Text's length\n",
    "showPercentiles(np.arange(91, 101, 1), listWordCnt)"
   ]
  },
  {
   "cell_type": "code",
   "execution_count": null,
   "id": "9751f075",
   "metadata": {
    "id": "9751f075",
    "outputId": "cece6506-9027-44be-b00d-ad7ede05032f"
   },
   "outputs": [
    {
     "name": "stdout",
     "output_type": "stream",
     "text": [
      "99.1th percentile of the Comment Texts have '179' words\n",
      "99.2th percentile of the Comment Texts have '180' words\n",
      "99.3th percentile of the Comment Texts have '181' words\n",
      "99.4th percentile of the Comment Texts have '182' words\n",
      "99.5th percentile of the Comment Texts have '183' words\n",
      "99.6th percentile of the Comment Texts have '184' words\n",
      "99.7th percentile of the Comment Texts have '186' words\n",
      "99.8th percentile of the Comment Texts have '188' words\n",
      "99.9th percentile of the Comment Texts have '192' words\n",
      "100.0th percentile of the Comment Texts have '317' words\n"
     ]
    }
   ],
   "source": [
    "# Display the 99.1-100th percentiles for Comment Text's length\n",
    "showPercentiles(np.arange(99.1, 100.1, 0.1), listWordCnt)"
   ]
  },
  {
   "cell_type": "markdown",
   "id": "0eaa2d50",
   "metadata": {
    "id": "0eaa2d50"
   },
   "source": [
    "#### Observation from the percentiles of comment texts' length\n",
    "\n",
    "* We can observe that 99.9% of the comment texts have a maximum length of 192 words.\n",
    "* We will take a maximum sequence length of 300 because we will tokenize the texts using BERT Tokenizer and it splits some words into sub-tokens.\n",
    "* For example, it would encode a website url 'http://www.google.com' (sequence length = 1) to 'http : / / www. google. com' (sequence length = 7).\n",
    "* Hence to avoid any loss of information, we would take the maximum sequence length as 300."
   ]
  },
  {
   "cell_type": "code",
   "execution_count": null,
   "id": "de5fc2b0",
   "metadata": {
    "id": "de5fc2b0",
    "outputId": "8045f2e6-f226-4ef1-b508-871f04cb5d28"
   },
   "outputs": [
    {
     "name": "stdout",
     "output_type": "stream",
     "text": [
      "Maximum Sequence Length:  300\n"
     ]
    }
   ],
   "source": [
    "# Define the maximum sequence length\n",
    "maxSeqLength = math.ceil(np.percentile(listWordCnt, 99.9)) + 108\n",
    "\n",
    "print('Maximum Sequence Length: ', maxSeqLength)"
   ]
  },
  {
   "cell_type": "markdown",
   "id": "c79ed7e7",
   "metadata": {
    "id": "c79ed7e7"
   },
   "source": [
    "----"
   ]
  },
  {
   "cell_type": "markdown",
   "id": "73a2874f",
   "metadata": {
    "id": "73a2874f"
   },
   "source": [
    "# 4. Split the Dataset into Train, Cross Validation and Test\n",
    "\n",
    "* Split the data into Train, Cross Validation and Test Dataset in the ratio of 72.25% : 15% : 12.75%."
   ]
  },
  {
   "cell_type": "code",
   "execution_count": null,
   "id": "b7f94f67",
   "metadata": {
    "id": "b7f94f67",
    "outputId": "0e50131b-a804-44b7-ac0c-5f187810dc81"
   },
   "outputs": [
    {
     "name": "stdout",
     "output_type": "stream",
     "text": [
      "CPU times: user 3.34 s, sys: 334 ms, total: 3.67 s\n",
      "Wall time: 3.67 s\n"
     ]
    }
   ],
   "source": [
    "%%time\n",
    "\n",
    "# Split into Train and CV Dataset.\n",
    "trainData, cvData, yTrain, yCV = train_test_split(data, yData, test_size=0.15, stratify=data['target'],\n",
    "                                                                  random_state=42)\n",
    "\n",
    "# Split into Train and Test Dataset.\n",
    "trainData, testData, yTrain, yTest = train_test_split(trainData, yTrain, test_size=0.15, \n",
    "                                                                      stratify=trainData['target'], random_state=42)"
   ]
  },
  {
   "cell_type": "code",
   "execution_count": null,
   "id": "5553d4b8",
   "metadata": {
    "id": "5553d4b8",
    "outputId": "b4f842aa-89cb-4d78-bdb3-ff6665330c1c"
   },
   "outputs": [
    {
     "name": "stdout",
     "output_type": "stream",
     "text": [
      "Shape of the Train Dataset:  (1304020, 45)\n",
      "Shape of the CV Dataset:  (270732, 45)\n",
      "Shape of the Test Dataset:  (230122, 45)\n"
     ]
    }
   ],
   "source": [
    "print('Shape of the Train Dataset: ', trainData.shape)\n",
    "print('Shape of the CV Dataset: ', cvData.shape)\n",
    "print('Shape of the Test Dataset: ', testData.shape)"
   ]
  },
  {
   "cell_type": "code",
   "execution_count": null,
   "id": "b61899db",
   "metadata": {
    "id": "b61899db",
    "outputId": "8bd81fe3-840d-48b0-f5df-ff791f9a6954"
   },
   "outputs": [
    {
     "name": "stdout",
     "output_type": "stream",
     "text": [
      "Shape of the Train Class Labels:  (1304020, 2)\n",
      "Shape of the CV Class Labels:  (270732, 2)\n",
      "Shape of the Test Class Labels:  (230122, 2)\n"
     ]
    }
   ],
   "source": [
    "print('Shape of the Train Class Labels: ', yTrain.shape)\n",
    "print('Shape of the CV Class Labels: ', yCV.shape)\n",
    "print('Shape of the Test Class Labels: ', yTest.shape)"
   ]
  },
  {
   "cell_type": "markdown",
   "id": "3567e1ec",
   "metadata": {
    "id": "3567e1ec"
   },
   "source": [
    "----"
   ]
  },
  {
   "cell_type": "markdown",
   "id": "d50bb18a",
   "metadata": {
    "id": "d50bb18a"
   },
   "source": [
    "# 5. Creating BERT Model for Text Embedding\n",
    "\n",
    "* We will use BERT Model to do text embedding for the comment texts.\n",
    "* Based on the experiments, it has been found that the concatenation of last four hidden outputs give the best results. Hence, we would concate the last four hidden outputs to get the text embedding vectors.\n",
    "\n",
    "## 5.1. BERT for Tokenization\n",
    "\n",
    "* First, we will tokenize the comment text using DistilBert Tokenizer.\n",
    "* After tokenization, we would convert the tokenized data to embedding vector using DistilBert Model."
   ]
  },
  {
   "cell_type": "code",
   "execution_count": 10,
   "id": "78cd4ded",
   "metadata": {
    "id": "78cd4ded"
   },
   "outputs": [],
   "source": [
    "def distilBertTokenize(bertTokenizerObj, texts, seqLen):\n",
    "    '''\n",
    "    Function to use the DistilBert Tokenizer and return the token ids and attention mask ids.\n",
    "    \n",
    "    Parameters:\n",
    "    ----------\n",
    "    bertTokenizerObj: BertTokenizer\n",
    "        BERT Tokenizer to tokenize the input text.\n",
    "    texts: str or Series\n",
    "        Text(s) to be tokenized using BERT Tokenizer.\n",
    "    seqLen: int\n",
    "        Maximum sequence length\n",
    "    '''\n",
    "    \n",
    "    # Define the output variables to be returned by the function\n",
    "    # List to store the token ids for the tokenized input text(s)\n",
    "    tokenIds = list()\n",
    "    \n",
    "    # List to store the attention masks.\n",
    "    # Mask to avoid performing attention on padding token indices. Mask values selected in [0, 1].\n",
    "    # 1 for tokens that are not masked and 0 for tokens that are masked.\n",
    "    attentionMasks = list()\n",
    "    \n",
    "    # Check the input text. If it is a str, convert it to a series. This is to support the function for single text \n",
    "    # in real-time evaluation.\n",
    "    if isinstance(texts, str):\n",
    "        \n",
    "        texts = pd.Series(texts)\n",
    "        \n",
    "    # Iterate through each of the given input texts and tokenize using BERT Tokenizer to get input ids, token type ids \n",
    "    # and attention masks.\n",
    "    for text in tqdm(texts):\n",
    "        \n",
    "        # Tokenize the text using given BERT Tokenizer\n",
    "        tokens = bertTokenizerObj.encode_plus(text, max_length=seqLen, truncation=True, padding=True, \n",
    "                                              pad_to_multiple_of=seqLen)\n",
    "        \n",
    "        # Add the input id (token id), token type id and attention mask to the respective lists.\n",
    "        tokenIds.append(tf.constant(tokens['input_ids']))\n",
    "        attentionMasks.append(tf.constant(tokens['attention_mask']))\n",
    "        \n",
    "    # Return the token ids, token type ids and attention masks\n",
    "    return tf.convert_to_tensor(tokenIds), tf.convert_to_tensor(attentionMasks)"
   ]
  },
  {
   "cell_type": "markdown",
   "id": "8be799e4",
   "metadata": {
    "id": "8be799e4"
   },
   "source": [
    "### Example of using BERT Tokenizer\n",
    "\n",
    "* Let's use the function 'distilBertTokenize()' to tokenize top 2 comments and return the input ids, token type ids and attention masks"
   ]
  },
  {
   "cell_type": "code",
   "execution_count": null,
   "id": "3a18e912",
   "metadata": {
    "colab": {
     "referenced_widgets": [
      "e6ac3301b823459a96d0aa0d010a2e7b"
     ]
    },
    "id": "3a18e912",
    "outputId": "be8ad1b9-09df-45e8-9388-bb6ffe3243f4"
   },
   "outputs": [
    {
     "data": {
      "application/vnd.jupyter.widget-view+json": {
       "model_id": "e6ac3301b823459a96d0aa0d010a2e7b",
       "version_major": 2,
       "version_minor": 0
      },
      "text/plain": [
       "  0%|          | 0/2 [00:00<?, ?it/s]"
      ]
     },
     "metadata": {},
     "output_type": "display_data"
    },
    {
     "name": "stdout",
     "output_type": "stream",
     "text": [
      "CPU times: user 132 ms, sys: 24.9 ms, total: 157 ms\n",
      "Wall time: 1.44 s\n"
     ]
    }
   ],
   "source": [
    "%%time\n",
    "# Name of the BERT Model to be used.\n",
    "distilbert = 'distilbert-base-uncased'\n",
    "\n",
    "# Create a BERT Tokenizer Object\n",
    "distilbertTokenizer = DistilBertTokenizer.from_pretrained(distilbert)\n",
    "\n",
    "# Call the 'distilBertTokenize()' function to tokenize the comment texts to token ids, token type ids and attention masks.\n",
    "tokenIds, attentionMasks = distilBertTokenize(bertTokenizerObj=distilbertTokenizer, texts=data['comment_text'][:2],\n",
    "                                              seqLen=maxSeqLength)"
   ]
  },
  {
   "cell_type": "code",
   "execution_count": null,
   "id": "1dc08d4c",
   "metadata": {
    "id": "1dc08d4c",
    "outputId": "38e87a1e-a578-449b-fa91-8f6a26746629"
   },
   "outputs": [
    {
     "name": "stdout",
     "output_type": "stream",
     "text": [
      "Display the token ids and attention masks for the top 2 comments in the dataset:\n",
      "\n",
      "Input Ids (Token Ids):  tf.Tensor(\n",
      "[[  101  2023  2003  2061  4658  1012  2009  1005  1055  2066  1010  1005\n",
      "   2052  2017  2215  2115  2388  2000  3191  2023  1029  1029  1005  2428\n",
      "   2307  2801  1010  2092  2589   999   102     0     0     0     0     0\n",
      "      0     0     0     0     0     0     0     0     0     0     0     0\n",
      "      0     0     0     0     0     0     0     0     0     0     0     0\n",
      "      0     0     0     0     0     0     0     0     0     0     0     0\n",
      "      0     0     0     0     0     0     0     0     0     0     0     0\n",
      "      0     0     0     0     0     0     0     0     0     0     0     0\n",
      "      0     0     0     0     0     0     0     0     0     0     0     0\n",
      "      0     0     0     0     0     0     0     0     0     0     0     0\n",
      "      0     0     0     0     0     0     0     0     0     0     0     0\n",
      "      0     0     0     0     0     0     0     0     0     0     0     0\n",
      "      0     0     0     0     0     0     0     0     0     0     0     0\n",
      "      0     0     0     0     0     0     0     0     0     0     0     0\n",
      "      0     0     0     0     0     0     0     0     0     0     0     0\n",
      "      0     0     0     0     0     0     0     0     0     0     0     0\n",
      "      0     0     0     0     0     0     0     0     0     0     0     0\n",
      "      0     0     0     0     0     0     0     0     0     0     0     0\n",
      "      0     0     0     0     0     0     0     0     0     0     0     0\n",
      "      0     0     0     0     0     0     0     0     0     0     0     0\n",
      "      0     0     0     0     0     0     0     0     0     0     0     0\n",
      "      0     0     0     0     0     0     0     0     0     0     0     0\n",
      "      0     0     0     0     0     0     0     0     0     0     0     0\n",
      "      0     0     0     0     0     0     0     0     0     0     0     0\n",
      "      0     0     0     0     0     0     0     0     0     0     0     0]\n",
      " [  101  4067  2017   999   999  2023  2052  2191  2026  2166  1037  2843\n",
      "   2625 10089  1011 29290  1012  2562  2009  2039  1010  1998  2123  1005\n",
      "   1056  2292  3087  2131  1999  2115  2126   999   102     0     0     0\n",
      "      0     0     0     0     0     0     0     0     0     0     0     0\n",
      "      0     0     0     0     0     0     0     0     0     0     0     0\n",
      "      0     0     0     0     0     0     0     0     0     0     0     0\n",
      "      0     0     0     0     0     0     0     0     0     0     0     0\n",
      "      0     0     0     0     0     0     0     0     0     0     0     0\n",
      "      0     0     0     0     0     0     0     0     0     0     0     0\n",
      "      0     0     0     0     0     0     0     0     0     0     0     0\n",
      "      0     0     0     0     0     0     0     0     0     0     0     0\n",
      "      0     0     0     0     0     0     0     0     0     0     0     0\n",
      "      0     0     0     0     0     0     0     0     0     0     0     0\n",
      "      0     0     0     0     0     0     0     0     0     0     0     0\n",
      "      0     0     0     0     0     0     0     0     0     0     0     0\n",
      "      0     0     0     0     0     0     0     0     0     0     0     0\n",
      "      0     0     0     0     0     0     0     0     0     0     0     0\n",
      "      0     0     0     0     0     0     0     0     0     0     0     0\n",
      "      0     0     0     0     0     0     0     0     0     0     0     0\n",
      "      0     0     0     0     0     0     0     0     0     0     0     0\n",
      "      0     0     0     0     0     0     0     0     0     0     0     0\n",
      "      0     0     0     0     0     0     0     0     0     0     0     0\n",
      "      0     0     0     0     0     0     0     0     0     0     0     0\n",
      "      0     0     0     0     0     0     0     0     0     0     0     0\n",
      "      0     0     0     0     0     0     0     0     0     0     0     0]], shape=(2, 300), dtype=int32)\n",
      "----------------------------------------------------------------------------------------------------\n",
      "Attention Masks:  tf.Tensor(\n",
      "[[1 1 1 1 1 1 1 1 1 1 1 1 1 1 1 1 1 1 1 1 1 1 1 1 1 1 1 1 1 1 1 0 0 0 0 0\n",
      "  0 0 0 0 0 0 0 0 0 0 0 0 0 0 0 0 0 0 0 0 0 0 0 0 0 0 0 0 0 0 0 0 0 0 0 0\n",
      "  0 0 0 0 0 0 0 0 0 0 0 0 0 0 0 0 0 0 0 0 0 0 0 0 0 0 0 0 0 0 0 0 0 0 0 0\n",
      "  0 0 0 0 0 0 0 0 0 0 0 0 0 0 0 0 0 0 0 0 0 0 0 0 0 0 0 0 0 0 0 0 0 0 0 0\n",
      "  0 0 0 0 0 0 0 0 0 0 0 0 0 0 0 0 0 0 0 0 0 0 0 0 0 0 0 0 0 0 0 0 0 0 0 0\n",
      "  0 0 0 0 0 0 0 0 0 0 0 0 0 0 0 0 0 0 0 0 0 0 0 0 0 0 0 0 0 0 0 0 0 0 0 0\n",
      "  0 0 0 0 0 0 0 0 0 0 0 0 0 0 0 0 0 0 0 0 0 0 0 0 0 0 0 0 0 0 0 0 0 0 0 0\n",
      "  0 0 0 0 0 0 0 0 0 0 0 0 0 0 0 0 0 0 0 0 0 0 0 0 0 0 0 0 0 0 0 0 0 0 0 0\n",
      "  0 0 0 0 0 0 0 0 0 0 0 0]\n",
      " [1 1 1 1 1 1 1 1 1 1 1 1 1 1 1 1 1 1 1 1 1 1 1 1 1 1 1 1 1 1 1 1 1 0 0 0\n",
      "  0 0 0 0 0 0 0 0 0 0 0 0 0 0 0 0 0 0 0 0 0 0 0 0 0 0 0 0 0 0 0 0 0 0 0 0\n",
      "  0 0 0 0 0 0 0 0 0 0 0 0 0 0 0 0 0 0 0 0 0 0 0 0 0 0 0 0 0 0 0 0 0 0 0 0\n",
      "  0 0 0 0 0 0 0 0 0 0 0 0 0 0 0 0 0 0 0 0 0 0 0 0 0 0 0 0 0 0 0 0 0 0 0 0\n",
      "  0 0 0 0 0 0 0 0 0 0 0 0 0 0 0 0 0 0 0 0 0 0 0 0 0 0 0 0 0 0 0 0 0 0 0 0\n",
      "  0 0 0 0 0 0 0 0 0 0 0 0 0 0 0 0 0 0 0 0 0 0 0 0 0 0 0 0 0 0 0 0 0 0 0 0\n",
      "  0 0 0 0 0 0 0 0 0 0 0 0 0 0 0 0 0 0 0 0 0 0 0 0 0 0 0 0 0 0 0 0 0 0 0 0\n",
      "  0 0 0 0 0 0 0 0 0 0 0 0 0 0 0 0 0 0 0 0 0 0 0 0 0 0 0 0 0 0 0 0 0 0 0 0\n",
      "  0 0 0 0 0 0 0 0 0 0 0 0]], shape=(2, 300), dtype=int32)\n"
     ]
    }
   ],
   "source": [
    "print('Display the token ids and attention masks for the top 2 comments in the dataset:\\n')\n",
    "print('Input Ids (Token Ids): ', tokenIds)\n",
    "print('--'*50)\n",
    "print('Attention Masks: ', attentionMasks)"
   ]
  },
  {
   "cell_type": "markdown",
   "id": "7c2ce0d7",
   "metadata": {
    "id": "7c2ce0d7"
   },
   "source": [
    "## 5.2. Tokenize the Comment Text using DistilBert tokenizer\n",
    "\n",
    "* Tokenize the Train, CV and Test Dataset comment texts using DistilBert Tokenizer and store the input ids (token ids) and attention masks.\n",
    "* Prepare the data in the format required for modelling.\n",
    "* Extract the features and class labels to be used for modelling.\n",
    "* Store all the required data for modelling in a pickle file."
   ]
  },
  {
   "cell_type": "code",
   "execution_count": 11,
   "id": "62ad7302",
   "metadata": {
    "colab": {
     "base_uri": "https://localhost:8080/"
    },
    "id": "62ad7302",
    "outputId": "d78b7d08-27d8-446d-e376-bc00c136539a"
   },
   "outputs": [
    {
     "name": "stdout",
     "output_type": "stream",
     "text": [
      "CPU times: user 3.22 s, sys: 8.24 s, total: 11.5 s\n",
      "Wall time: 47.3 s\n"
     ]
    }
   ],
   "source": [
    "%%time\n",
    "#variablesPicklePath = 'Resources/finalVariablesDistilBert.pkl' # Variable containing the path of the pickle file.\n",
    "variablesPicklePath = F'/content/gdrive/My Drive/Case Study 2/finalVariablesDistilBert.pkl' # Google Drive location\n",
    "if os.path.isfile(variablesPicklePath): \n",
    "    \n",
    "    with open(variablesPicklePath, 'rb') as f:\n",
    "        \n",
    "        # Read all the processed variables.\n",
    "        xTrainTokenIds, xTrainAttentionMasks, yTrainW, yTrainAux, \\\n",
    "                     xCVTokenIds, xCVAttentionMasks, yCVW, yCVAux, \\\n",
    "                     xTestTokenIds, xTestAttentionMasks, yTestW, yTestAux, \\\n",
    "                     testData, lossWeight, maxSeqLength, identitySubgroups, auxColumns = pickle.load(f)\n",
    "else:\n",
    "    \n",
    "    # Name of the DistilBert Model to be used.\n",
    "    distilBert = 'distilbert-base-uncased'\n",
    "\n",
    "    # Create a DistilBERT Tokenizer Object\n",
    "    distilBertTokenizer = DistilBertTokenizer.from_pretrained(distilBert)\n",
    "\n",
    "    # Call the 'distilBertTokenize()' function to tokenize the comment texts to token ids and attention masks\n",
    "    # for train, cv and test datasets' comments.\n",
    "    # Taking Abbreviation 'DBU' for 'distilbert-base-uncased'\n",
    "    xTrainTokenIds, xTrainAttentionMasks = distilBertTokenize(bertTokenizerObj=distilBertTokenizer, \n",
    "                                                                            texts=trainData['comment_text'],\n",
    "                                                                            seqLen=maxSeqLength)\n",
    "\n",
    "    xCVTokenIds, xCVAttentionMasks = distilBertTokenize(bertTokenizerObj=distilBertTokenizer, \n",
    "                                                                            texts=cvData['comment_text'],\n",
    "                                                                            seqLen=maxSeqLength)\n",
    "\n",
    "    xTestTokenIds, xTestAttentionMasks = distilBertTokenize(bertTokenizerObj=distilBertTokenizer, \n",
    "                                                                            texts=testData['comment_text'],\n",
    "                                                                            seqLen=maxSeqLength)\n",
    "    \n",
    "    # Training Data\n",
    "    yTrainW = yTrain # Toxicity Class Label along with weights.\n",
    "    yTrainAux = trainData[auxColumns].values # Toxicity Subgroup Classes.\n",
    "\n",
    "    # Validation Data\n",
    "    yCVW = yCV # Toxicity Class Label along with weights.\n",
    "    yCVAux = cvData[auxColumns].values # Toxicity Subgroup Classes.\n",
    "\n",
    "    # Test Data\n",
    "    yTestW = yTest # Toxicity Class Label along with weights.\n",
    "    yTestAux = testData[auxColumns].values # Toxicity Subgroup Classes.\n",
    "    \n",
    "    #with open(variablesPicklePath, 'wb') as f:\n",
    "        \n",
    "     #   pickle.dump([xTrainTokenIds, xTrainAttentionMasks, yTrainW, yTrainAux,\n",
    "      #               xCVTokenIds, xCVAttentionMasks, yCVW, yCVAux,\n",
    "       #              xTestTokenIds, xTestAttentionMasks, yTestW, yTestAux,\n",
    "        #             testData, lossWeight, maxSeqLength, identitySubgroups, auxColumns], f)"
   ]
  },
  {
   "cell_type": "code",
   "execution_count": 12,
   "id": "WFwaCg_gHQTM",
   "metadata": {
    "colab": {
     "base_uri": "https://localhost:8080/"
    },
    "id": "WFwaCg_gHQTM",
    "outputId": "03989030-1765-46fc-b648-b76c17d8534d"
   },
   "outputs": [
    {
     "name": "stdout",
     "output_type": "stream",
     "text": [
      "Train Data: Token Ids:  (1304020, 300)\n",
      "Train Data: Attention Masks: (1304020, 300)\n",
      "Train Data: Class Label (with weights) Shape:  (1304020, 2)\n",
      "Train Data: Toxicity Subgroup Class Shape:  (1304020, 6)\n",
      "------------------------------\n",
      "Train Data: Token Ids:  (270732, 300)\n",
      "Train Data: Attention Masks: (270732, 300)\n",
      "Validation Data: Class Label (with weights) Shape:  (270732, 2)\n",
      "Validation Data: Toxicity Subgroup Class Shape:  (270732, 6)\n",
      "------------------------------\n",
      "Train Data: Token Ids:  (230122, 300)\n",
      "Train Data: Attention Masks: (230122, 300)\n",
      "Test Data: Class Label (with weights) Shape:  (230122, 2)\n",
      "Test Data: Toxicity Subgroup Class Shape:  (230122, 6)\n"
     ]
    }
   ],
   "source": [
    "print('Train Data: Token Ids: ', xTrainTokenIds.shape)\n",
    "print('Train Data: Attention Masks:', xTrainAttentionMasks.shape)\n",
    "print('Train Data: Class Label (with weights) Shape: ', yTrainW.shape)\n",
    "print('Train Data: Toxicity Subgroup Class Shape: ', yTrainAux.shape)\n",
    "print('--'*15)\n",
    "print('Train Data: Token Ids: ', xCVTokenIds.shape)\n",
    "print('Train Data: Attention Masks:', xCVAttentionMasks.shape)\n",
    "print('Validation Data: Class Label (with weights) Shape: ', yCVW.shape)\n",
    "print('Validation Data: Toxicity Subgroup Class Shape: ', yCVAux.shape)\n",
    "print('--'*15)\n",
    "print('Train Data: Token Ids: ', xTestTokenIds.shape)\n",
    "print('Train Data: Attention Masks:', xTestAttentionMasks.shape)\n",
    "print('Test Data: Class Label (with weights) Shape: ', yTestW.shape)\n",
    "print('Test Data: Toxicity Subgroup Class Shape: ', yTestAux.shape)"
   ]
  },
  {
   "cell_type": "markdown",
   "id": "de92d65a",
   "metadata": {
    "id": "de92d65a"
   },
   "source": [
    "----"
   ]
  },
  {
   "cell_type": "markdown",
   "id": "2a667718",
   "metadata": {
    "id": "2a667718"
   },
   "source": [
    "## 5.3. Create BERT Model to generate Text Embedding Vectors\n",
    "\n",
    "* We will use pre-trained DistilBert model to generate text embedding vectors based on the token ids and attention masks for a given comment text."
   ]
  },
  {
   "cell_type": "code",
   "execution_count": 13,
   "id": "681edeb5",
   "metadata": {
    "id": "681edeb5"
   },
   "outputs": [],
   "source": [
    "def createDistilBERT(bert, seqLen, last4Layer=False):\n",
    "    '''\n",
    "    Function to create a DistilBERT Model that would return the Text Embeddings for a given token ids and\n",
    "    attention masks of a comment text.\n",
    "    \n",
    "    Parameters:\n",
    "    ----------\n",
    "    bert: BERT Model.\n",
    "        BERT model to be used for generative the text embedded vectors.\n",
    "    seqLen: int\n",
    "        Maximum sequence length of the comment texts.\n",
    "    last4Layer: bool\n",
    "        Flag to indicate whether to include the last 4 hidden layer outputs or not.\n",
    "    '''\n",
    "    \n",
    "    # Clearing the graph of TensorFlow\n",
    "    backend.clear_session()\n",
    "    \n",
    "    # Define the Input Layers for Input Ids, Input Type Ids and Attention Masks\n",
    "    inputIdsLayer = Input(shape=(seqLen, ), dtype=tf.int32, name='InputIdsLayer')\n",
    "    attentionMasksLayer = Input(shape=(seqLen, ), dtype=tf.int32, name='AttentionMasksLayer')\n",
    "    \n",
    "    # Bert Model Encoder\n",
    "    bertEncoder = bert(input_ids=inputIdsLayer, attention_mask=attentionMasksLayer)\n",
    "\n",
    "    if last4Layer == True:\n",
    "    \n",
    "        # Concate the output from the last 4 encoder layers of the BERT Model.\n",
    "        concateBERTEmbedLayer = Concatenate(axis=-1, name='BERTEmbeddingVectorsConcateLayer')([\n",
    "            bertEncoder['hidden_states'][-1][:,0,:], bertEncoder['hidden_states'][-2][:,0,:],\n",
    "            bertEncoder['hidden_states'][-4][:,0,:], bertEncoder['hidden_states'][-4][:,0,:]\n",
    "        ])\n",
    "        # Expand the embedding layer output\n",
    "        outputLayer = tf.expand_dims(concateBERTEmbedLayer, axis=0)\n",
    "\n",
    "    else:\n",
    "\n",
    "        #outputLayer = tf.expand_dims(bertEncoder['hidden_states'][-1][0,0,:], axis=0)\n",
    "        outputLayer = bertEncoder['last_hidden_state'][:,0,:]\n",
    "        \n",
    "    # Define the Model using the above defined input and output layers\n",
    "    model = Model(inputs=[inputIdsLayer, attentionMasksLayer], outputs=outputLayer)\n",
    "    \n",
    "    # Return the Model\n",
    "    return model"
   ]
  },
  {
   "cell_type": "code",
   "execution_count": 14,
   "id": "902da755",
   "metadata": {
    "colab": {
     "base_uri": "https://localhost:8080/",
     "height": 480,
     "referenced_widgets": [
      "851d2aaa7ee54f65aff20e8edec69b40",
      "c61bb8c9653e4a8693158b2411ad3dca",
      "2350983934fe4d4a94c0248c4e7d0f1f",
      "11aae3dfbbbc4b7199f2e41fdbb10611",
      "eb30d752bf144ca482192d334f16cf61",
      "c1429010d2c9405a8f77b78c5d331e98",
      "46ac7e1e27924ea79b99f14ba0138032",
      "0513cfaae6814e3a8a0d183944226989",
      "1cf90196a8bb4dbf81485436e16c68a0",
      "ad03fad6151b46ebbdeb8f959fdb38ce",
      "e92e7d11d52449148c281fc09c62d7b9",
      "9556170ec3e048c59bde0681da82c85f",
      "4ea1820360ba49b99e5d1b6127add38b",
      "a5b073c9e2d943748f765994225d0ed2",
      "c74a2d648a064cf1a950265c944f7077",
      "52738d1e8bc44ea784976cc7256462bd",
      "22d71b8756e94b908abd9577ba3eaabf",
      "53fd724d1e5b4e138c2f61e91cc86f38",
      "9c52cc2e2cba4cbd83cdaa9c627f7fbc",
      "7dcdc708c7894776b5ecfe071231bd79",
      "fb443111f0e5429787c98460a20111c7",
      "a47aacaa050648729ed7220bf7d6a820"
     ]
    },
    "id": "902da755",
    "outputId": "8b3a4c28-a37e-49ba-e57b-874fbb32b235"
   },
   "outputs": [
    {
     "data": {
      "application/vnd.jupyter.widget-view+json": {
       "model_id": "851d2aaa7ee54f65aff20e8edec69b40",
       "version_major": 2,
       "version_minor": 0
      },
      "text/plain": [
       "Downloading:   0%|          | 0.00/483 [00:00<?, ?B/s]"
      ]
     },
     "metadata": {},
     "output_type": "display_data"
    },
    {
     "data": {
      "application/vnd.jupyter.widget-view+json": {
       "model_id": "9556170ec3e048c59bde0681da82c85f",
       "version_major": 2,
       "version_minor": 0
      },
      "text/plain": [
       "Downloading:   0%|          | 0.00/347M [00:00<?, ?B/s]"
      ]
     },
     "metadata": {},
     "output_type": "display_data"
    },
    {
     "name": "stdout",
     "output_type": "stream",
     "text": [
      "Model: \"model\"\n",
      "__________________________________________________________________________________________________\n",
      " Layer (type)                   Output Shape         Param #     Connected to                     \n",
      "==================================================================================================\n",
      " InputIdsLayer (InputLayer)     [(None, 300)]        0           []                               \n",
      "                                                                                                  \n",
      " AttentionMasksLayer (InputLaye  [(None, 300)]       0           []                               \n",
      " r)                                                                                               \n",
      "                                                                                                  \n",
      " tf_distil_bert_model (TFDistil  TFBaseModelOutput(l  66362880   ['InputIdsLayer[0][0]',          \n",
      " BertModel)                     ast_hidden_state=(N               'AttentionMasksLayer[0][0]']    \n",
      "                                one, 300, 768),                                                   \n",
      "                                 hidden_states=None                                               \n",
      "                                , attentions=None)                                                \n",
      "                                                                                                  \n",
      " tf.__operators__.getitem (Slic  (None, 768)         0           ['tf_distil_bert_model[0][0]']   \n",
      " ingOpLambda)                                                                                     \n",
      "                                                                                                  \n",
      "==================================================================================================\n",
      "Total params: 66,362,880\n",
      "Trainable params: 0\n",
      "Non-trainable params: 66,362,880\n",
      "__________________________________________________________________________________________________\n"
     ]
    }
   ],
   "source": [
    "# Name of the BERT Model to be used.\n",
    "bert = 'distilbert-base-uncased'\n",
    "\n",
    "# Configuration\n",
    "#distilBertConfig = DistilBertConfig.from_pretrained(bert, output_hidden_states=True)\n",
    "distilBertConfig = DistilBertConfig.from_pretrained(bert)\n",
    "\n",
    "# BERT Model\n",
    "distilBertModel = TFDistilBertModel.from_pretrained(bert, config=distilBertConfig, trainable=False)\n",
    "\n",
    "# Call the function 'createDistilBERT()' to get the model architecture of BERT ('distilbert-base-uncased').\n",
    "modeldistilBertBU = createDistilBERT(bert=distilBertModel, seqLen=maxSeqLength, last4Layer=False)\n",
    "\n",
    "# Print the summary of the Model to check if all the layers are properly defined or not.\n",
    "modeldistilBertBU.summary()"
   ]
  },
  {
   "cell_type": "markdown",
   "id": "f3935d30",
   "metadata": {
    "id": "f3935d30"
   },
   "source": [
    "## 5.4. Get Text Embedding from BERT Model\n",
    "\n",
    "### 5.4.1. Text Embedding for Training Dataset comments"
   ]
  },
  {
   "cell_type": "code",
   "execution_count": 15,
   "id": "ece29dd9",
   "metadata": {
    "colab": {
     "base_uri": "https://localhost:8080/"
    },
    "id": "ece29dd9",
    "outputId": "6a666369-1879-4978-8040-294775213e13"
   },
   "outputs": [
    {
     "name": "stdout",
     "output_type": "stream",
     "text": [
      "CPU times: user 1.75 s, sys: 7.55 s, total: 9.3 s\n",
      "Wall time: 1min 19s\n"
     ]
    }
   ],
   "source": [
    "%%time\n",
    "#trainEmbeddingsPath = 'Resources/xTrainBERTEmbeddings.pkl'\n",
    "trainEmbeddingsPath = F'/content/gdrive/My Drive/Case Study 2/xTrainBERTEmbeddings.pkl'\n",
    "#cvEmbeddingsPath = 'Resources/xCVBERTEmbeddings.pkl'\n",
    "cvEmbeddingsPath = F'/content/gdrive/My Drive/Case Study 2/xCVBERTEmbeddings.pkl'\n",
    "#testEmbeddingsPath = 'Resources/xTestBERTEmbeddings.pkl'\n",
    "testEmbeddingsPath = F'/content/gdrive/My Drive/Case Study 2/xTestBERTEmbeddings.pkl'\n",
    "\n",
    "# Text Embedding for Train Dataset.\n",
    "if os.path.isfile(trainEmbeddingsPath):\n",
    "    \n",
    "    with open(trainEmbeddingsPath, 'rb') as f:\n",
    "        \n",
    "        xTrainEmbeddings = pickle.load(f)\n",
    "        \n",
    "# Text Embedding for Validation Dataset.\n",
    "if os.path.isfile(cvEmbeddingsPath):\n",
    "    \n",
    "    with open(cvEmbeddingsPath, 'rb') as f:\n",
    "        \n",
    "        xCVEmbeddings = pickle.load(f)\n",
    "        \n",
    "# Text Embedding for Test Dataset.\n",
    "if os.path.isfile(testEmbeddingsPath):\n",
    "    \n",
    "    with open(testEmbeddingsPath, 'rb') as f:\n",
    "        \n",
    "        xTestEmbeddings = pickle.load(f)"
   ]
  },
  {
   "cell_type": "code",
   "execution_count": null,
   "id": "E0iMPXMTMSeV",
   "metadata": {
    "colab": {
     "base_uri": "https://localhost:8080/"
    },
    "id": "E0iMPXMTMSeV",
    "outputId": "6bff9858-fd0d-41df-f3c8-47d1e69b8425"
   },
   "outputs": [
    {
     "name": "stdout",
     "output_type": "stream",
     "text": [
      "CPU times: user 23min 19s, sys: 4min 42s, total: 28min 2s\n",
      "Wall time: 2h 16min 7s\n"
     ]
    }
   ],
   "source": [
    "%%time\n",
    "# Text Embedding for Training Dataset.\n",
    "#trainEmbeddingsPath = 'Resources/xTrainBERTEmbeddings.pkl'\n",
    "trainEmbeddingsPath = F'/content/gdrive/My Drive/Case Study 2/xTrainBERTEmbeddings.pkl'\n",
    "if os.path.isfile(trainEmbeddingsPath):\n",
    "    \n",
    "    with open(trainEmbeddingsPath, 'rb') as f:\n",
    "        \n",
    "        xTrainEmbeddings = pickle.load(f)\n",
    "        \n",
    "else:\n",
    "    \n",
    "    # Get Text Embedding Vectors for the Train Dataset Tokens.\n",
    "    xTrainEmbeddings = modeldistilBertBU.predict([xTrainTokenIds, xTrainAttentionMasks])\n",
    "    \n",
    "    with open(trainEmbeddingsPath, 'wb') as f:\n",
    "        \n",
    "        pickle.dump(xTrainEmbeddings, f)\n",
    "        \n",
    "    # This cell execution took 2h 16min 7s in Colab Pro GPU."
   ]
  },
  {
   "cell_type": "markdown",
   "id": "e551af1a",
   "metadata": {
    "id": "e551af1a"
   },
   "source": [
    "### 5.4.2. Text Embedding for Validation Dataset comments"
   ]
  },
  {
   "cell_type": "code",
   "execution_count": null,
   "id": "615a8b10",
   "metadata": {
    "id": "615a8b10",
    "outputId": "fa3ff043-cda9-4da5-9ebd-7695cc0dec65"
   },
   "outputs": [
    {
     "name": "stdout",
     "output_type": "stream",
     "text": [
      "CPU times: user 2d 19h 46min 19s, sys: 6h 27min 51s, total: 3d 2h 14min 10s\n",
      "Wall time: 5h 18min 9s\n"
     ]
    }
   ],
   "source": [
    "%%time\n",
    "# Text Embedding for Validation Dataset.\n",
    "cvEmbeddingsPath = 'Resources/xCVBERTEmbeddings.pkl'\n",
    "#cvEmbeddingsPath = F'/content/gdrive/My Drive/Case Study 2/xCVBERTEmbeddings.pkl'\n",
    "if os.path.isfile(cvEmbeddingsPath):\n",
    "    \n",
    "    with open(cvEmbeddingsPath, 'rb') as f:\n",
    "        \n",
    "        xCVEmbeddings = pickle.load(f)\n",
    "        \n",
    "else:\n",
    "    \n",
    "    # Get Text Embedding Vectors for the Validation Tokens\n",
    "    xCVEmbeddings = modeldistilBertBU.predict([xCVTokenIds, xCVAttentionMasks])\n",
    "    \n",
    "    with open(cvEmbeddingsPath, 'wb') as f:\n",
    "        \n",
    "        pickle.dump(xCVEmbeddings, f)\n",
    "        \n",
    "    # This processing took 5h 18min 9s hours in GCP."
   ]
  },
  {
   "cell_type": "markdown",
   "id": "3bcdaa7f",
   "metadata": {
    "id": "3bcdaa7f"
   },
   "source": [
    "### 5.4.3. Text Embedding for Test Dataset comments"
   ]
  },
  {
   "cell_type": "code",
   "execution_count": null,
   "id": "6729cd66",
   "metadata": {
    "colab": {
     "base_uri": "https://localhost:8080/"
    },
    "id": "6729cd66",
    "outputId": "1fa3588a-8736-4d7a-db72-f526f3a6269b"
   },
   "outputs": [
    {
     "name": "stdout",
     "output_type": "stream",
     "text": [
      "CPU times: user 4min 6s, sys: 48.5 s, total: 4min 55s\n",
      "Wall time: 24min 2s\n"
     ]
    }
   ],
   "source": [
    "%%time\n",
    "# Text Embedding for Test Dataset.\n",
    "#testEmbeddingsPath = 'Resources/xTestBERTEmbeddings.pkl'\n",
    "testEmbeddingsPath = F'/content/gdrive/My Drive/Case Study 2/xTestBERTEmbeddings.pkl'\n",
    "if os.path.isfile(testEmbeddingsPath):\n",
    "    \n",
    "    with open(testEmbeddingsPath, 'rb') as f:\n",
    "        \n",
    "        xTestEmbeddings = pickle.load(f)\n",
    "        \n",
    "else:\n",
    "    \n",
    "    # Get Text Embedding Vectors for the Test Dataset Tokens\n",
    "    xTestEmbeddings = modeldistilBertBU.predict([xTestTokenIds, xTestAttentionMasks])\n",
    "    \n",
    "    with open(testEmbeddingsPath, 'wb') as f:\n",
    "        \n",
    "        pickle.dump(xTestEmbeddings, f)\n",
    "        \n",
    "    # This processing took 24min 2s in Colab Pro GPU."
   ]
  },
  {
   "cell_type": "code",
   "execution_count": 16,
   "id": "t_PF4lDEFtHA",
   "metadata": {
    "colab": {
     "base_uri": "https://localhost:8080/"
    },
    "id": "t_PF4lDEFtHA",
    "outputId": "3b851db5-38a0-44af-ea4d-c0abddc73f63"
   },
   "outputs": [
    {
     "name": "stdout",
     "output_type": "stream",
     "text": [
      "Shape of Text Embedded Vectors (Train Dataset):  (1304020, 768)\n",
      "Shape of Text Embedded Vectors (Validation Dataset):  (270732, 768)\n",
      "Shape of Text Embedded Vectors (Test Dataset):  (230122, 768)\n"
     ]
    }
   ],
   "source": [
    "print('Shape of Text Embedded Vectors (Train Dataset): ', xTrainEmbeddings.shape)\n",
    "print('Shape of Text Embedded Vectors (Validation Dataset): ', xCVEmbeddings.shape)\n",
    "print('Shape of Text Embedded Vectors (Test Dataset): ', xTestEmbeddings.shape)"
   ]
  },
  {
   "cell_type": "markdown",
   "id": "c15e1efe",
   "metadata": {
    "id": "c15e1efe"
   },
   "source": [
    "----"
   ]
  },
  {
   "cell_type": "markdown",
   "id": "9fa14b29",
   "metadata": {
    "id": "9fa14b29"
   },
   "source": [
    "# 6. Custom Loss Function\n",
    "\n",
    "* Let's define a custom Loss Function to calculate the loss for the Class Label having toxicity and weights."
   ]
  },
  {
   "cell_type": "code",
   "execution_count": 17,
   "id": "45361143",
   "metadata": {
    "id": "45361143"
   },
   "outputs": [],
   "source": [
    "# Reference: https://github.com/nidhibansal1902/Jigsaw-Unintended-Bias-in-Toxicity-Classification/blob/master/Jigsaw-LSTM%20with%20Glove%20Embedding%20New.ipynb\n",
    "def customLoss(yActual, yPred):\n",
    "    '''\n",
    "    Function to calculate loss for the toxic class label.\n",
    "    \n",
    "    Parameters:\n",
    "    -----------\n",
    "    yActual: array-like\n",
    "        Actual Class Labels.\n",
    "    yPred: array-like\n",
    "        Predicted Class Labels.\n",
    "    '''\n",
    "    \n",
    "    return binary_crossentropy(backend.reshape(yActual[:, 0], (-1, 1)), yPred) * yActual[:, 1]"
   ]
  },
  {
   "cell_type": "markdown",
   "id": "cf93116f",
   "metadata": {
    "id": "cf93116f"
   },
   "source": [
    "----"
   ]
  },
  {
   "cell_type": "markdown",
   "id": "b067941d",
   "metadata": {
    "id": "b067941d"
   },
   "source": [
    "# 7. Callbacks\n",
    "\n",
    "* Here, we will define a function to return the required callbacks which can used while training a model."
   ]
  },
  {
   "cell_type": "code",
   "execution_count": 18,
   "id": "25371a17",
   "metadata": {
    "id": "25371a17"
   },
   "outputs": [],
   "source": [
    "def getCallbacks(fileLocation, modelCheckpoint=True, earlyStopping=True, reduceLROnPlateau=False, lrScheduler=True,\n",
    "                 dictMonitor={}, dictMode={}, dictPatience={}):\n",
    "    '''\n",
    "    Function to return some callbacks which will be used while training a model.\n",
    "    \n",
    "    Parameters:\n",
    "    ----------\n",
    "    fileLocation: str\n",
    "        File path to store the best model.\n",
    "    modelCheckpoint: bool\n",
    "        Flag if true, returns ModelCheckpoint callback.\n",
    "    earlyStopping: bool\n",
    "        Flag is true, returns EarlyStopping callback.\n",
    "    reduceLROnPlateau: bool\n",
    "        Flag if true, returns ReduceLROnPlateau callback.\n",
    "    lrScheduler: bool\n",
    "        Flag if true, returns LearningRateScheduler callback.\n",
    "    dictMonitor: dictionary\n",
    "        Dictionary containing the Callback names as keys and the metric to be monitored as their values.\n",
    "    dictMode: dictionary\n",
    "        Dictionary containing the Callback names as keys and the modes of the metrics as their values.\n",
    "    dictPatience: dictionary\n",
    "        Dictionary containing the Callback names as keys and the patience of the callback as their values.\n",
    "    '''\n",
    "    \n",
    "    resultCallbacks = list() # List to store the applicable callbacks to be returned.\n",
    "    \n",
    "    # If Model Checkpoint Callback is required.\n",
    "    if modelCheckpoint == True:\n",
    "        \n",
    "        # Callback to save the best model\n",
    "        modelCheckpointCB = ModelCheckpoint(filepath=fileLocation, save_best_only=True)\n",
    "        \n",
    "        # Add the callback to the result list.\n",
    "        resultCallbacks.append(modelCheckpointCB)\n",
    "        \n",
    "    # If the Early Stopping Callback is required.\n",
    "    if earlyStopping == True and dictMonitor.get('earlyStopping') != None and dictMode.get('earlyStopping') != None and dictPatience.get('earlyStopping') != None:\n",
    "        \n",
    "        # Callback to do early stop\n",
    "        earlyStoppingCB = EarlyStopping(monitor=dictMonitor.get('earlyStopping'),\n",
    "                                                mode=dictMode.get('earlyStopping'),\n",
    "                                                patience=dictPatience.get('earlyStopping'))\n",
    "        \n",
    "        # Add the callback to the result list.\n",
    "        resultCallbacks.append(earlyStoppingCB)\n",
    "        \n",
    "        \n",
    "    # If the Reduce Learning Rate Plateau Callback is required.\n",
    "    if reduceLROnPlateau == True and dictMonitor.get('reduceLROnPlateau') != None and dictMode.get('reduceLROnPlateau') != None and dictPatience.get('reduceLROnPlateau') != None:\n",
    "        \n",
    "        # Callback to decay the Learning Rate        \n",
    "        reduceLROnPlateauCB = ReduceLROnPlateau(monitor=dictMonitor.get('reduceLROnPlateau'), factor=0.1, min_lr=0.000001,\n",
    "                                                        patience=dictPatience.get('reduceLROnPlateau'), verbose=1,\n",
    "                                                        mode=dictMode.get('reduceLROnPlateau'))\n",
    "        \n",
    "        # Add the callback to the result list.\n",
    "        resultCallbacks.append(reduceLROnPlateauCB)\n",
    "        \n",
    "    # If the Learning Rate Scheduler Callback is required.\n",
    "    if lrScheduler == True:\n",
    "        \n",
    "        # Callback for learning rate scheduler\n",
    "        lrSchedulerCB = LearningRateScheduler(lambda epoch: 1e-3 * (0.6  ** 1))\n",
    "        \n",
    "        # Add the callback to the result list.\n",
    "        resultCallbacks.append(lrSchedulerCB)\n",
    "        \n",
    "    # Return the list of required callbacks.\n",
    "    return resultCallbacks"
   ]
  },
  {
   "cell_type": "markdown",
   "id": "b873086b",
   "metadata": {
    "id": "b873086b"
   },
   "source": [
    "----"
   ]
  },
  {
   "cell_type": "markdown",
   "id": "e438ade8",
   "metadata": {
    "id": "e438ade8"
   },
   "source": [
    "# 8. Function to Plot the Model Performance over epochs\n",
    "\n",
    "* We will define some functions that can be used to:<br>\n",
    "&emsp; i. Plot the model's training and validation losses and accuracies over each epoch.<br>\n",
    "&emsp; ii. Plot the model's learning rates over each epoch.<br>"
   ]
  },
  {
   "cell_type": "code",
   "execution_count": 19,
   "id": "c5bf7981",
   "metadata": {
    "id": "c5bf7981"
   },
   "outputs": [],
   "source": [
    "# Reference: https://neptune.ai/blog/how-to-choose-a-learning-rate-scheduler\n",
    "#### Function to plot the learning rate \n",
    "def plotLR(history, figsize=(10, 5)):\n",
    "    '''\n",
    "    Function to the plot the value of learning rates for the model over each epoch.\n",
    "\n",
    "    Parameters:\n",
    "    ---------\n",
    "    history: keras.callbacks.History\n",
    "        Model object that holds the history details of the trained model.\n",
    "    figsize: tuple\n",
    "        Figure size of the plot.\n",
    "    '''\n",
    "    learning_rate = history.history['lr'] # Fetch the Learning Rates.\n",
    "\n",
    "    epochs = range(1, len(learning_rate) + 1) # Define the epoch values to be shown in the x-axis.\n",
    "\n",
    "    fig = plt.figure(figsize=figsize) # Create a new figure with the given figure size.\n",
    "    \n",
    "    # Plot the Epochs on the x-axis and the learning rates on the y-axis.\n",
    "    plt.plot(epochs, learning_rate)\n",
    "    plt.title('Learning Rate Curve', fontsize=20) # Title of the Plot.\n",
    "    plt.xlabel('Epoch', fontsize=15) # Label on the x-axis.\n",
    "    plt.ylabel('Learning Rate', fontsize=15) # Label on the y-axis.\n",
    "    plt.show() # Show the plot."
   ]
  },
  {
   "cell_type": "code",
   "execution_count": 20,
   "id": "f7eca8ea",
   "metadata": {
    "id": "f7eca8ea"
   },
   "outputs": [],
   "source": [
    "### Functions to plot the train history \n",
    "def plotPerformance(history, figsize=(15, 8), accMetric='accuracy'):\n",
    "    '''\n",
    "    Function to plot the training and validation losses and accuracies over each epoch.\n",
    "\n",
    "    Parameters:\n",
    "    ----------\n",
    "    history: keras.callbacks.History\n",
    "        Model object that holds the history details of the trained model.\n",
    "    figsize: tuple\n",
    "        Figure size of the plot.\n",
    "    '''\n",
    "    \n",
    "    fig = plt.figure(figsize=figsize) # Create a new figure with the given figure size.\n",
    "    \n",
    "    # Plot the Losses\n",
    "    fig = plt.subplot(1, 2, 1) # row 1 col 2 index 1. 1st Subplot to display the losses.\n",
    "    plt.plot(history.history['loss']) # Plot the training data loss.\n",
    "    plt.plot(history.history['val_loss']) # Plot the validation data loss.\n",
    "    plt.legend(['Train Loss', 'Validation Loss']) # Add legend to the plot.\n",
    "    plt.title(f'Loss Curves', fontsize=20) # Title of the subplot.\n",
    "    plt.xlabel('Epoch', fontsize=15) # Label to be displayed on the x-axis.\n",
    "    plt.ylabel('Loss', fontsize=15) # Label to be displayed on the y-axis.\n",
    "    \n",
    "    # Plot the Accuracies \n",
    "    fig = plt.subplot(1, 2, 2) # row 1 col 2 index 2. 2nd subplot to display the accuracies.\n",
    "    plt.plot(history.history[accMetric]) # Plot the training data accuracy.\n",
    "    plt.plot(history.history['val_' + accMetric]) # Plot the validation data accuracy.\n",
    "    plt.legend(['Train Accuracy', 'Validation Accuracy']) # Add legend to the plot.\n",
    "    plt.title(f'Accuracy Curves', fontsize=20) # Title of the subplot.\n",
    "    plt.xlabel('Epoch', fontsize=15) # Label to be displayed on the x-axis.\n",
    "    plt.ylabel('Accuracy', fontsize=15) # Label to be displayed on the y-axis.\n",
    "    plt.show() # Show the plot."
   ]
  },
  {
   "cell_type": "markdown",
   "id": "0123e696",
   "metadata": {
    "id": "0123e696"
   },
   "source": [
    "----"
   ]
  },
  {
   "cell_type": "markdown",
   "id": "4e1af4f2",
   "metadata": {
    "id": "4e1af4f2"
   },
   "source": [
    "# 6. Model\n",
    "\n",
    "* We will use the text embeddings from the DistilBert and use a feed forward network (MLP) to do the classification.\n",
    "\n",
    "## 6.1. Model - Architecture"
   ]
  },
  {
   "cell_type": "code",
   "execution_count": 37,
   "id": "1cdca80f",
   "metadata": {
    "id": "1cdca80f"
   },
   "outputs": [],
   "source": [
    "def getModelUsingBERT(inputShape=768, denseUnits=512):\n",
    "    '''\n",
    "    Function to generate the model using BERT for feature extraction followed by a MLP layers.\n",
    "    \n",
    "    Parameters:\n",
    "    ----------\n",
    "    inputShape: int\n",
    "        Shape of the input to the Input Layer. This will be equal to the dimensionality of the BERT Embedded Vectors.\n",
    "    denseUnits: int\n",
    "        Dimensionality of the Dense Layer output.\n",
    "    '''\n",
    "    \n",
    "    # Clearing the graph of TensorFlow\n",
    "    backend.clear_session()\n",
    "    \n",
    "    # Define the Input Layer accepting the text embedding vectors from the BERT Model.\n",
    "    inputLayer = Input(shape=(inputShape, ), name='InputLayer')\n",
    "    \n",
    "    # Dense Layer on the text embedding vectors from the BERT Model\n",
    "    denseLayer1 = Dense(units=denseUnits, activation='relu', name='DenseLayer1')(inputLayer)\n",
    "    \n",
    "    # Batch Normalization Layer\n",
    "    batchNormLayer1 = BatchNormalization(name='BatchNormalizationLayer1')(denseLayer1)\n",
    "    \n",
    "    # Dropout Layer\n",
    "    dropoutLayer1 = Dropout(rate=0.4, name='DropoutLayer1')(batchNormLayer1)\n",
    "    \n",
    "    # Dense Layer on the output of the above add layer\n",
    "    denseLayer2 = Dense(units=denseUnits/2, activation='relu', name='DenseLayer2')(dropoutLayer1)\n",
    "    \n",
    "    # Batch Normalization Layer\n",
    "    batchNormLayer2 = BatchNormalization(name='BatchNormalizationLayer2')(denseLayer2)\n",
    "    \n",
    "    # Dropout Layer\n",
    "    dropoutLayer2 = Dropout(rate=0.3, name='DropoutLayer2')(batchNormLayer2)\n",
    "    \n",
    "    # Output Layer for Toxicity\n",
    "    outputToxicity = Dense(1, activation='sigmoid', name='OutputLayer')(dropoutLayer2)\n",
    "    \n",
    "    # Output Layer for the Auxiliary Toxicity Subgroups\n",
    "    outputAux = Dense(6, activation='sigmoid', name='OutputAuxLayer')(dropoutLayer2)\n",
    "    \n",
    "    # Define the Model using the above defined input and output layers\n",
    "    model = Model(inputs=inputLayer, outputs= [outputToxicity, outputAux])\n",
    "    \n",
    "    # Return the Model\n",
    "    return model"
   ]
  },
  {
   "cell_type": "code",
   "execution_count": 38,
   "id": "4602643c",
   "metadata": {
    "colab": {
     "base_uri": "https://localhost:8080/"
    },
    "id": "4602643c",
    "outputId": "afac26c5-2a91-404b-f376-254f18cbdb59"
   },
   "outputs": [
    {
     "name": "stdout",
     "output_type": "stream",
     "text": [
      "BERT Text Embedded Vector Dimensionality:  768\n"
     ]
    }
   ],
   "source": [
    "# Get the dimensionality of the text embedded using BERT Model.\n",
    "vectorDim = xTrainEmbeddings.shape[1]\n",
    "\n",
    "print('BERT Text Embedded Vector Dimensionality: ', vectorDim)"
   ]
  },
  {
   "cell_type": "code",
   "execution_count": 39,
   "id": "62257913",
   "metadata": {
    "colab": {
     "base_uri": "https://localhost:8080/"
    },
    "id": "62257913",
    "outputId": "f3432084-7fd0-4819-b34b-fbf722e6ac06"
   },
   "outputs": [
    {
     "name": "stdout",
     "output_type": "stream",
     "text": [
      "Model: \"model\"\n",
      "__________________________________________________________________________________________________\n",
      " Layer (type)                   Output Shape         Param #     Connected to                     \n",
      "==================================================================================================\n",
      " InputLayer (InputLayer)        [(None, 768)]        0           []                               \n",
      "                                                                                                  \n",
      " DenseLayer1 (Dense)            (None, 512)          393728      ['InputLayer[0][0]']             \n",
      "                                                                                                  \n",
      " BatchNormalizationLayer1 (Batc  (None, 512)         2048        ['DenseLayer1[0][0]']            \n",
      " hNormalization)                                                                                  \n",
      "                                                                                                  \n",
      " DropoutLayer1 (Dropout)        (None, 512)          0           ['BatchNormalizationLayer1[0][0]'\n",
      "                                                                 ]                                \n",
      "                                                                                                  \n",
      " DenseLayer2 (Dense)            (None, 256)          131328      ['DropoutLayer1[0][0]']          \n",
      "                                                                                                  \n",
      " BatchNormalizationLayer2 (Batc  (None, 256)         1024        ['DenseLayer2[0][0]']            \n",
      " hNormalization)                                                                                  \n",
      "                                                                                                  \n",
      " DropoutLayer2 (Dropout)        (None, 256)          0           ['BatchNormalizationLayer2[0][0]'\n",
      "                                                                 ]                                \n",
      "                                                                                                  \n",
      " OutputLayer (Dense)            (None, 1)            257         ['DropoutLayer2[0][0]']          \n",
      "                                                                                                  \n",
      " OutputAuxLayer (Dense)         (None, 6)            1542        ['DropoutLayer2[0][0]']          \n",
      "                                                                                                  \n",
      "==================================================================================================\n",
      "Total params: 529,927\n",
      "Trainable params: 528,391\n",
      "Non-trainable params: 1,536\n",
      "__________________________________________________________________________________________________\n"
     ]
    }
   ],
   "source": [
    "# Call the function 'getModelUsingBERT()' to get the Model Object to be trained.\n",
    "modelBERTEmb = getModelUsingBERT(inputShape=vectorDim, denseUnits=512)\n",
    "\n",
    "# Print the summary of the Model to check if all the layers are properly defined or not.\n",
    "modelBERTEmb.summary()"
   ]
  },
  {
   "cell_type": "markdown",
   "id": "f0756566",
   "metadata": {
    "id": "f0756566"
   },
   "source": [
    "## 6.2. Create and Save the Plot of the Model - Bert ('bert-base-uncased') Architecture"
   ]
  },
  {
   "cell_type": "code",
   "execution_count": 40,
   "id": "28c86f3c",
   "metadata": {
    "colab": {
     "base_uri": "https://localhost:8080/",
     "height": 865
    },
    "id": "28c86f3c",
    "outputId": "2e105a45-a8f6-44b2-be8b-3bc9a4206131"
   },
   "outputs": [
    {
     "data": {
      "image/png": "[encoded data removed]",
      "text/plain": [
       "<IPython.core.display.Image object>"
      ]
     },
     "execution_count": 40,
     "metadata": {},
     "output_type": "execute_result"
    }
   ],
   "source": [
    "# Create and save the model plot.\n",
    "plot_model(modelBERTEmb, to_file='Resources/modelBERTEmb.png', show_shapes=True, show_layer_names=True)"
   ]
  },
  {
   "cell_type": "markdown",
   "id": "8e6b8633",
   "metadata": {
    "id": "8e6b8633"
   },
   "source": [
    "## 6.3. Compile the Model and define Callbacks"
   ]
  },
  {
   "cell_type": "markdown",
   "id": "UK2siVvVXb7w",
   "metadata": {
    "id": "UK2siVvVXb7w"
   },
   "source": [
    "| ReduceLROnPlateau | LRScheduler | Epochs | loss | val_loss | Final Score |\n",
    "| ---- | ---- | ---- | ---- | ---- | ---- |\n",
    "| False | True | 15 | 0.3258 | -- | 0.86150 |\n",
    "| True | False | 15 | 0.3201 | 0.3200 | 0.86512 |\n",
    "| True | False | 16-30 | 0.3193 | 0.3198 | 0.86538 |"
   ]
  },
  {
   "cell_type": "code",
   "execution_count": 41,
   "id": "cec76a58",
   "metadata": {
    "id": "cec76a58"
   },
   "outputs": [],
   "source": [
    "# Compile the Model\n",
    "modelBERTEmb.compile(optimizer= Adam(epsilon= 1e-8), loss= [customLoss, 'binary_crossentropy'], metrics=['accuracy'], \n",
    "                     loss_weights=[lossWeight, 1.0])\n",
    "\n",
    "# Define the dictionaries required for setting up the callback properties.\n",
    "monitor = {'earlyStopping': 'val_loss', 'reduceLROnPlateau': 'val_loss'}\n",
    "mode = {'earlyStopping': 'min', 'reduceLROnPlateau': 'min'}\n",
    "patience = {'earlyStopping': 6, 'reduceLROnPlateau': 2}\n",
    "\n",
    "# File path to store the best model to.\n",
    "#filePath = 'BestModels/modelBERTEmb.h5'\n",
    "filePath = F'/content/gdrive/My Drive/Case Study 2/BestModels/modelBERTEmb.h5'\n",
    "\n",
    "# Call the function 'getCallbacks()' to get the required callbacks.\n",
    "modelBERTEmbCallbacks = getCallbacks(fileLocation=filePath, reduceLROnPlateau=True, lrScheduler=False,\n",
    "                                     dictMonitor=monitor, dictMode=mode, dictPatience=patience)"
   ]
  },
  {
   "cell_type": "markdown",
   "id": "a71e0c24",
   "metadata": {
    "id": "a71e0c24"
   },
   "source": [
    "## 6.4. Train the Model"
   ]
  },
  {
   "cell_type": "code",
   "execution_count": 42,
   "id": "xFh1gDrJKsQc",
   "metadata": {
    "colab": {
     "base_uri": "https://localhost:8080/"
    },
    "id": "xFh1gDrJKsQc",
    "outputId": "3cd6e219-bae0-4003-fe4e-ae2561952dab"
   },
   "outputs": [
    {
     "name": "stdout",
     "output_type": "stream",
     "text": [
      "Epoch 1/100\n",
      "2547/2547 [==============================] - 19s 7ms/step - loss: 0.3993 - OutputLayer_loss: 0.0889 - OutputAuxLayer_loss: 0.1106 - OutputLayer_accuracy: 0.4572 - OutputAuxLayer_accuracy: 0.2100 - val_loss: 0.3520 - val_OutputLayer_loss: 0.0832 - val_OutputAuxLayer_loss: 0.0815 - val_OutputLayer_accuracy: 0.4586 - val_OutputAuxLayer_accuracy: 0.2127 - lr: 0.0010\n",
      "Epoch 2/100\n",
      "2547/2547 [==============================] - 17s 7ms/step - loss: 0.3434 - OutputLayer_loss: 0.0807 - OutputAuxLayer_loss: 0.0813 - OutputLayer_accuracy: 0.4630 - OutputAuxLayer_accuracy: 0.2121 - val_loss: 0.3605 - val_OutputLayer_loss: 0.0863 - val_OutputAuxLayer_loss: 0.0803 - val_OutputLayer_accuracy: 0.4518 - val_OutputAuxLayer_accuracy: 0.2139 - lr: 0.0010\n",
      "Epoch 3/100\n",
      "2547/2547 [==============================] - ETA: 0s - loss: 0.3390 - OutputLayer_loss: 0.0796 - OutputAuxLayer_loss: 0.0804 - OutputLayer_accuracy: 0.4634 - OutputAuxLayer_accuracy: 0.2132\n",
      "Epoch 3: ReduceLROnPlateau reducing learning rate to 0.00010000000474974513.\n",
      "2547/2547 [==============================] - 16s 6ms/step - loss: 0.3390 - OutputLayer_loss: 0.0796 - OutputAuxLayer_loss: 0.0804 - OutputLayer_accuracy: 0.4634 - OutputAuxLayer_accuracy: 0.2132 - val_loss: 0.3767 - val_OutputLayer_loss: 0.0901 - val_OutputAuxLayer_loss: 0.0839 - val_OutputLayer_accuracy: 0.4442 - val_OutputAuxLayer_accuracy: 0.2136 - lr: 0.0010\n",
      "Epoch 4/100\n",
      "2547/2547 [==============================] - 16s 6ms/step - loss: 0.3323 - OutputLayer_loss: 0.0778 - OutputAuxLayer_loss: 0.0796 - OutputLayer_accuracy: 0.4639 - OutputAuxLayer_accuracy: 0.2141 - val_loss: 0.3280 - val_OutputLayer_loss: 0.0769 - val_OutputAuxLayer_loss: 0.0781 - val_OutputLayer_accuracy: 0.4654 - val_OutputAuxLayer_accuracy: 0.2163 - lr: 1.0000e-04\n",
      "Epoch 5/100\n",
      "2547/2547 [==============================] - 16s 6ms/step - loss: 0.3306 - OutputLayer_loss: 0.0773 - OutputAuxLayer_loss: 0.0794 - OutputLayer_accuracy: 0.4641 - OutputAuxLayer_accuracy: 0.2144 - val_loss: 0.3266 - val_OutputLayer_loss: 0.0765 - val_OutputAuxLayer_loss: 0.0780 - val_OutputLayer_accuracy: 0.4650 - val_OutputAuxLayer_accuracy: 0.2163 - lr: 1.0000e-04\n",
      "Epoch 6/100\n",
      "2547/2547 [==============================] - 16s 6ms/step - loss: 0.3296 - OutputLayer_loss: 0.0771 - OutputAuxLayer_loss: 0.0792 - OutputLayer_accuracy: 0.4642 - OutputAuxLayer_accuracy: 0.2147 - val_loss: 0.3257 - val_OutputLayer_loss: 0.0763 - val_OutputAuxLayer_loss: 0.0779 - val_OutputLayer_accuracy: 0.4650 - val_OutputAuxLayer_accuracy: 0.2163 - lr: 1.0000e-04\n",
      "Epoch 7/100\n",
      "2547/2547 [==============================] - 17s 7ms/step - loss: 0.3289 - OutputLayer_loss: 0.0769 - OutputAuxLayer_loss: 0.0792 - OutputLayer_accuracy: 0.4643 - OutputAuxLayer_accuracy: 0.2148 - val_loss: 0.3255 - val_OutputLayer_loss: 0.0762 - val_OutputAuxLayer_loss: 0.0779 - val_OutputLayer_accuracy: 0.4650 - val_OutputAuxLayer_accuracy: 0.2166 - lr: 1.0000e-04\n",
      "Epoch 8/100\n",
      "2547/2547 [==============================] - 16s 6ms/step - loss: 0.3282 - OutputLayer_loss: 0.0767 - OutputAuxLayer_loss: 0.0791 - OutputLayer_accuracy: 0.4643 - OutputAuxLayer_accuracy: 0.2149 - val_loss: 0.3250 - val_OutputLayer_loss: 0.0761 - val_OutputAuxLayer_loss: 0.0778 - val_OutputLayer_accuracy: 0.4650 - val_OutputAuxLayer_accuracy: 0.2166 - lr: 1.0000e-04\n",
      "Epoch 9/100\n",
      "2547/2547 [==============================] - 16s 6ms/step - loss: 0.3276 - OutputLayer_loss: 0.0765 - OutputAuxLayer_loss: 0.0790 - OutputLayer_accuracy: 0.4645 - OutputAuxLayer_accuracy: 0.2150 - val_loss: 0.3251 - val_OutputLayer_loss: 0.0761 - val_OutputAuxLayer_loss: 0.0778 - val_OutputLayer_accuracy: 0.4656 - val_OutputAuxLayer_accuracy: 0.2168 - lr: 1.0000e-04\n",
      "Epoch 10/100\n",
      "2547/2547 [==============================] - 16s 6ms/step - loss: 0.3274 - OutputLayer_loss: 0.0765 - OutputAuxLayer_loss: 0.0790 - OutputLayer_accuracy: 0.4645 - OutputAuxLayer_accuracy: 0.2148 - val_loss: 0.3247 - val_OutputLayer_loss: 0.0760 - val_OutputAuxLayer_loss: 0.0778 - val_OutputLayer_accuracy: 0.4652 - val_OutputAuxLayer_accuracy: 0.2169 - lr: 1.0000e-04\n",
      "Epoch 11/100\n",
      "2547/2547 [==============================] - 16s 6ms/step - loss: 0.3268 - OutputLayer_loss: 0.0763 - OutputAuxLayer_loss: 0.0789 - OutputLayer_accuracy: 0.4645 - OutputAuxLayer_accuracy: 0.2151 - val_loss: 0.3241 - val_OutputLayer_loss: 0.0758 - val_OutputAuxLayer_loss: 0.0777 - val_OutputLayer_accuracy: 0.4645 - val_OutputAuxLayer_accuracy: 0.2168 - lr: 1.0000e-04\n",
      "Epoch 12/100\n",
      "2547/2547 [==============================] - 16s 6ms/step - loss: 0.3263 - OutputLayer_loss: 0.0762 - OutputAuxLayer_loss: 0.0789 - OutputLayer_accuracy: 0.4645 - OutputAuxLayer_accuracy: 0.2151 - val_loss: 0.3239 - val_OutputLayer_loss: 0.0758 - val_OutputAuxLayer_loss: 0.0777 - val_OutputLayer_accuracy: 0.4655 - val_OutputAuxLayer_accuracy: 0.2168 - lr: 1.0000e-04\n",
      "Epoch 13/100\n",
      "2547/2547 [==============================] - 16s 6ms/step - loss: 0.3257 - OutputLayer_loss: 0.0760 - OutputAuxLayer_loss: 0.0788 - OutputLayer_accuracy: 0.4646 - OutputAuxLayer_accuracy: 0.2153 - val_loss: 0.3240 - val_OutputLayer_loss: 0.0758 - val_OutputAuxLayer_loss: 0.0777 - val_OutputLayer_accuracy: 0.4655 - val_OutputAuxLayer_accuracy: 0.2166 - lr: 1.0000e-04\n",
      "Epoch 14/100\n",
      "2547/2547 [==============================] - 16s 6ms/step - loss: 0.3254 - OutputLayer_loss: 0.0759 - OutputAuxLayer_loss: 0.0788 - OutputLayer_accuracy: 0.4646 - OutputAuxLayer_accuracy: 0.2152 - val_loss: 0.3234 - val_OutputLayer_loss: 0.0757 - val_OutputAuxLayer_loss: 0.0776 - val_OutputLayer_accuracy: 0.4645 - val_OutputAuxLayer_accuracy: 0.2167 - lr: 1.0000e-04\n",
      "Epoch 15/100\n",
      "2547/2547 [==============================] - 16s 6ms/step - loss: 0.3250 - OutputLayer_loss: 0.0758 - OutputAuxLayer_loss: 0.0787 - OutputLayer_accuracy: 0.4647 - OutputAuxLayer_accuracy: 0.2154 - val_loss: 0.3233 - val_OutputLayer_loss: 0.0756 - val_OutputAuxLayer_loss: 0.0776 - val_OutputLayer_accuracy: 0.4645 - val_OutputAuxLayer_accuracy: 0.2169 - lr: 1.0000e-04\n",
      "Epoch 16/100\n",
      "2547/2547 [==============================] - 16s 6ms/step - loss: 0.3246 - OutputLayer_loss: 0.0757 - OutputAuxLayer_loss: 0.0787 - OutputLayer_accuracy: 0.4647 - OutputAuxLayer_accuracy: 0.2153 - val_loss: 0.3228 - val_OutputLayer_loss: 0.0755 - val_OutputAuxLayer_loss: 0.0775 - val_OutputLayer_accuracy: 0.4647 - val_OutputAuxLayer_accuracy: 0.2172 - lr: 1.0000e-04\n",
      "Epoch 17/100\n",
      "2547/2547 [==============================] - 16s 6ms/step - loss: 0.3242 - OutputLayer_loss: 0.0756 - OutputAuxLayer_loss: 0.0787 - OutputLayer_accuracy: 0.4646 - OutputAuxLayer_accuracy: 0.2153 - val_loss: 0.3231 - val_OutputLayer_loss: 0.0756 - val_OutputAuxLayer_loss: 0.0776 - val_OutputLayer_accuracy: 0.4657 - val_OutputAuxLayer_accuracy: 0.2172 - lr: 1.0000e-04\n",
      "Epoch 18/100\n",
      "2546/2547 [============================>.] - ETA: 0s - loss: 0.3239 - OutputLayer_loss: 0.0755 - OutputAuxLayer_loss: 0.0787 - OutputLayer_accuracy: 0.4647 - OutputAuxLayer_accuracy: 0.2151\n",
      "Epoch 18: ReduceLROnPlateau reducing learning rate to 1.0000000474974514e-05.\n",
      "2547/2547 [==============================] - 16s 6ms/step - loss: 0.3240 - OutputLayer_loss: 0.0755 - OutputAuxLayer_loss: 0.0787 - OutputLayer_accuracy: 0.4647 - OutputAuxLayer_accuracy: 0.2151 - val_loss: 0.3237 - val_OutputLayer_loss: 0.0757 - val_OutputAuxLayer_loss: 0.0776 - val_OutputLayer_accuracy: 0.4661 - val_OutputAuxLayer_accuracy: 0.2167 - lr: 1.0000e-04\n",
      "Epoch 19/100\n",
      "2547/2547 [==============================] - 16s 6ms/step - loss: 0.3228 - OutputLayer_loss: 0.0752 - OutputAuxLayer_loss: 0.0786 - OutputLayer_accuracy: 0.4649 - OutputAuxLayer_accuracy: 0.2153 - val_loss: 0.3219 - val_OutputLayer_loss: 0.0753 - val_OutputAuxLayer_loss: 0.0775 - val_OutputLayer_accuracy: 0.4652 - val_OutputAuxLayer_accuracy: 0.2171 - lr: 1.0000e-05\n",
      "Epoch 20/100\n",
      "2547/2547 [==============================] - 16s 6ms/step - loss: 0.3228 - OutputLayer_loss: 0.0752 - OutputAuxLayer_loss: 0.0786 - OutputLayer_accuracy: 0.4648 - OutputAuxLayer_accuracy: 0.2154 - val_loss: 0.3219 - val_OutputLayer_loss: 0.0752 - val_OutputAuxLayer_loss: 0.0774 - val_OutputLayer_accuracy: 0.4653 - val_OutputAuxLayer_accuracy: 0.2171 - lr: 1.0000e-05\n",
      "Epoch 21/100\n",
      "2547/2547 [==============================] - 16s 6ms/step - loss: 0.3225 - OutputLayer_loss: 0.0751 - OutputAuxLayer_loss: 0.0785 - OutputLayer_accuracy: 0.4648 - OutputAuxLayer_accuracy: 0.2154 - val_loss: 0.3218 - val_OutputLayer_loss: 0.0752 - val_OutputAuxLayer_loss: 0.0774 - val_OutputLayer_accuracy: 0.4651 - val_OutputAuxLayer_accuracy: 0.2172 - lr: 1.0000e-05\n",
      "Epoch 22/100\n",
      "2547/2547 [==============================] - 16s 6ms/step - loss: 0.3225 - OutputLayer_loss: 0.0751 - OutputAuxLayer_loss: 0.0785 - OutputLayer_accuracy: 0.4649 - OutputAuxLayer_accuracy: 0.2154 - val_loss: 0.3218 - val_OutputLayer_loss: 0.0752 - val_OutputAuxLayer_loss: 0.0774 - val_OutputLayer_accuracy: 0.4650 - val_OutputAuxLayer_accuracy: 0.2171 - lr: 1.0000e-05\n",
      "Epoch 23/100\n",
      "2542/2547 [============================>.] - ETA: 0s - loss: 0.3224 - OutputLayer_loss: 0.0751 - OutputAuxLayer_loss: 0.0785 - OutputLayer_accuracy: 0.4649 - OutputAuxLayer_accuracy: 0.2153\n",
      "Epoch 23: ReduceLROnPlateau reducing learning rate to 1.0000000656873453e-06.\n",
      "2547/2547 [==============================] - 17s 7ms/step - loss: 0.3225 - OutputLayer_loss: 0.0751 - OutputAuxLayer_loss: 0.0785 - OutputLayer_accuracy: 0.4649 - OutputAuxLayer_accuracy: 0.2153 - val_loss: 0.3218 - val_OutputLayer_loss: 0.0752 - val_OutputAuxLayer_loss: 0.0774 - val_OutputLayer_accuracy: 0.4652 - val_OutputAuxLayer_accuracy: 0.2171 - lr: 1.0000e-05\n",
      "Epoch 24/100\n",
      "2547/2547 [==============================] - 16s 6ms/step - loss: 0.3222 - OutputLayer_loss: 0.0750 - OutputAuxLayer_loss: 0.0785 - OutputLayer_accuracy: 0.4650 - OutputAuxLayer_accuracy: 0.2154 - val_loss: 0.3217 - val_OutputLayer_loss: 0.0752 - val_OutputAuxLayer_loss: 0.0774 - val_OutputLayer_accuracy: 0.4652 - val_OutputAuxLayer_accuracy: 0.2171 - lr: 1.0000e-06\n",
      "Epoch 25/100\n",
      "2544/2547 [============================>.] - ETA: 0s - loss: 0.3222 - OutputLayer_loss: 0.0750 - OutputAuxLayer_loss: 0.0785 - OutputLayer_accuracy: 0.4650 - OutputAuxLayer_accuracy: 0.2152\n",
      "Epoch 25: ReduceLROnPlateau reducing learning rate to 1e-06.\n",
      "2547/2547 [==============================] - 16s 6ms/step - loss: 0.3222 - OutputLayer_loss: 0.0750 - OutputAuxLayer_loss: 0.0785 - OutputLayer_accuracy: 0.4650 - OutputAuxLayer_accuracy: 0.2152 - val_loss: 0.3217 - val_OutputLayer_loss: 0.0752 - val_OutputAuxLayer_loss: 0.0774 - val_OutputLayer_accuracy: 0.4652 - val_OutputAuxLayer_accuracy: 0.2171 - lr: 1.0000e-06\n",
      "Epoch 26/100\n",
      "2547/2547 [==============================] - 16s 6ms/step - loss: 0.3223 - OutputLayer_loss: 0.0751 - OutputAuxLayer_loss: 0.0785 - OutputLayer_accuracy: 0.4649 - OutputAuxLayer_accuracy: 0.2153 - val_loss: 0.3217 - val_OutputLayer_loss: 0.0752 - val_OutputAuxLayer_loss: 0.0774 - val_OutputLayer_accuracy: 0.4652 - val_OutputAuxLayer_accuracy: 0.2171 - lr: 1.0000e-06\n",
      "Epoch 27/100\n",
      "2547/2547 [==============================] - 16s 6ms/step - loss: 0.3224 - OutputLayer_loss: 0.0751 - OutputAuxLayer_loss: 0.0785 - OutputLayer_accuracy: 0.4648 - OutputAuxLayer_accuracy: 0.2153 - val_loss: 0.3217 - val_OutputLayer_loss: 0.0752 - val_OutputAuxLayer_loss: 0.0774 - val_OutputLayer_accuracy: 0.4653 - val_OutputAuxLayer_accuracy: 0.2171 - lr: 1.0000e-06\n",
      "Epoch 28/100\n",
      "2547/2547 [==============================] - 15s 6ms/step - loss: 0.3224 - OutputLayer_loss: 0.0751 - OutputAuxLayer_loss: 0.0785 - OutputLayer_accuracy: 0.4649 - OutputAuxLayer_accuracy: 0.2154 - val_loss: 0.3217 - val_OutputLayer_loss: 0.0752 - val_OutputAuxLayer_loss: 0.0774 - val_OutputLayer_accuracy: 0.4652 - val_OutputAuxLayer_accuracy: 0.2171 - lr: 1.0000e-06\n",
      "Epoch 29/100\n",
      "2547/2547 [==============================] - 15s 6ms/step - loss: 0.3220 - OutputLayer_loss: 0.0750 - OutputAuxLayer_loss: 0.0785 - OutputLayer_accuracy: 0.4649 - OutputAuxLayer_accuracy: 0.2153 - val_loss: 0.3217 - val_OutputLayer_loss: 0.0752 - val_OutputAuxLayer_loss: 0.0774 - val_OutputLayer_accuracy: 0.4652 - val_OutputAuxLayer_accuracy: 0.2171 - lr: 1.0000e-06\n",
      "Epoch 30/100\n",
      "2547/2547 [==============================] - 18s 7ms/step - loss: 0.3223 - OutputLayer_loss: 0.0750 - OutputAuxLayer_loss: 0.0785 - OutputLayer_accuracy: 0.4649 - OutputAuxLayer_accuracy: 0.2155 - val_loss: 0.3217 - val_OutputLayer_loss: 0.0752 - val_OutputAuxLayer_loss: 0.0774 - val_OutputLayer_accuracy: 0.4652 - val_OutputAuxLayer_accuracy: 0.2171 - lr: 1.0000e-06\n",
      "Epoch 31/100\n",
      "2547/2547 [==============================] - 17s 7ms/step - loss: 0.3223 - OutputLayer_loss: 0.0750 - OutputAuxLayer_loss: 0.0785 - OutputLayer_accuracy: 0.4649 - OutputAuxLayer_accuracy: 0.2154 - val_loss: 0.3217 - val_OutputLayer_loss: 0.0752 - val_OutputAuxLayer_loss: 0.0774 - val_OutputLayer_accuracy: 0.4652 - val_OutputAuxLayer_accuracy: 0.2171 - lr: 1.0000e-06\n",
      "Epoch 32/100\n",
      "2547/2547 [==============================] - 17s 7ms/step - loss: 0.3225 - OutputLayer_loss: 0.0751 - OutputAuxLayer_loss: 0.0785 - OutputLayer_accuracy: 0.4648 - OutputAuxLayer_accuracy: 0.2153 - val_loss: 0.3217 - val_OutputLayer_loss: 0.0752 - val_OutputAuxLayer_loss: 0.0774 - val_OutputLayer_accuracy: 0.4652 - val_OutputAuxLayer_accuracy: 0.2171 - lr: 1.0000e-06\n",
      "Epoch 33/100\n",
      "2547/2547 [==============================] - 16s 6ms/step - loss: 0.3223 - OutputLayer_loss: 0.0750 - OutputAuxLayer_loss: 0.0785 - OutputLayer_accuracy: 0.4650 - OutputAuxLayer_accuracy: 0.2153 - val_loss: 0.3217 - val_OutputLayer_loss: 0.0752 - val_OutputAuxLayer_loss: 0.0774 - val_OutputLayer_accuracy: 0.4653 - val_OutputAuxLayer_accuracy: 0.2171 - lr: 1.0000e-06\n",
      "Epoch 34/100\n",
      "2547/2547 [==============================] - 16s 6ms/step - loss: 0.3224 - OutputLayer_loss: 0.0751 - OutputAuxLayer_loss: 0.0785 - OutputLayer_accuracy: 0.4649 - OutputAuxLayer_accuracy: 0.2153 - val_loss: 0.3217 - val_OutputLayer_loss: 0.0752 - val_OutputAuxLayer_loss: 0.0774 - val_OutputLayer_accuracy: 0.4652 - val_OutputAuxLayer_accuracy: 0.2170 - lr: 1.0000e-06\n",
      "Epoch 35/100\n",
      "2547/2547 [==============================] - 16s 6ms/step - loss: 0.3223 - OutputLayer_loss: 0.0750 - OutputAuxLayer_loss: 0.0785 - OutputLayer_accuracy: 0.4649 - OutputAuxLayer_accuracy: 0.2154 - val_loss: 0.3217 - val_OutputLayer_loss: 0.0752 - val_OutputAuxLayer_loss: 0.0774 - val_OutputLayer_accuracy: 0.4652 - val_OutputAuxLayer_accuracy: 0.2171 - lr: 1.0000e-06\n",
      "Epoch 36/100\n",
      "2547/2547 [==============================] - 16s 6ms/step - loss: 0.3223 - OutputLayer_loss: 0.0750 - OutputAuxLayer_loss: 0.0785 - OutputLayer_accuracy: 0.4649 - OutputAuxLayer_accuracy: 0.2153 - val_loss: 0.3218 - val_OutputLayer_loss: 0.0752 - val_OutputAuxLayer_loss: 0.0774 - val_OutputLayer_accuracy: 0.4653 - val_OutputAuxLayer_accuracy: 0.2171 - lr: 1.0000e-06\n",
      "Epoch 37/100\n",
      "2547/2547 [==============================] - 16s 6ms/step - loss: 0.3223 - OutputLayer_loss: 0.0750 - OutputAuxLayer_loss: 0.0785 - OutputLayer_accuracy: 0.4648 - OutputAuxLayer_accuracy: 0.2155 - val_loss: 0.3217 - val_OutputLayer_loss: 0.0752 - val_OutputAuxLayer_loss: 0.0774 - val_OutputLayer_accuracy: 0.4652 - val_OutputAuxLayer_accuracy: 0.2171 - lr: 1.0000e-06\n",
      "Epoch 38/100\n",
      "2547/2547 [==============================] - 17s 7ms/step - loss: 0.3220 - OutputLayer_loss: 0.0750 - OutputAuxLayer_loss: 0.0785 - OutputLayer_accuracy: 0.4649 - OutputAuxLayer_accuracy: 0.2153 - val_loss: 0.3217 - val_OutputLayer_loss: 0.0752 - val_OutputAuxLayer_loss: 0.0774 - val_OutputLayer_accuracy: 0.4651 - val_OutputAuxLayer_accuracy: 0.2171 - lr: 1.0000e-06\n",
      "Epoch 39/100\n",
      "2547/2547 [==============================] - 16s 6ms/step - loss: 0.3224 - OutputLayer_loss: 0.0751 - OutputAuxLayer_loss: 0.0785 - OutputLayer_accuracy: 0.4648 - OutputAuxLayer_accuracy: 0.2153 - val_loss: 0.3217 - val_OutputLayer_loss: 0.0752 - val_OutputAuxLayer_loss: 0.0774 - val_OutputLayer_accuracy: 0.4652 - val_OutputAuxLayer_accuracy: 0.2171 - lr: 1.0000e-06\n",
      "Epoch 40/100\n",
      "2547/2547 [==============================] - 16s 6ms/step - loss: 0.3220 - OutputLayer_loss: 0.0749 - OutputAuxLayer_loss: 0.0785 - OutputLayer_accuracy: 0.4649 - OutputAuxLayer_accuracy: 0.2154 - val_loss: 0.3217 - val_OutputLayer_loss: 0.0752 - val_OutputAuxLayer_loss: 0.0774 - val_OutputLayer_accuracy: 0.4652 - val_OutputAuxLayer_accuracy: 0.2171 - lr: 1.0000e-06\n",
      "Epoch 41/100\n",
      "2547/2547 [==============================] - 16s 6ms/step - loss: 0.3220 - OutputLayer_loss: 0.0750 - OutputAuxLayer_loss: 0.0785 - OutputLayer_accuracy: 0.4649 - OutputAuxLayer_accuracy: 0.2152 - val_loss: 0.3217 - val_OutputLayer_loss: 0.0752 - val_OutputAuxLayer_loss: 0.0774 - val_OutputLayer_accuracy: 0.4652 - val_OutputAuxLayer_accuracy: 0.2171 - lr: 1.0000e-06\n",
      "Epoch 42/100\n",
      "2547/2547 [==============================] - 16s 6ms/step - loss: 0.3224 - OutputLayer_loss: 0.0751 - OutputAuxLayer_loss: 0.0785 - OutputLayer_accuracy: 0.4649 - OutputAuxLayer_accuracy: 0.2154 - val_loss: 0.3217 - val_OutputLayer_loss: 0.0752 - val_OutputAuxLayer_loss: 0.0774 - val_OutputLayer_accuracy: 0.4652 - val_OutputAuxLayer_accuracy: 0.2171 - lr: 1.0000e-06\n",
      "Epoch 43/100\n",
      "2547/2547 [==============================] - 16s 6ms/step - loss: 0.3222 - OutputLayer_loss: 0.0750 - OutputAuxLayer_loss: 0.0785 - OutputLayer_accuracy: 0.4648 - OutputAuxLayer_accuracy: 0.2154 - val_loss: 0.3217 - val_OutputLayer_loss: 0.0752 - val_OutputAuxLayer_loss: 0.0774 - val_OutputLayer_accuracy: 0.4652 - val_OutputAuxLayer_accuracy: 0.2171 - lr: 1.0000e-06\n",
      "Epoch 44/100\n",
      "2547/2547 [==============================] - 16s 6ms/step - loss: 0.3222 - OutputLayer_loss: 0.0750 - OutputAuxLayer_loss: 0.0785 - OutputLayer_accuracy: 0.4649 - OutputAuxLayer_accuracy: 0.2153 - val_loss: 0.3217 - val_OutputLayer_loss: 0.0752 - val_OutputAuxLayer_loss: 0.0774 - val_OutputLayer_accuracy: 0.4652 - val_OutputAuxLayer_accuracy: 0.2171 - lr: 1.0000e-06\n",
      "Epoch 45/100\n",
      "2547/2547 [==============================] - 16s 6ms/step - loss: 0.3223 - OutputLayer_loss: 0.0750 - OutputAuxLayer_loss: 0.0785 - OutputLayer_accuracy: 0.4649 - OutputAuxLayer_accuracy: 0.2153 - val_loss: 0.3217 - val_OutputLayer_loss: 0.0752 - val_OutputAuxLayer_loss: 0.0774 - val_OutputLayer_accuracy: 0.4653 - val_OutputAuxLayer_accuracy: 0.2171 - lr: 1.0000e-06\n",
      "Epoch 46/100\n",
      "2547/2547 [==============================] - 16s 6ms/step - loss: 0.3222 - OutputLayer_loss: 0.0750 - OutputAuxLayer_loss: 0.0785 - OutputLayer_accuracy: 0.4649 - OutputAuxLayer_accuracy: 0.2155 - val_loss: 0.3217 - val_OutputLayer_loss: 0.0752 - val_OutputAuxLayer_loss: 0.0774 - val_OutputLayer_accuracy: 0.4652 - val_OutputAuxLayer_accuracy: 0.2171 - lr: 1.0000e-06\n",
      "Epoch 47/100\n",
      "2547/2547 [==============================] - 16s 6ms/step - loss: 0.3222 - OutputLayer_loss: 0.0750 - OutputAuxLayer_loss: 0.0785 - OutputLayer_accuracy: 0.4649 - OutputAuxLayer_accuracy: 0.2154 - val_loss: 0.3217 - val_OutputLayer_loss: 0.0752 - val_OutputAuxLayer_loss: 0.0774 - val_OutputLayer_accuracy: 0.4653 - val_OutputAuxLayer_accuracy: 0.2172 - lr: 1.0000e-06\n",
      "Epoch 48/100\n",
      "2547/2547 [==============================] - 16s 6ms/step - loss: 0.3224 - OutputLayer_loss: 0.0751 - OutputAuxLayer_loss: 0.0785 - OutputLayer_accuracy: 0.4649 - OutputAuxLayer_accuracy: 0.2154 - val_loss: 0.3217 - val_OutputLayer_loss: 0.0752 - val_OutputAuxLayer_loss: 0.0774 - val_OutputLayer_accuracy: 0.4652 - val_OutputAuxLayer_accuracy: 0.2171 - lr: 1.0000e-06\n",
      "Epoch 49/100\n",
      "2547/2547 [==============================] - 16s 6ms/step - loss: 0.3220 - OutputLayer_loss: 0.0750 - OutputAuxLayer_loss: 0.0785 - OutputLayer_accuracy: 0.4649 - OutputAuxLayer_accuracy: 0.2154 - val_loss: 0.3217 - val_OutputLayer_loss: 0.0752 - val_OutputAuxLayer_loss: 0.0774 - val_OutputLayer_accuracy: 0.4652 - val_OutputAuxLayer_accuracy: 0.2171 - lr: 1.0000e-06\n",
      "Epoch 50/100\n",
      "2547/2547 [==============================] - 16s 6ms/step - loss: 0.3223 - OutputLayer_loss: 0.0750 - OutputAuxLayer_loss: 0.0785 - OutputLayer_accuracy: 0.4649 - OutputAuxLayer_accuracy: 0.2154 - val_loss: 0.3217 - val_OutputLayer_loss: 0.0752 - val_OutputAuxLayer_loss: 0.0774 - val_OutputLayer_accuracy: 0.4652 - val_OutputAuxLayer_accuracy: 0.2171 - lr: 1.0000e-06\n",
      "Epoch 51/100\n",
      "2547/2547 [==============================] - 16s 6ms/step - loss: 0.3221 - OutputLayer_loss: 0.0750 - OutputAuxLayer_loss: 0.0785 - OutputLayer_accuracy: 0.4650 - OutputAuxLayer_accuracy: 0.2154 - val_loss: 0.3217 - val_OutputLayer_loss: 0.0752 - val_OutputAuxLayer_loss: 0.0774 - val_OutputLayer_accuracy: 0.4652 - val_OutputAuxLayer_accuracy: 0.2172 - lr: 1.0000e-06\n",
      "Epoch 52/100\n",
      "2547/2547 [==============================] - 16s 6ms/step - loss: 0.3223 - OutputLayer_loss: 0.0750 - OutputAuxLayer_loss: 0.0785 - OutputLayer_accuracy: 0.4649 - OutputAuxLayer_accuracy: 0.2155 - val_loss: 0.3217 - val_OutputLayer_loss: 0.0752 - val_OutputAuxLayer_loss: 0.0774 - val_OutputLayer_accuracy: 0.4653 - val_OutputAuxLayer_accuracy: 0.2171 - lr: 1.0000e-06\n",
      "Epoch 53/100\n",
      "2547/2547 [==============================] - 16s 6ms/step - loss: 0.3219 - OutputLayer_loss: 0.0749 - OutputAuxLayer_loss: 0.0785 - OutputLayer_accuracy: 0.4649 - OutputAuxLayer_accuracy: 0.2155 - val_loss: 0.3216 - val_OutputLayer_loss: 0.0752 - val_OutputAuxLayer_loss: 0.0774 - val_OutputLayer_accuracy: 0.4651 - val_OutputAuxLayer_accuracy: 0.2171 - lr: 1.0000e-06\n",
      "Epoch 54/100\n",
      "2547/2547 [==============================] - 16s 6ms/step - loss: 0.3222 - OutputLayer_loss: 0.0750 - OutputAuxLayer_loss: 0.0785 - OutputLayer_accuracy: 0.4649 - OutputAuxLayer_accuracy: 0.2154 - val_loss: 0.3216 - val_OutputLayer_loss: 0.0752 - val_OutputAuxLayer_loss: 0.0774 - val_OutputLayer_accuracy: 0.4652 - val_OutputAuxLayer_accuracy: 0.2172 - lr: 1.0000e-06\n",
      "Epoch 55/100\n",
      "2547/2547 [==============================] - 16s 6ms/step - loss: 0.3221 - OutputLayer_loss: 0.0750 - OutputAuxLayer_loss: 0.0785 - OutputLayer_accuracy: 0.4649 - OutputAuxLayer_accuracy: 0.2154 - val_loss: 0.3217 - val_OutputLayer_loss: 0.0752 - val_OutputAuxLayer_loss: 0.0774 - val_OutputLayer_accuracy: 0.4652 - val_OutputAuxLayer_accuracy: 0.2171 - lr: 1.0000e-06\n",
      "Epoch 56/100\n",
      "2547/2547 [==============================] - 16s 6ms/step - loss: 0.3220 - OutputLayer_loss: 0.0750 - OutputAuxLayer_loss: 0.0785 - OutputLayer_accuracy: 0.4650 - OutputAuxLayer_accuracy: 0.2153 - val_loss: 0.3216 - val_OutputLayer_loss: 0.0752 - val_OutputAuxLayer_loss: 0.0774 - val_OutputLayer_accuracy: 0.4652 - val_OutputAuxLayer_accuracy: 0.2171 - lr: 1.0000e-06\n",
      "Epoch 57/100\n",
      "2547/2547 [==============================] - 16s 6ms/step - loss: 0.3218 - OutputLayer_loss: 0.0749 - OutputAuxLayer_loss: 0.0785 - OutputLayer_accuracy: 0.4650 - OutputAuxLayer_accuracy: 0.2156 - val_loss: 0.3217 - val_OutputLayer_loss: 0.0752 - val_OutputAuxLayer_loss: 0.0774 - val_OutputLayer_accuracy: 0.4652 - val_OutputAuxLayer_accuracy: 0.2171 - lr: 1.0000e-06\n",
      "Epoch 58/100\n",
      "2547/2547 [==============================] - 16s 6ms/step - loss: 0.3223 - OutputLayer_loss: 0.0751 - OutputAuxLayer_loss: 0.0785 - OutputLayer_accuracy: 0.4649 - OutputAuxLayer_accuracy: 0.2154 - val_loss: 0.3217 - val_OutputLayer_loss: 0.0752 - val_OutputAuxLayer_loss: 0.0774 - val_OutputLayer_accuracy: 0.4653 - val_OutputAuxLayer_accuracy: 0.2171 - lr: 1.0000e-06\n",
      "Epoch 59/100\n",
      "2547/2547 [==============================] - 16s 6ms/step - loss: 0.3223 - OutputLayer_loss: 0.0750 - OutputAuxLayer_loss: 0.0785 - OutputLayer_accuracy: 0.4649 - OutputAuxLayer_accuracy: 0.2154 - val_loss: 0.3216 - val_OutputLayer_loss: 0.0752 - val_OutputAuxLayer_loss: 0.0774 - val_OutputLayer_accuracy: 0.4652 - val_OutputAuxLayer_accuracy: 0.2171 - lr: 1.0000e-06\n",
      "Epoch 60/100\n",
      "2547/2547 [==============================] - 16s 6ms/step - loss: 0.3223 - OutputLayer_loss: 0.0750 - OutputAuxLayer_loss: 0.0785 - OutputLayer_accuracy: 0.4648 - OutputAuxLayer_accuracy: 0.2153 - val_loss: 0.3216 - val_OutputLayer_loss: 0.0752 - val_OutputAuxLayer_loss: 0.0774 - val_OutputLayer_accuracy: 0.4652 - val_OutputAuxLayer_accuracy: 0.2171 - lr: 1.0000e-06\n",
      "Epoch 61/100\n",
      "2547/2547 [==============================] - 16s 6ms/step - loss: 0.3221 - OutputLayer_loss: 0.0750 - OutputAuxLayer_loss: 0.0785 - OutputLayer_accuracy: 0.4647 - OutputAuxLayer_accuracy: 0.2155 - val_loss: 0.3216 - val_OutputLayer_loss: 0.0752 - val_OutputAuxLayer_loss: 0.0774 - val_OutputLayer_accuracy: 0.4651 - val_OutputAuxLayer_accuracy: 0.2171 - lr: 1.0000e-06\n",
      "Epoch 62/100\n",
      "2547/2547 [==============================] - 16s 6ms/step - loss: 0.3222 - OutputLayer_loss: 0.0750 - OutputAuxLayer_loss: 0.0785 - OutputLayer_accuracy: 0.4649 - OutputAuxLayer_accuracy: 0.2153 - val_loss: 0.3216 - val_OutputLayer_loss: 0.0752 - val_OutputAuxLayer_loss: 0.0774 - val_OutputLayer_accuracy: 0.4652 - val_OutputAuxLayer_accuracy: 0.2171 - lr: 1.0000e-06\n",
      "Epoch 63/100\n",
      "2547/2547 [==============================] - 16s 6ms/step - loss: 0.3221 - OutputLayer_loss: 0.0750 - OutputAuxLayer_loss: 0.0785 - OutputLayer_accuracy: 0.4649 - OutputAuxLayer_accuracy: 0.2154 - val_loss: 0.3216 - val_OutputLayer_loss: 0.0752 - val_OutputAuxLayer_loss: 0.0774 - val_OutputLayer_accuracy: 0.4652 - val_OutputAuxLayer_accuracy: 0.2171 - lr: 1.0000e-06\n",
      "Epoch 64/100\n",
      "2547/2547 [==============================] - 16s 6ms/step - loss: 0.3223 - OutputLayer_loss: 0.0750 - OutputAuxLayer_loss: 0.0785 - OutputLayer_accuracy: 0.4649 - OutputAuxLayer_accuracy: 0.2153 - val_loss: 0.3216 - val_OutputLayer_loss: 0.0752 - val_OutputAuxLayer_loss: 0.0774 - val_OutputLayer_accuracy: 0.4652 - val_OutputAuxLayer_accuracy: 0.2172 - lr: 1.0000e-06\n",
      "Epoch 65/100\n",
      "2547/2547 [==============================] - 16s 6ms/step - loss: 0.3221 - OutputLayer_loss: 0.0750 - OutputAuxLayer_loss: 0.0785 - OutputLayer_accuracy: 0.4649 - OutputAuxLayer_accuracy: 0.2153 - val_loss: 0.3216 - val_OutputLayer_loss: 0.0752 - val_OutputAuxLayer_loss: 0.0774 - val_OutputLayer_accuracy: 0.4652 - val_OutputAuxLayer_accuracy: 0.2171 - lr: 1.0000e-06\n",
      "Epoch 66/100\n",
      "2547/2547 [==============================] - 16s 6ms/step - loss: 0.3218 - OutputLayer_loss: 0.0749 - OutputAuxLayer_loss: 0.0785 - OutputLayer_accuracy: 0.4649 - OutputAuxLayer_accuracy: 0.2155 - val_loss: 0.3216 - val_OutputLayer_loss: 0.0752 - val_OutputAuxLayer_loss: 0.0774 - val_OutputLayer_accuracy: 0.4652 - val_OutputAuxLayer_accuracy: 0.2172 - lr: 1.0000e-06\n",
      "Epoch 67/100\n",
      "2547/2547 [==============================] - 16s 6ms/step - loss: 0.3221 - OutputLayer_loss: 0.0750 - OutputAuxLayer_loss: 0.0785 - OutputLayer_accuracy: 0.4648 - OutputAuxLayer_accuracy: 0.2156 - val_loss: 0.3216 - val_OutputLayer_loss: 0.0752 - val_OutputAuxLayer_loss: 0.0774 - val_OutputLayer_accuracy: 0.4652 - val_OutputAuxLayer_accuracy: 0.2172 - lr: 1.0000e-06\n",
      "Epoch 68/100\n",
      "2547/2547 [==============================] - 16s 6ms/step - loss: 0.3222 - OutputLayer_loss: 0.0750 - OutputAuxLayer_loss: 0.0785 - OutputLayer_accuracy: 0.4649 - OutputAuxLayer_accuracy: 0.2153 - val_loss: 0.3216 - val_OutputLayer_loss: 0.0752 - val_OutputAuxLayer_loss: 0.0774 - val_OutputLayer_accuracy: 0.4652 - val_OutputAuxLayer_accuracy: 0.2171 - lr: 1.0000e-06\n",
      "Epoch 69/100\n",
      "2547/2547 [==============================] - 16s 6ms/step - loss: 0.3220 - OutputLayer_loss: 0.0749 - OutputAuxLayer_loss: 0.0785 - OutputLayer_accuracy: 0.4649 - OutputAuxLayer_accuracy: 0.2154 - val_loss: 0.3216 - val_OutputLayer_loss: 0.0752 - val_OutputAuxLayer_loss: 0.0774 - val_OutputLayer_accuracy: 0.4652 - val_OutputAuxLayer_accuracy: 0.2171 - lr: 1.0000e-06\n",
      "Epoch 70/100\n",
      "2547/2547 [==============================] - 16s 6ms/step - loss: 0.3221 - OutputLayer_loss: 0.0750 - OutputAuxLayer_loss: 0.0785 - OutputLayer_accuracy: 0.4648 - OutputAuxLayer_accuracy: 0.2154 - val_loss: 0.3216 - val_OutputLayer_loss: 0.0752 - val_OutputAuxLayer_loss: 0.0774 - val_OutputLayer_accuracy: 0.4651 - val_OutputAuxLayer_accuracy: 0.2171 - lr: 1.0000e-06\n",
      "Epoch 71/100\n",
      "2547/2547 [==============================] - 16s 6ms/step - loss: 0.3220 - OutputLayer_loss: 0.0750 - OutputAuxLayer_loss: 0.0785 - OutputLayer_accuracy: 0.4649 - OutputAuxLayer_accuracy: 0.2154 - val_loss: 0.3216 - val_OutputLayer_loss: 0.0752 - val_OutputAuxLayer_loss: 0.0774 - val_OutputLayer_accuracy: 0.4652 - val_OutputAuxLayer_accuracy: 0.2172 - lr: 1.0000e-06\n",
      "Epoch 72/100\n",
      "2547/2547 [==============================] - 16s 6ms/step - loss: 0.3220 - OutputLayer_loss: 0.0749 - OutputAuxLayer_loss: 0.0785 - OutputLayer_accuracy: 0.4649 - OutputAuxLayer_accuracy: 0.2155 - val_loss: 0.3216 - val_OutputLayer_loss: 0.0752 - val_OutputAuxLayer_loss: 0.0774 - val_OutputLayer_accuracy: 0.4652 - val_OutputAuxLayer_accuracy: 0.2171 - lr: 1.0000e-06\n",
      "Epoch 73/100\n",
      "2547/2547 [==============================] - 16s 6ms/step - loss: 0.3222 - OutputLayer_loss: 0.0750 - OutputAuxLayer_loss: 0.0785 - OutputLayer_accuracy: 0.4649 - OutputAuxLayer_accuracy: 0.2155 - val_loss: 0.3216 - val_OutputLayer_loss: 0.0752 - val_OutputAuxLayer_loss: 0.0774 - val_OutputLayer_accuracy: 0.4652 - val_OutputAuxLayer_accuracy: 0.2172 - lr: 1.0000e-06\n",
      "Epoch 74/100\n",
      "2547/2547 [==============================] - 16s 6ms/step - loss: 0.3220 - OutputLayer_loss: 0.0750 - OutputAuxLayer_loss: 0.0785 - OutputLayer_accuracy: 0.4650 - OutputAuxLayer_accuracy: 0.2154 - val_loss: 0.3216 - val_OutputLayer_loss: 0.0752 - val_OutputAuxLayer_loss: 0.0774 - val_OutputLayer_accuracy: 0.4652 - val_OutputAuxLayer_accuracy: 0.2171 - lr: 1.0000e-06\n",
      "Epoch 75/100\n",
      "2547/2547 [==============================] - 16s 6ms/step - loss: 0.3221 - OutputLayer_loss: 0.0750 - OutputAuxLayer_loss: 0.0785 - OutputLayer_accuracy: 0.4649 - OutputAuxLayer_accuracy: 0.2153 - val_loss: 0.3216 - val_OutputLayer_loss: 0.0752 - val_OutputAuxLayer_loss: 0.0774 - val_OutputLayer_accuracy: 0.4652 - val_OutputAuxLayer_accuracy: 0.2171 - lr: 1.0000e-06\n"
     ]
    }
   ],
   "source": [
    "historyBertEmb = modelBERTEmb.fit(x=xTrainEmbeddings, y=[yTrainW, yTrainAux], \n",
    "                                  batch_size=512, epochs=100, verbose=1, \n",
    "                                  validation_data=(xCVEmbeddings, [yCVW, yCVAux]), \n",
    "                                  callbacks= modelBERTEmbCallbacks)"
   ]
  },
  {
   "cell_type": "markdown",
   "id": "a5c1a6f2",
   "metadata": {
    "id": "a5c1a6f2"
   },
   "source": [
    "## 6.5. Plot the Model Performance"
   ]
  },
  {
   "cell_type": "code",
   "execution_count": 43,
   "id": "7ca974bb",
   "metadata": {
    "colab": {
     "base_uri": "https://localhost:8080/",
     "height": 360
    },
    "id": "7ca974bb",
    "outputId": "cbf22b6f-9739-4e30-ae14-3fd388549835"
   },
   "outputs": [
    {
     "data": {
      "image/png": "[encoded data removed]",
      "text/plain": [
       "<Figure size 720x360 with 1 Axes>"
      ]
     },
     "metadata": {
      "needs_background": "light"
     },
     "output_type": "display_data"
    }
   ],
   "source": [
    "# Call the 'plotLR()' function to plot the Learning Rate used during training.\n",
    "plotLR(historyBertEmb)"
   ]
  },
  {
   "cell_type": "code",
   "execution_count": 44,
   "id": "1138226f",
   "metadata": {
    "colab": {
     "base_uri": "https://localhost:8080/",
     "height": 523
    },
    "id": "1138226f",
    "outputId": "08c2cf49-edf2-4d2f-b0c9-138167776925"
   },
   "outputs": [
    {
     "data": {
      "image/png": "[encoded data removed]",
      "text/plain": [
       "<Figure size 1080x576 with 2 Axes>"
      ]
     },
     "metadata": {
      "needs_background": "light"
     },
     "output_type": "display_data"
    }
   ],
   "source": [
    "# Call the function 'plotPerformance()' to plot the loss and accuracy of the Model over each epochs.\n",
    "plotPerformance(historyBertEmb, accMetric='OutputLayer_accuracy')"
   ]
  },
  {
   "cell_type": "markdown",
   "id": "7e91052a",
   "metadata": {
    "id": "7e91052a"
   },
   "source": [
    "## 6.6. Evaluation on the Test Dataset of Train_Test Split"
   ]
  },
  {
   "cell_type": "code",
   "execution_count": 45,
   "id": "55be1e1e",
   "metadata": {
    "colab": {
     "base_uri": "https://localhost:8080/"
    },
    "id": "55be1e1e",
    "outputId": "c5169510-0c03-4b20-bba9-5f7227dd2ff8"
   },
   "outputs": [
    {
     "name": "stdout",
     "output_type": "stream",
     "text": [
      "CPU times: user 16.1 s, sys: 2.95 s, total: 19 s\n",
      "Wall time: 13.9 s\n"
     ]
    }
   ],
   "source": [
    "%%time\n",
    "# Predict the probabilities of the class label of the Test Dataset and store it in a new feature 'yPredProb' of the Test Dataset.\n",
    "testData['yPredProb'] = modelBERTEmb.predict(xTestEmbeddings)[0].flatten()\n",
    "\n",
    "# Call the 'computeBiasMetricsForModel()' function to get the Subgroup, BPSN and BNSP AUCs for each identity sugroups\n",
    "biasMetrics = performance_metrics.computeBiasMetricsForModel(data=testData, subgroups=identitySubgroups, predClassLabel='yPredProb', actualClassLabel='target')"
   ]
  },
  {
   "cell_type": "code",
   "execution_count": 53,
   "id": "3km3ApVUXRnJ",
   "metadata": {
    "colab": {
     "base_uri": "https://localhost:8080/",
     "height": 332
    },
    "id": "3km3ApVUXRnJ",
    "outputId": "c82dfd26-a176-4be0-e822-c5146be4a35b"
   },
   "outputs": [
    {
     "data": {
      "text/html": [
       "\n",
       "  <div id=\"df-bf3b7512-46c1-420e-a004-e5616a2dda85\">\n",
       "    <div class=\"colab-df-container\">\n",
       "      <div>\n",
       "<style scoped>\n",
       "    .dataframe tbody tr th:only-of-type {\n",
       "        vertical-align: middle;\n",
       "    }\n",
       "\n",
       "    .dataframe tbody tr th {\n",
       "        vertical-align: top;\n",
       "    }\n",
       "\n",
       "    .dataframe thead th {\n",
       "        text-align: right;\n",
       "    }\n",
       "</style>\n",
       "<table border=\"1\" class=\"dataframe\">\n",
       "  <thead>\n",
       "    <tr style=\"text-align: right;\">\n",
       "      <th></th>\n",
       "      <th>Subgroup</th>\n",
       "      <th>Subgroup Size</th>\n",
       "      <th>Subgroup AUC</th>\n",
       "      <th>BPSN AUC</th>\n",
       "      <th>BNSP AUC</th>\n",
       "    </tr>\n",
       "  </thead>\n",
       "  <tbody>\n",
       "    <tr>\n",
       "      <th>2</th>\n",
       "      <td>homosexual_gay_or_lesbian</td>\n",
       "      <td>1406</td>\n",
       "      <td>0.770946</td>\n",
       "      <td>0.816950</td>\n",
       "      <td>0.879675</td>\n",
       "    </tr>\n",
       "    <tr>\n",
       "      <th>7</th>\n",
       "      <td>white</td>\n",
       "      <td>3162</td>\n",
       "      <td>0.793485</td>\n",
       "      <td>0.790664</td>\n",
       "      <td>0.907450</td>\n",
       "    </tr>\n",
       "    <tr>\n",
       "      <th>6</th>\n",
       "      <td>black</td>\n",
       "      <td>1863</td>\n",
       "      <td>0.798902</td>\n",
       "      <td>0.790623</td>\n",
       "      <td>0.909717</td>\n",
       "    </tr>\n",
       "    <tr>\n",
       "      <th>5</th>\n",
       "      <td>muslim</td>\n",
       "      <td>2569</td>\n",
       "      <td>0.804470</td>\n",
       "      <td>0.836234</td>\n",
       "      <td>0.884889</td>\n",
       "    </tr>\n",
       "    <tr>\n",
       "      <th>0</th>\n",
       "      <td>male</td>\n",
       "      <td>5769</td>\n",
       "      <td>0.846094</td>\n",
       "      <td>0.861568</td>\n",
       "      <td>0.890987</td>\n",
       "    </tr>\n",
       "    <tr>\n",
       "      <th>4</th>\n",
       "      <td>jewish</td>\n",
       "      <td>995</td>\n",
       "      <td>0.853781</td>\n",
       "      <td>0.869221</td>\n",
       "      <td>0.888636</td>\n",
       "    </tr>\n",
       "    <tr>\n",
       "      <th>1</th>\n",
       "      <td>female</td>\n",
       "      <td>6879</td>\n",
       "      <td>0.853855</td>\n",
       "      <td>0.885228</td>\n",
       "      <td>0.875815</td>\n",
       "    </tr>\n",
       "    <tr>\n",
       "      <th>8</th>\n",
       "      <td>psychiatric_or_mental_illness</td>\n",
       "      <td>625</td>\n",
       "      <td>0.880423</td>\n",
       "      <td>0.873369</td>\n",
       "      <td>0.906056</td>\n",
       "    </tr>\n",
       "    <tr>\n",
       "      <th>3</th>\n",
       "      <td>christian</td>\n",
       "      <td>5128</td>\n",
       "      <td>0.889785</td>\n",
       "      <td>0.929995</td>\n",
       "      <td>0.847860</td>\n",
       "    </tr>\n",
       "  </tbody>\n",
       "</table>\n",
       "</div>\n",
       "      <button class=\"colab-df-convert\" onclick=\"convertToInteractive('df-bf3b7512-46c1-420e-a004-e5616a2dda85')\"\n",
       "              title=\"Convert this dataframe to an interactive table.\"\n",
       "              style=\"display:none;\">\n",
       "        \n",
       "  <svg xmlns=\"http://www.w3.org/2000/svg\" height=\"24px\"viewBox=\"0 0 24 24\"\n",
       "       width=\"24px\">\n",
       "    <path d=\"M0 0h24v24H0V0z\" fill=\"none\"/>\n",
       "    <path d=\"M18.56 5.44l.94 2.06.94-2.06 2.06-.94-2.06-.94-.94-2.06-.94 2.06-2.06.94zm-11 1L8.5 8.5l.94-2.06 2.06-.94-2.06-.94L8.5 2.5l-.94 2.06-2.06.94zm10 10l.94 2.06.94-2.06 2.06-.94-2.06-.94-.94-2.06-.94 2.06-2.06.94z\"/><path d=\"M17.41 7.96l-1.37-1.37c-.4-.4-.92-.59-1.43-.59-.52 0-1.04.2-1.43.59L10.3 9.45l-7.72 7.72c-.78.78-.78 2.05 0 2.83L4 21.41c.39.39.9.59 1.41.59.51 0 1.02-.2 1.41-.59l7.78-7.78 2.81-2.81c.8-.78.8-2.07 0-2.86zM5.41 20L4 18.59l7.72-7.72 1.47 1.35L5.41 20z\"/>\n",
       "  </svg>\n",
       "      </button>\n",
       "      \n",
       "  <style>\n",
       "    .colab-df-container {\n",
       "      display:flex;\n",
       "      flex-wrap:wrap;\n",
       "      gap: 12px;\n",
       "    }\n",
       "\n",
       "    .colab-df-convert {\n",
       "      background-color: #E8F0FE;\n",
       "      border: none;\n",
       "      border-radius: 50%;\n",
       "      cursor: pointer;\n",
       "      display: none;\n",
       "      fill: #1967D2;\n",
       "      height: 32px;\n",
       "      padding: 0 0 0 0;\n",
       "      width: 32px;\n",
       "    }\n",
       "\n",
       "    .colab-df-convert:hover {\n",
       "      background-color: #E2EBFA;\n",
       "      box-shadow: 0px 1px 2px rgba(60, 64, 67, 0.3), 0px 1px 3px 1px rgba(60, 64, 67, 0.15);\n",
       "      fill: #174EA6;\n",
       "    }\n",
       "\n",
       "    [theme=dark] .colab-df-convert {\n",
       "      background-color: #3B4455;\n",
       "      fill: #D2E3FC;\n",
       "    }\n",
       "\n",
       "    [theme=dark] .colab-df-convert:hover {\n",
       "      background-color: #434B5C;\n",
       "      box-shadow: 0px 1px 3px 1px rgba(0, 0, 0, 0.15);\n",
       "      filter: drop-shadow(0px 1px 2px rgba(0, 0, 0, 0.3));\n",
       "      fill: #FFFFFF;\n",
       "    }\n",
       "  </style>\n",
       "\n",
       "      <script>\n",
       "        const buttonEl =\n",
       "          document.querySelector('#df-bf3b7512-46c1-420e-a004-e5616a2dda85 button.colab-df-convert');\n",
       "        buttonEl.style.display =\n",
       "          google.colab.kernel.accessAllowed ? 'block' : 'none';\n",
       "\n",
       "        async function convertToInteractive(key) {\n",
       "          const element = document.querySelector('#df-bf3b7512-46c1-420e-a004-e5616a2dda85');\n",
       "          const dataTable =\n",
       "            await google.colab.kernel.invokeFunction('convertToInteractive',\n",
       "                                                     [key], {});\n",
       "          if (!dataTable) return;\n",
       "\n",
       "          const docLinkHtml = 'Like what you see? Visit the ' +\n",
       "            '<a target=\"_blank\" href=https://colab.research.google.com/notebooks/data_table.ipynb>data table notebook</a>'\n",
       "            + ' to learn more about interactive tables.';\n",
       "          element.innerHTML = '';\n",
       "          dataTable['output_type'] = 'display_data';\n",
       "          await google.colab.output.renderOutput(dataTable, element);\n",
       "          const docLink = document.createElement('div');\n",
       "          docLink.innerHTML = docLinkHtml;\n",
       "          element.appendChild(docLink);\n",
       "        }\n",
       "      </script>\n",
       "    </div>\n",
       "  </div>\n",
       "  "
      ],
      "text/plain": [
       "                        Subgroup  Subgroup Size  Subgroup AUC  BPSN AUC  \\\n",
       "2      homosexual_gay_or_lesbian           1406      0.770946  0.816950   \n",
       "7                          white           3162      0.793485  0.790664   \n",
       "6                          black           1863      0.798902  0.790623   \n",
       "5                         muslim           2569      0.804470  0.836234   \n",
       "0                           male           5769      0.846094  0.861568   \n",
       "4                         jewish            995      0.853781  0.869221   \n",
       "1                         female           6879      0.853855  0.885228   \n",
       "8  psychiatric_or_mental_illness            625      0.880423  0.873369   \n",
       "3                      christian           5128      0.889785  0.929995   \n",
       "\n",
       "   BNSP AUC  \n",
       "2  0.879675  \n",
       "7  0.907450  \n",
       "6  0.909717  \n",
       "5  0.884889  \n",
       "0  0.890987  \n",
       "4  0.888636  \n",
       "1  0.875815  \n",
       "8  0.906056  \n",
       "3  0.847860  "
      ]
     },
     "execution_count": 53,
     "metadata": {},
     "output_type": "execute_result"
    }
   ],
   "source": [
    "# Display the Bias Metrics\n",
    "biasMetrics"
   ]
  },
  {
   "cell_type": "code",
   "execution_count": 54,
   "id": "GYqEHZAwXU89",
   "metadata": {
    "colab": {
     "base_uri": "https://localhost:8080/"
    },
    "id": "GYqEHZAwXU89",
    "outputId": "8a18d838-9947-43e1-ede0-159bf1e1e1df"
   },
   "outputs": [
    {
     "name": "stdout",
     "output_type": "stream",
     "text": [
      "Final Metric Score on the Test Dataset:  0.8643196629439097\n"
     ]
    }
   ],
   "source": [
    "# Get the final metric score\n",
    "finalMetricScore = performance_metrics.computeFinalMetric(biasMetrics, performance_metrics.computeOverallAUC(data=testData, actualClassLabel='target', predClassLabel='yPredProb'))\n",
    "print('Final Metric Score on the Test Dataset: ', finalMetricScore)"
   ]
  },
  {
   "cell_type": "markdown",
   "id": "b38ee5de",
   "metadata": {
    "id": "b38ee5de"
   },
   "source": [
    "## 6.7. Predict the Toxicity of the given Test Dataset\n",
    "\n",
    "Now, we will predict the toxicity score for the comment texts given in the Test Dataset of the Problem."
   ]
  },
  {
   "cell_type": "code",
   "execution_count": 55,
   "id": "0ad364cc",
   "metadata": {
    "colab": {
     "base_uri": "https://localhost:8080/"
    },
    "id": "0ad364cc",
    "outputId": "d52d4548-6ad1-4a01-cd54-73881cd33aed"
   },
   "outputs": [
    {
     "name": "stdout",
     "output_type": "stream",
     "text": [
      "CPU times: user 375 ms, sys: 33.5 ms, total: 408 ms\n",
      "Wall time: 1.09 s\n"
     ]
    }
   ],
   "source": [
    "%%time\n",
    "# Read the Test Dataset given in the Kaggle Problem\n",
    "test = pd.read_csv(F'/content/gdrive/My Drive/Case Study 2/test.csv')\n",
    "#test = pd.read_csv('Data/test.csv')"
   ]
  },
  {
   "cell_type": "code",
   "execution_count": 57,
   "id": "77e81bb3",
   "metadata": {
    "colab": {
     "base_uri": "https://localhost:8080/",
     "height": 148,
     "referenced_widgets": [
      "293036a17a0e488dbc9424bc134752cd",
      "91030396cf1842b7bd8d1af28701160e",
      "b310e244e5b74cec9116bec4837e1c3b",
      "5e8a88fd50cb4bc0acc543c3062b3614",
      "69f6c9e40d1c463bb34078c4249ee461",
      "e7432b6728d442b8a5b913e43e688905",
      "823006cec11d43a68ea4bc599bab8b01",
      "7d9fe76d44af4fbf8ce37282b9c77587",
      "27bae1af29bd42c6b92674190e491e3a",
      "0e12bae382c54496949e077f3793f7ae",
      "afa4f016173b4bd6aad03fb9edbcb979",
      "06ae34f0132e4fdab8b9ea97a6429ea1",
      "da51af5c05924579ba5d7f14d6da2a82",
      "ee97fe22f4484fa48dd24617d047d820",
      "d09b3aea30bc4fc696c50cd70eaf1a9e",
      "88418e71e2b14b3fa139c7f0c07438e9",
      "abbbcdf6c2454f22a0736b2de0ed812f",
      "9e5e97fee7e8438691af45295a070862",
      "2a91e4c0ad624f9f82d4c82fcff611c4",
      "e5444d2c2a43442db42a03d4c7b52da2",
      "61d7a25f386d4cf8afec0067087a59a8",
      "d625f8ee675c4a6da21672ae20e567a5",
      "77f86c93c0b249abae7949fc1bf1c4d3",
      "a7d8425ec71e45eebd23e6da8123821f",
      "32d73ee49a6c430fb3ede35482e75ace",
      "24401291ed9c4f789376e2fe52873641",
      "b214f2a94d404524bba74414e2ae2482",
      "10415729f49d43c68226baf0071dd6c6",
      "010708b9f11542e3a83a00329098dc0d",
      "e2c25cf427f74b958fe1ec64d5320aa2",
      "42bb1e3c72224654acd2f2c4d18b3a07",
      "dde9fdd38e6844f8901db5be0c3bc294",
      "9f43e51657124ec4b64005a02bd34188"
     ]
    },
    "id": "77e81bb3",
    "outputId": "bfac5054-988b-474d-d646-c1a458d7f4cf"
   },
   "outputs": [
    {
     "data": {
      "application/vnd.jupyter.widget-view+json": {
       "model_id": "293036a17a0e488dbc9424bc134752cd",
       "version_major": 2,
       "version_minor": 0
      },
      "text/plain": [
       "Downloading:   0%|          | 0.00/226k [00:00<?, ?B/s]"
      ]
     },
     "metadata": {},
     "output_type": "display_data"
    },
    {
     "data": {
      "application/vnd.jupyter.widget-view+json": {
       "model_id": "06ae34f0132e4fdab8b9ea97a6429ea1",
       "version_major": 2,
       "version_minor": 0
      },
      "text/plain": [
       "Downloading:   0%|          | 0.00/28.0 [00:00<?, ?B/s]"
      ]
     },
     "metadata": {},
     "output_type": "display_data"
    },
    {
     "data": {
      "application/vnd.jupyter.widget-view+json": {
       "model_id": "77f86c93c0b249abae7949fc1bf1c4d3",
       "version_major": 2,
       "version_minor": 0
      },
      "text/plain": [
       "  0%|          | 0/97320 [00:00<?, ?it/s]"
      ]
     },
     "metadata": {},
     "output_type": "display_data"
    },
    {
     "name": "stdout",
     "output_type": "stream",
     "text": [
      "CPU times: user 2min 35s, sys: 13.1 ms, total: 2min 35s\n",
      "Wall time: 2min 36s\n"
     ]
    }
   ],
   "source": [
    "%%time\n",
    "# Get the token ids and attention masks for the Test Comments.\n",
    "\n",
    "# Name of the DistilBert Model to be used.\n",
    "distilBert = 'distilbert-base-uncased'\n",
    "\n",
    "# Create a DistilBERT Tokenizer Object\n",
    "distilBertTokenizer = DistilBertTokenizer.from_pretrained(distilBert)\n",
    "\n",
    "# Call the 'distilBertTokenize()' function to tokenize the comment texts to token ids and attention masks for the comments.\n",
    "tokenIds, attentionMasks = distilBertTokenize(bertTokenizerObj=distilBertTokenizer, texts=test['comment_text'],\n",
    "                                              seqLen=maxSeqLength)"
   ]
  },
  {
   "cell_type": "code",
   "execution_count": 58,
   "id": "0cc581cd",
   "metadata": {
    "colab": {
     "base_uri": "https://localhost:8080/"
    },
    "id": "0cc581cd",
    "outputId": "5fce6643-b74a-4567-ec01-728118c58519"
   },
   "outputs": [
    {
     "name": "stdout",
     "output_type": "stream",
     "text": [
      "CPU times: user 275 ms, sys: 45.4 ms, total: 320 ms\n",
      "Wall time: 4.66 s\n"
     ]
    }
   ],
   "source": [
    "%%time\n",
    "# Text Embedding for Test Dataset.\n",
    "#embeddingsPath = 'Resources/testBERTEmbeddings.pkl'\n",
    "embeddingsPath = F'/content/gdrive/My Drive/Case Study 2/testBERTEmbeddings.pkl'\n",
    "if os.path.isfile(embeddingsPath):\n",
    "    \n",
    "    with open(embeddingsPath, 'rb') as f:\n",
    "        \n",
    "        textEmbeddings = pickle.load(f)\n",
    "        \n",
    "else:\n",
    "    \n",
    "    # Get Text Embedding Vectors for the Test Dataset Tokens\n",
    "    textEmbeddings = modeldistilBertBU.predict([tokenIds, attentionMasks])\n",
    "    \n",
    "    with open(embeddingsPath, 'wb') as f:\n",
    "        \n",
    "        pickle.dump(textEmbeddings, f)\n",
    "        \n",
    "    # This processing took almost 30mins in GCP."
   ]
  },
  {
   "cell_type": "code",
   "execution_count": 62,
   "id": "d14dc3f5",
   "metadata": {
    "colab": {
     "base_uri": "https://localhost:8080/"
    },
    "id": "d14dc3f5",
    "outputId": "9862b746-3ff8-44db-a34c-44685df4b669"
   },
   "outputs": [
    {
     "name": "stdout",
     "output_type": "stream",
     "text": [
      "CPU times: user 6.11 s, sys: 795 ms, total: 6.9 s\n",
      "Wall time: 4.45 s\n"
     ]
    }
   ],
   "source": [
    "%%time\n",
    "# Predict the probabilities of the class label of the Test Dataset and store it in a new feature 'yPredProb' of the Test Dataset.\n",
    "test['prediction'] = modelBERTEmb.predict(textEmbeddings)[0].flatten()"
   ]
  },
  {
   "cell_type": "code",
   "execution_count": 63,
   "id": "0ed2523b",
   "metadata": {
    "id": "0ed2523b"
   },
   "outputs": [],
   "source": [
    "# Save the result in the required format for submission\n",
    "submissionBERTEmb = test[['id', 'prediction']]"
   ]
  },
  {
   "cell_type": "code",
   "execution_count": 64,
   "id": "740af1c6",
   "metadata": {
    "id": "740af1c6"
   },
   "outputs": [],
   "source": [
    "submissionBERTEmb.to_csv(F'/content/gdrive/My Drive/Case Study 2/submission_BERT.csv', index=False)"
   ]
  },
  {
   "cell_type": "code",
   "execution_count": 65,
   "id": "b093ab09",
   "metadata": {
    "id": "b093ab09"
   },
   "outputs": [],
   "source": [
    "submissionBERTEmb.to_csv('submission_BERT.csv', index=False)"
   ]
  },
  {
   "cell_type": "markdown",
   "id": "139ebe41",
   "metadata": {
    "id": "139ebe41"
   },
   "source": [
    "## 6.8. Kaggle Score"
   ]
  },
  {
   "cell_type": "markdown",
   "id": "c41b489b",
   "metadata": {
    "id": "c41b489b"
   },
   "source": [
    "![image.png](data:image/png;base64,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)"
   ]
  },
  {
   "cell_type": "markdown",
   "id": "209b0e99",
   "metadata": {
    "id": "209b0e99"
   },
   "source": [
    "----"
   ]
  }
 ],
 "metadata": {
  "accelerator": "GPU",
  "colab": {
   "collapsed_sections": [],
   "machine_shape": "hm",
   "name": "6.BERT.ipynb",
   "provenance": []
  },
  "kernelspec": {
   "display_name": "Python 3",
   "language": "python",
   "name": "python3"
  },
  "language_info": {
   "codemirror_mode": {
    "name": "ipython",
    "version": 3
   },
   "file_extension": ".py",
   "mimetype": "text/x-python",
   "name": "python",
   "nbconvert_exporter": "python",
   "pygments_lexer": "ipython3",
   "version": "3.7.10"
  },
  "widgets": {
   "application/vnd.jupyter.widget-state+json": {
    "010708b9f11542e3a83a00329098dc0d": {
     "model_module": "@jupyter-widgets/controls",
     "model_module_version": "1.5.0",
     "model_name": "DescriptionStyleModel",
     "state": {
      "_model_module": "@jupyter-widgets/controls",
      "_model_module_version": "1.5.0",
      "_model_name": "DescriptionStyleModel",
      "_view_count": null,
      "_view_module": "@jupyter-widgets/base",
      "_view_module_version": "1.2.0",
      "_view_name": "StyleView",
      "description_width": ""
     }
    },
    "0513cfaae6814e3a8a0d183944226989": {
     "model_module": "@jupyter-widgets/base",
     "model_module_version": "1.2.0",
     "model_name": "LayoutModel",
     "state": {
      "_model_module": "@jupyter-widgets/base",
      "_model_module_version": "1.2.0",
      "_model_name": "LayoutModel",
      "_view_count": null,
      "_view_module": "@jupyter-widgets/base",
      "_view_module_version": "1.2.0",
      "_view_name": "LayoutView",
      "align_content": null,
      "align_items": null,
      "align_self": null,
      "border": null,
      "bottom": null,
      "display": null,
      "flex": null,
      "flex_flow": null,
      "grid_area": null,
      "grid_auto_columns": null,
      "grid_auto_flow": null,
      "grid_auto_rows": null,
      "grid_column": null,
      "grid_gap": null,
      "grid_row": null,
      "grid_template_areas": null,
      "grid_template_columns": null,
      "grid_template_rows": null,
      "height": null,
      "justify_content": null,
      "justify_items": null,
      "left": null,
      "margin": null,
      "max_height": null,
      "max_width": null,
      "min_height": null,
      "min_width": null,
      "object_fit": null,
      "object_position": null,
      "order": null,
      "overflow": null,
      "overflow_x": null,
      "overflow_y": null,
      "padding": null,
      "right": null,
      "top": null,
      "visibility": null,
      "width": null
     }
    },
    "06ae34f0132e4fdab8b9ea97a6429ea1": {
     "model_module": "@jupyter-widgets/controls",
     "model_module_version": "1.5.0",
     "model_name": "HBoxModel",
     "state": {
      "_dom_classes": [],
      "_model_module": "@jupyter-widgets/controls",
      "_model_module_version": "1.5.0",
      "_model_name": "HBoxModel",
      "_view_count": null,
      "_view_module": "@jupyter-widgets/controls",
      "_view_module_version": "1.5.0",
      "_view_name": "HBoxView",
      "box_style": "",
      "children": [
       "IPY_MODEL_da51af5c05924579ba5d7f14d6da2a82",
       "IPY_MODEL_ee97fe22f4484fa48dd24617d047d820",
       "IPY_MODEL_d09b3aea30bc4fc696c50cd70eaf1a9e"
      ],
      "layout": "IPY_MODEL_88418e71e2b14b3fa139c7f0c07438e9"
     }
    },
    "0e12bae382c54496949e077f3793f7ae": {
     "model_module": "@jupyter-widgets/base",
     "model_module_version": "1.2.0",
     "model_name": "LayoutModel",
     "state": {
      "_model_module": "@jupyter-widgets/base",
      "_model_module_version": "1.2.0",
      "_model_name": "LayoutModel",
      "_view_count": null,
      "_view_module": "@jupyter-widgets/base",
      "_view_module_version": "1.2.0",
      "_view_name": "LayoutView",
      "align_content": null,
      "align_items": null,
      "align_self": null,
      "border": null,
      "bottom": null,
      "display": null,
      "flex": null,
      "flex_flow": null,
      "grid_area": null,
      "grid_auto_columns": null,
      "grid_auto_flow": null,
      "grid_auto_rows": null,
      "grid_column": null,
      "grid_gap": null,
      "grid_row": null,
      "grid_template_areas": null,
      "grid_template_columns": null,
      "grid_template_rows": null,
      "height": null,
      "justify_content": null,
      "justify_items": null,
      "left": null,
      "margin": null,
      "max_height": null,
      "max_width": null,
      "min_height": null,
      "min_width": null,
      "object_fit": null,
      "object_position": null,
      "order": null,
      "overflow": null,
      "overflow_x": null,
      "overflow_y": null,
      "padding": null,
      "right": null,
      "top": null,
      "visibility": null,
      "width": null
     }
    },
    "10415729f49d43c68226baf0071dd6c6": {
     "model_module": "@jupyter-widgets/base",
     "model_module_version": "1.2.0",
     "model_name": "LayoutModel",
     "state": {
      "_model_module": "@jupyter-widgets/base",
      "_model_module_version": "1.2.0",
      "_model_name": "LayoutModel",
      "_view_count": null,
      "_view_module": "@jupyter-widgets/base",
      "_view_module_version": "1.2.0",
      "_view_name": "LayoutView",
      "align_content": null,
      "align_items": null,
      "align_self": null,
      "border": null,
      "bottom": null,
      "display": null,
      "flex": null,
      "flex_flow": null,
      "grid_area": null,
      "grid_auto_columns": null,
      "grid_auto_flow": null,
      "grid_auto_rows": null,
      "grid_column": null,
      "grid_gap": null,
      "grid_row": null,
      "grid_template_areas": null,
      "grid_template_columns": null,
      "grid_template_rows": null,
      "height": null,
      "justify_content": null,
      "justify_items": null,
      "left": null,
      "margin": null,
      "max_height": null,
      "max_width": null,
      "min_height": null,
      "min_width": null,
      "object_fit": null,
      "object_position": null,
      "order": null,
      "overflow": null,
      "overflow_x": null,
      "overflow_y": null,
      "padding": null,
      "right": null,
      "top": null,
      "visibility": null,
      "width": null
     }
    },
    "11aae3dfbbbc4b7199f2e41fdbb10611": {
     "model_module": "@jupyter-widgets/controls",
     "model_module_version": "1.5.0",
     "model_name": "HTMLModel",
     "state": {
      "_dom_classes": [],
      "_model_module": "@jupyter-widgets/controls",
      "_model_module_version": "1.5.0",
      "_model_name": "HTMLModel",
      "_view_count": null,
      "_view_module": "@jupyter-widgets/controls",
      "_view_module_version": "1.5.0",
      "_view_name": "HTMLView",
      "description": "",
      "description_tooltip": null,
      "layout": "IPY_MODEL_ad03fad6151b46ebbdeb8f959fdb38ce",
      "placeholder": "​",
      "style": "IPY_MODEL_e92e7d11d52449148c281fc09c62d7b9",
      "value": " 483/483 [00:00&lt;00:00, 18.1kB/s]"
     }
    },
    "1cf90196a8bb4dbf81485436e16c68a0": {
     "model_module": "@jupyter-widgets/controls",
     "model_module_version": "1.5.0",
     "model_name": "ProgressStyleModel",
     "state": {
      "_model_module": "@jupyter-widgets/controls",
      "_model_module_version": "1.5.0",
      "_model_name": "ProgressStyleModel",
      "_view_count": null,
      "_view_module": "@jupyter-widgets/base",
      "_view_module_version": "1.2.0",
      "_view_name": "StyleView",
      "bar_color": null,
      "description_width": ""
     }
    },
    "22d71b8756e94b908abd9577ba3eaabf": {
     "model_module": "@jupyter-widgets/base",
     "model_module_version": "1.2.0",
     "model_name": "LayoutModel",
     "state": {
      "_model_module": "@jupyter-widgets/base",
      "_model_module_version": "1.2.0",
      "_model_name": "LayoutModel",
      "_view_count": null,
      "_view_module": "@jupyter-widgets/base",
      "_view_module_version": "1.2.0",
      "_view_name": "LayoutView",
      "align_content": null,
      "align_items": null,
      "align_self": null,
      "border": null,
      "bottom": null,
      "display": null,
      "flex": null,
      "flex_flow": null,
      "grid_area": null,
      "grid_auto_columns": null,
      "grid_auto_flow": null,
      "grid_auto_rows": null,
      "grid_column": null,
      "grid_gap": null,
      "grid_row": null,
      "grid_template_areas": null,
      "grid_template_columns": null,
      "grid_template_rows": null,
      "height": null,
      "justify_content": null,
      "justify_items": null,
      "left": null,
      "margin": null,
      "max_height": null,
      "max_width": null,
      "min_height": null,
      "min_width": null,
      "object_fit": null,
      "object_position": null,
      "order": null,
      "overflow": null,
      "overflow_x": null,
      "overflow_y": null,
      "padding": null,
      "right": null,
      "top": null,
      "visibility": null,
      "width": null
     }
    },
    "2350983934fe4d4a94c0248c4e7d0f1f": {
     "model_module": "@jupyter-widgets/controls",
     "model_module_version": "1.5.0",
     "model_name": "FloatProgressModel",
     "state": {
      "_dom_classes": [],
      "_model_module": "@jupyter-widgets/controls",
      "_model_module_version": "1.5.0",
      "_model_name": "FloatProgressModel",
      "_view_count": null,
      "_view_module": "@jupyter-widgets/controls",
      "_view_module_version": "1.5.0",
      "_view_name": "ProgressView",
      "bar_style": "success",
      "description": "",
      "description_tooltip": null,
      "layout": "IPY_MODEL_0513cfaae6814e3a8a0d183944226989",
      "max": 483,
      "min": 0,
      "orientation": "horizontal",
      "style": "IPY_MODEL_1cf90196a8bb4dbf81485436e16c68a0",
      "value": 483
     }
    },
    "24401291ed9c4f789376e2fe52873641": {
     "model_module": "@jupyter-widgets/controls",
     "model_module_version": "1.5.0",
     "model_name": "HTMLModel",
     "state": {
      "_dom_classes": [],
      "_model_module": "@jupyter-widgets/controls",
      "_model_module_version": "1.5.0",
      "_model_name": "HTMLModel",
      "_view_count": null,
      "_view_module": "@jupyter-widgets/controls",
      "_view_module_version": "1.5.0",
      "_view_name": "HTMLView",
      "description": "",
      "description_tooltip": null,
      "layout": "IPY_MODEL_dde9fdd38e6844f8901db5be0c3bc294",
      "placeholder": "​",
      "style": "IPY_MODEL_9f43e51657124ec4b64005a02bd34188",
      "value": " 97320/97320 [02:33&lt;00:00, 615.74it/s]"
     }
    },
    "27bae1af29bd42c6b92674190e491e3a": {
     "model_module": "@jupyter-widgets/controls",
     "model_module_version": "1.5.0",
     "model_name": "ProgressStyleModel",
     "state": {
      "_model_module": "@jupyter-widgets/controls",
      "_model_module_version": "1.5.0",
      "_model_name": "ProgressStyleModel",
      "_view_count": null,
      "_view_module": "@jupyter-widgets/base",
      "_view_module_version": "1.2.0",
      "_view_name": "StyleView",
      "bar_color": null,
      "description_width": ""
     }
    },
    "293036a17a0e488dbc9424bc134752cd": {
     "model_module": "@jupyter-widgets/controls",
     "model_module_version": "1.5.0",
     "model_name": "HBoxModel",
     "state": {
      "_dom_classes": [],
      "_model_module": "@jupyter-widgets/controls",
      "_model_module_version": "1.5.0",
      "_model_name": "HBoxModel",
      "_view_count": null,
      "_view_module": "@jupyter-widgets/controls",
      "_view_module_version": "1.5.0",
      "_view_name": "HBoxView",
      "box_style": "",
      "children": [
       "IPY_MODEL_91030396cf1842b7bd8d1af28701160e",
       "IPY_MODEL_b310e244e5b74cec9116bec4837e1c3b",
       "IPY_MODEL_5e8a88fd50cb4bc0acc543c3062b3614"
      ],
      "layout": "IPY_MODEL_69f6c9e40d1c463bb34078c4249ee461"
     }
    },
    "2a91e4c0ad624f9f82d4c82fcff611c4": {
     "model_module": "@jupyter-widgets/base",
     "model_module_version": "1.2.0",
     "model_name": "LayoutModel",
     "state": {
      "_model_module": "@jupyter-widgets/base",
      "_model_module_version": "1.2.0",
      "_model_name": "LayoutModel",
      "_view_count": null,
      "_view_module": "@jupyter-widgets/base",
      "_view_module_version": "1.2.0",
      "_view_name": "LayoutView",
      "align_content": null,
      "align_items": null,
      "align_self": null,
      "border": null,
      "bottom": null,
      "display": null,
      "flex": null,
      "flex_flow": null,
      "grid_area": null,
      "grid_auto_columns": null,
      "grid_auto_flow": null,
      "grid_auto_rows": null,
      "grid_column": null,
      "grid_gap": null,
      "grid_row": null,
      "grid_template_areas": null,
      "grid_template_columns": null,
      "grid_template_rows": null,
      "height": null,
      "justify_content": null,
      "justify_items": null,
      "left": null,
      "margin": null,
      "max_height": null,
      "max_width": null,
      "min_height": null,
      "min_width": null,
      "object_fit": null,
      "object_position": null,
      "order": null,
      "overflow": null,
      "overflow_x": null,
      "overflow_y": null,
      "padding": null,
      "right": null,
      "top": null,
      "visibility": null,
      "width": null
     }
    },
    "32d73ee49a6c430fb3ede35482e75ace": {
     "model_module": "@jupyter-widgets/controls",
     "model_module_version": "1.5.0",
     "model_name": "FloatProgressModel",
     "state": {
      "_dom_classes": [],
      "_model_module": "@jupyter-widgets/controls",
      "_model_module_version": "1.5.0",
      "_model_name": "FloatProgressModel",
      "_view_count": null,
      "_view_module": "@jupyter-widgets/controls",
      "_view_module_version": "1.5.0",
      "_view_name": "ProgressView",
      "bar_style": "success",
      "description": "",
      "description_tooltip": null,
      "layout": "IPY_MODEL_e2c25cf427f74b958fe1ec64d5320aa2",
      "max": 97320,
      "min": 0,
      "orientation": "horizontal",
      "style": "IPY_MODEL_42bb1e3c72224654acd2f2c4d18b3a07",
      "value": 97320
     }
    },
    "42bb1e3c72224654acd2f2c4d18b3a07": {
     "model_module": "@jupyter-widgets/controls",
     "model_module_version": "1.5.0",
     "model_name": "ProgressStyleModel",
     "state": {
      "_model_module": "@jupyter-widgets/controls",
      "_model_module_version": "1.5.0",
      "_model_name": "ProgressStyleModel",
      "_view_count": null,
      "_view_module": "@jupyter-widgets/base",
      "_view_module_version": "1.2.0",
      "_view_name": "StyleView",
      "bar_color": null,
      "description_width": ""
     }
    },
    "46ac7e1e27924ea79b99f14ba0138032": {
     "model_module": "@jupyter-widgets/controls",
     "model_module_version": "1.5.0",
     "model_name": "DescriptionStyleModel",
     "state": {
      "_model_module": "@jupyter-widgets/controls",
      "_model_module_version": "1.5.0",
      "_model_name": "DescriptionStyleModel",
      "_view_count": null,
      "_view_module": "@jupyter-widgets/base",
      "_view_module_version": "1.2.0",
      "_view_name": "StyleView",
      "description_width": ""
     }
    },
    "4ea1820360ba49b99e5d1b6127add38b": {
     "model_module": "@jupyter-widgets/controls",
     "model_module_version": "1.5.0",
     "model_name": "HTMLModel",
     "state": {
      "_dom_classes": [],
      "_model_module": "@jupyter-widgets/controls",
      "_model_module_version": "1.5.0",
      "_model_name": "HTMLModel",
      "_view_count": null,
      "_view_module": "@jupyter-widgets/controls",
      "_view_module_version": "1.5.0",
      "_view_name": "HTMLView",
      "description": "",
      "description_tooltip": null,
      "layout": "IPY_MODEL_22d71b8756e94b908abd9577ba3eaabf",
      "placeholder": "​",
      "style": "IPY_MODEL_53fd724d1e5b4e138c2f61e91cc86f38",
      "value": "Downloading: 100%"
     }
    },
    "52738d1e8bc44ea784976cc7256462bd": {
     "model_module": "@jupyter-widgets/base",
     "model_module_version": "1.2.0",
     "model_name": "LayoutModel",
     "state": {
      "_model_module": "@jupyter-widgets/base",
      "_model_module_version": "1.2.0",
      "_model_name": "LayoutModel",
      "_view_count": null,
      "_view_module": "@jupyter-widgets/base",
      "_view_module_version": "1.2.0",
      "_view_name": "LayoutView",
      "align_content": null,
      "align_items": null,
      "align_self": null,
      "border": null,
      "bottom": null,
      "display": null,
      "flex": null,
      "flex_flow": null,
      "grid_area": null,
      "grid_auto_columns": null,
      "grid_auto_flow": null,
      "grid_auto_rows": null,
      "grid_column": null,
      "grid_gap": null,
      "grid_row": null,
      "grid_template_areas": null,
      "grid_template_columns": null,
      "grid_template_rows": null,
      "height": null,
      "justify_content": null,
      "justify_items": null,
      "left": null,
      "margin": null,
      "max_height": null,
      "max_width": null,
      "min_height": null,
      "min_width": null,
      "object_fit": null,
      "object_position": null,
      "order": null,
      "overflow": null,
      "overflow_x": null,
      "overflow_y": null,
      "padding": null,
      "right": null,
      "top": null,
      "visibility": null,
      "width": null
     }
    },
    "53fd724d1e5b4e138c2f61e91cc86f38": {
     "model_module": "@jupyter-widgets/controls",
     "model_module_version": "1.5.0",
     "model_name": "DescriptionStyleModel",
     "state": {
      "_model_module": "@jupyter-widgets/controls",
      "_model_module_version": "1.5.0",
      "_model_name": "DescriptionStyleModel",
      "_view_count": null,
      "_view_module": "@jupyter-widgets/base",
      "_view_module_version": "1.2.0",
      "_view_name": "StyleView",
      "description_width": ""
     }
    },
    "5e8a88fd50cb4bc0acc543c3062b3614": {
     "model_module": "@jupyter-widgets/controls",
     "model_module_version": "1.5.0",
     "model_name": "HTMLModel",
     "state": {
      "_dom_classes": [],
      "_model_module": "@jupyter-widgets/controls",
      "_model_module_version": "1.5.0",
      "_model_name": "HTMLModel",
      "_view_count": null,
      "_view_module": "@jupyter-widgets/controls",
      "_view_module_version": "1.5.0",
      "_view_name": "HTMLView",
      "description": "",
      "description_tooltip": null,
      "layout": "IPY_MODEL_0e12bae382c54496949e077f3793f7ae",
      "placeholder": "​",
      "style": "IPY_MODEL_afa4f016173b4bd6aad03fb9edbcb979",
      "value": " 226k/226k [00:00&lt;00:00, 663kB/s]"
     }
    },
    "61d7a25f386d4cf8afec0067087a59a8": {
     "model_module": "@jupyter-widgets/base",
     "model_module_version": "1.2.0",
     "model_name": "LayoutModel",
     "state": {
      "_model_module": "@jupyter-widgets/base",
      "_model_module_version": "1.2.0",
      "_model_name": "LayoutModel",
      "_view_count": null,
      "_view_module": "@jupyter-widgets/base",
      "_view_module_version": "1.2.0",
      "_view_name": "LayoutView",
      "align_content": null,
      "align_items": null,
      "align_self": null,
      "border": null,
      "bottom": null,
      "display": null,
      "flex": null,
      "flex_flow": null,
      "grid_area": null,
      "grid_auto_columns": null,
      "grid_auto_flow": null,
      "grid_auto_rows": null,
      "grid_column": null,
      "grid_gap": null,
      "grid_row": null,
      "grid_template_areas": null,
      "grid_template_columns": null,
      "grid_template_rows": null,
      "height": null,
      "justify_content": null,
      "justify_items": null,
      "left": null,
      "margin": null,
      "max_height": null,
      "max_width": null,
      "min_height": null,
      "min_width": null,
      "object_fit": null,
      "object_position": null,
      "order": null,
      "overflow": null,
      "overflow_x": null,
      "overflow_y": null,
      "padding": null,
      "right": null,
      "top": null,
      "visibility": null,
      "width": null
     }
    },
    "69f6c9e40d1c463bb34078c4249ee461": {
     "model_module": "@jupyter-widgets/base",
     "model_module_version": "1.2.0",
     "model_name": "LayoutModel",
     "state": {
      "_model_module": "@jupyter-widgets/base",
      "_model_module_version": "1.2.0",
      "_model_name": "LayoutModel",
      "_view_count": null,
      "_view_module": "@jupyter-widgets/base",
      "_view_module_version": "1.2.0",
      "_view_name": "LayoutView",
      "align_content": null,
      "align_items": null,
      "align_self": null,
      "border": null,
      "bottom": null,
      "display": null,
      "flex": null,
      "flex_flow": null,
      "grid_area": null,
      "grid_auto_columns": null,
      "grid_auto_flow": null,
      "grid_auto_rows": null,
      "grid_column": null,
      "grid_gap": null,
      "grid_row": null,
      "grid_template_areas": null,
      "grid_template_columns": null,
      "grid_template_rows": null,
      "height": null,
      "justify_content": null,
      "justify_items": null,
      "left": null,
      "margin": null,
      "max_height": null,
      "max_width": null,
      "min_height": null,
      "min_width": null,
      "object_fit": null,
      "object_position": null,
      "order": null,
      "overflow": null,
      "overflow_x": null,
      "overflow_y": null,
      "padding": null,
      "right": null,
      "top": null,
      "visibility": null,
      "width": null
     }
    },
    "77f86c93c0b249abae7949fc1bf1c4d3": {
     "model_module": "@jupyter-widgets/controls",
     "model_module_version": "1.5.0",
     "model_name": "HBoxModel",
     "state": {
      "_dom_classes": [],
      "_model_module": "@jupyter-widgets/controls",
      "_model_module_version": "1.5.0",
      "_model_name": "HBoxModel",
      "_view_count": null,
      "_view_module": "@jupyter-widgets/controls",
      "_view_module_version": "1.5.0",
      "_view_name": "HBoxView",
      "box_style": "",
      "children": [
       "IPY_MODEL_a7d8425ec71e45eebd23e6da8123821f",
       "IPY_MODEL_32d73ee49a6c430fb3ede35482e75ace",
       "IPY_MODEL_24401291ed9c4f789376e2fe52873641"
      ],
      "layout": "IPY_MODEL_b214f2a94d404524bba74414e2ae2482"
     }
    },
    "7d9fe76d44af4fbf8ce37282b9c77587": {
     "model_module": "@jupyter-widgets/base",
     "model_module_version": "1.2.0",
     "model_name": "LayoutModel",
     "state": {
      "_model_module": "@jupyter-widgets/base",
      "_model_module_version": "1.2.0",
      "_model_name": "LayoutModel",
      "_view_count": null,
      "_view_module": "@jupyter-widgets/base",
      "_view_module_version": "1.2.0",
      "_view_name": "LayoutView",
      "align_content": null,
      "align_items": null,
      "align_self": null,
      "border": null,
      "bottom": null,
      "display": null,
      "flex": null,
      "flex_flow": null,
      "grid_area": null,
      "grid_auto_columns": null,
      "grid_auto_flow": null,
      "grid_auto_rows": null,
      "grid_column": null,
      "grid_gap": null,
      "grid_row": null,
      "grid_template_areas": null,
      "grid_template_columns": null,
      "grid_template_rows": null,
      "height": null,
      "justify_content": null,
      "justify_items": null,
      "left": null,
      "margin": null,
      "max_height": null,
      "max_width": null,
      "min_height": null,
      "min_width": null,
      "object_fit": null,
      "object_position": null,
      "order": null,
      "overflow": null,
      "overflow_x": null,
      "overflow_y": null,
      "padding": null,
      "right": null,
      "top": null,
      "visibility": null,
      "width": null
     }
    },
    "7dcdc708c7894776b5ecfe071231bd79": {
     "model_module": "@jupyter-widgets/controls",
     "model_module_version": "1.5.0",
     "model_name": "ProgressStyleModel",
     "state": {
      "_model_module": "@jupyter-widgets/controls",
      "_model_module_version": "1.5.0",
      "_model_name": "ProgressStyleModel",
      "_view_count": null,
      "_view_module": "@jupyter-widgets/base",
      "_view_module_version": "1.2.0",
      "_view_name": "StyleView",
      "bar_color": null,
      "description_width": ""
     }
    },
    "823006cec11d43a68ea4bc599bab8b01": {
     "model_module": "@jupyter-widgets/controls",
     "model_module_version": "1.5.0",
     "model_name": "DescriptionStyleModel",
     "state": {
      "_model_module": "@jupyter-widgets/controls",
      "_model_module_version": "1.5.0",
      "_model_name": "DescriptionStyleModel",
      "_view_count": null,
      "_view_module": "@jupyter-widgets/base",
      "_view_module_version": "1.2.0",
      "_view_name": "StyleView",
      "description_width": ""
     }
    },
    "851d2aaa7ee54f65aff20e8edec69b40": {
     "model_module": "@jupyter-widgets/controls",
     "model_module_version": "1.5.0",
     "model_name": "HBoxModel",
     "state": {
      "_dom_classes": [],
      "_model_module": "@jupyter-widgets/controls",
      "_model_module_version": "1.5.0",
      "_model_name": "HBoxModel",
      "_view_count": null,
      "_view_module": "@jupyter-widgets/controls",
      "_view_module_version": "1.5.0",
      "_view_name": "HBoxView",
      "box_style": "",
      "children": [
       "IPY_MODEL_c61bb8c9653e4a8693158b2411ad3dca",
       "IPY_MODEL_2350983934fe4d4a94c0248c4e7d0f1f",
       "IPY_MODEL_11aae3dfbbbc4b7199f2e41fdbb10611"
      ],
      "layout": "IPY_MODEL_eb30d752bf144ca482192d334f16cf61"
     }
    },
    "88418e71e2b14b3fa139c7f0c07438e9": {
     "model_module": "@jupyter-widgets/base",
     "model_module_version": "1.2.0",
     "model_name": "LayoutModel",
     "state": {
      "_model_module": "@jupyter-widgets/base",
      "_model_module_version": "1.2.0",
      "_model_name": "LayoutModel",
      "_view_count": null,
      "_view_module": "@jupyter-widgets/base",
      "_view_module_version": "1.2.0",
      "_view_name": "LayoutView",
      "align_content": null,
      "align_items": null,
      "align_self": null,
      "border": null,
      "bottom": null,
      "display": null,
      "flex": null,
      "flex_flow": null,
      "grid_area": null,
      "grid_auto_columns": null,
      "grid_auto_flow": null,
      "grid_auto_rows": null,
      "grid_column": null,
      "grid_gap": null,
      "grid_row": null,
      "grid_template_areas": null,
      "grid_template_columns": null,
      "grid_template_rows": null,
      "height": null,
      "justify_content": null,
      "justify_items": null,
      "left": null,
      "margin": null,
      "max_height": null,
      "max_width": null,
      "min_height": null,
      "min_width": null,
      "object_fit": null,
      "object_position": null,
      "order": null,
      "overflow": null,
      "overflow_x": null,
      "overflow_y": null,
      "padding": null,
      "right": null,
      "top": null,
      "visibility": null,
      "width": null
     }
    },
    "91030396cf1842b7bd8d1af28701160e": {
     "model_module": "@jupyter-widgets/controls",
     "model_module_version": "1.5.0",
     "model_name": "HTMLModel",
     "state": {
      "_dom_classes": [],
      "_model_module": "@jupyter-widgets/controls",
      "_model_module_version": "1.5.0",
      "_model_name": "HTMLModel",
      "_view_count": null,
      "_view_module": "@jupyter-widgets/controls",
      "_view_module_version": "1.5.0",
      "_view_name": "HTMLView",
      "description": "",
      "description_tooltip": null,
      "layout": "IPY_MODEL_e7432b6728d442b8a5b913e43e688905",
      "placeholder": "​",
      "style": "IPY_MODEL_823006cec11d43a68ea4bc599bab8b01",
      "value": "Downloading: 100%"
     }
    },
    "9556170ec3e048c59bde0681da82c85f": {
     "model_module": "@jupyter-widgets/controls",
     "model_module_version": "1.5.0",
     "model_name": "HBoxModel",
     "state": {
      "_dom_classes": [],
      "_model_module": "@jupyter-widgets/controls",
      "_model_module_version": "1.5.0",
      "_model_name": "HBoxModel",
      "_view_count": null,
      "_view_module": "@jupyter-widgets/controls",
      "_view_module_version": "1.5.0",
      "_view_name": "HBoxView",
      "box_style": "",
      "children": [
       "IPY_MODEL_4ea1820360ba49b99e5d1b6127add38b",
       "IPY_MODEL_a5b073c9e2d943748f765994225d0ed2",
       "IPY_MODEL_c74a2d648a064cf1a950265c944f7077"
      ],
      "layout": "IPY_MODEL_52738d1e8bc44ea784976cc7256462bd"
     }
    },
    "9c52cc2e2cba4cbd83cdaa9c627f7fbc": {
     "model_module": "@jupyter-widgets/base",
     "model_module_version": "1.2.0",
     "model_name": "LayoutModel",
     "state": {
      "_model_module": "@jupyter-widgets/base",
      "_model_module_version": "1.2.0",
      "_model_name": "LayoutModel",
      "_view_count": null,
      "_view_module": "@jupyter-widgets/base",
      "_view_module_version": "1.2.0",
      "_view_name": "LayoutView",
      "align_content": null,
      "align_items": null,
      "align_self": null,
      "border": null,
      "bottom": null,
      "display": null,
      "flex": null,
      "flex_flow": null,
      "grid_area": null,
      "grid_auto_columns": null,
      "grid_auto_flow": null,
      "grid_auto_rows": null,
      "grid_column": null,
      "grid_gap": null,
      "grid_row": null,
      "grid_template_areas": null,
      "grid_template_columns": null,
      "grid_template_rows": null,
      "height": null,
      "justify_content": null,
      "justify_items": null,
      "left": null,
      "margin": null,
      "max_height": null,
      "max_width": null,
      "min_height": null,
      "min_width": null,
      "object_fit": null,
      "object_position": null,
      "order": null,
      "overflow": null,
      "overflow_x": null,
      "overflow_y": null,
      "padding": null,
      "right": null,
      "top": null,
      "visibility": null,
      "width": null
     }
    },
    "9e5e97fee7e8438691af45295a070862": {
     "model_module": "@jupyter-widgets/controls",
     "model_module_version": "1.5.0",
     "model_name": "DescriptionStyleModel",
     "state": {
      "_model_module": "@jupyter-widgets/controls",
      "_model_module_version": "1.5.0",
      "_model_name": "DescriptionStyleModel",
      "_view_count": null,
      "_view_module": "@jupyter-widgets/base",
      "_view_module_version": "1.2.0",
      "_view_name": "StyleView",
      "description_width": ""
     }
    },
    "9f43e51657124ec4b64005a02bd34188": {
     "model_module": "@jupyter-widgets/controls",
     "model_module_version": "1.5.0",
     "model_name": "DescriptionStyleModel",
     "state": {
      "_model_module": "@jupyter-widgets/controls",
      "_model_module_version": "1.5.0",
      "_model_name": "DescriptionStyleModel",
      "_view_count": null,
      "_view_module": "@jupyter-widgets/base",
      "_view_module_version": "1.2.0",
      "_view_name": "StyleView",
      "description_width": ""
     }
    },
    "a47aacaa050648729ed7220bf7d6a820": {
     "model_module": "@jupyter-widgets/controls",
     "model_module_version": "1.5.0",
     "model_name": "DescriptionStyleModel",
     "state": {
      "_model_module": "@jupyter-widgets/controls",
      "_model_module_version": "1.5.0",
      "_model_name": "DescriptionStyleModel",
      "_view_count": null,
      "_view_module": "@jupyter-widgets/base",
      "_view_module_version": "1.2.0",
      "_view_name": "StyleView",
      "description_width": ""
     }
    },
    "a5b073c9e2d943748f765994225d0ed2": {
     "model_module": "@jupyter-widgets/controls",
     "model_module_version": "1.5.0",
     "model_name": "FloatProgressModel",
     "state": {
      "_dom_classes": [],
      "_model_module": "@jupyter-widgets/controls",
      "_model_module_version": "1.5.0",
      "_model_name": "FloatProgressModel",
      "_view_count": null,
      "_view_module": "@jupyter-widgets/controls",
      "_view_module_version": "1.5.0",
      "_view_name": "ProgressView",
      "bar_style": "success",
      "description": "",
      "description_tooltip": null,
      "layout": "IPY_MODEL_9c52cc2e2cba4cbd83cdaa9c627f7fbc",
      "max": 363423424,
      "min": 0,
      "orientation": "horizontal",
      "style": "IPY_MODEL_7dcdc708c7894776b5ecfe071231bd79",
      "value": 363423424
     }
    },
    "a7d8425ec71e45eebd23e6da8123821f": {
     "model_module": "@jupyter-widgets/controls",
     "model_module_version": "1.5.0",
     "model_name": "HTMLModel",
     "state": {
      "_dom_classes": [],
      "_model_module": "@jupyter-widgets/controls",
      "_model_module_version": "1.5.0",
      "_model_name": "HTMLModel",
      "_view_count": null,
      "_view_module": "@jupyter-widgets/controls",
      "_view_module_version": "1.5.0",
      "_view_name": "HTMLView",
      "description": "",
      "description_tooltip": null,
      "layout": "IPY_MODEL_10415729f49d43c68226baf0071dd6c6",
      "placeholder": "​",
      "style": "IPY_MODEL_010708b9f11542e3a83a00329098dc0d",
      "value": "100%"
     }
    },
    "abbbcdf6c2454f22a0736b2de0ed812f": {
     "model_module": "@jupyter-widgets/base",
     "model_module_version": "1.2.0",
     "model_name": "LayoutModel",
     "state": {
      "_model_module": "@jupyter-widgets/base",
      "_model_module_version": "1.2.0",
      "_model_name": "LayoutModel",
      "_view_count": null,
      "_view_module": "@jupyter-widgets/base",
      "_view_module_version": "1.2.0",
      "_view_name": "LayoutView",
      "align_content": null,
      "align_items": null,
      "align_self": null,
      "border": null,
      "bottom": null,
      "display": null,
      "flex": null,
      "flex_flow": null,
      "grid_area": null,
      "grid_auto_columns": null,
      "grid_auto_flow": null,
      "grid_auto_rows": null,
      "grid_column": null,
      "grid_gap": null,
      "grid_row": null,
      "grid_template_areas": null,
      "grid_template_columns": null,
      "grid_template_rows": null,
      "height": null,
      "justify_content": null,
      "justify_items": null,
      "left": null,
      "margin": null,
      "max_height": null,
      "max_width": null,
      "min_height": null,
      "min_width": null,
      "object_fit": null,
      "object_position": null,
      "order": null,
      "overflow": null,
      "overflow_x": null,
      "overflow_y": null,
      "padding": null,
      "right": null,
      "top": null,
      "visibility": null,
      "width": null
     }
    },
    "ad03fad6151b46ebbdeb8f959fdb38ce": {
     "model_module": "@jupyter-widgets/base",
     "model_module_version": "1.2.0",
     "model_name": "LayoutModel",
     "state": {
      "_model_module": "@jupyter-widgets/base",
      "_model_module_version": "1.2.0",
      "_model_name": "LayoutModel",
      "_view_count": null,
      "_view_module": "@jupyter-widgets/base",
      "_view_module_version": "1.2.0",
      "_view_name": "LayoutView",
      "align_content": null,
      "align_items": null,
      "align_self": null,
      "border": null,
      "bottom": null,
      "display": null,
      "flex": null,
      "flex_flow": null,
      "grid_area": null,
      "grid_auto_columns": null,
      "grid_auto_flow": null,
      "grid_auto_rows": null,
      "grid_column": null,
      "grid_gap": null,
      "grid_row": null,
      "grid_template_areas": null,
      "grid_template_columns": null,
      "grid_template_rows": null,
      "height": null,
      "justify_content": null,
      "justify_items": null,
      "left": null,
      "margin": null,
      "max_height": null,
      "max_width": null,
      "min_height": null,
      "min_width": null,
      "object_fit": null,
      "object_position": null,
      "order": null,
      "overflow": null,
      "overflow_x": null,
      "overflow_y": null,
      "padding": null,
      "right": null,
      "top": null,
      "visibility": null,
      "width": null
     }
    },
    "afa4f016173b4bd6aad03fb9edbcb979": {
     "model_module": "@jupyter-widgets/controls",
     "model_module_version": "1.5.0",
     "model_name": "DescriptionStyleModel",
     "state": {
      "_model_module": "@jupyter-widgets/controls",
      "_model_module_version": "1.5.0",
      "_model_name": "DescriptionStyleModel",
      "_view_count": null,
      "_view_module": "@jupyter-widgets/base",
      "_view_module_version": "1.2.0",
      "_view_name": "StyleView",
      "description_width": ""
     }
    },
    "b214f2a94d404524bba74414e2ae2482": {
     "model_module": "@jupyter-widgets/base",
     "model_module_version": "1.2.0",
     "model_name": "LayoutModel",
     "state": {
      "_model_module": "@jupyter-widgets/base",
      "_model_module_version": "1.2.0",
      "_model_name": "LayoutModel",
      "_view_count": null,
      "_view_module": "@jupyter-widgets/base",
      "_view_module_version": "1.2.0",
      "_view_name": "LayoutView",
      "align_content": null,
      "align_items": null,
      "align_self": null,
      "border": null,
      "bottom": null,
      "display": null,
      "flex": null,
      "flex_flow": null,
      "grid_area": null,
      "grid_auto_columns": null,
      "grid_auto_flow": null,
      "grid_auto_rows": null,
      "grid_column": null,
      "grid_gap": null,
      "grid_row": null,
      "grid_template_areas": null,
      "grid_template_columns": null,
      "grid_template_rows": null,
      "height": null,
      "justify_content": null,
      "justify_items": null,
      "left": null,
      "margin": null,
      "max_height": null,
      "max_width": null,
      "min_height": null,
      "min_width": null,
      "object_fit": null,
      "object_position": null,
      "order": null,
      "overflow": null,
      "overflow_x": null,
      "overflow_y": null,
      "padding": null,
      "right": null,
      "top": null,
      "visibility": null,
      "width": null
     }
    },
    "b310e244e5b74cec9116bec4837e1c3b": {
     "model_module": "@jupyter-widgets/controls",
     "model_module_version": "1.5.0",
     "model_name": "FloatProgressModel",
     "state": {
      "_dom_classes": [],
      "_model_module": "@jupyter-widgets/controls",
      "_model_module_version": "1.5.0",
      "_model_name": "FloatProgressModel",
      "_view_count": null,
      "_view_module": "@jupyter-widgets/controls",
      "_view_module_version": "1.5.0",
      "_view_name": "ProgressView",
      "bar_style": "success",
      "description": "",
      "description_tooltip": null,
      "layout": "IPY_MODEL_7d9fe76d44af4fbf8ce37282b9c77587",
      "max": 231508,
      "min": 0,
      "orientation": "horizontal",
      "style": "IPY_MODEL_27bae1af29bd42c6b92674190e491e3a",
      "value": 231508
     }
    },
    "c1429010d2c9405a8f77b78c5d331e98": {
     "model_module": "@jupyter-widgets/base",
     "model_module_version": "1.2.0",
     "model_name": "LayoutModel",
     "state": {
      "_model_module": "@jupyter-widgets/base",
      "_model_module_version": "1.2.0",
      "_model_name": "LayoutModel",
      "_view_count": null,
      "_view_module": "@jupyter-widgets/base",
      "_view_module_version": "1.2.0",
      "_view_name": "LayoutView",
      "align_content": null,
      "align_items": null,
      "align_self": null,
      "border": null,
      "bottom": null,
      "display": null,
      "flex": null,
      "flex_flow": null,
      "grid_area": null,
      "grid_auto_columns": null,
      "grid_auto_flow": null,
      "grid_auto_rows": null,
      "grid_column": null,
      "grid_gap": null,
      "grid_row": null,
      "grid_template_areas": null,
      "grid_template_columns": null,
      "grid_template_rows": null,
      "height": null,
      "justify_content": null,
      "justify_items": null,
      "left": null,
      "margin": null,
      "max_height": null,
      "max_width": null,
      "min_height": null,
      "min_width": null,
      "object_fit": null,
      "object_position": null,
      "order": null,
      "overflow": null,
      "overflow_x": null,
      "overflow_y": null,
      "padding": null,
      "right": null,
      "top": null,
      "visibility": null,
      "width": null
     }
    },
    "c61bb8c9653e4a8693158b2411ad3dca": {
     "model_module": "@jupyter-widgets/controls",
     "model_module_version": "1.5.0",
     "model_name": "HTMLModel",
     "state": {
      "_dom_classes": [],
      "_model_module": "@jupyter-widgets/controls",
      "_model_module_version": "1.5.0",
      "_model_name": "HTMLModel",
      "_view_count": null,
      "_view_module": "@jupyter-widgets/controls",
      "_view_module_version": "1.5.0",
      "_view_name": "HTMLView",
      "description": "",
      "description_tooltip": null,
      "layout": "IPY_MODEL_c1429010d2c9405a8f77b78c5d331e98",
      "placeholder": "​",
      "style": "IPY_MODEL_46ac7e1e27924ea79b99f14ba0138032",
      "value": "Downloading: 100%"
     }
    },
    "c74a2d648a064cf1a950265c944f7077": {
     "model_module": "@jupyter-widgets/controls",
     "model_module_version": "1.5.0",
     "model_name": "HTMLModel",
     "state": {
      "_dom_classes": [],
      "_model_module": "@jupyter-widgets/controls",
      "_model_module_version": "1.5.0",
      "_model_name": "HTMLModel",
      "_view_count": null,
      "_view_module": "@jupyter-widgets/controls",
      "_view_module_version": "1.5.0",
      "_view_name": "HTMLView",
      "description": "",
      "description_tooltip": null,
      "layout": "IPY_MODEL_fb443111f0e5429787c98460a20111c7",
      "placeholder": "​",
      "style": "IPY_MODEL_a47aacaa050648729ed7220bf7d6a820",
      "value": " 347M/347M [00:09&lt;00:00, 51.9MB/s]"
     }
    },
    "d09b3aea30bc4fc696c50cd70eaf1a9e": {
     "model_module": "@jupyter-widgets/controls",
     "model_module_version": "1.5.0",
     "model_name": "HTMLModel",
     "state": {
      "_dom_classes": [],
      "_model_module": "@jupyter-widgets/controls",
      "_model_module_version": "1.5.0",
      "_model_name": "HTMLModel",
      "_view_count": null,
      "_view_module": "@jupyter-widgets/controls",
      "_view_module_version": "1.5.0",
      "_view_name": "HTMLView",
      "description": "",
      "description_tooltip": null,
      "layout": "IPY_MODEL_61d7a25f386d4cf8afec0067087a59a8",
      "placeholder": "​",
      "style": "IPY_MODEL_d625f8ee675c4a6da21672ae20e567a5",
      "value": " 28.0/28.0 [00:00&lt;00:00, 874B/s]"
     }
    },
    "d625f8ee675c4a6da21672ae20e567a5": {
     "model_module": "@jupyter-widgets/controls",
     "model_module_version": "1.5.0",
     "model_name": "DescriptionStyleModel",
     "state": {
      "_model_module": "@jupyter-widgets/controls",
      "_model_module_version": "1.5.0",
      "_model_name": "DescriptionStyleModel",
      "_view_count": null,
      "_view_module": "@jupyter-widgets/base",
      "_view_module_version": "1.2.0",
      "_view_name": "StyleView",
      "description_width": ""
     }
    },
    "da51af5c05924579ba5d7f14d6da2a82": {
     "model_module": "@jupyter-widgets/controls",
     "model_module_version": "1.5.0",
     "model_name": "HTMLModel",
     "state": {
      "_dom_classes": [],
      "_model_module": "@jupyter-widgets/controls",
      "_model_module_version": "1.5.0",
      "_model_name": "HTMLModel",
      "_view_count": null,
      "_view_module": "@jupyter-widgets/controls",
      "_view_module_version": "1.5.0",
      "_view_name": "HTMLView",
      "description": "",
      "description_tooltip": null,
      "layout": "IPY_MODEL_abbbcdf6c2454f22a0736b2de0ed812f",
      "placeholder": "​",
      "style": "IPY_MODEL_9e5e97fee7e8438691af45295a070862",
      "value": "Downloading: 100%"
     }
    },
    "dde9fdd38e6844f8901db5be0c3bc294": {
     "model_module": "@jupyter-widgets/base",
     "model_module_version": "1.2.0",
     "model_name": "LayoutModel",
     "state": {
      "_model_module": "@jupyter-widgets/base",
      "_model_module_version": "1.2.0",
      "_model_name": "LayoutModel",
      "_view_count": null,
      "_view_module": "@jupyter-widgets/base",
      "_view_module_version": "1.2.0",
      "_view_name": "LayoutView",
      "align_content": null,
      "align_items": null,
      "align_self": null,
      "border": null,
      "bottom": null,
      "display": null,
      "flex": null,
      "flex_flow": null,
      "grid_area": null,
      "grid_auto_columns": null,
      "grid_auto_flow": null,
      "grid_auto_rows": null,
      "grid_column": null,
      "grid_gap": null,
      "grid_row": null,
      "grid_template_areas": null,
      "grid_template_columns": null,
      "grid_template_rows": null,
      "height": null,
      "justify_content": null,
      "justify_items": null,
      "left": null,
      "margin": null,
      "max_height": null,
      "max_width": null,
      "min_height": null,
      "min_width": null,
      "object_fit": null,
      "object_position": null,
      "order": null,
      "overflow": null,
      "overflow_x": null,
      "overflow_y": null,
      "padding": null,
      "right": null,
      "top": null,
      "visibility": null,
      "width": null
     }
    },
    "e2c25cf427f74b958fe1ec64d5320aa2": {
     "model_module": "@jupyter-widgets/base",
     "model_module_version": "1.2.0",
     "model_name": "LayoutModel",
     "state": {
      "_model_module": "@jupyter-widgets/base",
      "_model_module_version": "1.2.0",
      "_model_name": "LayoutModel",
      "_view_count": null,
      "_view_module": "@jupyter-widgets/base",
      "_view_module_version": "1.2.0",
      "_view_name": "LayoutView",
      "align_content": null,
      "align_items": null,
      "align_self": null,
      "border": null,
      "bottom": null,
      "display": null,
      "flex": null,
      "flex_flow": null,
      "grid_area": null,
      "grid_auto_columns": null,
      "grid_auto_flow": null,
      "grid_auto_rows": null,
      "grid_column": null,
      "grid_gap": null,
      "grid_row": null,
      "grid_template_areas": null,
      "grid_template_columns": null,
      "grid_template_rows": null,
      "height": null,
      "justify_content": null,
      "justify_items": null,
      "left": null,
      "margin": null,
      "max_height": null,
      "max_width": null,
      "min_height": null,
      "min_width": null,
      "object_fit": null,
      "object_position": null,
      "order": null,
      "overflow": null,
      "overflow_x": null,
      "overflow_y": null,
      "padding": null,
      "right": null,
      "top": null,
      "visibility": null,
      "width": null
     }
    },
    "e5444d2c2a43442db42a03d4c7b52da2": {
     "model_module": "@jupyter-widgets/controls",
     "model_module_version": "1.5.0",
     "model_name": "ProgressStyleModel",
     "state": {
      "_model_module": "@jupyter-widgets/controls",
      "_model_module_version": "1.5.0",
      "_model_name": "ProgressStyleModel",
      "_view_count": null,
      "_view_module": "@jupyter-widgets/base",
      "_view_module_version": "1.2.0",
      "_view_name": "StyleView",
      "bar_color": null,
      "description_width": ""
     }
    },
    "e7432b6728d442b8a5b913e43e688905": {
     "model_module": "@jupyter-widgets/base",
     "model_module_version": "1.2.0",
     "model_name": "LayoutModel",
     "state": {
      "_model_module": "@jupyter-widgets/base",
      "_model_module_version": "1.2.0",
      "_model_name": "LayoutModel",
      "_view_count": null,
      "_view_module": "@jupyter-widgets/base",
      "_view_module_version": "1.2.0",
      "_view_name": "LayoutView",
      "align_content": null,
      "align_items": null,
      "align_self": null,
      "border": null,
      "bottom": null,
      "display": null,
      "flex": null,
      "flex_flow": null,
      "grid_area": null,
      "grid_auto_columns": null,
      "grid_auto_flow": null,
      "grid_auto_rows": null,
      "grid_column": null,
      "grid_gap": null,
      "grid_row": null,
      "grid_template_areas": null,
      "grid_template_columns": null,
      "grid_template_rows": null,
      "height": null,
      "justify_content": null,
      "justify_items": null,
      "left": null,
      "margin": null,
      "max_height": null,
      "max_width": null,
      "min_height": null,
      "min_width": null,
      "object_fit": null,
      "object_position": null,
      "order": null,
      "overflow": null,
      "overflow_x": null,
      "overflow_y": null,
      "padding": null,
      "right": null,
      "top": null,
      "visibility": null,
      "width": null
     }
    },
    "e92e7d11d52449148c281fc09c62d7b9": {
     "model_module": "@jupyter-widgets/controls",
     "model_module_version": "1.5.0",
     "model_name": "DescriptionStyleModel",
     "state": {
      "_model_module": "@jupyter-widgets/controls",
      "_model_module_version": "1.5.0",
      "_model_name": "DescriptionStyleModel",
      "_view_count": null,
      "_view_module": "@jupyter-widgets/base",
      "_view_module_version": "1.2.0",
      "_view_name": "StyleView",
      "description_width": ""
     }
    },
    "eb30d752bf144ca482192d334f16cf61": {
     "model_module": "@jupyter-widgets/base",
     "model_module_version": "1.2.0",
     "model_name": "LayoutModel",
     "state": {
      "_model_module": "@jupyter-widgets/base",
      "_model_module_version": "1.2.0",
      "_model_name": "LayoutModel",
      "_view_count": null,
      "_view_module": "@jupyter-widgets/base",
      "_view_module_version": "1.2.0",
      "_view_name": "LayoutView",
      "align_content": null,
      "align_items": null,
      "align_self": null,
      "border": null,
      "bottom": null,
      "display": null,
      "flex": null,
      "flex_flow": null,
      "grid_area": null,
      "grid_auto_columns": null,
      "grid_auto_flow": null,
      "grid_auto_rows": null,
      "grid_column": null,
      "grid_gap": null,
      "grid_row": null,
      "grid_template_areas": null,
      "grid_template_columns": null,
      "grid_template_rows": null,
      "height": null,
      "justify_content": null,
      "justify_items": null,
      "left": null,
      "margin": null,
      "max_height": null,
      "max_width": null,
      "min_height": null,
      "min_width": null,
      "object_fit": null,
      "object_position": null,
      "order": null,
      "overflow": null,
      "overflow_x": null,
      "overflow_y": null,
      "padding": null,
      "right": null,
      "top": null,
      "visibility": null,
      "width": null
     }
    },
    "ee97fe22f4484fa48dd24617d047d820": {
     "model_module": "@jupyter-widgets/controls",
     "model_module_version": "1.5.0",
     "model_name": "FloatProgressModel",
     "state": {
      "_dom_classes": [],
      "_model_module": "@jupyter-widgets/controls",
      "_model_module_version": "1.5.0",
      "_model_name": "FloatProgressModel",
      "_view_count": null,
      "_view_module": "@jupyter-widgets/controls",
      "_view_module_version": "1.5.0",
      "_view_name": "ProgressView",
      "bar_style": "success",
      "description": "",
      "description_tooltip": null,
      "layout": "IPY_MODEL_2a91e4c0ad624f9f82d4c82fcff611c4",
      "max": 28,
      "min": 0,
      "orientation": "horizontal",
      "style": "IPY_MODEL_e5444d2c2a43442db42a03d4c7b52da2",
      "value": 28
     }
    },
    "fb443111f0e5429787c98460a20111c7": {
     "model_module": "@jupyter-widgets/base",
     "model_module_version": "1.2.0",
     "model_name": "LayoutModel",
     "state": {
      "_model_module": "@jupyter-widgets/base",
      "_model_module_version": "1.2.0",
      "_model_name": "LayoutModel",
      "_view_count": null,
      "_view_module": "@jupyter-widgets/base",
      "_view_module_version": "1.2.0",
      "_view_name": "LayoutView",
      "align_content": null,
      "align_items": null,
      "align_self": null,
      "border": null,
      "bottom": null,
      "display": null,
      "flex": null,
      "flex_flow": null,
      "grid_area": null,
      "grid_auto_columns": null,
      "grid_auto_flow": null,
      "grid_auto_rows": null,
      "grid_column": null,
      "grid_gap": null,
      "grid_row": null,
      "grid_template_areas": null,
      "grid_template_columns": null,
      "grid_template_rows": null,
      "height": null,
      "justify_content": null,
      "justify_items": null,
      "left": null,
      "margin": null,
      "max_height": null,
      "max_width": null,
      "min_height": null,
      "min_width": null,
      "object_fit": null,
      "object_position": null,
      "order": null,
      "overflow": null,
      "overflow_x": null,
      "overflow_y": null,
      "padding": null,
      "right": null,
      "top": null,
      "visibility": null,
      "width": null
     }
    }
   }
  }
 },
 "nbformat": 4,
 "nbformat_minor": 5
}
